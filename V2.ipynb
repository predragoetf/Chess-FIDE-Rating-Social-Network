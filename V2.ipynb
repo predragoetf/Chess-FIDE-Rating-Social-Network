{
 "cells": [
  {
   "cell_type": "code",
   "execution_count": 23,
   "metadata": {},
   "outputs": [],
   "source": [
    "import networkx as nx\n",
    "from bs4 import BeautifulSoup\n",
    "import re\n",
    "import pandas as pd\n",
    "from pathlib import Path\n",
    "import matplotlib.pyplot as plt\n",
    "from tqdm import tqdm_notebook as tqdm\n",
    "import requests\n",
    "import os\n",
    "import numpy as np\n",
    "from operator import itemgetter\n",
    "import dill as pickle\n",
    "import plotly.graph_objects as go \n",
    "from collections import Counter\n",
    "import community\n",
    "import multiprocessing as mp"
   ]
  },
  {
   "cell_type": "code",
   "execution_count": 24,
   "metadata": {},
   "outputs": [
    {
     "data": {
      "text/html": [
       "<style>.container { width:95% !important; }</style>"
      ],
      "text/plain": [
       "<IPython.core.display.HTML object>"
      ]
     },
     "metadata": {},
     "output_type": "display_data"
    }
   ],
   "source": [
    "from IPython.core.display import display, HTML\n",
    "display(HTML(\"<style>.container { width:95% !important; }</style>\"))"
   ]
  },
  {
   "cell_type": "code",
   "execution_count": 25,
   "metadata": {},
   "outputs": [],
   "source": [
    "dataYears = [\"18\", \"17\", \"16\", \"15\", \"14\", \"13\"]\n",
    "dataMonths = [\"jan\", \"feb\", \"mar\", \"apr\", \"may\", \"jun\", \"jul\", \"aug\", \"sep\", \"oct\", \"nov\", \"dec\"]\n",
    "dataMonths2Dig = [\"01\", \"02\", \"03\", \"04\", \"05\", \"06\", \"07\", \"08\", \"09\", \"10\", \"11\", \"12\"]\n",
    "dataPath = Path(\"data\")\n",
    "dummyOver400Label = -1\n",
    "dummyNotGMLabel = -2\n",
    "ratingsCounterList = []\n",
    "ratingsCounterListAll = []\n",
    "gamesPlayedDictList = []\n",
    "allRatingsPerMonthDict = {}\n",
    "sampleIDs = {'2020009', '911925', '1503014', '4125029', '608742', '12940690', '13500767', '14105411', '2034387', '24104272'}\n",
    "\n",
    "monthlyGraphsHashMap = {} #key:date, value:networkx multigraph G for that month\n",
    "idList = []\n",
    "nameRatingMap = {}\n",
    "idStaticDataMap = {}"
   ]
  },
  {
   "cell_type": "code",
   "execution_count": 26,
   "metadata": {},
   "outputs": [],
   "source": [
    "def monthDescriptiveLabel(cnt):\n",
    "    yearIndex = cnt // 12\n",
    "    monthIndex = cnt % 12\n",
    "    descriptor = dataMonths[monthIndex]+\"20\"+dataYears[::-1][yearIndex]\n",
    "    return descriptor\n",
    "\n",
    "def idxToDate(cnt):\n",
    "    yearIndex = cnt // 12\n",
    "    monthIndex = cnt % 12\n",
    "    descriptor = \"20\"+dataYears[::-1][yearIndex] + \"-\" + dataMonths2Dig[monthIndex] + \"-01\"\n",
    "    return descriptor\n",
    "    \n",
    "\n",
    "#print(monthDescriptiveLabel(33))"
   ]
  },
  {
   "cell_type": "code",
   "execution_count": 27,
   "metadata": {},
   "outputs": [],
   "source": [
    "def getMonthlyGraph(date):\n",
    "    if date in monthlyGraphsHashMap.keys():\n",
    "        return monthlyGraphsHashMap[date]\n",
    "    elif os.path.exists(os.path.join(\"MultiGraphsForMonths\", date + \"-graph.gml\")):\n",
    "        G = nx.read_gml(os.path.join(\"MultiGraphsForMonths\", date + \"-graph.gml\"))\n",
    "        monthlyGraphsHashMap[date] = G\n",
    "        return G\n",
    "    else:\n",
    "        G = nx.MultiGraph()\n",
    "        for fideID in idList:\n",
    "            G.add_node(str(fideID))\n",
    "            \n",
    "#         G.add_node(str(dummyOver400Label))\n",
    "#         G.add_node(str(dummyNotGMLabel))\n",
    "\n",
    "        monthlyGraphsHashMap[date] = G\n",
    "        return G\n",
    "    \n",
    "def saveMonthlyGraphs():\n",
    "    for k, v in monthlyGraphsHashMap.items():\n",
    "        nx.write_gml(v, os.path.join(\"MultiGraphsForMonths\", k + \"-graph.gml\"))\n",
    "\n",
    "def restoreMonthlyGraphHashMap():\n",
    "    for year in tqdm(dataYears[::-1]):\n",
    "        for month in tqdm(dataMonths2Dig):\n",
    "            date = \"20\" + year + \"-\" + month + \"-01\"\n",
    "            getMonthlyGraph(date)\n",
    "\n",
    "def restoreIdStaticDataMap():\n",
    "    with open(os.path.join('MultiGraphsForMonths', 'static_player_data.pickle'), 'rb') as file:\n",
    "        idStaticDataMap = pickle.load(file)\n",
    "        idList = idStaticDataMap.keys()\n",
    "    \n",
    "            \n",
    "#restoreMonthlyGraphHashMap()\n",
    "restoreIdStaticDataMap()"
   ]
  },
  {
   "cell_type": "code",
   "execution_count": null,
   "metadata": {},
   "outputs": [],
   "source": [
    "#from txt to csv, eliminating unnecessary data, after this piece of code is executed, the data for months is situated in aptly named folders dec13, jan14 etc.\n",
    "\n",
    "def dataPreprocessing():\n",
    "    dataMonthsRev = list(reversed(dataMonths)) # reversing the list because pre august 2016 data had a different organisation within the file\n",
    "    changeInDataset = True\n",
    "    ratingLimit = 2000\n",
    "    ratingsCounterList.clear()\n",
    "    ratingsCounterListAll.clear()\n",
    "    \n",
    "    for year in dataYears[::-1]:\n",
    "        for month in dataMonths:\n",
    "            \n",
    "            ratingsCounter = Counter()\n",
    "            ratingsCounterAll = Counter()\n",
    "            \n",
    "            folderName = month + year\n",
    "            if folderName == \"sep16\":\n",
    "                changeInDataset = False\n",
    "\n",
    "            fileName = \"standard_\" + folderName + \"frl.txt\"\n",
    "            with open(dataPath/folderName/fileName, 'r') as myfile:\n",
    "                with open(dataPath/folderName/(folderName + \".csv\"), 'w') as writeFile:\n",
    "                    people = []\n",
    "                    lines = myfile.readlines()\n",
    "                    for line in tqdm(lines):\n",
    "                        id = line[:15].strip()\n",
    "                        \n",
    "                        if id == 'ID Number': # eliminate file headers\n",
    "                            continue\n",
    "                        \n",
    "                        name = line[15:76].strip()\n",
    "                        name = name.replace(',', ';', 10) # replace all commas in name with semicolons, because comma is a delimiter in csv file\n",
    "                        \n",
    "                        nat = line[76:80].strip()\n",
    "                        gender = line[80]\n",
    "                        \n",
    "                        if changeInDataset:\n",
    "                            rating_str = line[109:115].strip()\n",
    "                        else:\n",
    "                            rating_str = line[113:118].strip()\n",
    "                        \n",
    "                        if len(rating_str) > 0:\n",
    "                            rating = int(rating_str)\n",
    "                            \n",
    "                        if changeInDataset:\n",
    "                            games_played = line[115:118].strip()\n",
    "                        else:\n",
    "                            games_played = line[119:122].strip()\n",
    "            \n",
    "#                         if len(games_played_str) > 0:\n",
    "#                             games_played = int(games_played_str)\n",
    "                        \n",
    "                        if changeInDataset:\n",
    "                            birth = line[122:126].strip()\n",
    "                        else:\n",
    "                            birth = line[126:130].strip()\n",
    "                            \n",
    "#                         if len(birth_str) > 0:\n",
    "#                             birth = int(birth_str)\n",
    "                        \n",
    "                        if changeInDataset:\n",
    "                            activity = line[128:].strip()\n",
    "                        else:\n",
    "                            activity = line[132:].strip()\n",
    "\n",
    "                        if 'i' not in activity and len(rating_str) > 0 and rating > ratingLimit: # appending every entry to a list for sorting later\n",
    "                            people.append((id, name, nat, rating_str, gender, games_played, birth, activity))\n",
    "                            if rating > 2400 and id not in idList:\n",
    "                                idList.append(id)\n",
    "                                idStaticDataMap[id] = { 'name': name, 'nat': nat, 'gender': gender, 'birth': birth, 'activity': activity }\n",
    "                                allRatingsPerMonthDict[id] = [None] * 72                    \n",
    "                                \n",
    "                            if id in idList:\n",
    "                                nameRatingMap[(name, rating_str)] = id\n",
    "                            if rating > 2400:\n",
    "                                ratingsCounter[rating] += 1\n",
    "                                monthIndex = dataMonths.index(month) + 12 * dataYears.index(year)\n",
    "                                allRatingsPerMonthDict[id][monthIndex] = rating\n",
    "                            ratingsCounterAll[rating] += 1\n",
    "\n",
    "                    \n",
    "                    people.sort(key=lambda tup: int(tup[0])) # sort all people by their FIDE identification \n",
    "                    for entry in people:\n",
    "                        writeFile.write(entry[0] + \",\" + entry[1] + \",\" + entry[2] + \",\" + entry[3] + \",\" + entry[4] + \",\" + entry[5] + \",\" + entry[6] + \",\" + entry[7] + '\\n')\n",
    "\n",
    "            ratingsCounterList.append(ratingsCounter)\n",
    "            ratingsCounterListAll.append(ratingsCounterAll)\n",
    "    with open(os.path.join('MultiGraphsForMonths', 'static_player_data.pickle'), 'wb') as file:\n",
    "        pickle.dump(idStaticDataMap, file)\n",
    "#ratings in the constructed txt files are for the end of the month and should be used for building the next month's graph\n",
    "dataPreprocessing()"
   ]
  },
  {
   "cell_type": "code",
   "execution_count": null,
   "metadata": {},
   "outputs": [],
   "source": [
    "# plotting graphs like a madman\n",
    "\n",
    "def plotRatingDistributions(all = False):\n",
    "    fig = go.Figure()\n",
    "    i = 0\n",
    "    ratingsToIterateOver = []\n",
    "    if (all):\n",
    "        ratingsToIterateOver = ratingsCounterListAll\n",
    "    else:\n",
    "        ratingsToIterateOver = ratingsCounterList\n",
    "        \n",
    "    for rc in ratingsToIterateOver:\n",
    "        rc = sorted(rc.items(), key=itemgetter(0))\n",
    "        fig.add_trace(go.Scattergl(x = [xc for xc, _ in rc], y = [yc for _, yc in rc] ,\n",
    "                    mode='lines+markers',\n",
    "                    name=monthDescriptiveLabel(i)))\n",
    "        i = i + 1\n",
    "    fig.show() "
   ]
  },
  {
   "cell_type": "code",
   "execution_count": null,
   "metadata": {},
   "outputs": [],
   "source": [
    "plotRatingDistributions(True)"
   ]
  },
  {
   "cell_type": "code",
   "execution_count": null,
   "metadata": {},
   "outputs": [],
   "source": [
    "plotRatingDistributions(False)"
   ]
  },
  {
   "cell_type": "code",
   "execution_count": null,
   "metadata": {},
   "outputs": [],
   "source": [
    "def plotRatingsForSamplePlayers(sampleIDs):\n",
    "    fig = go.Figure()\n",
    "    for playerID in sampleIDs:\n",
    "        ratingsArray = allRatingsPerMonthDict[playerID]\n",
    "        fig.add_trace(go.Scattergl(x = [monthDescriptiveLabel(i) for i in range(72)], y = list(ratingsArray) ,\n",
    "                    mode='lines+markers',\n",
    "                    name = playerID,\n",
    "                    connectgaps=False))\n",
    "    fig.show()\n",
    "\n",
    "plotRatingsForSamplePlayers(sampleIDs)"
   ]
  },
  {
   "cell_type": "code",
   "execution_count": null,
   "metadata": {},
   "outputs": [],
   "source": [
    "def plotMatchesNumberByMonth():\n",
    "    fig = go.Figure()\n",
    "    y_list = []\n",
    "    for G in monthlyGraphsHashMap.values():\n",
    "        y_list.append(len(G.edges()))\n",
    "    fig.add_trace(go.Scattergl(x = [monthDescriptiveLabel(i) for i in range(72)], y = y_list ,\n",
    "                    mode='lines+markers',\n",
    "                    connectgaps=False))\n",
    "    fig.show()\n",
    "    \n",
    "plotMatchesNumberByMonth()\n",
    "        "
   ]
  },
  {
   "cell_type": "code",
   "execution_count": null,
   "metadata": {},
   "outputs": [],
   "source": [
    "from collections import defaultdict\n",
    "\n",
    "def plotMatchesNumberForSamplePlayers(sampleIDs):\n",
    "    fig = go.Figure()\n",
    "    \n",
    "    matchesDict = defaultdict(list)\n",
    "    #for pid in sampleIDs:\n",
    "    #    matchesDict[pid] = []\n",
    "    \n",
    "    for year in dataYears[::-1]:\n",
    "        for month in dataMonths2Dig:\n",
    "            date = \"20\" + year + \"-\" + month + \"-01\"\n",
    "            G = getMonthlyGraph(date)\n",
    "            for playerID in sampleIDs:\n",
    "                matchesNum = len(G.edges(playerID))\n",
    "                matchesDict[playerID].append(matchesNum)\n",
    "            \n",
    "        \n",
    "    for playerID in sampleIDs:\n",
    "        fig.add_trace(go.Scattergl(x = [monthDescriptiveLabel(i) for i in range(72)], y = matchesDict[playerID] ,\n",
    "                    mode='lines+markers',\n",
    "                    name = idStaticDataMap[playerID]['name'],\n",
    "                    connectgaps=False))\n",
    "    fig.show()\n",
    "    \n",
    "plotMatchesNumberForSamplePlayers(sampleIDs)"
   ]
  },
  {
   "cell_type": "code",
   "execution_count": 19,
   "metadata": {},
   "outputs": [],
   "source": [
    "def buildNonIsolateNetwork(G):\n",
    "    GNonZeroDeg = nx.Graph() #graph containing only the non-zero degree subset of vertices of G and all the edges between them\n",
    "    isolateList = nx.isolates(G)\n",
    "    #print(\"Broj izolovanih: \", len(list(isolateList)))\n",
    "    #print(*list(isolateList), sep='\\n')\n",
    "    GNonZeroDeg = G.copy()\n",
    "    GNonZeroDeg.remove_nodes_from(isolateList)\n",
    "    return GNonZeroDeg\n",
    "\n",
    "''' \n",
    "    N: number of nodes, \n",
    "    M: number of links, \n",
    "    ⟨k⟩: mean degree, \n",
    "    ⟨k2⟩/⟨k⟩: heterogeneity parameter, \n",
    "    C: clustering coefficient (Newman) and \n",
    "    C WS : clustering coefficient (Watts-Strogatz), \n",
    "    r: assortativity parameter, \n",
    "    Q: modularity, \n",
    "    μ: mixing parameter and \n",
    "    N C : number of communities. \n",
    "    The values of Q, μ and N C were obtained by employing the Louvain algorithm. \n",
    "    Values between parentheses correspond to randomized networks using the double-edge swapping method. \n",
    "'''\n",
    "\n",
    "def calculateMetricsForMonth(year, month):\n",
    "    date = \"20\" + year + \"-\" + month + \"-01\"\n",
    "    G = getMonthlyGraph(date)\n",
    "    N = len(G.nodes)\n",
    "    M = len(G.edges())\n",
    "    k = 2 * M / N\n",
    "    if M==0:\n",
    "        #print(\"No matches for \"+date)\n",
    "        return  None\n",
    "    else:\n",
    "        heterogenity_parameter = sum(map(lambda y: y[1] * y[1], G.degree(G.nodes))) / (2 * M)\n",
    "        G2 = multiGraphToGraph(G)\n",
    "        C = np.mean(list(nx.clustering(G2).values()))\n",
    "        r = nx.degree_assortativity_coefficient(G2)\n",
    "        #             r['pearson'] = nx.degree_pearson_correlation_coefficient(G)\n",
    "        #Q = nx.algorithms.community.greedy_modularity_communities(G2)\n",
    "        Q1 = community.modularity(community.best_partition(G2), G2)\n",
    "        #             G3 = buildNonIsolateNetwork(G2)\n",
    "        #             Q_non_isolate = community.modularity(community.best_partition(G3), G3)\n",
    "        return (year, month, N, M, k, heterogenity_parameter, C, r, Q1)\n",
    "\n",
    "\n",
    "def calculateMetrics():\n",
    "    results = []\n",
    "    for year in dataYears[::-1]:\n",
    "        for month in dataMonths2Dig[:1]:\n",
    "            results.append(calculateMetricsForMonth(year, month))\n",
    "    return results\n",
    "\n",
    "from metrics_worker import calculateMetricsForMonth2\n",
    "            \n",
    "def calculateMetricsParallel(output):\n",
    "    processes = []\n",
    "    \n",
    "    for year in dataYears[::-1]:\n",
    "        for month in dataMonths2Dig:\n",
    "            date = \"20\" + year + \"-\" + month + \"-01\"\n",
    "            processes.append(mp.Process(target=calculateMetricsForMonth2, args=(year, month, getMonthlyGraph(date), output)))\n",
    "\n",
    "    for p in processes:\n",
    "        p.start()\n",
    "\n",
    "    # Exit the completed processes\n",
    "    for p in processes:\n",
    "        p.join()\n",
    "\n",
    "    # Get process results from the output queue\n",
    "    results = [output.get() for p in processes]\n",
    "    results = pd.DataFrame( results, columns=[\"year\", \"month\", \"N\", \"M\", \"k\", \"heter\", \"C\", \"r\", \"Q\"] )\n",
    "    return results\n",
    "            \n",
    "# calculateMetricsParallel()"
   ]
  },
  {
   "cell_type": "code",
   "execution_count": 13,
   "metadata": {},
   "outputs": [
    {
     "name": "stdout",
     "output_type": "stream",
     "text": [
      "('15', '01', 3632, 14988, 8.253303964757709, 6225.751601281025, 0.0, -0.8111684212458578, 0.0817465087629218)\n"
     ]
    },
    {
     "ename": "ZeroDivisionError",
     "evalue": "division by zero",
     "output_type": "error",
     "traceback": [
      "\u001b[1;31m---------------------------------------------------------------------------\u001b[0m",
      "\u001b[1;31mZeroDivisionError\u001b[0m                         Traceback (most recent call last)",
      "\u001b[1;32m<ipython-input-13-ff8fcea705e6>\u001b[0m in \u001b[0;36m<module>\u001b[1;34m()\u001b[0m\n\u001b[0;32m      2\u001b[0m \u001b[0mprint\u001b[0m\u001b[1;33m(\u001b[0m\u001b[0mcalculateMetricsForMonth\u001b[0m\u001b[1;33m(\u001b[0m\u001b[1;34m\"15\"\u001b[0m\u001b[1;33m,\u001b[0m \u001b[1;34m\"01\"\u001b[0m\u001b[1;33m)\u001b[0m\u001b[1;33m)\u001b[0m\u001b[1;33m\u001b[0m\u001b[0m\n\u001b[0;32m      3\u001b[0m \u001b[1;33m\u001b[0m\u001b[0m\n\u001b[1;32m----> 4\u001b[1;33m \u001b[0mprint\u001b[0m\u001b[1;33m(\u001b[0m\u001b[0mcalculateMetricsForMonth\u001b[0m\u001b[1;33m(\u001b[0m\u001b[1;34m\"18\"\u001b[0m\u001b[1;33m,\u001b[0m \u001b[1;34m\"12\"\u001b[0m\u001b[1;33m)\u001b[0m\u001b[1;33m)\u001b[0m\u001b[1;33m\u001b[0m\u001b[0m\n\u001b[0m",
      "\u001b[1;32m<ipython-input-6-2f00b8f87986>\u001b[0m in \u001b[0;36mcalculateMetricsForMonth\u001b[1;34m(year, month)\u001b[0m\n\u001b[0;32m     28\u001b[0m     \u001b[0mN\u001b[0m \u001b[1;33m=\u001b[0m \u001b[0mlen\u001b[0m\u001b[1;33m(\u001b[0m\u001b[0mG\u001b[0m\u001b[1;33m.\u001b[0m\u001b[0mnodes\u001b[0m\u001b[1;33m)\u001b[0m\u001b[1;33m\u001b[0m\u001b[0m\n\u001b[0;32m     29\u001b[0m     \u001b[0mM\u001b[0m \u001b[1;33m=\u001b[0m \u001b[0mlen\u001b[0m\u001b[1;33m(\u001b[0m\u001b[0mG\u001b[0m\u001b[1;33m.\u001b[0m\u001b[0medges\u001b[0m\u001b[1;33m(\u001b[0m\u001b[1;33m)\u001b[0m\u001b[1;33m)\u001b[0m\u001b[1;33m\u001b[0m\u001b[0m\n\u001b[1;32m---> 30\u001b[1;33m     \u001b[0mk\u001b[0m \u001b[1;33m=\u001b[0m \u001b[1;36m2\u001b[0m \u001b[1;33m*\u001b[0m \u001b[0mM\u001b[0m \u001b[1;33m/\u001b[0m \u001b[0mN\u001b[0m\u001b[1;33m\u001b[0m\u001b[0m\n\u001b[0m\u001b[0;32m     31\u001b[0m     \u001b[1;32mif\u001b[0m \u001b[0mM\u001b[0m\u001b[1;33m==\u001b[0m\u001b[1;36m0\u001b[0m\u001b[1;33m:\u001b[0m\u001b[1;33m\u001b[0m\u001b[0m\n\u001b[0;32m     32\u001b[0m         \u001b[1;31m#print(\"No matches for \"+date)\u001b[0m\u001b[1;33m\u001b[0m\u001b[1;33m\u001b[0m\u001b[0m\n",
      "\u001b[1;31mZeroDivisionError\u001b[0m: division by zero"
     ]
    }
   ],
   "source": [
    "\n",
    "print(calculateMetricsForMonth(\"15\", \"01\"))\n",
    "\n",
    "print(calculateMetricsForMonth(\"18\", \"12\"))\n",
    "\n"
   ]
  },
  {
   "cell_type": "code",
   "execution_count": null,
   "metadata": {},
   "outputs": [],
   "source": [
    "\n",
    "calculateMetrics()\n",
    "results = pd.DataFrame( results, columns=[\"year\", \"month\", \"N\", \"M\", \"k\", \"heter\", \"C\", \"r\", \"Q\"] )\n",
    "display(results)\n",
    "#calculateMetricsParallel(output)"
   ]
  },
  {
   "cell_type": "code",
   "execution_count": null,
   "metadata": {},
   "outputs": [],
   "source": [
    "output = mp.Queue()\n",
    "if __name__ == \"__main__\":\n",
    "    results = calculateMetricsParallel(output)\n",
    "    display(results)"
   ]
  },
  {
   "cell_type": "code",
   "execution_count": 20,
   "metadata": {},
   "outputs": [],
   "source": [
    "def multiGraphToGraph(G):\n",
    "    G2 = nx.Graph()\n",
    "    G2.add_nodes_from(list(G))\n",
    "    \n",
    "    for u,v,data in G.edges(data=True):\n",
    "        if G2.has_edge(u,v):\n",
    "            G2[u][v]['weight'] += 1\n",
    "        else:\n",
    "            G2.add_edge(u, v, weight=1)\n",
    "\n",
    "    return G2\n",
    "\n",
    "def weightedEdgeCompose(A, B):\n",
    "    incrementalAggregate = nx.compose_all([A,B])\n",
    "    for edge in A.edges():\n",
    "        src = edge[0]\n",
    "        dst = edge[1]\n",
    "        target = list((u,v) for u,v,d in B.edges(data = True) if u == src and v == dst)\n",
    "        if len(target) > 0:\n",
    "            incrementalAggregate[src][dst]['weight']+=A[src][dst]['weight']    \n",
    "    return incrementalAggregate\n",
    "\n",
    "def composeLoop(graphs):\n",
    "    A = graphs[0]\n",
    "    for i in range(1,len(graphs)):\n",
    "        B = graphs[i]\n",
    "        A = weightedEdgeCompose(A, B)\n",
    "    return A\n",
    "\n",
    "def makeAggregation(idxList):\n",
    "    return composeLoop([multiGraphToGraph(getMonthlyGraph(idxToDate(idx))) for idx in tqdm(idxList)])\n"
   ]
  },
  {
   "cell_type": "code",
   "execution_count": null,
   "metadata": {},
   "outputs": [],
   "source": [
    "\n",
    "def plotIncrementalAggregation(idxList):\n",
    "    incrementalList = []\n",
    "    Q = []\n",
    "    fig = go.Figure()\n",
    "    \n",
    "    for idx in tqdm(idxList):\n",
    "        incrementalList.append(idx)\n",
    "        \n",
    "        a = makeAggregation(incrementalList)\n",
    "        nx.write_gml(a, \"temp-agregate-graph\" + str(idx) + \".gml\")\n",
    "        Q.append(community.modularity(community.best_partition(a), a))\n",
    "    fig.add_trace(go.Scattergl(x = [monthDescriptiveLabel(i) for i in idxList], y = Q,\n",
    "                mode='lines+markers',\n",
    "#                 name = idStaticDataMap[playerID]['name'],\n",
    "                connectgaps=False))\n",
    "    \n",
    "    fig.show()\n",
    "    \n",
    "# plotIncrementalAggregation(range(12))"
   ]
  },
  {
   "cell_type": "code",
   "execution_count": null,
   "metadata": {},
   "outputs": [],
   "source": [
    "rjecnikrjecnika = {}\n",
    "for fideID in idList:\n",
    "    rjecnikrjecnika[fideID] = {}\n",
    "#fetching matches of a particular player commited for the specified month (many of these mathes were, possibly, played several months before, howbeit, were only commited now)\n",
    "\n",
    "#id = FIDE id, date = string in yyyy-mm-01 format, returns adjacency list in form (\"surname, name\", \"FIDE rating\")\n",
    "def fetchMatches(id, date):\n",
    "    targetLink = \"https://ratings.fide.com/individual_calculations.phtml?idnumber=\"+str(id)+\"&rating_period=\"+date\n",
    "    #page = requests.get(\"https://ratings.fide.com/individual_calculations.phtml?idnumber=2020009&rating_period=2015-11-01\")\n",
    "    page = requests.get(targetLink)\n",
    "    soup = BeautifulSoup(page.content, 'html.parser')\n",
    "    adjacencyDict = {}\n",
    "\n",
    "    #fetch tournaments table \"by rope and stick\"\n",
    "    tournament_table_tbody = soup.find('tr',  {\"bgcolor\": \"#CC9966\"})\n",
    "    if tournament_table_tbody is None:\n",
    "        return None\n",
    "    tournament_table_tbody = tournament_table_tbody.parent\n",
    "    \n",
    "    rows = tournament_table_tbody.findAll(\"tr\")\n",
    "    tournament_rating = 0\n",
    "    tournament_date = ''\n",
    "    for tr in rows:\n",
    "        if tr.has_attr('bgcolor'):\n",
    "            if tr['bgcolor']==\"#CC9966\":               \n",
    "                #for each tournament get month when it started\n",
    "                tournament_date = tr.findAll('td')[3].contents[0].strip()\n",
    "                tournament_date = tournament_date[:-2]+\"01\"\n",
    "            if tr['bgcolor']==\"#e6e6e6\":\n",
    "                tournament_rating = tr.findAll(\"td\")[1].contents[0].strip()\n",
    "                \n",
    "        \n",
    "        tdList = tr.findAll(\"td\", {\"class\": \"list4\"})\n",
    "        for td in tdList:\n",
    "            if td.img:\n",
    "                img_src = td.img.get('src')\n",
    "                #print(img_src)\n",
    "                if img_src == \"/imga/clr_bl.gif\":\n",
    "                    color = \"b\"\n",
    "                else: \n",
    "                    color = \"w\"\n",
    "                td.img.decompose()\n",
    "\n",
    "                cnt = 1\n",
    "                for child in td.children:\n",
    "                #print(\"Child \", cnt, \": \", child)\n",
    "                    if cnt == 1:\n",
    "                        name = child.strip()\n",
    "                    if cnt == 4:\n",
    "                        if child.font: #if * exists in the rating\n",
    "                            rescaling = 1\n",
    "                        else:\n",
    "                            rescaling = 0\n",
    "                        rating = child.contents[0].strip()\n",
    "                    if cnt == 6:\n",
    "                        result = child.contents[0].strip()\n",
    "                    if cnt == 8:\n",
    "                        transfer = child.contents[0].strip()\n",
    "                    if cnt == 11:\n",
    "                        if tournament_date in adjacencyDict.keys():\n",
    "                            adjacencyDict[tournament_date].append((name, rating, tournament_rating, rescaling, color, result, transfer))\n",
    "                        else:\n",
    "                            adjacencyDict[tournament_date] = [(name, rating, tournament_rating, rescaling, color, result, transfer)]\n",
    "                        \n",
    "                        if rjecnikrjecnika[id].get(tournament_date) is None:\n",
    "                            rjecnikrjecnika[id][tournament_date] = [(name, rating, tournament_rating, rescaling, color, result, transfer)]\n",
    "                        else: \n",
    "                            rjecnikrjecnika[id][tournament_date].append((name, rating, tournament_rating, rescaling, color, result, transfer))\n",
    "                    cnt = cnt + 1\n",
    "    \n",
    "    return adjacencyDict\n",
    "    \n",
    "# print(fetchMatches(\"2020009\", \"2015-11-01\"))\n",
    "# print(fetchMatches(\"1401815\", \"2018-01-01\"))\n"
   ]
  },
  {
   "cell_type": "code",
   "execution_count": 28,
   "metadata": {},
   "outputs": [],
   "source": [
    "\n",
    "def existsOppositeEdge(G, fideID, opponentID, eloGain, result, color):\n",
    "    edges = G.get_edge_data(opponentID, fideID)\n",
    "#     print(edges)\n",
    "    if edges is not None:\n",
    "        for _, attr in edges.items():\n",
    "    #         print('prvi', attr['edgeSrc'] == opponentID)\n",
    "    #         print('drugi', float(attr['ratingGainWhite']) == - float(eloGain))\n",
    "    #         print('treci', float(attr['resultWhite']) == 1.0 - float(result))\n",
    "    #         print('cetvrti', ((attr['whiteLabel'] == str(opponentID) and color == 'b') or (attr['whiteLabel'] == str(fideID) and color == 'w')))\n",
    "            if attr['edgeSrc'] == opponentID and float(attr['ratingGainWhite']) == - float(eloGain) and float(attr['resultWhite']) == 1.0 - float(result) and \\\n",
    "            ((attr['whiteLabel'] == str(opponentID) and color == 'b') or (attr['whiteLabel'] == str(fideID) and color == 'w')):\n",
    "                return True\n",
    "        \n",
    "    return False  \n",
    "    \n",
    "    \n",
    "def buildMonthlyGraph(date):\n",
    "    for fideID in tqdm(idList):\n",
    "        gamesDict = fetchMatches(fideID, date)\n",
    "    \n",
    "        if gamesDict is not None:\n",
    "            for month in gamesDict:\n",
    "                G = getMonthlyGraph(month)\n",
    "                for game in gamesDict[month]:\n",
    "                    opponentName = game[0]\n",
    "                    opponentRating = game[1]\n",
    "                    opponentID = nameRatingMap.get((opponentName.replace(',', ';', 10), opponentRating))\n",
    "                    rating = game[2]\n",
    "                    diffOver400 = game[3]\n",
    "                    color = game[4]\n",
    "                    result = game[5]\n",
    "                    eloGain = game[6]\n",
    "\n",
    "                    if opponentID is None and diffOver400 == 1: # we take into consideration where \n",
    "                        continue\n",
    "#                         opponentID = dummyOver400Label\n",
    "                        \n",
    "                    if opponentID is None and diffOver400 == 0: # edges where one player has the rating 2400+ and other is below 2400, we do not take into consideration\n",
    "                        continue\n",
    "\n",
    "                    if color == 'w':\n",
    "                        if not existsOppositeEdge(G, str(fideID), str(opponentID), eloGain, result, color):\n",
    "                            G.add_edge(str(fideID), str(opponentID), ratingGainWhite = eloGain, whiteLabel = str(fideID), blackLabel = str(opponentID), resultWhite = result, edgeSrc = str(fideID))\n",
    "                    else:\n",
    "                        if not existsOppositeEdge(G, str(fideID), str(opponentID), str(-float(eloGain)), str(1.0 - float(result)), color):\n",
    "                            G.add_edge(str(fideID), str(opponentID), ratingGainWhite = str(-float(eloGain)), whiteLabel = str(opponentID), blackLabel = str(fideID), resultWhite = str(1.0 - float(result)), edgeSrc = str(fideID))\n",
    "                \n",
    "def buildMonthlyGraphOffline(date):\n",
    "    G = getMonthlyGraph(date)\n",
    "    for fideID in tqdm(idList):\n",
    "        gamesDict = rjecnikrjecnika.get(fideID).get(date)\n",
    "        \n",
    "        if gamesDict is not None:\n",
    "            for game in gamesDict:\n",
    "                opponentName = game[0]\n",
    "                opponentRating = game[1]\n",
    "                opponentID = nameRatingMap.get((opponentName.replace(',', ';', 10), opponentRating))\n",
    "                rating = game[2]\n",
    "                diffOver400 = game[3]\n",
    "                color = game[4]\n",
    "                result = game[5]\n",
    "                eloGain = game[6]\n",
    "\n",
    "                if opponentID is None and diffOver400 == 1: # we take into consideration where \n",
    "                    continue\n",
    "    #                         opponentID = dummyOver400Label\n",
    "\n",
    "                if opponentID is None and diffOver400 == 0: # edges where one player has the rating 2400+ and other is below 2400, we do not take into consideration\n",
    "                    continue\n",
    "\n",
    "                if color == 'w':\n",
    "                    if not existsOppositeEdge(G, str(fideID), str(opponentID), eloGain, result, color):\n",
    "                        G.add_edge(str(fideID), str(opponentID), ratingGainWhite = eloGain, whiteLabel = str(fideID), blackLabel = str(opponentID), resultWhite = result, edgeSrc = str(fideID))\n",
    "                else:\n",
    "                    if not existsOppositeEdge(G, str(fideID), str(opponentID), str(-float(eloGain)), str(1.0 - float(result)), color):\n",
    "                        G.add_edge(str(fideID), str(opponentID), ratingGainWhite = str(-float(eloGain)), whiteLabel = str(opponentID), blackLabel = str(fideID), resultWhite = str(1.0 - float(result)), edgeSrc = str(fideID))\n",
    "\n",
    "def buildAllMonthlyGraphs():\n",
    "    folderName = \"MultiGraphsForMonths\"\n",
    "    if not os.path.exists(folderName):\n",
    "        os.makedirs(folderName)\n",
    "    for year in dataYears[::-1]:\n",
    "        for month in dataMonths2Dig:\n",
    "            buildMonthlyGraph(\"20\" + year + '-' + month + '-01')\n",
    "            saveMonthlyGraphs()\n",
    "            with open(os.path.join('MultiGraphsForMonths', 'crawler.pickle'), 'wb') as file:\n",
    "                pickle.dump(rjecnikrjecnika, file)\n",
    "            print('Done with', year, month)\n",
    "            \n",
    "def buildAllMonthlyGraphsOffline():\n",
    "    folderName = \"MultiGraphsForMonths\"\n",
    "    if not os.path.exists(folderName):\n",
    "        os.makedirs(folderName)\n",
    "        \n",
    "    with open(os.path.join('MultiGraphsForMonths', 'crawler.pickle'), 'rb') as file:\n",
    "        global rjecnikrjecnika\n",
    "        rjecnikrjecnika = pickle.load(file)\n",
    "            \n",
    "    for year in dataYears[::-1]:\n",
    "        for month in dataMonths2Dig:\n",
    "            buildMonthlyGraphOffline(\"20\" + year + '-' + month + '-01')\n",
    "#             saveMonthlyGraphs()\n",
    "            print('Done with', year, month)\n",
    "    saveMonthlyGraphs()"
   ]
  },
  {
   "cell_type": "code",
   "execution_count": 29,
   "metadata": {},
   "outputs": [
    {
     "data": {
      "application/vnd.jupyter.widget-view+json": {
       "model_id": "4f740cef3325410aa4c4bab0366951bd",
       "version_major": 2,
       "version_minor": 0
      },
      "text/plain": [
       "HBox(children=(IntProgress(value=1, bar_style='info', max=1), HTML(value='')))"
      ]
     },
     "metadata": {},
     "output_type": "display_data"
    },
    {
     "name": "stdout",
     "output_type": "stream",
     "text": [
      "\n",
      "Done with 13 01\n"
     ]
    },
    {
     "data": {
      "application/vnd.jupyter.widget-view+json": {
       "model_id": "0034c330af5544edb7ec748dccdffa97",
       "version_major": 2,
       "version_minor": 0
      },
      "text/plain": [
       "HBox(children=(IntProgress(value=1, bar_style='info', max=1), HTML(value='')))"
      ]
     },
     "metadata": {},
     "output_type": "display_data"
    },
    {
     "name": "stdout",
     "output_type": "stream",
     "text": [
      "\n",
      "Done with 13 02\n"
     ]
    },
    {
     "data": {
      "application/vnd.jupyter.widget-view+json": {
       "model_id": "171bff191b2d4915aca6be56f7b81372",
       "version_major": 2,
       "version_minor": 0
      },
      "text/plain": [
       "HBox(children=(IntProgress(value=1, bar_style='info', max=1), HTML(value='')))"
      ]
     },
     "metadata": {},
     "output_type": "display_data"
    },
    {
     "name": "stdout",
     "output_type": "stream",
     "text": [
      "\n",
      "Done with 13 03\n"
     ]
    },
    {
     "data": {
      "application/vnd.jupyter.widget-view+json": {
       "model_id": "d85a91e6007946e38dd8edb3d36d2811",
       "version_major": 2,
       "version_minor": 0
      },
      "text/plain": [
       "HBox(children=(IntProgress(value=1, bar_style='info', max=1), HTML(value='')))"
      ]
     },
     "metadata": {},
     "output_type": "display_data"
    },
    {
     "name": "stdout",
     "output_type": "stream",
     "text": [
      "\n",
      "Done with 13 04\n"
     ]
    },
    {
     "data": {
      "application/vnd.jupyter.widget-view+json": {
       "model_id": "98b927a010304ae4ae10c1802f751fc8",
       "version_major": 2,
       "version_minor": 0
      },
      "text/plain": [
       "HBox(children=(IntProgress(value=1, bar_style='info', max=1), HTML(value='')))"
      ]
     },
     "metadata": {},
     "output_type": "display_data"
    },
    {
     "name": "stdout",
     "output_type": "stream",
     "text": [
      "\n",
      "Done with 13 05\n"
     ]
    },
    {
     "data": {
      "application/vnd.jupyter.widget-view+json": {
       "model_id": "035aa0a34426493698f6fc2dc8adbf88",
       "version_major": 2,
       "version_minor": 0
      },
      "text/plain": [
       "HBox(children=(IntProgress(value=1, bar_style='info', max=1), HTML(value='')))"
      ]
     },
     "metadata": {},
     "output_type": "display_data"
    },
    {
     "name": "stdout",
     "output_type": "stream",
     "text": [
      "\n",
      "Done with 13 06\n"
     ]
    },
    {
     "data": {
      "application/vnd.jupyter.widget-view+json": {
       "model_id": "3b8ff457f71645d0a6d0413be8652633",
       "version_major": 2,
       "version_minor": 0
      },
      "text/plain": [
       "HBox(children=(IntProgress(value=1, bar_style='info', max=1), HTML(value='')))"
      ]
     },
     "metadata": {},
     "output_type": "display_data"
    },
    {
     "name": "stdout",
     "output_type": "stream",
     "text": [
      "\n",
      "Done with 13 07\n"
     ]
    },
    {
     "data": {
      "application/vnd.jupyter.widget-view+json": {
       "model_id": "d72d516efe244fd28105c1d149ea07b5",
       "version_major": 2,
       "version_minor": 0
      },
      "text/plain": [
       "HBox(children=(IntProgress(value=1, bar_style='info', max=1), HTML(value='')))"
      ]
     },
     "metadata": {},
     "output_type": "display_data"
    },
    {
     "name": "stdout",
     "output_type": "stream",
     "text": [
      "\n",
      "Done with 13 08\n"
     ]
    },
    {
     "data": {
      "application/vnd.jupyter.widget-view+json": {
       "model_id": "067cda73fcf4457395acce1c534082cf",
       "version_major": 2,
       "version_minor": 0
      },
      "text/plain": [
       "HBox(children=(IntProgress(value=1, bar_style='info', max=1), HTML(value='')))"
      ]
     },
     "metadata": {},
     "output_type": "display_data"
    },
    {
     "name": "stdout",
     "output_type": "stream",
     "text": [
      "\n",
      "Done with 13 09\n"
     ]
    },
    {
     "data": {
      "application/vnd.jupyter.widget-view+json": {
       "model_id": "5d3f229360e84ce5b5be13dadbe2593d",
       "version_major": 2,
       "version_minor": 0
      },
      "text/plain": [
       "HBox(children=(IntProgress(value=1, bar_style='info', max=1), HTML(value='')))"
      ]
     },
     "metadata": {},
     "output_type": "display_data"
    },
    {
     "name": "stdout",
     "output_type": "stream",
     "text": [
      "\n",
      "Done with 13 10\n"
     ]
    },
    {
     "data": {
      "application/vnd.jupyter.widget-view+json": {
       "model_id": "3b74218e6710421fa32fadaa1ae88155",
       "version_major": 2,
       "version_minor": 0
      },
      "text/plain": [
       "HBox(children=(IntProgress(value=1, bar_style='info', max=1), HTML(value='')))"
      ]
     },
     "metadata": {},
     "output_type": "display_data"
    },
    {
     "name": "stdout",
     "output_type": "stream",
     "text": [
      "\n",
      "Done with 13 11\n"
     ]
    },
    {
     "data": {
      "application/vnd.jupyter.widget-view+json": {
       "model_id": "9114ac81c3b24e9990637871eac9fcc7",
       "version_major": 2,
       "version_minor": 0
      },
      "text/plain": [
       "HBox(children=(IntProgress(value=1, bar_style='info', max=1), HTML(value='')))"
      ]
     },
     "metadata": {},
     "output_type": "display_data"
    },
    {
     "name": "stdout",
     "output_type": "stream",
     "text": [
      "\n",
      "Done with 13 12\n"
     ]
    },
    {
     "data": {
      "application/vnd.jupyter.widget-view+json": {
       "model_id": "927e15a3da1f40688050413cb2c1c71e",
       "version_major": 2,
       "version_minor": 0
      },
      "text/plain": [
       "HBox(children=(IntProgress(value=1, bar_style='info', max=1), HTML(value='')))"
      ]
     },
     "metadata": {},
     "output_type": "display_data"
    },
    {
     "name": "stdout",
     "output_type": "stream",
     "text": [
      "\n",
      "Done with 14 01\n"
     ]
    },
    {
     "data": {
      "application/vnd.jupyter.widget-view+json": {
       "model_id": "0055c17083994b1c90b53fa29f5799d7",
       "version_major": 2,
       "version_minor": 0
      },
      "text/plain": [
       "HBox(children=(IntProgress(value=1, bar_style='info', max=1), HTML(value='')))"
      ]
     },
     "metadata": {},
     "output_type": "display_data"
    },
    {
     "name": "stdout",
     "output_type": "stream",
     "text": [
      "\n",
      "Done with 14 02\n"
     ]
    },
    {
     "data": {
      "application/vnd.jupyter.widget-view+json": {
       "model_id": "8d5c8ef609544997bf83b615e612a1e2",
       "version_major": 2,
       "version_minor": 0
      },
      "text/plain": [
       "HBox(children=(IntProgress(value=1, bar_style='info', max=1), HTML(value='')))"
      ]
     },
     "metadata": {},
     "output_type": "display_data"
    },
    {
     "name": "stdout",
     "output_type": "stream",
     "text": [
      "\n",
      "Done with 14 03\n"
     ]
    },
    {
     "data": {
      "application/vnd.jupyter.widget-view+json": {
       "model_id": "28ea95efe1244ee5923f446d2c302be4",
       "version_major": 2,
       "version_minor": 0
      },
      "text/plain": [
       "HBox(children=(IntProgress(value=1, bar_style='info', max=1), HTML(value='')))"
      ]
     },
     "metadata": {},
     "output_type": "display_data"
    },
    {
     "name": "stdout",
     "output_type": "stream",
     "text": [
      "\n",
      "Done with 14 04\n"
     ]
    },
    {
     "data": {
      "application/vnd.jupyter.widget-view+json": {
       "model_id": "16d938a078564490baeb08bd9ec9e948",
       "version_major": 2,
       "version_minor": 0
      },
      "text/plain": [
       "HBox(children=(IntProgress(value=1, bar_style='info', max=1), HTML(value='')))"
      ]
     },
     "metadata": {},
     "output_type": "display_data"
    },
    {
     "name": "stdout",
     "output_type": "stream",
     "text": [
      "\n",
      "Done with 14 05\n"
     ]
    },
    {
     "data": {
      "application/vnd.jupyter.widget-view+json": {
       "model_id": "fc080b51ed1b415d97b2691bfdc12afe",
       "version_major": 2,
       "version_minor": 0
      },
      "text/plain": [
       "HBox(children=(IntProgress(value=1, bar_style='info', max=1), HTML(value='')))"
      ]
     },
     "metadata": {},
     "output_type": "display_data"
    },
    {
     "name": "stdout",
     "output_type": "stream",
     "text": [
      "\n",
      "Done with 14 06\n"
     ]
    },
    {
     "data": {
      "application/vnd.jupyter.widget-view+json": {
       "model_id": "90497480899941a994b2517c695bf15f",
       "version_major": 2,
       "version_minor": 0
      },
      "text/plain": [
       "HBox(children=(IntProgress(value=1, bar_style='info', max=1), HTML(value='')))"
      ]
     },
     "metadata": {},
     "output_type": "display_data"
    },
    {
     "name": "stdout",
     "output_type": "stream",
     "text": [
      "\n",
      "Done with 14 07\n"
     ]
    },
    {
     "data": {
      "application/vnd.jupyter.widget-view+json": {
       "model_id": "ddd3ee0772504a689dc1dd86234c659e",
       "version_major": 2,
       "version_minor": 0
      },
      "text/plain": [
       "HBox(children=(IntProgress(value=1, bar_style='info', max=1), HTML(value='')))"
      ]
     },
     "metadata": {},
     "output_type": "display_data"
    },
    {
     "name": "stdout",
     "output_type": "stream",
     "text": [
      "\n",
      "Done with 14 08\n"
     ]
    },
    {
     "data": {
      "application/vnd.jupyter.widget-view+json": {
       "model_id": "f12844109e9048399401be4568b600bd",
       "version_major": 2,
       "version_minor": 0
      },
      "text/plain": [
       "HBox(children=(IntProgress(value=1, bar_style='info', max=1), HTML(value='')))"
      ]
     },
     "metadata": {},
     "output_type": "display_data"
    },
    {
     "name": "stdout",
     "output_type": "stream",
     "text": [
      "\n",
      "Done with 14 09\n"
     ]
    },
    {
     "data": {
      "application/vnd.jupyter.widget-view+json": {
       "model_id": "cc8cebccf16249d79290c532179630e0",
       "version_major": 2,
       "version_minor": 0
      },
      "text/plain": [
       "HBox(children=(IntProgress(value=1, bar_style='info', max=1), HTML(value='')))"
      ]
     },
     "metadata": {},
     "output_type": "display_data"
    },
    {
     "name": "stdout",
     "output_type": "stream",
     "text": [
      "\n",
      "Done with 14 10\n"
     ]
    },
    {
     "data": {
      "application/vnd.jupyter.widget-view+json": {
       "model_id": "da334e2c45f74c588a9dcd23602780cf",
       "version_major": 2,
       "version_minor": 0
      },
      "text/plain": [
       "HBox(children=(IntProgress(value=1, bar_style='info', max=1), HTML(value='')))"
      ]
     },
     "metadata": {},
     "output_type": "display_data"
    },
    {
     "name": "stdout",
     "output_type": "stream",
     "text": [
      "\n",
      "Done with 14 11\n"
     ]
    },
    {
     "data": {
      "application/vnd.jupyter.widget-view+json": {
       "model_id": "a7d69928f4f94bf69f8216f1e948557c",
       "version_major": 2,
       "version_minor": 0
      },
      "text/plain": [
       "HBox(children=(IntProgress(value=1, bar_style='info', max=1), HTML(value='')))"
      ]
     },
     "metadata": {},
     "output_type": "display_data"
    },
    {
     "name": "stdout",
     "output_type": "stream",
     "text": [
      "\n",
      "Done with 14 12\n"
     ]
    },
    {
     "data": {
      "application/vnd.jupyter.widget-view+json": {
       "model_id": "29fc0d3366264613ad52067938d4507b",
       "version_major": 2,
       "version_minor": 0
      },
      "text/plain": [
       "HBox(children=(IntProgress(value=1, bar_style='info', max=1), HTML(value='')))"
      ]
     },
     "metadata": {},
     "output_type": "display_data"
    },
    {
     "name": "stdout",
     "output_type": "stream",
     "text": [
      "\n",
      "Done with 15 01\n"
     ]
    },
    {
     "data": {
      "application/vnd.jupyter.widget-view+json": {
       "model_id": "816871213af04cac8f5d853409df639a",
       "version_major": 2,
       "version_minor": 0
      },
      "text/plain": [
       "HBox(children=(IntProgress(value=1, bar_style='info', max=1), HTML(value='')))"
      ]
     },
     "metadata": {},
     "output_type": "display_data"
    },
    {
     "name": "stdout",
     "output_type": "stream",
     "text": [
      "\n",
      "Done with 15 02\n"
     ]
    },
    {
     "data": {
      "application/vnd.jupyter.widget-view+json": {
       "model_id": "232eb5a2a64b4f43b03c4510b7354cc0",
       "version_major": 2,
       "version_minor": 0
      },
      "text/plain": [
       "HBox(children=(IntProgress(value=1, bar_style='info', max=1), HTML(value='')))"
      ]
     },
     "metadata": {},
     "output_type": "display_data"
    },
    {
     "name": "stdout",
     "output_type": "stream",
     "text": [
      "\n",
      "Done with 15 03\n"
     ]
    },
    {
     "data": {
      "application/vnd.jupyter.widget-view+json": {
       "model_id": "2edf53cee1044b7ca35b146ea95bdedc",
       "version_major": 2,
       "version_minor": 0
      },
      "text/plain": [
       "HBox(children=(IntProgress(value=1, bar_style='info', max=1), HTML(value='')))"
      ]
     },
     "metadata": {},
     "output_type": "display_data"
    },
    {
     "name": "stdout",
     "output_type": "stream",
     "text": [
      "\n",
      "Done with 15 04\n"
     ]
    },
    {
     "data": {
      "application/vnd.jupyter.widget-view+json": {
       "model_id": "fe69b11ccd5b422699cb952a4e4f1ac7",
       "version_major": 2,
       "version_minor": 0
      },
      "text/plain": [
       "HBox(children=(IntProgress(value=1, bar_style='info', max=1), HTML(value='')))"
      ]
     },
     "metadata": {},
     "output_type": "display_data"
    },
    {
     "name": "stdout",
     "output_type": "stream",
     "text": [
      "\n",
      "Done with 15 05\n"
     ]
    },
    {
     "data": {
      "application/vnd.jupyter.widget-view+json": {
       "model_id": "e9dcf24f2e7a49d180d7c882454f9bea",
       "version_major": 2,
       "version_minor": 0
      },
      "text/plain": [
       "HBox(children=(IntProgress(value=1, bar_style='info', max=1), HTML(value='')))"
      ]
     },
     "metadata": {},
     "output_type": "display_data"
    },
    {
     "name": "stdout",
     "output_type": "stream",
     "text": [
      "\n",
      "Done with 15 06\n"
     ]
    },
    {
     "data": {
      "application/vnd.jupyter.widget-view+json": {
       "model_id": "b3687b34ba9f4feaa71530ec54453648",
       "version_major": 2,
       "version_minor": 0
      },
      "text/plain": [
       "HBox(children=(IntProgress(value=1, bar_style='info', max=1), HTML(value='')))"
      ]
     },
     "metadata": {},
     "output_type": "display_data"
    },
    {
     "name": "stdout",
     "output_type": "stream",
     "text": [
      "\n",
      "Done with 15 07\n"
     ]
    },
    {
     "data": {
      "application/vnd.jupyter.widget-view+json": {
       "model_id": "d16dd2a79688413f853b3ec9fe186f86",
       "version_major": 2,
       "version_minor": 0
      },
      "text/plain": [
       "HBox(children=(IntProgress(value=1, bar_style='info', max=1), HTML(value='')))"
      ]
     },
     "metadata": {},
     "output_type": "display_data"
    },
    {
     "name": "stdout",
     "output_type": "stream",
     "text": [
      "\n",
      "Done with 15 08\n"
     ]
    },
    {
     "data": {
      "application/vnd.jupyter.widget-view+json": {
       "model_id": "443ce5f2c1374b6cb1ee9252e9005585",
       "version_major": 2,
       "version_minor": 0
      },
      "text/plain": [
       "HBox(children=(IntProgress(value=1, bar_style='info', max=1), HTML(value='')))"
      ]
     },
     "metadata": {},
     "output_type": "display_data"
    },
    {
     "name": "stdout",
     "output_type": "stream",
     "text": [
      "\n",
      "Done with 15 09\n"
     ]
    },
    {
     "data": {
      "application/vnd.jupyter.widget-view+json": {
       "model_id": "f99fb3f90747475a897ec097b423e792",
       "version_major": 2,
       "version_minor": 0
      },
      "text/plain": [
       "HBox(children=(IntProgress(value=1, bar_style='info', max=1), HTML(value='')))"
      ]
     },
     "metadata": {},
     "output_type": "display_data"
    },
    {
     "name": "stdout",
     "output_type": "stream",
     "text": [
      "\n",
      "Done with 15 10\n"
     ]
    },
    {
     "data": {
      "application/vnd.jupyter.widget-view+json": {
       "model_id": "8dd85276633b403aa21a11856ac27bbb",
       "version_major": 2,
       "version_minor": 0
      },
      "text/plain": [
       "HBox(children=(IntProgress(value=1, bar_style='info', max=1), HTML(value='')))"
      ]
     },
     "metadata": {},
     "output_type": "display_data"
    },
    {
     "name": "stdout",
     "output_type": "stream",
     "text": [
      "\n",
      "Done with 15 11\n"
     ]
    },
    {
     "data": {
      "application/vnd.jupyter.widget-view+json": {
       "model_id": "21297c90c387403a81483d25ff720b13",
       "version_major": 2,
       "version_minor": 0
      },
      "text/plain": [
       "HBox(children=(IntProgress(value=1, bar_style='info', max=1), HTML(value='')))"
      ]
     },
     "metadata": {},
     "output_type": "display_data"
    },
    {
     "name": "stdout",
     "output_type": "stream",
     "text": [
      "\n",
      "Done with 15 12\n"
     ]
    },
    {
     "data": {
      "application/vnd.jupyter.widget-view+json": {
       "model_id": "86b036fddf6b449b9df3360bb78d7c51",
       "version_major": 2,
       "version_minor": 0
      },
      "text/plain": [
       "HBox(children=(IntProgress(value=1, bar_style='info', max=1), HTML(value='')))"
      ]
     },
     "metadata": {},
     "output_type": "display_data"
    },
    {
     "name": "stdout",
     "output_type": "stream",
     "text": [
      "\n",
      "Done with 16 01\n"
     ]
    },
    {
     "data": {
      "application/vnd.jupyter.widget-view+json": {
       "model_id": "c24d2948cd044e6dbff24e2177401f55",
       "version_major": 2,
       "version_minor": 0
      },
      "text/plain": [
       "HBox(children=(IntProgress(value=1, bar_style='info', max=1), HTML(value='')))"
      ]
     },
     "metadata": {},
     "output_type": "display_data"
    },
    {
     "name": "stdout",
     "output_type": "stream",
     "text": [
      "\n",
      "Done with 16 02\n"
     ]
    },
    {
     "data": {
      "application/vnd.jupyter.widget-view+json": {
       "model_id": "bcd693b130634484985b3b678021ee97",
       "version_major": 2,
       "version_minor": 0
      },
      "text/plain": [
       "HBox(children=(IntProgress(value=1, bar_style='info', max=1), HTML(value='')))"
      ]
     },
     "metadata": {},
     "output_type": "display_data"
    },
    {
     "name": "stdout",
     "output_type": "stream",
     "text": [
      "\n",
      "Done with 16 03\n"
     ]
    },
    {
     "data": {
      "application/vnd.jupyter.widget-view+json": {
       "model_id": "b052d71771504750b548d6d21a9f53ca",
       "version_major": 2,
       "version_minor": 0
      },
      "text/plain": [
       "HBox(children=(IntProgress(value=1, bar_style='info', max=1), HTML(value='')))"
      ]
     },
     "metadata": {},
     "output_type": "display_data"
    },
    {
     "name": "stdout",
     "output_type": "stream",
     "text": [
      "\n",
      "Done with 16 04\n"
     ]
    },
    {
     "data": {
      "application/vnd.jupyter.widget-view+json": {
       "model_id": "a2284d9347784db3aea3d4117c102b43",
       "version_major": 2,
       "version_minor": 0
      },
      "text/plain": [
       "HBox(children=(IntProgress(value=1, bar_style='info', max=1), HTML(value='')))"
      ]
     },
     "metadata": {},
     "output_type": "display_data"
    },
    {
     "name": "stdout",
     "output_type": "stream",
     "text": [
      "\n",
      "Done with 16 05\n"
     ]
    },
    {
     "data": {
      "application/vnd.jupyter.widget-view+json": {
       "model_id": "82c66744fc17486fa64669d505dc6529",
       "version_major": 2,
       "version_minor": 0
      },
      "text/plain": [
       "HBox(children=(IntProgress(value=1, bar_style='info', max=1), HTML(value='')))"
      ]
     },
     "metadata": {},
     "output_type": "display_data"
    },
    {
     "name": "stdout",
     "output_type": "stream",
     "text": [
      "\n",
      "Done with 16 06\n"
     ]
    },
    {
     "data": {
      "application/vnd.jupyter.widget-view+json": {
       "model_id": "e423a396bcaf42539a30dd13e02bce80",
       "version_major": 2,
       "version_minor": 0
      },
      "text/plain": [
       "HBox(children=(IntProgress(value=1, bar_style='info', max=1), HTML(value='')))"
      ]
     },
     "metadata": {},
     "output_type": "display_data"
    },
    {
     "name": "stdout",
     "output_type": "stream",
     "text": [
      "\n",
      "Done with 16 07\n"
     ]
    },
    {
     "data": {
      "application/vnd.jupyter.widget-view+json": {
       "model_id": "ef2f843200494bd4b7871ec49f26eb8e",
       "version_major": 2,
       "version_minor": 0
      },
      "text/plain": [
       "HBox(children=(IntProgress(value=1, bar_style='info', max=1), HTML(value='')))"
      ]
     },
     "metadata": {},
     "output_type": "display_data"
    },
    {
     "name": "stdout",
     "output_type": "stream",
     "text": [
      "\n",
      "Done with 16 08\n"
     ]
    },
    {
     "data": {
      "application/vnd.jupyter.widget-view+json": {
       "model_id": "f5c90dbb42804c878f14cc7caf59cb73",
       "version_major": 2,
       "version_minor": 0
      },
      "text/plain": [
       "HBox(children=(IntProgress(value=1, bar_style='info', max=1), HTML(value='')))"
      ]
     },
     "metadata": {},
     "output_type": "display_data"
    },
    {
     "name": "stdout",
     "output_type": "stream",
     "text": [
      "\n",
      "Done with 16 09\n"
     ]
    },
    {
     "data": {
      "application/vnd.jupyter.widget-view+json": {
       "model_id": "aabd03f4a930464e82e96070d36e6766",
       "version_major": 2,
       "version_minor": 0
      },
      "text/plain": [
       "HBox(children=(IntProgress(value=1, bar_style='info', max=1), HTML(value='')))"
      ]
     },
     "metadata": {},
     "output_type": "display_data"
    },
    {
     "name": "stdout",
     "output_type": "stream",
     "text": [
      "\n",
      "Done with 16 10\n"
     ]
    },
    {
     "data": {
      "application/vnd.jupyter.widget-view+json": {
       "model_id": "2705311c90aa4938947b66fdfae25b15",
       "version_major": 2,
       "version_minor": 0
      },
      "text/plain": [
       "HBox(children=(IntProgress(value=1, bar_style='info', max=1), HTML(value='')))"
      ]
     },
     "metadata": {},
     "output_type": "display_data"
    },
    {
     "name": "stdout",
     "output_type": "stream",
     "text": [
      "\n",
      "Done with 16 11\n"
     ]
    },
    {
     "data": {
      "application/vnd.jupyter.widget-view+json": {
       "model_id": "d23da4ae30664b3081044e4e6d8ac0d8",
       "version_major": 2,
       "version_minor": 0
      },
      "text/plain": [
       "HBox(children=(IntProgress(value=1, bar_style='info', max=1), HTML(value='')))"
      ]
     },
     "metadata": {},
     "output_type": "display_data"
    },
    {
     "name": "stdout",
     "output_type": "stream",
     "text": [
      "\n",
      "Done with 16 12\n"
     ]
    },
    {
     "data": {
      "application/vnd.jupyter.widget-view+json": {
       "model_id": "16b28d5d2af2457ca44346e6e109fcb8",
       "version_major": 2,
       "version_minor": 0
      },
      "text/plain": [
       "HBox(children=(IntProgress(value=1, bar_style='info', max=1), HTML(value='')))"
      ]
     },
     "metadata": {},
     "output_type": "display_data"
    },
    {
     "name": "stdout",
     "output_type": "stream",
     "text": [
      "\n",
      "Done with 17 01\n"
     ]
    },
    {
     "data": {
      "application/vnd.jupyter.widget-view+json": {
       "model_id": "2362116f851b45e8a95df3dce60a2d28",
       "version_major": 2,
       "version_minor": 0
      },
      "text/plain": [
       "HBox(children=(IntProgress(value=1, bar_style='info', max=1), HTML(value='')))"
      ]
     },
     "metadata": {},
     "output_type": "display_data"
    },
    {
     "name": "stdout",
     "output_type": "stream",
     "text": [
      "\n",
      "Done with 17 02\n"
     ]
    },
    {
     "data": {
      "application/vnd.jupyter.widget-view+json": {
       "model_id": "e70289e509084232a8d97fa972888cfe",
       "version_major": 2,
       "version_minor": 0
      },
      "text/plain": [
       "HBox(children=(IntProgress(value=1, bar_style='info', max=1), HTML(value='')))"
      ]
     },
     "metadata": {},
     "output_type": "display_data"
    },
    {
     "name": "stdout",
     "output_type": "stream",
     "text": [
      "\n",
      "Done with 17 03\n"
     ]
    },
    {
     "data": {
      "application/vnd.jupyter.widget-view+json": {
       "model_id": "c9c99d4ef61d45c981aefcfd6c8a5e3b",
       "version_major": 2,
       "version_minor": 0
      },
      "text/plain": [
       "HBox(children=(IntProgress(value=1, bar_style='info', max=1), HTML(value='')))"
      ]
     },
     "metadata": {},
     "output_type": "display_data"
    },
    {
     "name": "stdout",
     "output_type": "stream",
     "text": [
      "\n",
      "Done with 17 04\n"
     ]
    },
    {
     "data": {
      "application/vnd.jupyter.widget-view+json": {
       "model_id": "c59daae36e664cb685d89fd2483e74bb",
       "version_major": 2,
       "version_minor": 0
      },
      "text/plain": [
       "HBox(children=(IntProgress(value=1, bar_style='info', max=1), HTML(value='')))"
      ]
     },
     "metadata": {},
     "output_type": "display_data"
    },
    {
     "name": "stdout",
     "output_type": "stream",
     "text": [
      "\n",
      "Done with 17 05\n"
     ]
    },
    {
     "data": {
      "application/vnd.jupyter.widget-view+json": {
       "model_id": "77ce7f87eada4720b75a1bc6f41bdafc",
       "version_major": 2,
       "version_minor": 0
      },
      "text/plain": [
       "HBox(children=(IntProgress(value=1, bar_style='info', max=1), HTML(value='')))"
      ]
     },
     "metadata": {},
     "output_type": "display_data"
    },
    {
     "name": "stdout",
     "output_type": "stream",
     "text": [
      "\n",
      "Done with 17 06\n"
     ]
    },
    {
     "data": {
      "application/vnd.jupyter.widget-view+json": {
       "model_id": "01c320660ea64c87be4ecb1cfdccec49",
       "version_major": 2,
       "version_minor": 0
      },
      "text/plain": [
       "HBox(children=(IntProgress(value=1, bar_style='info', max=1), HTML(value='')))"
      ]
     },
     "metadata": {},
     "output_type": "display_data"
    },
    {
     "name": "stdout",
     "output_type": "stream",
     "text": [
      "\n",
      "Done with 17 07\n"
     ]
    },
    {
     "data": {
      "application/vnd.jupyter.widget-view+json": {
       "model_id": "c22f0da7182240b29a1d11f5e14c0cf0",
       "version_major": 2,
       "version_minor": 0
      },
      "text/plain": [
       "HBox(children=(IntProgress(value=1, bar_style='info', max=1), HTML(value='')))"
      ]
     },
     "metadata": {},
     "output_type": "display_data"
    },
    {
     "name": "stdout",
     "output_type": "stream",
     "text": [
      "\n",
      "Done with 17 08\n"
     ]
    },
    {
     "data": {
      "application/vnd.jupyter.widget-view+json": {
       "model_id": "528bda51f63a4635b7792db1fb48f22e",
       "version_major": 2,
       "version_minor": 0
      },
      "text/plain": [
       "HBox(children=(IntProgress(value=1, bar_style='info', max=1), HTML(value='')))"
      ]
     },
     "metadata": {},
     "output_type": "display_data"
    },
    {
     "name": "stdout",
     "output_type": "stream",
     "text": [
      "\n",
      "Done with 17 09\n"
     ]
    },
    {
     "data": {
      "application/vnd.jupyter.widget-view+json": {
       "model_id": "9403a8cde1e94dd4a2c9a0c3ba486875",
       "version_major": 2,
       "version_minor": 0
      },
      "text/plain": [
       "HBox(children=(IntProgress(value=1, bar_style='info', max=1), HTML(value='')))"
      ]
     },
     "metadata": {},
     "output_type": "display_data"
    },
    {
     "name": "stdout",
     "output_type": "stream",
     "text": [
      "\n",
      "Done with 17 10\n"
     ]
    },
    {
     "data": {
      "application/vnd.jupyter.widget-view+json": {
       "model_id": "98d714d4aa7c45758b393b70df083a50",
       "version_major": 2,
       "version_minor": 0
      },
      "text/plain": [
       "HBox(children=(IntProgress(value=1, bar_style='info', max=1), HTML(value='')))"
      ]
     },
     "metadata": {},
     "output_type": "display_data"
    },
    {
     "name": "stdout",
     "output_type": "stream",
     "text": [
      "\n",
      "Done with 17 11\n"
     ]
    },
    {
     "data": {
      "application/vnd.jupyter.widget-view+json": {
       "model_id": "4f777bbfd8a943809d9861cd8cd76f58",
       "version_major": 2,
       "version_minor": 0
      },
      "text/plain": [
       "HBox(children=(IntProgress(value=1, bar_style='info', max=1), HTML(value='')))"
      ]
     },
     "metadata": {},
     "output_type": "display_data"
    },
    {
     "name": "stdout",
     "output_type": "stream",
     "text": [
      "\n",
      "Done with 17 12\n"
     ]
    },
    {
     "data": {
      "application/vnd.jupyter.widget-view+json": {
       "model_id": "03f2be633635478ab9f07e2eb028b3c8",
       "version_major": 2,
       "version_minor": 0
      },
      "text/plain": [
       "HBox(children=(IntProgress(value=1, bar_style='info', max=1), HTML(value='')))"
      ]
     },
     "metadata": {},
     "output_type": "display_data"
    },
    {
     "name": "stdout",
     "output_type": "stream",
     "text": [
      "\n",
      "Done with 18 01\n"
     ]
    },
    {
     "data": {
      "application/vnd.jupyter.widget-view+json": {
       "model_id": "4705338b1b3d4edb8c9ed1a1299f612d",
       "version_major": 2,
       "version_minor": 0
      },
      "text/plain": [
       "HBox(children=(IntProgress(value=1, bar_style='info', max=1), HTML(value='')))"
      ]
     },
     "metadata": {},
     "output_type": "display_data"
    },
    {
     "name": "stdout",
     "output_type": "stream",
     "text": [
      "\n",
      "Done with 18 02\n"
     ]
    },
    {
     "data": {
      "application/vnd.jupyter.widget-view+json": {
       "model_id": "a6ee2e76c41541e5a2d1591daa0bc4aa",
       "version_major": 2,
       "version_minor": 0
      },
      "text/plain": [
       "HBox(children=(IntProgress(value=1, bar_style='info', max=1), HTML(value='')))"
      ]
     },
     "metadata": {},
     "output_type": "display_data"
    },
    {
     "name": "stdout",
     "output_type": "stream",
     "text": [
      "\n",
      "Done with 18 03\n"
     ]
    },
    {
     "data": {
      "application/vnd.jupyter.widget-view+json": {
       "model_id": "e52929f6f10b417f9cba68777aeaf055",
       "version_major": 2,
       "version_minor": 0
      },
      "text/plain": [
       "HBox(children=(IntProgress(value=1, bar_style='info', max=1), HTML(value='')))"
      ]
     },
     "metadata": {},
     "output_type": "display_data"
    },
    {
     "name": "stdout",
     "output_type": "stream",
     "text": [
      "\n",
      "Done with 18 04\n"
     ]
    },
    {
     "data": {
      "application/vnd.jupyter.widget-view+json": {
       "model_id": "cff38f284dea4360912b51c3cea18980",
       "version_major": 2,
       "version_minor": 0
      },
      "text/plain": [
       "HBox(children=(IntProgress(value=1, bar_style='info', max=1), HTML(value='')))"
      ]
     },
     "metadata": {},
     "output_type": "display_data"
    },
    {
     "name": "stdout",
     "output_type": "stream",
     "text": [
      "\n",
      "Done with 18 05\n"
     ]
    },
    {
     "data": {
      "application/vnd.jupyter.widget-view+json": {
       "model_id": "c7421cb92aac4354b1448d4eab38c66d",
       "version_major": 2,
       "version_minor": 0
      },
      "text/plain": [
       "HBox(children=(IntProgress(value=1, bar_style='info', max=1), HTML(value='')))"
      ]
     },
     "metadata": {},
     "output_type": "display_data"
    },
    {
     "name": "stdout",
     "output_type": "stream",
     "text": [
      "\n",
      "Done with 18 06\n"
     ]
    },
    {
     "data": {
      "application/vnd.jupyter.widget-view+json": {
       "model_id": "880cd43d1282424ab9ee0f0feac7a8c4",
       "version_major": 2,
       "version_minor": 0
      },
      "text/plain": [
       "HBox(children=(IntProgress(value=1, bar_style='info', max=1), HTML(value='')))"
      ]
     },
     "metadata": {},
     "output_type": "display_data"
    },
    {
     "name": "stdout",
     "output_type": "stream",
     "text": [
      "\n",
      "Done with 18 07\n"
     ]
    },
    {
     "data": {
      "application/vnd.jupyter.widget-view+json": {
       "model_id": "2222db074e784dd5a7dc4e4c06d41c2e",
       "version_major": 2,
       "version_minor": 0
      },
      "text/plain": [
       "HBox(children=(IntProgress(value=1, bar_style='info', max=1), HTML(value='')))"
      ]
     },
     "metadata": {},
     "output_type": "display_data"
    },
    {
     "name": "stdout",
     "output_type": "stream",
     "text": [
      "\n",
      "Done with 18 08\n"
     ]
    },
    {
     "data": {
      "application/vnd.jupyter.widget-view+json": {
       "model_id": "8dcb857d04a34834b93532da303c9e6f",
       "version_major": 2,
       "version_minor": 0
      },
      "text/plain": [
       "HBox(children=(IntProgress(value=1, bar_style='info', max=1), HTML(value='')))"
      ]
     },
     "metadata": {},
     "output_type": "display_data"
    },
    {
     "name": "stdout",
     "output_type": "stream",
     "text": [
      "\n",
      "Done with 18 09\n"
     ]
    },
    {
     "data": {
      "application/vnd.jupyter.widget-view+json": {
       "model_id": "ebf5beaff99347ddac922265498f6f0d",
       "version_major": 2,
       "version_minor": 0
      },
      "text/plain": [
       "HBox(children=(IntProgress(value=1, bar_style='info', max=1), HTML(value='')))"
      ]
     },
     "metadata": {},
     "output_type": "display_data"
    },
    {
     "name": "stdout",
     "output_type": "stream",
     "text": [
      "\n",
      "Done with 18 10\n"
     ]
    },
    {
     "data": {
      "application/vnd.jupyter.widget-view+json": {
       "model_id": "1107967db87846fd9096a60b014ae67a",
       "version_major": 2,
       "version_minor": 0
      },
      "text/plain": [
       "HBox(children=(IntProgress(value=1, bar_style='info', max=1), HTML(value='')))"
      ]
     },
     "metadata": {},
     "output_type": "display_data"
    },
    {
     "name": "stdout",
     "output_type": "stream",
     "text": [
      "\n",
      "Done with 18 11\n"
     ]
    },
    {
     "data": {
      "application/vnd.jupyter.widget-view+json": {
       "model_id": "3ab499340b064b1f9cec2e0e1ae82a98",
       "version_major": 2,
       "version_minor": 0
      },
      "text/plain": [
       "HBox(children=(IntProgress(value=1, bar_style='info', max=1), HTML(value='')))"
      ]
     },
     "metadata": {},
     "output_type": "display_data"
    },
    {
     "name": "stdout",
     "output_type": "stream",
     "text": [
      "\n",
      "Done with 18 12\n"
     ]
    }
   ],
   "source": [
    "# ovo ne radi, pravi sve fajlove od po 1 KB, problem je sa restauracijom Hash mape monthly grafova\n",
    "\n",
    "buildAllMonthlyGraphsOffline()"
   ]
  },
  {
   "cell_type": "code",
   "execution_count": null,
   "metadata": {},
   "outputs": [],
   "source": [
    "def buildAllMonthlyGraphsTest(yearsToDo):\n",
    "    for year in yearsToDo:\n",
    "        for month in dataMonths2Dig:\n",
    "            buildMonthlyGraph(\"20\" + year + '-' + month + '-01')\n",
    "            \n",
    "            folderName = \"MultiGraphsForMonths\"\n",
    "            if not os.path.exists(folderName):\n",
    "                os.makedirs(folderName)\n",
    "            saveMonthlyGraphs()\n",
    "            with open(os.path.join('MultiGraphsForMonths', 'crawler.pickle'), 'wb') as file:\n",
    "                pickle.dump(rjecnikrjecnika, file)\n",
    "            print('Done with', year, month)\n",
    "            \n",
    "#buildAllMonthlyGraphsTest([\"13\", \"14\", \"15\"])\n",
    "#buildAllMonthlyGraphsTest([\"16\", \"17\", \"18\"])"
   ]
  },
  {
   "cell_type": "code",
   "execution_count": null,
   "metadata": {},
   "outputs": [],
   "source": [
    "#with open(os.path.join('MultiGraphsForMonths', 'crawler.pickle'), 'rb') as file:\n",
    "#    rjecnikrjecnika = pickle.load(file)\n",
    "#buildAllMonthlyGraphsTest([\"16\", \"17\", \"18\"])"
   ]
  },
  {
   "cell_type": "code",
   "execution_count": null,
   "metadata": {},
   "outputs": [],
   "source": []
  }
 ],
 "metadata": {
  "kernelspec": {
   "display_name": "Python 3",
   "language": "python",
   "name": "python3"
  },
  "language_info": {
   "codemirror_mode": {
    "name": "ipython",
    "version": 3
   },
   "file_extension": ".py",
   "mimetype": "text/x-python",
   "name": "python",
   "nbconvert_exporter": "python",
   "pygments_lexer": "ipython3",
   "version": "3.7.0"
  }
 },
 "nbformat": 4,
 "nbformat_minor": 2
}
