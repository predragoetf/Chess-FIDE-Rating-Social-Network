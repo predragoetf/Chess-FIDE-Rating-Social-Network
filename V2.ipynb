{
 "cells": [
  {
   "cell_type": "code",
   "execution_count": 1,
   "metadata": {},
   "outputs": [],
   "source": [
    "import networkx as nx\n",
    "from bs4 import BeautifulSoup\n",
    "import re\n",
    "import pandas as pd\n",
    "from pathlib import Path\n",
    "import matplotlib.pyplot as plt\n",
    "from tqdm import tqdm_notebook as tqdm\n",
    "import requests\n",
    "import os\n",
    "import numpy as np\n",
    "from operator import itemgetter\n",
    "import dill as pickle\n",
    "import plotly.graph_objects as go \n",
    "from collections import Counter\n",
    "import community\n",
    "import multiprocessing as mp"
   ]
  },
  {
   "cell_type": "code",
   "execution_count": 2,
   "metadata": {},
   "outputs": [
    {
     "data": {
      "text/html": [
       "<style>.container { width:95% !important; }</style>"
      ],
      "text/plain": [
       "<IPython.core.display.HTML object>"
      ]
     },
     "metadata": {},
     "output_type": "display_data"
    }
   ],
   "source": [
    "from IPython.core.display import display, HTML\n",
    "display(HTML(\"<style>.container { width:95% !important; }</style>\"))"
   ]
  },
  {
   "cell_type": "code",
   "execution_count": 10,
   "metadata": {},
   "outputs": [],
   "source": [
    "dataYears = [\"18\", \"17\", \"16\", \"15\", \"14\", \"13\"]\n",
    "dataMonths = [\"jan\", \"feb\", \"mar\", \"apr\", \"may\", \"jun\", \"jul\", \"aug\", \"sep\", \"oct\", \"nov\", \"dec\"]\n",
    "dataMonths2Dig = [\"01\", \"02\", \"03\", \"04\", \"05\", \"06\", \"07\", \"08\", \"09\", \"10\", \"11\", \"12\"]\n",
    "dataPath = Path(\"data\")\n",
    "dummyOver400Label = -1\n",
    "dummyNotGMLabel = -2\n",
    "ratingsCounterList = [] #after the data preprocessing is run, contains a list of raitings counters for players with ratings over 2400 for each month\n",
    "ratingsCounterListAll = [] #after the data preprocessing is run, contains a list of raitings counters for players with ratings over 2000 for each month\n",
    "gamesPlayedDictList = []\n",
    "allRatingsPerMonthDict = {}\n",
    "sampleIDs = {'2020009', '911925', '1503014', '4125029', '608742', '12940690', '13500767', '14105411', '2034387', '24104272'}\n",
    "\n",
    "monthlyGraphsHashMap = {} #key:date, value:networkx multigraph G for that month\n",
    "idList = [] #after the data preprocessing is run, contains a list of FIDE ids of all players that had a rating over 2400 and were active in at least one observed month. Can also be restored by calling restoreIdStaticDataMap()\n",
    "nameRatingMap = {} #after the data preprocessing is run, key: (name, rating), value:FIDE id\n",
    "idStaticDataMap = {} #after the data preprocessing is run, key: FIDE id, value: node metadata dictionary ('name': name, 'nat': nat, 'gender': gender, 'birth': birth, 'activity': activity). Can also be restored by calling restoreIdStaticDataMap() "
   ]
  },
  {
   "cell_type": "code",
   "execution_count": 11,
   "metadata": {},
   "outputs": [],
   "source": [
    "#returns a descriptor such as feb2014\n",
    "def monthDescriptiveLabel(cnt):\n",
    "    yearIndex = cnt // 12\n",
    "    monthIndex = cnt % 12\n",
    "    descriptor = dataMonths[monthIndex]+\"20\"+dataYears[::-1][yearIndex]\n",
    "    return descriptor\n",
    "\n",
    "#returns a descriptor such as 2014-02-01\n",
    "def idxToDate(cnt):\n",
    "    yearIndex = cnt // 12\n",
    "    monthIndex = cnt % 12\n",
    "    descriptor = \"20\"+dataYears[::-1][yearIndex] + \"-\" + dataMonths2Dig[monthIndex] + \"-01\"\n",
    "    return descriptor\n",
    "    \n",
    "\n",
    "#print(monthDescriptiveLabel(33))"
   ]
  },
  {
   "cell_type": "code",
   "execution_count": 12,
   "metadata": {},
   "outputs": [],
   "source": [
    "def getMonthlyGraph(date):\n",
    "    if date in monthlyGraphsHashMap.keys():\n",
    "        return monthlyGraphsHashMap[date]\n",
    "    elif os.path.exists(os.path.join(\"MultiGraphsForMonths\", date + \"-graph.gml\")):\n",
    "        G = nx.read_gml(os.path.join(\"MultiGraphsForMonths\", date + \"-graph.gml\"))\n",
    "        monthlyGraphsHashMap[date] = G\n",
    "        return G\n",
    "    else:\n",
    "        G = nx.MultiGraph()\n",
    "        for fideID in idList: #has to be run after data preprocessing because the idList has to be initialized\n",
    "            G.add_node(str(fideID))\n",
    "            \n",
    "#         G.add_node(str(dummyOver400Label))\n",
    "#         G.add_node(str(dummyNotGMLabel))\n",
    "\n",
    "        monthlyGraphsHashMap[date] = G\n",
    "        return G\n",
    "    \n",
    "def saveMonthlyGraphs():\n",
    "    for k, v in monthlyGraphsHashMap.items():\n",
    "        nx.write_gml(v, os.path.join(\"MultiGraphsForMonths\", k + \"-graph.gml\"))\n",
    "\n",
    "def restoreMonthlyGraphHashMap():\n",
    "    for year in tqdm(dataYears[::-1]):\n",
    "        for month in tqdm(dataMonths2Dig):\n",
    "            date = \"20\" + year + \"-\" + month + \"-01\"\n",
    "            getMonthlyGraph(date)\n",
    "\n",
    "def restoreIdStaticDataMap():\n",
    "    global idStaticDataMap\n",
    "    global idList\n",
    "    global nameRatingMap\n",
    "    with open(os.path.join('MultiGraphsForMonths', 'static_player_data.pickle'), 'rb') as file:\n",
    "        idStaticDataMap = pickle.load(file)\n",
    "        idList = list(idStaticDataMap.keys())\n",
    "    with open(os.path.join('MultiGraphsForMonths', 'name_rating_map.pickle'), 'rb') as file:\n",
    "        nameRatingMap = pickle.load(file)\n",
    "    \n",
    "            \n",
    "#restoreMonthlyGraphHashMap()\n",
    "#restoreIdStaticDataMap()"
   ]
  },
  {
   "cell_type": "code",
   "execution_count": 13,
   "metadata": {},
   "outputs": [
    {
     "data": {
      "application/vnd.jupyter.widget-view+json": {
       "model_id": "65590178e5a64a25bf43edd24b4cc8b0",
       "version_major": 2,
       "version_minor": 0
      },
      "text/plain": [
       "HBox(children=(IntProgress(value=0, max=151298), HTML(value='')))"
      ]
     },
     "metadata": {},
     "output_type": "display_data"
    },
    {
     "name": "stdout",
     "output_type": "stream",
     "text": [
      "\n"
     ]
    },
    {
     "data": {
      "application/vnd.jupyter.widget-view+json": {
       "model_id": "475aae937f8e4cc8b63eec778780d038",
       "version_major": 2,
       "version_minor": 0
      },
      "text/plain": [
       "HBox(children=(IntProgress(value=0, max=155099), HTML(value='')))"
      ]
     },
     "metadata": {},
     "output_type": "display_data"
    },
    {
     "name": "stdout",
     "output_type": "stream",
     "text": [
      "\n"
     ]
    },
    {
     "data": {
      "application/vnd.jupyter.widget-view+json": {
       "model_id": "1d370b5e71a24257aada2a018806448f",
       "version_major": 2,
       "version_minor": 0
      },
      "text/plain": [
       "HBox(children=(IntProgress(value=0, max=156260), HTML(value='')))"
      ]
     },
     "metadata": {},
     "output_type": "display_data"
    },
    {
     "name": "stdout",
     "output_type": "stream",
     "text": [
      "\n"
     ]
    },
    {
     "data": {
      "application/vnd.jupyter.widget-view+json": {
       "model_id": "559d4df7abff4dd8ba2e438580fb82af",
       "version_major": 2,
       "version_minor": 0
      },
      "text/plain": [
       "HBox(children=(IntProgress(value=0, max=158026), HTML(value='')))"
      ]
     },
     "metadata": {},
     "output_type": "display_data"
    },
    {
     "name": "stdout",
     "output_type": "stream",
     "text": [
      "\n"
     ]
    },
    {
     "data": {
      "application/vnd.jupyter.widget-view+json": {
       "model_id": "ab77ea47f07b4ff8a6426af4806f4d78",
       "version_major": 2,
       "version_minor": 0
      },
      "text/plain": [
       "HBox(children=(IntProgress(value=0, max=159664), HTML(value='')))"
      ]
     },
     "metadata": {},
     "output_type": "display_data"
    },
    {
     "name": "stdout",
     "output_type": "stream",
     "text": [
      "\n"
     ]
    },
    {
     "data": {
      "application/vnd.jupyter.widget-view+json": {
       "model_id": "c07f7ca9c4de427087096d41e40deb47",
       "version_major": 2,
       "version_minor": 0
      },
      "text/plain": [
       "HBox(children=(IntProgress(value=0, max=161719), HTML(value='')))"
      ]
     },
     "metadata": {},
     "output_type": "display_data"
    },
    {
     "name": "stdout",
     "output_type": "stream",
     "text": [
      "\n"
     ]
    },
    {
     "data": {
      "application/vnd.jupyter.widget-view+json": {
       "model_id": "70d39a7e8a404e77a390e468df7b5707",
       "version_major": 2,
       "version_minor": 0
      },
      "text/plain": [
       "HBox(children=(IntProgress(value=0, max=163307), HTML(value='')))"
      ]
     },
     "metadata": {},
     "output_type": "display_data"
    },
    {
     "name": "stdout",
     "output_type": "stream",
     "text": [
      "\n"
     ]
    },
    {
     "data": {
      "application/vnd.jupyter.widget-view+json": {
       "model_id": "bdb59dd4233c483cbd0a3fff423bcd10",
       "version_major": 2,
       "version_minor": 0
      },
      "text/plain": [
       "HBox(children=(IntProgress(value=0, max=164867), HTML(value='')))"
      ]
     },
     "metadata": {},
     "output_type": "display_data"
    },
    {
     "name": "stdout",
     "output_type": "stream",
     "text": [
      "\n"
     ]
    },
    {
     "data": {
      "application/vnd.jupyter.widget-view+json": {
       "model_id": "a927ae77d0f942e9b7c0f0cbeadb61f9",
       "version_major": 2,
       "version_minor": 0
      },
      "text/plain": [
       "HBox(children=(IntProgress(value=0, max=166299), HTML(value='')))"
      ]
     },
     "metadata": {},
     "output_type": "display_data"
    },
    {
     "name": "stdout",
     "output_type": "stream",
     "text": [
      "\n"
     ]
    },
    {
     "data": {
      "application/vnd.jupyter.widget-view+json": {
       "model_id": "b25a383a28e341a189242bb21b31536c",
       "version_major": 2,
       "version_minor": 0
      },
      "text/plain": [
       "HBox(children=(IntProgress(value=0, max=167686), HTML(value='')))"
      ]
     },
     "metadata": {},
     "output_type": "display_data"
    },
    {
     "name": "stdout",
     "output_type": "stream",
     "text": [
      "\n"
     ]
    },
    {
     "data": {
      "application/vnd.jupyter.widget-view+json": {
       "model_id": "3b589e05badc4cb7ae93139a3498af7c",
       "version_major": 2,
       "version_minor": 0
      },
      "text/plain": [
       "HBox(children=(IntProgress(value=0, max=169060), HTML(value='')))"
      ]
     },
     "metadata": {},
     "output_type": "display_data"
    },
    {
     "name": "stdout",
     "output_type": "stream",
     "text": [
      "\n"
     ]
    },
    {
     "data": {
      "application/vnd.jupyter.widget-view+json": {
       "model_id": "35aa73101cec43dbad63d5ee27568285",
       "version_major": 2,
       "version_minor": 0
      },
      "text/plain": [
       "HBox(children=(IntProgress(value=0, max=170238), HTML(value='')))"
      ]
     },
     "metadata": {},
     "output_type": "display_data"
    },
    {
     "name": "stdout",
     "output_type": "stream",
     "text": [
      "\n"
     ]
    },
    {
     "data": {
      "application/vnd.jupyter.widget-view+json": {
       "model_id": "588c559b3dca4080ab711285d0154bd5",
       "version_major": 2,
       "version_minor": 0
      },
      "text/plain": [
       "HBox(children=(IntProgress(value=0, max=171843), HTML(value='')))"
      ]
     },
     "metadata": {},
     "output_type": "display_data"
    },
    {
     "name": "stdout",
     "output_type": "stream",
     "text": [
      "\n"
     ]
    },
    {
     "data": {
      "application/vnd.jupyter.widget-view+json": {
       "model_id": "938a45229ff54c1d9beaf9d19cefeeca",
       "version_major": 2,
       "version_minor": 0
      },
      "text/plain": [
       "HBox(children=(IntProgress(value=0, max=173599), HTML(value='')))"
      ]
     },
     "metadata": {},
     "output_type": "display_data"
    },
    {
     "name": "stdout",
     "output_type": "stream",
     "text": [
      "\n"
     ]
    },
    {
     "data": {
      "application/vnd.jupyter.widget-view+json": {
       "model_id": "4c790008454c49ffbdae2a1924dcbcd6",
       "version_major": 2,
       "version_minor": 0
      },
      "text/plain": [
       "HBox(children=(IntProgress(value=0, max=174790), HTML(value='')))"
      ]
     },
     "metadata": {},
     "output_type": "display_data"
    },
    {
     "name": "stdout",
     "output_type": "stream",
     "text": [
      "\n"
     ]
    },
    {
     "data": {
      "application/vnd.jupyter.widget-view+json": {
       "model_id": "95b4154003df468a91690b197b361de8",
       "version_major": 2,
       "version_minor": 0
      },
      "text/plain": [
       "HBox(children=(IntProgress(value=0, max=176969), HTML(value='')))"
      ]
     },
     "metadata": {},
     "output_type": "display_data"
    },
    {
     "name": "stdout",
     "output_type": "stream",
     "text": [
      "\n"
     ]
    },
    {
     "data": {
      "application/vnd.jupyter.widget-view+json": {
       "model_id": "b948c23190c74a87a4f187f71c512e34",
       "version_major": 2,
       "version_minor": 0
      },
      "text/plain": [
       "HBox(children=(IntProgress(value=0, max=179165), HTML(value='')))"
      ]
     },
     "metadata": {},
     "output_type": "display_data"
    },
    {
     "name": "stdout",
     "output_type": "stream",
     "text": [
      "\n"
     ]
    },
    {
     "data": {
      "application/vnd.jupyter.widget-view+json": {
       "model_id": "c38baa2dcfb24f8da55691a8f9e68d5a",
       "version_major": 2,
       "version_minor": 0
      },
      "text/plain": [
       "HBox(children=(IntProgress(value=0, max=180793), HTML(value='')))"
      ]
     },
     "metadata": {},
     "output_type": "display_data"
    },
    {
     "name": "stdout",
     "output_type": "stream",
     "text": [
      "\n"
     ]
    },
    {
     "data": {
      "application/vnd.jupyter.widget-view+json": {
       "model_id": "2547dd5262eb46ef905599b588c9b001",
       "version_major": 2,
       "version_minor": 0
      },
      "text/plain": [
       "HBox(children=(IntProgress(value=0, max=182406), HTML(value='')))"
      ]
     },
     "metadata": {},
     "output_type": "display_data"
    },
    {
     "name": "stdout",
     "output_type": "stream",
     "text": [
      "\n"
     ]
    },
    {
     "data": {
      "application/vnd.jupyter.widget-view+json": {
       "model_id": "da018885ff444f6d860fcf5025f80400",
       "version_major": 2,
       "version_minor": 0
      },
      "text/plain": [
       "HBox(children=(IntProgress(value=0, max=184731), HTML(value='')))"
      ]
     },
     "metadata": {},
     "output_type": "display_data"
    },
    {
     "name": "stdout",
     "output_type": "stream",
     "text": [
      "\n"
     ]
    },
    {
     "data": {
      "application/vnd.jupyter.widget-view+json": {
       "model_id": "8b1ada118620493cb7f3704f952fc2e2",
       "version_major": 2,
       "version_minor": 0
      },
      "text/plain": [
       "HBox(children=(IntProgress(value=0, max=187499), HTML(value='')))"
      ]
     },
     "metadata": {},
     "output_type": "display_data"
    },
    {
     "name": "stdout",
     "output_type": "stream",
     "text": [
      "\n"
     ]
    },
    {
     "data": {
      "application/vnd.jupyter.widget-view+json": {
       "model_id": "28777252663145b884624d1275342129",
       "version_major": 2,
       "version_minor": 0
      },
      "text/plain": [
       "HBox(children=(IntProgress(value=0, max=189836), HTML(value='')))"
      ]
     },
     "metadata": {},
     "output_type": "display_data"
    },
    {
     "name": "stdout",
     "output_type": "stream",
     "text": [
      "\n"
     ]
    },
    {
     "data": {
      "application/vnd.jupyter.widget-view+json": {
       "model_id": "037c52bbb9ce444e994e0f47e0946a3c",
       "version_major": 2,
       "version_minor": 0
      },
      "text/plain": [
       "HBox(children=(IntProgress(value=0, max=192460), HTML(value='')))"
      ]
     },
     "metadata": {},
     "output_type": "display_data"
    },
    {
     "name": "stdout",
     "output_type": "stream",
     "text": [
      "\n"
     ]
    },
    {
     "data": {
      "application/vnd.jupyter.widget-view+json": {
       "model_id": "44d94eca07a6435886a7eb4f2282dba9",
       "version_major": 2,
       "version_minor": 0
      },
      "text/plain": [
       "HBox(children=(IntProgress(value=0, max=194791), HTML(value='')))"
      ]
     },
     "metadata": {},
     "output_type": "display_data"
    },
    {
     "name": "stdout",
     "output_type": "stream",
     "text": [
      "\n"
     ]
    },
    {
     "data": {
      "application/vnd.jupyter.widget-view+json": {
       "model_id": "ec28f9a342774111b11d130784873e68",
       "version_major": 2,
       "version_minor": 0
      },
      "text/plain": [
       "HBox(children=(IntProgress(value=0, max=197569), HTML(value='')))"
      ]
     },
     "metadata": {},
     "output_type": "display_data"
    },
    {
     "name": "stdout",
     "output_type": "stream",
     "text": [
      "\n"
     ]
    },
    {
     "data": {
      "application/vnd.jupyter.widget-view+json": {
       "model_id": "def254a11f8044e9976a591ca21b37ee",
       "version_major": 2,
       "version_minor": 0
      },
      "text/plain": [
       "HBox(children=(IntProgress(value=0, max=200034), HTML(value='')))"
      ]
     },
     "metadata": {},
     "output_type": "display_data"
    },
    {
     "name": "stdout",
     "output_type": "stream",
     "text": [
      "\n"
     ]
    },
    {
     "data": {
      "application/vnd.jupyter.widget-view+json": {
       "model_id": "339913709c9b4cfea101881dd01fb81f",
       "version_major": 2,
       "version_minor": 0
      },
      "text/plain": [
       "HBox(children=(IntProgress(value=0, max=202399), HTML(value='')))"
      ]
     },
     "metadata": {},
     "output_type": "display_data"
    },
    {
     "name": "stdout",
     "output_type": "stream",
     "text": [
      "\n"
     ]
    },
    {
     "data": {
      "application/vnd.jupyter.widget-view+json": {
       "model_id": "3ae39b6370b0494086ca7c60262ef0df",
       "version_major": 2,
       "version_minor": 0
      },
      "text/plain": [
       "HBox(children=(IntProgress(value=0, max=204903), HTML(value='')))"
      ]
     },
     "metadata": {},
     "output_type": "display_data"
    },
    {
     "name": "stdout",
     "output_type": "stream",
     "text": [
      "\n"
     ]
    },
    {
     "data": {
      "application/vnd.jupyter.widget-view+json": {
       "model_id": "65b087cb267e4e05af60ef4eb385534a",
       "version_major": 2,
       "version_minor": 0
      },
      "text/plain": [
       "HBox(children=(IntProgress(value=0, max=208664), HTML(value='')))"
      ]
     },
     "metadata": {},
     "output_type": "display_data"
    },
    {
     "name": "stdout",
     "output_type": "stream",
     "text": [
      "\n"
     ]
    },
    {
     "data": {
      "application/vnd.jupyter.widget-view+json": {
       "model_id": "87efb1004dae40c4ab48319dfd7ad5bd",
       "version_major": 2,
       "version_minor": 0
      },
      "text/plain": [
       "HBox(children=(IntProgress(value=0, max=212076), HTML(value='')))"
      ]
     },
     "metadata": {},
     "output_type": "display_data"
    },
    {
     "name": "stdout",
     "output_type": "stream",
     "text": [
      "\n"
     ]
    },
    {
     "data": {
      "application/vnd.jupyter.widget-view+json": {
       "model_id": "465fd5f24f0b4ab7bee1219003bc0d37",
       "version_major": 2,
       "version_minor": 0
      },
      "text/plain": [
       "HBox(children=(IntProgress(value=0, max=214728), HTML(value='')))"
      ]
     },
     "metadata": {},
     "output_type": "display_data"
    },
    {
     "name": "stdout",
     "output_type": "stream",
     "text": [
      "\n"
     ]
    },
    {
     "data": {
      "application/vnd.jupyter.widget-view+json": {
       "model_id": "38d0b05e74fe4582a5d74c8964def8a4",
       "version_major": 2,
       "version_minor": 0
      },
      "text/plain": [
       "HBox(children=(IntProgress(value=0, max=217662), HTML(value='')))"
      ]
     },
     "metadata": {},
     "output_type": "display_data"
    },
    {
     "name": "stdout",
     "output_type": "stream",
     "text": [
      "\n"
     ]
    },
    {
     "data": {
      "application/vnd.jupyter.widget-view+json": {
       "model_id": "10d7016f1d6a4b7581f19a15702338d0",
       "version_major": 2,
       "version_minor": 0
      },
      "text/plain": [
       "HBox(children=(IntProgress(value=0, max=220659), HTML(value='')))"
      ]
     },
     "metadata": {},
     "output_type": "display_data"
    },
    {
     "name": "stdout",
     "output_type": "stream",
     "text": [
      "\n"
     ]
    },
    {
     "data": {
      "application/vnd.jupyter.widget-view+json": {
       "model_id": "e76a5d7a16a24cb7bfc7d94f2610a914",
       "version_major": 2,
       "version_minor": 0
      },
      "text/plain": [
       "HBox(children=(IntProgress(value=0, max=222934), HTML(value='')))"
      ]
     },
     "metadata": {},
     "output_type": "display_data"
    },
    {
     "name": "stdout",
     "output_type": "stream",
     "text": [
      "\n"
     ]
    },
    {
     "data": {
      "application/vnd.jupyter.widget-view+json": {
       "model_id": "46ff4d5c6e8249b49de3bd49471d1801",
       "version_major": 2,
       "version_minor": 0
      },
      "text/plain": [
       "HBox(children=(IntProgress(value=0, max=225355), HTML(value='')))"
      ]
     },
     "metadata": {},
     "output_type": "display_data"
    },
    {
     "name": "stdout",
     "output_type": "stream",
     "text": [
      "\n"
     ]
    },
    {
     "data": {
      "application/vnd.jupyter.widget-view+json": {
       "model_id": "b68772cab5da4c4db445f3722baa4d77",
       "version_major": 2,
       "version_minor": 0
      },
      "text/plain": [
       "HBox(children=(IntProgress(value=0, max=227961), HTML(value='')))"
      ]
     },
     "metadata": {},
     "output_type": "display_data"
    },
    {
     "name": "stdout",
     "output_type": "stream",
     "text": [
      "\n"
     ]
    },
    {
     "data": {
      "application/vnd.jupyter.widget-view+json": {
       "model_id": "6a09c8e6dbdb4aaca06055c50b1363dd",
       "version_major": 2,
       "version_minor": 0
      },
      "text/plain": [
       "HBox(children=(IntProgress(value=0, max=231179), HTML(value='')))"
      ]
     },
     "metadata": {},
     "output_type": "display_data"
    },
    {
     "name": "stdout",
     "output_type": "stream",
     "text": [
      "\n"
     ]
    },
    {
     "data": {
      "application/vnd.jupyter.widget-view+json": {
       "model_id": "9e02d669d23c49619093235ca0c58b36",
       "version_major": 2,
       "version_minor": 0
      },
      "text/plain": [
       "HBox(children=(IntProgress(value=0, max=234248), HTML(value='')))"
      ]
     },
     "metadata": {},
     "output_type": "display_data"
    },
    {
     "name": "stdout",
     "output_type": "stream",
     "text": [
      "\n"
     ]
    },
    {
     "data": {
      "application/vnd.jupyter.widget-view+json": {
       "model_id": "8b6dca8f6c7e489bb0b78702a480e940",
       "version_major": 2,
       "version_minor": 0
      },
      "text/plain": [
       "HBox(children=(IntProgress(value=0, max=236971), HTML(value='')))"
      ]
     },
     "metadata": {},
     "output_type": "display_data"
    },
    {
     "name": "stdout",
     "output_type": "stream",
     "text": [
      "\n"
     ]
    },
    {
     "data": {
      "application/vnd.jupyter.widget-view+json": {
       "model_id": "486492d281194cb18811f480f1403a0b",
       "version_major": 2,
       "version_minor": 0
      },
      "text/plain": [
       "HBox(children=(IntProgress(value=0, max=240438), HTML(value='')))"
      ]
     },
     "metadata": {},
     "output_type": "display_data"
    },
    {
     "name": "stdout",
     "output_type": "stream",
     "text": [
      "\n"
     ]
    },
    {
     "data": {
      "application/vnd.jupyter.widget-view+json": {
       "model_id": "85d6e477f41f467087c1500b1a260d22",
       "version_major": 2,
       "version_minor": 0
      },
      "text/plain": [
       "HBox(children=(IntProgress(value=0, max=243221), HTML(value='')))"
      ]
     },
     "metadata": {},
     "output_type": "display_data"
    },
    {
     "name": "stdout",
     "output_type": "stream",
     "text": [
      "\n"
     ]
    },
    {
     "data": {
      "application/vnd.jupyter.widget-view+json": {
       "model_id": "4861e13f21ab4d47a12f9b690f69b7cb",
       "version_major": 2,
       "version_minor": 0
      },
      "text/plain": [
       "HBox(children=(IntProgress(value=0, max=246495), HTML(value='')))"
      ]
     },
     "metadata": {},
     "output_type": "display_data"
    },
    {
     "name": "stdout",
     "output_type": "stream",
     "text": [
      "\n"
     ]
    },
    {
     "data": {
      "application/vnd.jupyter.widget-view+json": {
       "model_id": "874a84dd003843c8ba7a4c51d1d49b14",
       "version_major": 2,
       "version_minor": 0
      },
      "text/plain": [
       "HBox(children=(IntProgress(value=0, max=248857), HTML(value='')))"
      ]
     },
     "metadata": {},
     "output_type": "display_data"
    },
    {
     "name": "stdout",
     "output_type": "stream",
     "text": [
      "\n"
     ]
    },
    {
     "data": {
      "application/vnd.jupyter.widget-view+json": {
       "model_id": "bae8c9a1b5bf4f3690432a96fd8bf240",
       "version_major": 2,
       "version_minor": 0
      },
      "text/plain": [
       "HBox(children=(IntProgress(value=0, max=251955), HTML(value='')))"
      ]
     },
     "metadata": {},
     "output_type": "display_data"
    },
    {
     "name": "stdout",
     "output_type": "stream",
     "text": [
      "\n"
     ]
    },
    {
     "data": {
      "application/vnd.jupyter.widget-view+json": {
       "model_id": "690ad4c41fc84189ae5616d15764d8d7",
       "version_major": 2,
       "version_minor": 0
      },
      "text/plain": [
       "HBox(children=(IntProgress(value=0, max=254786), HTML(value='')))"
      ]
     },
     "metadata": {},
     "output_type": "display_data"
    },
    {
     "name": "stdout",
     "output_type": "stream",
     "text": [
      "\n"
     ]
    },
    {
     "data": {
      "application/vnd.jupyter.widget-view+json": {
       "model_id": "0af3853fc6b244a5bad39425c183db2e",
       "version_major": 2,
       "version_minor": 0
      },
      "text/plain": [
       "HBox(children=(IntProgress(value=0, max=256869), HTML(value='')))"
      ]
     },
     "metadata": {},
     "output_type": "display_data"
    },
    {
     "name": "stdout",
     "output_type": "stream",
     "text": [
      "\n"
     ]
    },
    {
     "data": {
      "application/vnd.jupyter.widget-view+json": {
       "model_id": "43e941ca334a4b9b80b15545ff0490c9",
       "version_major": 2,
       "version_minor": 0
      },
      "text/plain": [
       "HBox(children=(IntProgress(value=0, max=259225), HTML(value='')))"
      ]
     },
     "metadata": {},
     "output_type": "display_data"
    },
    {
     "name": "stdout",
     "output_type": "stream",
     "text": [
      "\n"
     ]
    },
    {
     "data": {
      "application/vnd.jupyter.widget-view+json": {
       "model_id": "78a218c0ab104f17a22969f0e9d61f9a",
       "version_major": 2,
       "version_minor": 0
      },
      "text/plain": [
       "HBox(children=(IntProgress(value=0, max=261797), HTML(value='')))"
      ]
     },
     "metadata": {},
     "output_type": "display_data"
    },
    {
     "name": "stdout",
     "output_type": "stream",
     "text": [
      "\n"
     ]
    },
    {
     "data": {
      "application/vnd.jupyter.widget-view+json": {
       "model_id": "1fc925a36ac146fdb9a598c4839bb79f",
       "version_major": 2,
       "version_minor": 0
      },
      "text/plain": [
       "HBox(children=(IntProgress(value=0, max=265109), HTML(value='')))"
      ]
     },
     "metadata": {},
     "output_type": "display_data"
    },
    {
     "name": "stdout",
     "output_type": "stream",
     "text": [
      "\n"
     ]
    },
    {
     "data": {
      "application/vnd.jupyter.widget-view+json": {
       "model_id": "3f5e6d7ee43b405190582ec4b8d48078",
       "version_major": 2,
       "version_minor": 0
      },
      "text/plain": [
       "HBox(children=(IntProgress(value=0, max=268002), HTML(value='')))"
      ]
     },
     "metadata": {},
     "output_type": "display_data"
    },
    {
     "name": "stdout",
     "output_type": "stream",
     "text": [
      "\n"
     ]
    },
    {
     "data": {
      "application/vnd.jupyter.widget-view+json": {
       "model_id": "2a2eb40db2ad40ffbf1092e054b080fe",
       "version_major": 2,
       "version_minor": 0
      },
      "text/plain": [
       "HBox(children=(IntProgress(value=0, max=270269), HTML(value='')))"
      ]
     },
     "metadata": {},
     "output_type": "display_data"
    },
    {
     "name": "stdout",
     "output_type": "stream",
     "text": [
      "\n"
     ]
    },
    {
     "data": {
      "application/vnd.jupyter.widget-view+json": {
       "model_id": "00285494dddf483cb724d1af7d479a6b",
       "version_major": 2,
       "version_minor": 0
      },
      "text/plain": [
       "HBox(children=(IntProgress(value=0, max=273147), HTML(value='')))"
      ]
     },
     "metadata": {},
     "output_type": "display_data"
    },
    {
     "name": "stdout",
     "output_type": "stream",
     "text": [
      "\n"
     ]
    },
    {
     "data": {
      "application/vnd.jupyter.widget-view+json": {
       "model_id": "e34a23c7e7ff4692894afce1320348ae",
       "version_major": 2,
       "version_minor": 0
      },
      "text/plain": [
       "HBox(children=(IntProgress(value=0, max=276210), HTML(value='')))"
      ]
     },
     "metadata": {},
     "output_type": "display_data"
    },
    {
     "name": "stdout",
     "output_type": "stream",
     "text": [
      "\n"
     ]
    },
    {
     "data": {
      "application/vnd.jupyter.widget-view+json": {
       "model_id": "015f603fea4841d388b99f5ef4f3b5d9",
       "version_major": 2,
       "version_minor": 0
      },
      "text/plain": [
       "HBox(children=(IntProgress(value=0, max=278809), HTML(value='')))"
      ]
     },
     "metadata": {},
     "output_type": "display_data"
    },
    {
     "name": "stdout",
     "output_type": "stream",
     "text": [
      "\n"
     ]
    },
    {
     "data": {
      "application/vnd.jupyter.widget-view+json": {
       "model_id": "7fc8106299cf4383a8b5e697a7e3839f",
       "version_major": 2,
       "version_minor": 0
      },
      "text/plain": [
       "HBox(children=(IntProgress(value=0, max=281184), HTML(value='')))"
      ]
     },
     "metadata": {},
     "output_type": "display_data"
    },
    {
     "name": "stdout",
     "output_type": "stream",
     "text": [
      "\n"
     ]
    },
    {
     "data": {
      "application/vnd.jupyter.widget-view+json": {
       "model_id": "69087185e79d43288c71708e423e23f9",
       "version_major": 2,
       "version_minor": 0
      },
      "text/plain": [
       "HBox(children=(IntProgress(value=0, max=284262), HTML(value='')))"
      ]
     },
     "metadata": {},
     "output_type": "display_data"
    },
    {
     "name": "stdout",
     "output_type": "stream",
     "text": [
      "\n"
     ]
    },
    {
     "data": {
      "application/vnd.jupyter.widget-view+json": {
       "model_id": "adc0bf0dd5ae4c6d972d8b18d9264633",
       "version_major": 2,
       "version_minor": 0
      },
      "text/plain": [
       "HBox(children=(IntProgress(value=0, max=287003), HTML(value='')))"
      ]
     },
     "metadata": {},
     "output_type": "display_data"
    },
    {
     "name": "stdout",
     "output_type": "stream",
     "text": [
      "\n"
     ]
    },
    {
     "data": {
      "application/vnd.jupyter.widget-view+json": {
       "model_id": "5a71a7b74a0b49cf85bb067ced3365be",
       "version_major": 2,
       "version_minor": 0
      },
      "text/plain": [
       "HBox(children=(IntProgress(value=0, max=285315), HTML(value='')))"
      ]
     },
     "metadata": {},
     "output_type": "display_data"
    },
    {
     "name": "stdout",
     "output_type": "stream",
     "text": [
      "\n"
     ]
    },
    {
     "data": {
      "application/vnd.jupyter.widget-view+json": {
       "model_id": "f54dd5a117ac48808e7981978fc6e0a7",
       "version_major": 2,
       "version_minor": 0
      },
      "text/plain": [
       "HBox(children=(IntProgress(value=0, max=290914), HTML(value='')))"
      ]
     },
     "metadata": {},
     "output_type": "display_data"
    },
    {
     "name": "stdout",
     "output_type": "stream",
     "text": [
      "\n"
     ]
    },
    {
     "data": {
      "application/vnd.jupyter.widget-view+json": {
       "model_id": "a5bad39c185d4a9c873015af4f6f3d43",
       "version_major": 2,
       "version_minor": 0
      },
      "text/plain": [
       "HBox(children=(IntProgress(value=0, max=293259), HTML(value='')))"
      ]
     },
     "metadata": {},
     "output_type": "display_data"
    },
    {
     "name": "stdout",
     "output_type": "stream",
     "text": [
      "\n"
     ]
    },
    {
     "data": {
      "application/vnd.jupyter.widget-view+json": {
       "model_id": "3354393c302f4109a4e8b9a150ff6d33",
       "version_major": 2,
       "version_minor": 0
      },
      "text/plain": [
       "HBox(children=(IntProgress(value=0, max=296051), HTML(value='')))"
      ]
     },
     "metadata": {},
     "output_type": "display_data"
    },
    {
     "name": "stdout",
     "output_type": "stream",
     "text": [
      "\n"
     ]
    },
    {
     "data": {
      "application/vnd.jupyter.widget-view+json": {
       "model_id": "9e5172bcd3fd46c8a09bebf4f3539c1e",
       "version_major": 2,
       "version_minor": 0
      },
      "text/plain": [
       "HBox(children=(IntProgress(value=0, max=298691), HTML(value='')))"
      ]
     },
     "metadata": {},
     "output_type": "display_data"
    },
    {
     "name": "stdout",
     "output_type": "stream",
     "text": [
      "\n"
     ]
    },
    {
     "data": {
      "application/vnd.jupyter.widget-view+json": {
       "model_id": "dab2ffdb359845d896e40f484fc559aa",
       "version_major": 2,
       "version_minor": 0
      },
      "text/plain": [
       "HBox(children=(IntProgress(value=0, max=301074), HTML(value='')))"
      ]
     },
     "metadata": {},
     "output_type": "display_data"
    },
    {
     "name": "stdout",
     "output_type": "stream",
     "text": [
      "\n"
     ]
    },
    {
     "data": {
      "application/vnd.jupyter.widget-view+json": {
       "model_id": "03020841bdac466ca06d834968326abe",
       "version_major": 2,
       "version_minor": 0
      },
      "text/plain": [
       "HBox(children=(IntProgress(value=0, max=303507), HTML(value='')))"
      ]
     },
     "metadata": {},
     "output_type": "display_data"
    },
    {
     "name": "stdout",
     "output_type": "stream",
     "text": [
      "\n"
     ]
    },
    {
     "data": {
      "application/vnd.jupyter.widget-view+json": {
       "model_id": "81112dc2defb4800a719854c7c08119e",
       "version_major": 2,
       "version_minor": 0
      },
      "text/plain": [
       "HBox(children=(IntProgress(value=0, max=306577), HTML(value='')))"
      ]
     },
     "metadata": {},
     "output_type": "display_data"
    },
    {
     "name": "stdout",
     "output_type": "stream",
     "text": [
      "\n"
     ]
    },
    {
     "data": {
      "application/vnd.jupyter.widget-view+json": {
       "model_id": "eaaec91057224124b7bca471148768c1",
       "version_major": 2,
       "version_minor": 0
      },
      "text/plain": [
       "HBox(children=(IntProgress(value=0, max=309324), HTML(value='')))"
      ]
     },
     "metadata": {},
     "output_type": "display_data"
    },
    {
     "name": "stdout",
     "output_type": "stream",
     "text": [
      "\n"
     ]
    },
    {
     "data": {
      "application/vnd.jupyter.widget-view+json": {
       "model_id": "919d15732e9b4d3b9e4fde41230a8bc8",
       "version_major": 2,
       "version_minor": 0
      },
      "text/plain": [
       "HBox(children=(IntProgress(value=0, max=311577), HTML(value='')))"
      ]
     },
     "metadata": {},
     "output_type": "display_data"
    },
    {
     "name": "stdout",
     "output_type": "stream",
     "text": [
      "\n"
     ]
    },
    {
     "data": {
      "application/vnd.jupyter.widget-view+json": {
       "model_id": "4c96e1cb9d7447fb8bff00b41b524e90",
       "version_major": 2,
       "version_minor": 0
      },
      "text/plain": [
       "HBox(children=(IntProgress(value=0, max=314352), HTML(value='')))"
      ]
     },
     "metadata": {},
     "output_type": "display_data"
    },
    {
     "name": "stdout",
     "output_type": "stream",
     "text": [
      "\n"
     ]
    },
    {
     "data": {
      "application/vnd.jupyter.widget-view+json": {
       "model_id": "a093e4a33c4743ae9bbdb0aca046b192",
       "version_major": 2,
       "version_minor": 0
      },
      "text/plain": [
       "HBox(children=(IntProgress(value=0, max=316935), HTML(value='')))"
      ]
     },
     "metadata": {},
     "output_type": "display_data"
    },
    {
     "name": "stdout",
     "output_type": "stream",
     "text": [
      "\n"
     ]
    },
    {
     "data": {
      "application/vnd.jupyter.widget-view+json": {
       "model_id": "1dd9ca25f013402e918128c0d15b0d49",
       "version_major": 2,
       "version_minor": 0
      },
      "text/plain": [
       "HBox(children=(IntProgress(value=0, max=318269), HTML(value='')))"
      ]
     },
     "metadata": {},
     "output_type": "display_data"
    },
    {
     "name": "stdout",
     "output_type": "stream",
     "text": [
      "\n"
     ]
    },
    {
     "data": {
      "application/vnd.jupyter.widget-view+json": {
       "model_id": "a08629ce810741f0b7cb7fdf5744a65a",
       "version_major": 2,
       "version_minor": 0
      },
      "text/plain": [
       "HBox(children=(IntProgress(value=0, max=320223), HTML(value='')))"
      ]
     },
     "metadata": {},
     "output_type": "display_data"
    },
    {
     "name": "stdout",
     "output_type": "stream",
     "text": [
      "\n"
     ]
    },
    {
     "data": {
      "application/vnd.jupyter.widget-view+json": {
       "model_id": "596a7f4a733449b18ee7dba93b122846",
       "version_major": 2,
       "version_minor": 0
      },
      "text/plain": [
       "HBox(children=(IntProgress(value=0, max=322718), HTML(value='')))"
      ]
     },
     "metadata": {},
     "output_type": "display_data"
    },
    {
     "name": "stdout",
     "output_type": "stream",
     "text": [
      "\n"
     ]
    }
   ],
   "source": [
    "#from txt to csv, eliminating unnecessary data, after this piece of code is executed, the data for months is situated in aptly named folders dec13, jan14 etc.\n",
    "\n",
    "def dataPreprocessing():\n",
    "    dataMonthsRev = list(reversed(dataMonths)) # reversing the list because pre august 2016 data had a different organisation within the file\n",
    "    changeInDataset = True\n",
    "    ratingLimit = 2000\n",
    "    ratingsCounterList.clear()\n",
    "    ratingsCounterListAll.clear()\n",
    "    \n",
    "    for year in dataYears[::-1]:\n",
    "        for month in dataMonths:\n",
    "            \n",
    "            ratingsCounter = Counter()\n",
    "            ratingsCounterAll = Counter()\n",
    "            \n",
    "            folderName = month + year\n",
    "            if folderName == \"sep16\":\n",
    "                changeInDataset = False\n",
    "\n",
    "            fileName = \"standard_\" + folderName + \"frl.txt\"\n",
    "            with open(dataPath/folderName/fileName, 'r') as myfile:\n",
    "                with open(dataPath/folderName/(folderName + \".csv\"), 'w') as writeFile:\n",
    "                    people = []\n",
    "                    lines = myfile.readlines()\n",
    "                    for line in tqdm(lines):\n",
    "                        id = line[:15].strip()\n",
    "                        \n",
    "                        if id == 'ID Number': # eliminate file headers\n",
    "                            continue\n",
    "                        \n",
    "                        name = line[15:76].strip()\n",
    "                        name = name.replace(',', ';', 10) # replace all commas in name with semicolons, because comma is a delimiter in csv file\n",
    "                        \n",
    "                        nat = line[76:80].strip()\n",
    "                        gender = line[80]\n",
    "                        \n",
    "                        if changeInDataset:\n",
    "                            rating_str = line[109:115].strip()\n",
    "                        else:\n",
    "                            rating_str = line[113:118].strip()\n",
    "                        \n",
    "                        if len(rating_str) > 0:\n",
    "                            rating = int(rating_str)\n",
    "                            \n",
    "                        if changeInDataset:\n",
    "                            games_played = line[115:118].strip()\n",
    "                        else:\n",
    "                            games_played = line[119:122].strip()\n",
    "            \n",
    "#                         if len(games_played_str) > 0:\n",
    "#                             games_played = int(games_played_str)\n",
    "                        \n",
    "                        if changeInDataset:\n",
    "                            birth = line[122:126].strip()\n",
    "                        else:\n",
    "                            birth = line[126:130].strip()\n",
    "                            \n",
    "#                         if len(birth_str) > 0:\n",
    "#                             birth = int(birth_str)\n",
    "                        \n",
    "                        if changeInDataset:\n",
    "                            activity = line[128:].strip()\n",
    "                        else:\n",
    "                            activity = line[132:].strip()\n",
    "\n",
    "                        if 'i' not in activity and len(rating_str) > 0 and rating > ratingLimit: # appending every entry to a list for sorting later\n",
    "                            people.append((id, name, nat, rating_str, gender, games_played, birth, activity))\n",
    "                            if rating > 2400 and id not in idList: #qualified for insertion for the first time\n",
    "                                idList.append(id)\n",
    "                                idStaticDataMap[id] = { 'name': name, 'nat': nat, 'gender': gender, 'birth': birth, 'activity': activity }\n",
    "                                allRatingsPerMonthDict[id] = [None] * 72                    \n",
    "                                \n",
    "                            if id in idList:\n",
    "                                nameRatingMap[(name, rating_str)] = id #TODO: check if it is possible to get an error with the ovserved dataset (two players with the same name and rating)\n",
    "                            if rating > 2400:\n",
    "                                ratingsCounter[rating] += 1\n",
    "                                monthIndex = dataMonths.index(month) + 12 * dataYears.index(year)\n",
    "                                allRatingsPerMonthDict[id][monthIndex] = rating\n",
    "                            ratingsCounterAll[rating] += 1\n",
    "\n",
    "                    \n",
    "                    people.sort(key=lambda tup: int(tup[0])) # sort all people by their FIDE identification \n",
    "                    for entry in people:\n",
    "                        writeFile.write(entry[0] + \",\" + entry[1] + \",\" + entry[2] + \",\" + entry[3] + \",\" + entry[4] + \",\" + entry[5] + \",\" + entry[6] + \",\" + entry[7] + '\\n')\n",
    "\n",
    "            ratingsCounterList.append(ratingsCounter)\n",
    "            ratingsCounterListAll.append(ratingsCounterAll)\n",
    "    with open(os.path.join('MultiGraphsForMonths', 'static_player_data.pickle'), 'wb') as file:\n",
    "        pickle.dump(idStaticDataMap, file)\n",
    "    with open(os.path.join('MultiGraphsForMonths', 'name_rating_map.pickle'), 'wb') as file:\n",
    "        pickle.dump(nameRatingMap, file)\n",
    "#ratings in the constructed txt files are for the end of the month and should be used for building the next month's graph\n",
    "dataPreprocessing()"
   ]
  },
  {
   "cell_type": "code",
   "execution_count": null,
   "metadata": {},
   "outputs": [],
   "source": [
    "# plotting graphs like a madman\n",
    "\n",
    "def plotRatingDistributions(all = False):\n",
    "    fig = go.Figure()\n",
    "    i = 0\n",
    "    ratingsToIterateOver = []\n",
    "    if (all):\n",
    "        ratingsToIterateOver = ratingsCounterListAll\n",
    "    else:\n",
    "        ratingsToIterateOver = ratingsCounterList\n",
    "        \n",
    "    for rc in ratingsToIterateOver:\n",
    "        rc = sorted(rc.items(), key=itemgetter(0))\n",
    "        fig.add_trace(go.Scattergl(x = [xc for xc, _ in rc], y = [yc for _, yc in rc] ,\n",
    "                    mode='lines+markers',\n",
    "                    name=monthDescriptiveLabel(i)))\n",
    "        i = i + 1\n",
    "    fig.show() "
   ]
  },
  {
   "cell_type": "code",
   "execution_count": null,
   "metadata": {},
   "outputs": [],
   "source": [
    "plotRatingDistributions(True)"
   ]
  },
  {
   "cell_type": "code",
   "execution_count": null,
   "metadata": {},
   "outputs": [],
   "source": [
    "plotRatingDistributions(False)"
   ]
  },
  {
   "cell_type": "code",
   "execution_count": null,
   "metadata": {},
   "outputs": [],
   "source": [
    "def plotRatingsForSamplePlayers(sampleIDs):\n",
    "    fig = go.Figure()\n",
    "    for playerID in sampleIDs:\n",
    "        ratingsArray = allRatingsPerMonthDict[playerID]\n",
    "        fig.add_trace(go.Scattergl(x = [monthDescriptiveLabel(i) for i in range(72)], y = list(ratingsArray) ,\n",
    "                    mode='lines+markers',\n",
    "                    name = playerID,\n",
    "                    connectgaps=False))\n",
    "    fig.show()\n",
    "\n",
    "plotRatingsForSamplePlayers(sampleIDs)"
   ]
  },
  {
   "cell_type": "code",
   "execution_count": null,
   "metadata": {},
   "outputs": [],
   "source": [
    "def plotMatchesNumberByMonth():\n",
    "    fig = go.Figure()\n",
    "    y_list = []\n",
    "    for G in monthlyGraphsHashMap.values():\n",
    "        y_list.append(len(G.edges()))\n",
    "    fig.add_trace(go.Scattergl(x = [monthDescriptiveLabel(i) for i in range(72)], y = y_list ,\n",
    "                    mode='lines+markers',\n",
    "                    connectgaps=False))\n",
    "    fig.show()\n",
    "    \n",
    "plotMatchesNumberByMonth()\n",
    "        "
   ]
  },
  {
   "cell_type": "code",
   "execution_count": null,
   "metadata": {},
   "outputs": [],
   "source": [
    "from collections import defaultdict\n",
    "\n",
    "def plotMatchesNumberForSamplePlayers(sampleIDs):\n",
    "    fig = go.Figure()\n",
    "    \n",
    "    matchesDict = defaultdict(list)\n",
    "    #for pid in sampleIDs:\n",
    "    #    matchesDict[pid] = []\n",
    "    \n",
    "    for year in dataYears[::-1]:\n",
    "        for month in dataMonths2Dig:\n",
    "            date = \"20\" + year + \"-\" + month + \"-01\"\n",
    "            G = getMonthlyGraph(date)\n",
    "            for playerID in sampleIDs:\n",
    "                matchesNum = len(G.edges(playerID))\n",
    "                matchesDict[playerID].append(matchesNum)\n",
    "            \n",
    "        \n",
    "    for playerID in sampleIDs:\n",
    "        fig.add_trace(go.Scattergl(x = [monthDescriptiveLabel(i) for i in range(72)], y = matchesDict[playerID] ,\n",
    "                    mode='lines+markers',\n",
    "                    name = idStaticDataMap[playerID]['name'],\n",
    "                    connectgaps=False))\n",
    "    fig.show()\n",
    "    \n",
    "plotMatchesNumberForSamplePlayers(sampleIDs)"
   ]
  },
  {
   "cell_type": "code",
   "execution_count": null,
   "metadata": {},
   "outputs": [],
   "source": [
    "def buildNonIsolateNetwork(G):\n",
    "    GNonZeroDeg = nx.Graph() #graph containing only the non-zero degree subset of vertices of G and all the edges between them\n",
    "    isolateList = nx.isolates(G)\n",
    "    #print(\"Broj izolovanih: \", len(list(isolateList)))\n",
    "    #print(*list(isolateList), sep='\\n')\n",
    "    GNonZeroDeg = G.copy()\n",
    "    GNonZeroDeg.remove_nodes_from(isolateList)\n",
    "    return GNonZeroDeg\n",
    "\n",
    "''' \n",
    "    N: number of nodes, \n",
    "    M: number of links, \n",
    "    ⟨k⟩: mean degree, \n",
    "    ⟨k2⟩/⟨k⟩: heterogeneity parameter, \n",
    "    C: clustering coefficient (Newman) and \n",
    "    C WS : clustering coefficient (Watts-Strogatz), \n",
    "    r: assortativity parameter, \n",
    "    Q: modularity, \n",
    "    μ: mixing parameter and \n",
    "    N C : number of communities. \n",
    "    The values of Q, μ and N C were obtained by employing the Louvain algorithm. \n",
    "    Values between parentheses correspond to randomized networks using the double-edge swapping method. \n",
    "'''\n",
    "\n",
    "def calculateMetricsForMonth(year, month):\n",
    "    date = \"20\" + year + \"-\" + month + \"-01\"\n",
    "    G = getMonthlyGraph(date)\n",
    "    N = len(G.nodes)\n",
    "    M = len(G.edges())\n",
    "    k = 2 * M / N\n",
    "    if M==0:\n",
    "        #print(\"No matches for \"+date)\n",
    "        return  None\n",
    "    else:\n",
    "        heterogenity_parameter = sum(map(lambda y: y[1] * y[1], G.degree(G.nodes))) / (2 * M)\n",
    "        G2 = multiGraphToGraph(G)\n",
    "        C = np.mean(list(nx.clustering(G2).values()))\n",
    "        r = nx.degree_assortativity_coefficient(G2)\n",
    "        #             r['pearson'] = nx.degree_pearson_correlation_coefficient(G)\n",
    "        #Q = nx.algorithms.community.greedy_modularity_communities(G2)\n",
    "        Q1 = community.modularity(community.best_partition(G2), G2)\n",
    "        #             G3 = buildNonIsolateNetwork(G2)\n",
    "        #             Q_non_isolate = community.modularity(community.best_partition(G3), G3)\n",
    "        return (year, month, N, M, k, heterogenity_parameter, C, r, Q1)\n",
    "\n",
    "\n",
    "def calculateMetrics():\n",
    "    results = []\n",
    "    for year in dataYears[::-1]:\n",
    "        for month in dataMonths2Dig[:1]:\n",
    "            results.append(calculateMetricsForMonth(year, month))\n",
    "    return results\n",
    "\n",
    "from metrics_worker import calculateMetricsForMonth2\n",
    "            \n",
    "def calculateMetricsParallel(output):\n",
    "    processes = []\n",
    "    \n",
    "    for year in dataYears[::-1]:\n",
    "        for month in dataMonths2Dig:\n",
    "            date = \"20\" + year + \"-\" + month + \"-01\"\n",
    "            processes.append(mp.Process(target=calculateMetricsForMonth2, args=(year, month, getMonthlyGraph(date), output)))\n",
    "\n",
    "    for p in processes:\n",
    "        p.start()\n",
    "\n",
    "    # Exit the completed processes\n",
    "    for p in processes:\n",
    "        p.join()\n",
    "\n",
    "    # Get process results from the output queue\n",
    "    results = [output.get() for p in processes]\n",
    "    results = pd.DataFrame( results, columns=[\"year\", \"month\", \"N\", \"M\", \"k\", \"heter\", \"C\", \"r\", \"Q\"] )\n",
    "    return results\n",
    "            \n",
    "# calculateMetricsParallel()"
   ]
  },
  {
   "cell_type": "code",
   "execution_count": null,
   "metadata": {},
   "outputs": [],
   "source": [
    "\n",
    "print(calculateMetricsForMonth(\"15\", \"01\"))\n",
    "\n",
    "print(calculateMetricsForMonth(\"18\", \"12\"))\n",
    "\n"
   ]
  },
  {
   "cell_type": "code",
   "execution_count": null,
   "metadata": {},
   "outputs": [],
   "source": [
    "\n",
    "calculateMetrics()\n",
    "results = pd.DataFrame( results, columns=[\"year\", \"month\", \"N\", \"M\", \"k\", \"heter\", \"C\", \"r\", \"Q\"] )\n",
    "display(results)\n",
    "#calculateMetricsParallel(output)"
   ]
  },
  {
   "cell_type": "code",
   "execution_count": null,
   "metadata": {},
   "outputs": [],
   "source": [
    "output = mp.Queue()\n",
    "if __name__ == \"__main__\":\n",
    "    results = calculateMetricsParallel(output)\n",
    "    display(results)"
   ]
  },
  {
   "cell_type": "code",
   "execution_count": null,
   "metadata": {},
   "outputs": [],
   "source": [
    "def multiGraphToGraph(G):\n",
    "    G2 = nx.Graph()\n",
    "    G2.add_nodes_from(list(G))\n",
    "    \n",
    "    for u,v,data in G.edges(data=True):\n",
    "        if G2.has_edge(u,v):\n",
    "            G2[u][v]['weight'] += 1\n",
    "        else:\n",
    "            G2.add_edge(u, v, weight=1)\n",
    "\n",
    "    return G2\n",
    "\n",
    "def weightedEdgeCompose(A, B):\n",
    "    incrementalAggregate = nx.compose_all([A,B])\n",
    "    for edge in A.edges():\n",
    "        src = edge[0]\n",
    "        dst = edge[1]\n",
    "        target = list((u,v) for u,v,d in B.edges(data = True) if u == src and v == dst)\n",
    "        if len(target) > 0:\n",
    "            incrementalAggregate[src][dst]['weight']+=A[src][dst]['weight']    \n",
    "    return incrementalAggregate\n",
    "\n",
    "def composeLoop(graphs):\n",
    "    A = graphs[0]\n",
    "    for i in range(1,len(graphs)):\n",
    "        B = graphs[i]\n",
    "        A = weightedEdgeCompose(A, B)\n",
    "    return A\n",
    "\n",
    "def makeAggregation(idxList):\n",
    "    return composeLoop([multiGraphToGraph(getMonthlyGraph(idxToDate(idx))) for idx in tqdm(idxList)])\n"
   ]
  },
  {
   "cell_type": "code",
   "execution_count": null,
   "metadata": {},
   "outputs": [],
   "source": [
    "\n",
    "def plotIncrementalAggregation(idxList):\n",
    "    incrementalList = []\n",
    "    Q = []\n",
    "    fig = go.Figure()\n",
    "    \n",
    "    for idx in tqdm(idxList):\n",
    "        incrementalList.append(idx)\n",
    "        \n",
    "        a = makeAggregation(incrementalList)\n",
    "        nx.write_gml(a, \"temp-agregate-graph\" + str(idx) + \".gml\")\n",
    "        Q.append(community.modularity(community.best_partition(a), a))\n",
    "    fig.add_trace(go.Scattergl(x = [monthDescriptiveLabel(i) for i in idxList], y = Q,\n",
    "                mode='lines+markers',\n",
    "#                 name = idStaticDataMap[playerID]['name'],\n",
    "                connectgaps=False))\n",
    "    \n",
    "    fig.show()\n",
    "    \n",
    "# plotIncrementalAggregation(range(12))"
   ]
  },
  {
   "cell_type": "code",
   "execution_count": null,
   "metadata": {},
   "outputs": [],
   "source": [
    "rjecnikrjecnika = {}\n",
    "for fideID in idList:\n",
    "    rjecnikrjecnika[fideID] = {}\n",
    "#fetching matches of a particular player commited for the specified month (many of these mathes were, possibly, played several months before, howbeit, were only commited now)\n",
    "\n",
    "#id = FIDE id, date = string in yyyy-mm-01 format, returns adjacency list in form (\"surname, name\", \"FIDE rating\")\n",
    "def fetchMatches(id, date):\n",
    "    targetLink = \"https://ratings.fide.com/individual_calculations.phtml?idnumber=\"+str(id)+\"&rating_period=\"+date\n",
    "    #page = requests.get(\"https://ratings.fide.com/individual_calculations.phtml?idnumber=2020009&rating_period=2015-11-01\")\n",
    "    page = requests.get(targetLink)\n",
    "    soup = BeautifulSoup(page.content, 'html.parser')\n",
    "    adjacencyDict = {}\n",
    "\n",
    "    #fetch tournaments table \"by rope and stick\"\n",
    "    tournament_table_tbody = soup.find('tr',  {\"bgcolor\": \"#CC9966\"})\n",
    "    if tournament_table_tbody is None:\n",
    "        return None\n",
    "    tournament_table_tbody = tournament_table_tbody.parent\n",
    "    \n",
    "    rows = tournament_table_tbody.findAll(\"tr\")\n",
    "    tournament_rating = 0\n",
    "    tournament_date = ''\n",
    "    for tr in rows:\n",
    "        if tr.has_attr('bgcolor'):\n",
    "            if tr['bgcolor']==\"#CC9966\":               \n",
    "                #for each tournament get month when it started\n",
    "                tournament_date = tr.findAll('td')[3].contents[0].strip()\n",
    "                tournament_date = tournament_date[:-2]+\"01\"\n",
    "            if tr['bgcolor']==\"#e6e6e6\":\n",
    "                tournament_rating = tr.findAll(\"td\")[1].contents[0].strip()\n",
    "                \n",
    "        \n",
    "        tdList = tr.findAll(\"td\", {\"class\": \"list4\"})\n",
    "        for td in tdList:\n",
    "            if td.img:\n",
    "                img_src = td.img.get('src')\n",
    "                #print(img_src)\n",
    "                if img_src == \"/imga/clr_bl.gif\":\n",
    "                    color = \"b\"\n",
    "                else: \n",
    "                    color = \"w\"\n",
    "                td.img.decompose()\n",
    "\n",
    "                cnt = 1\n",
    "                for child in td.children:\n",
    "                #print(\"Child \", cnt, \": \", child)\n",
    "                    if cnt == 1:\n",
    "                        name = child.strip()\n",
    "                    if cnt == 4:\n",
    "                        if child.font: #if * exists in the rating\n",
    "                            rescaling = 1\n",
    "                        else:\n",
    "                            rescaling = 0\n",
    "                        rating = child.contents[0].strip()\n",
    "                    if cnt == 6:\n",
    "                        result = child.contents[0].strip()\n",
    "                    if cnt == 8:\n",
    "                        transfer = child.contents[0].strip()\n",
    "                    if cnt == 11:\n",
    "                        if tournament_date in adjacencyDict.keys():\n",
    "                            adjacencyDict[tournament_date].append((name, rating, tournament_rating, rescaling, color, result, transfer))\n",
    "                        else:\n",
    "                            adjacencyDict[tournament_date] = [(name, rating, tournament_rating, rescaling, color, result, transfer)]\n",
    "                        \n",
    "                        if rjecnikrjecnika[id].get(tournament_date) is None:\n",
    "                            rjecnikrjecnika[id][tournament_date] = [(name, rating, tournament_rating, rescaling, color, result, transfer)]\n",
    "                        else: \n",
    "                            rjecnikrjecnika[id][tournament_date].append((name, rating, tournament_rating, rescaling, color, result, transfer))\n",
    "                    cnt = cnt + 1\n",
    "    \n",
    "    return adjacencyDict\n",
    "    \n",
    "# print(fetchMatches(\"2020009\", \"2015-11-01\"))\n",
    "# print(fetchMatches(\"1401815\", \"2018-01-01\"))\n"
   ]
  },
  {
   "cell_type": "code",
   "execution_count": 14,
   "metadata": {},
   "outputs": [],
   "source": [
    "\n",
    "def existsOppositeEdge(G, fideID, opponentID, eloGain, result, color):\n",
    "    edges = G.get_edge_data(opponentID, fideID)\n",
    "#     print(edges)\n",
    "    if edges is not None:\n",
    "        for _, attr in edges.items():\n",
    "    #         print('prvi', attr['edgeSrc'] == opponentID)\n",
    "    #         print('drugi', float(attr['ratingGainWhite']) == - float(eloGain))\n",
    "    #         print('treci', float(attr['resultWhite']) == 1.0 - float(result))\n",
    "    #         print('cetvrti', ((attr['whiteLabel'] == str(opponentID) and color == 'b') or (attr['whiteLabel'] == str(fideID) and color == 'w')))\n",
    "            if attr['edgeSrc'] == opponentID and float(attr['ratingGainWhite']) == - float(eloGain) and float(attr['resultWhite']) == 1.0 - float(result) and \\\n",
    "            ((attr['whiteLabel'] == str(opponentID) and color == 'b') or (attr['whiteLabel'] == str(fideID) and color == 'w')):\n",
    "                return True\n",
    "        \n",
    "    return False  \n",
    "    \n",
    "    \n",
    "def buildMonthlyGraph(date):\n",
    "    for fideID in tqdm(idList):\n",
    "        gamesDict = fetchMatches(fideID, date)\n",
    "    \n",
    "        if gamesDict is not None:\n",
    "            for month in gamesDict:\n",
    "                G = getMonthlyGraph(month)\n",
    "                for game in gamesDict[month]:\n",
    "                    opponentName = game[0]\n",
    "                    opponentRating = game[1]\n",
    "                    opponentID = nameRatingMap.get((opponentName.replace(',', ';', 10), opponentRating))\n",
    "                    rating = game[2]\n",
    "                    diffOver400 = game[3]\n",
    "                    color = game[4]\n",
    "                    result = game[5]\n",
    "                    eloGain = game[6]\n",
    "\n",
    "                    if opponentID is None and diffOver400 == 1: # we take into consideration where \n",
    "                        continue\n",
    "#                         opponentID = dummyOver400Label\n",
    "                        \n",
    "                    if opponentID is None and diffOver400 == 0: # edges where one player has the rating 2400+ and other is below 2400, we do not take into consideration\n",
    "                        continue\n",
    "\n",
    "                    if color == 'w':\n",
    "                        if not existsOppositeEdge(G, str(fideID), str(opponentID), eloGain, result, color):\n",
    "                            G.add_edge(str(fideID), str(opponentID), ratingGainWhite = eloGain, whiteLabel = str(fideID), blackLabel = str(opponentID), resultWhite = result, edgeSrc = str(fideID))\n",
    "                    else:\n",
    "                        if not existsOppositeEdge(G, str(fideID), str(opponentID), str(-float(eloGain)), str(1.0 - float(result)), color):\n",
    "                            G.add_edge(str(fideID), str(opponentID), ratingGainWhite = str(-float(eloGain)), whiteLabel = str(opponentID), blackLabel = str(fideID), resultWhite = str(1.0 - float(result)), edgeSrc = str(fideID))\n",
    "                \n",
    "def buildMonthlyGraphOffline(date):\n",
    "    G = getMonthlyGraph(date)\n",
    "    for fideID in tqdm(idList):\n",
    "        gamesDict = rjecnikrjecnika.get(fideID).get(date)\n",
    "        \n",
    "        \n",
    "        if gamesDict is not None:         \n",
    "            for game in gamesDict:\n",
    "                opponentName = game[0]\n",
    "                opponentRating = game[1]\n",
    "                opponentID = nameRatingMap.get((opponentName.replace(',', ';', 10), opponentRating))\n",
    "                rating = game[2]\n",
    "                diffOver400 = game[3]\n",
    "                color = game[4]\n",
    "                result = game[5]\n",
    "                eloGain = game[6]\n",
    "\n",
    "                if opponentID is None and diffOver400 == 1: # we take into consideration where \n",
    "                    continue\n",
    "    #                         opponentID = dummyOver400Label\n",
    "\n",
    "                if opponentID is None and diffOver400 == 0: # edges where one player has the rating 2400+ and other is below 2400, we do not take into consideration\n",
    "                    continue\n",
    "\n",
    "                if color == 'w':\n",
    "                    if not existsOppositeEdge(G, str(fideID), str(opponentID), eloGain, result, color):\n",
    "                        G.add_edge(str(fideID), str(opponentID), ratingGainWhite = eloGain, whiteLabel = str(fideID), blackLabel = str(opponentID), resultWhite = result, edgeSrc = str(fideID))\n",
    "                else:\n",
    "                    if not existsOppositeEdge(G, str(fideID), str(opponentID), str(-float(eloGain)), str(1.0 - float(result)), color):\n",
    "                        G.add_edge(str(fideID), str(opponentID), ratingGainWhite = str(-float(eloGain)), whiteLabel = str(opponentID), blackLabel = str(fideID), resultWhite = str(1.0 - float(result)), edgeSrc = str(fideID))\n",
    "\n",
    "def buildAllMonthlyGraphs():\n",
    "    folderName = \"MultiGraphsForMonths\"\n",
    "    if not os.path.exists(folderName):\n",
    "        os.makedirs(folderName)\n",
    "    for year in dataYears[::-1]:\n",
    "        for month in dataMonths2Dig:\n",
    "            buildMonthlyGraph(\"20\" + year + '-' + month + '-01')\n",
    "            saveMonthlyGraphs()\n",
    "            with open(os.path.join('MultiGraphsForMonths', 'crawler.pickle'), 'wb') as file:\n",
    "                pickle.dump(rjecnikrjecnika, file)\n",
    "            print('Done with', year, month)\n",
    "            \n",
    "def buildAllMonthlyGraphsOffline():\n",
    "    folderName = \"MultiGraphsForMonths\"\n",
    "    if not os.path.exists(folderName):\n",
    "        os.makedirs(folderName)\n",
    "        \n",
    "    with open(os.path.join('MultiGraphsForMonths', 'crawler.pickle'), 'rb') as file:\n",
    "        global rjecnikrjecnika\n",
    "        rjecnikrjecnika = pickle.load(file)\n",
    "            \n",
    "    for year in dataYears[::-1]:\n",
    "        for month in dataMonths2Dig:\n",
    "            buildMonthlyGraphOffline(\"20\" + year + '-' + month + '-01')\n",
    "#             saveMonthlyGraphs()\n",
    "            print('Done with', year, month)\n",
    "    saveMonthlyGraphs()"
   ]
  },
  {
   "cell_type": "code",
   "execution_count": 15,
   "metadata": {},
   "outputs": [
    {
     "data": {
      "application/vnd.jupyter.widget-view+json": {
       "model_id": "19b099ba23d0466abcb15ae603d3ce9f",
       "version_major": 2,
       "version_minor": 0
      },
      "text/plain": [
       "HBox(children=(IntProgress(value=0, max=3630), HTML(value='')))"
      ]
     },
     "metadata": {},
     "output_type": "display_data"
    },
    {
     "name": "stdout",
     "output_type": "stream",
     "text": [
      "\n",
      "Done with 13 01\n"
     ]
    },
    {
     "data": {
      "application/vnd.jupyter.widget-view+json": {
       "model_id": "deb855dfbd664bde98469f851fc2e28f",
       "version_major": 2,
       "version_minor": 0
      },
      "text/plain": [
       "HBox(children=(IntProgress(value=0, max=3630), HTML(value='')))"
      ]
     },
     "metadata": {},
     "output_type": "display_data"
    },
    {
     "name": "stdout",
     "output_type": "stream",
     "text": [
      "\n",
      "Done with 13 02\n"
     ]
    },
    {
     "data": {
      "application/vnd.jupyter.widget-view+json": {
       "model_id": "18c5453940734b31b66759a5d08e3dcf",
       "version_major": 2,
       "version_minor": 0
      },
      "text/plain": [
       "HBox(children=(IntProgress(value=0, max=3630), HTML(value='')))"
      ]
     },
     "metadata": {},
     "output_type": "display_data"
    },
    {
     "name": "stdout",
     "output_type": "stream",
     "text": [
      "\n",
      "Done with 13 03\n"
     ]
    },
    {
     "data": {
      "application/vnd.jupyter.widget-view+json": {
       "model_id": "7b7914313de84c4cae2f62c924391685",
       "version_major": 2,
       "version_minor": 0
      },
      "text/plain": [
       "HBox(children=(IntProgress(value=0, max=3630), HTML(value='')))"
      ]
     },
     "metadata": {},
     "output_type": "display_data"
    },
    {
     "name": "stdout",
     "output_type": "stream",
     "text": [
      "\n",
      "Done with 13 04\n"
     ]
    },
    {
     "data": {
      "application/vnd.jupyter.widget-view+json": {
       "model_id": "812fc644576b49aa8284a48c7f37cca1",
       "version_major": 2,
       "version_minor": 0
      },
      "text/plain": [
       "HBox(children=(IntProgress(value=0, max=3630), HTML(value='')))"
      ]
     },
     "metadata": {},
     "output_type": "display_data"
    },
    {
     "name": "stdout",
     "output_type": "stream",
     "text": [
      "\n",
      "Done with 13 05\n"
     ]
    },
    {
     "data": {
      "application/vnd.jupyter.widget-view+json": {
       "model_id": "f59833efcab845c68390f4184b4908fd",
       "version_major": 2,
       "version_minor": 0
      },
      "text/plain": [
       "HBox(children=(IntProgress(value=0, max=3630), HTML(value='')))"
      ]
     },
     "metadata": {},
     "output_type": "display_data"
    },
    {
     "name": "stdout",
     "output_type": "stream",
     "text": [
      "\n",
      "Done with 13 06\n"
     ]
    },
    {
     "data": {
      "application/vnd.jupyter.widget-view+json": {
       "model_id": "38354f999245491ca00e481bbee7795a",
       "version_major": 2,
       "version_minor": 0
      },
      "text/plain": [
       "HBox(children=(IntProgress(value=0, max=3630), HTML(value='')))"
      ]
     },
     "metadata": {},
     "output_type": "display_data"
    },
    {
     "name": "stdout",
     "output_type": "stream",
     "text": [
      "\n",
      "Done with 13 07\n"
     ]
    },
    {
     "data": {
      "application/vnd.jupyter.widget-view+json": {
       "model_id": "f326dfdaf28941269326889436101167",
       "version_major": 2,
       "version_minor": 0
      },
      "text/plain": [
       "HBox(children=(IntProgress(value=0, max=3630), HTML(value='')))"
      ]
     },
     "metadata": {},
     "output_type": "display_data"
    },
    {
     "name": "stdout",
     "output_type": "stream",
     "text": [
      "\n",
      "Done with 13 08\n"
     ]
    },
    {
     "data": {
      "application/vnd.jupyter.widget-view+json": {
       "model_id": "e99849192c614c0ab796799450ea1d2c",
       "version_major": 2,
       "version_minor": 0
      },
      "text/plain": [
       "HBox(children=(IntProgress(value=0, max=3630), HTML(value='')))"
      ]
     },
     "metadata": {},
     "output_type": "display_data"
    },
    {
     "name": "stdout",
     "output_type": "stream",
     "text": [
      "\n",
      "Done with 13 09\n"
     ]
    },
    {
     "data": {
      "application/vnd.jupyter.widget-view+json": {
       "model_id": "96fcf4735d324ea78522c2f12ccc07e5",
       "version_major": 2,
       "version_minor": 0
      },
      "text/plain": [
       "HBox(children=(IntProgress(value=0, max=3630), HTML(value='')))"
      ]
     },
     "metadata": {},
     "output_type": "display_data"
    },
    {
     "name": "stdout",
     "output_type": "stream",
     "text": [
      "\n",
      "Done with 13 10\n"
     ]
    },
    {
     "data": {
      "application/vnd.jupyter.widget-view+json": {
       "model_id": "aca899c9d8bc45a7bdf6245cb47dca88",
       "version_major": 2,
       "version_minor": 0
      },
      "text/plain": [
       "HBox(children=(IntProgress(value=0, max=3630), HTML(value='')))"
      ]
     },
     "metadata": {},
     "output_type": "display_data"
    },
    {
     "name": "stdout",
     "output_type": "stream",
     "text": [
      "\n",
      "Done with 13 11\n"
     ]
    },
    {
     "data": {
      "application/vnd.jupyter.widget-view+json": {
       "model_id": "b9a25e6340c54fd8b93f24906ae36c31",
       "version_major": 2,
       "version_minor": 0
      },
      "text/plain": [
       "HBox(children=(IntProgress(value=0, max=3630), HTML(value='')))"
      ]
     },
     "metadata": {},
     "output_type": "display_data"
    },
    {
     "name": "stdout",
     "output_type": "stream",
     "text": [
      "\n",
      "Done with 13 12\n"
     ]
    },
    {
     "data": {
      "application/vnd.jupyter.widget-view+json": {
       "model_id": "d04719f444ab4d609005ea6c7fff28ae",
       "version_major": 2,
       "version_minor": 0
      },
      "text/plain": [
       "HBox(children=(IntProgress(value=0, max=3630), HTML(value='')))"
      ]
     },
     "metadata": {},
     "output_type": "display_data"
    },
    {
     "name": "stdout",
     "output_type": "stream",
     "text": [
      "\n",
      "Done with 14 01\n"
     ]
    },
    {
     "data": {
      "application/vnd.jupyter.widget-view+json": {
       "model_id": "46317f46cbf64fe78aab5133b10da2f9",
       "version_major": 2,
       "version_minor": 0
      },
      "text/plain": [
       "HBox(children=(IntProgress(value=0, max=3630), HTML(value='')))"
      ]
     },
     "metadata": {},
     "output_type": "display_data"
    },
    {
     "name": "stdout",
     "output_type": "stream",
     "text": [
      "\n",
      "Done with 14 02\n"
     ]
    },
    {
     "data": {
      "application/vnd.jupyter.widget-view+json": {
       "model_id": "6d848b99275740cb97512f96b9028de7",
       "version_major": 2,
       "version_minor": 0
      },
      "text/plain": [
       "HBox(children=(IntProgress(value=0, max=3630), HTML(value='')))"
      ]
     },
     "metadata": {},
     "output_type": "display_data"
    },
    {
     "name": "stdout",
     "output_type": "stream",
     "text": [
      "\n",
      "Done with 14 03\n"
     ]
    },
    {
     "data": {
      "application/vnd.jupyter.widget-view+json": {
       "model_id": "c7f89a5dcfa54303b48cbbafbe9875b9",
       "version_major": 2,
       "version_minor": 0
      },
      "text/plain": [
       "HBox(children=(IntProgress(value=0, max=3630), HTML(value='')))"
      ]
     },
     "metadata": {},
     "output_type": "display_data"
    },
    {
     "name": "stdout",
     "output_type": "stream",
     "text": [
      "\n",
      "Done with 14 04\n"
     ]
    },
    {
     "data": {
      "application/vnd.jupyter.widget-view+json": {
       "model_id": "d81db2e5b1074e9db185c913dc612d88",
       "version_major": 2,
       "version_minor": 0
      },
      "text/plain": [
       "HBox(children=(IntProgress(value=0, max=3630), HTML(value='')))"
      ]
     },
     "metadata": {},
     "output_type": "display_data"
    },
    {
     "name": "stdout",
     "output_type": "stream",
     "text": [
      "\n",
      "Done with 14 05\n"
     ]
    },
    {
     "data": {
      "application/vnd.jupyter.widget-view+json": {
       "model_id": "0c28284598114a90b3b9f701dab8c2ab",
       "version_major": 2,
       "version_minor": 0
      },
      "text/plain": [
       "HBox(children=(IntProgress(value=0, max=3630), HTML(value='')))"
      ]
     },
     "metadata": {},
     "output_type": "display_data"
    },
    {
     "name": "stdout",
     "output_type": "stream",
     "text": [
      "\n",
      "Done with 14 06\n"
     ]
    },
    {
     "data": {
      "application/vnd.jupyter.widget-view+json": {
       "model_id": "5935149a23e74895affd857bf99fdcff",
       "version_major": 2,
       "version_minor": 0
      },
      "text/plain": [
       "HBox(children=(IntProgress(value=0, max=3630), HTML(value='')))"
      ]
     },
     "metadata": {},
     "output_type": "display_data"
    },
    {
     "name": "stdout",
     "output_type": "stream",
     "text": [
      "\n",
      "Done with 14 07\n"
     ]
    },
    {
     "data": {
      "application/vnd.jupyter.widget-view+json": {
       "model_id": "3182ac898a244defb7a13709885326e8",
       "version_major": 2,
       "version_minor": 0
      },
      "text/plain": [
       "HBox(children=(IntProgress(value=0, max=3630), HTML(value='')))"
      ]
     },
     "metadata": {},
     "output_type": "display_data"
    },
    {
     "name": "stdout",
     "output_type": "stream",
     "text": [
      "\n",
      "Done with 14 08\n"
     ]
    },
    {
     "data": {
      "application/vnd.jupyter.widget-view+json": {
       "model_id": "c857c8eef3b147f5a673187fd4ec8419",
       "version_major": 2,
       "version_minor": 0
      },
      "text/plain": [
       "HBox(children=(IntProgress(value=0, max=3630), HTML(value='')))"
      ]
     },
     "metadata": {},
     "output_type": "display_data"
    },
    {
     "name": "stdout",
     "output_type": "stream",
     "text": [
      "\n",
      "Done with 14 09\n"
     ]
    },
    {
     "data": {
      "application/vnd.jupyter.widget-view+json": {
       "model_id": "152ae8c50275478396109d167a8ce2bf",
       "version_major": 2,
       "version_minor": 0
      },
      "text/plain": [
       "HBox(children=(IntProgress(value=0, max=3630), HTML(value='')))"
      ]
     },
     "metadata": {},
     "output_type": "display_data"
    },
    {
     "name": "stdout",
     "output_type": "stream",
     "text": [
      "\n",
      "Done with 14 10\n"
     ]
    },
    {
     "data": {
      "application/vnd.jupyter.widget-view+json": {
       "model_id": "ab0e8dd4395246a99dc7191e94c00fb0",
       "version_major": 2,
       "version_minor": 0
      },
      "text/plain": [
       "HBox(children=(IntProgress(value=0, max=3630), HTML(value='')))"
      ]
     },
     "metadata": {},
     "output_type": "display_data"
    },
    {
     "name": "stdout",
     "output_type": "stream",
     "text": [
      "\n",
      "Done with 14 11\n"
     ]
    },
    {
     "data": {
      "application/vnd.jupyter.widget-view+json": {
       "model_id": "4c7d9852c3f142998168a0f65345c903",
       "version_major": 2,
       "version_minor": 0
      },
      "text/plain": [
       "HBox(children=(IntProgress(value=0, max=3630), HTML(value='')))"
      ]
     },
     "metadata": {},
     "output_type": "display_data"
    },
    {
     "name": "stdout",
     "output_type": "stream",
     "text": [
      "\n",
      "Done with 14 12\n"
     ]
    },
    {
     "data": {
      "application/vnd.jupyter.widget-view+json": {
       "model_id": "04efd7f5d1db406b8a4911d5976fc4da",
       "version_major": 2,
       "version_minor": 0
      },
      "text/plain": [
       "HBox(children=(IntProgress(value=0, max=3630), HTML(value='')))"
      ]
     },
     "metadata": {},
     "output_type": "display_data"
    },
    {
     "name": "stdout",
     "output_type": "stream",
     "text": [
      "\n",
      "Done with 15 01\n"
     ]
    },
    {
     "data": {
      "application/vnd.jupyter.widget-view+json": {
       "model_id": "c9079d593473477783372755f36ec218",
       "version_major": 2,
       "version_minor": 0
      },
      "text/plain": [
       "HBox(children=(IntProgress(value=0, max=3630), HTML(value='')))"
      ]
     },
     "metadata": {},
     "output_type": "display_data"
    },
    {
     "name": "stdout",
     "output_type": "stream",
     "text": [
      "\n",
      "Done with 15 02\n"
     ]
    },
    {
     "data": {
      "application/vnd.jupyter.widget-view+json": {
       "model_id": "2d2f15d9b73b42c3ad94bc4b875ccc45",
       "version_major": 2,
       "version_minor": 0
      },
      "text/plain": [
       "HBox(children=(IntProgress(value=0, max=3630), HTML(value='')))"
      ]
     },
     "metadata": {},
     "output_type": "display_data"
    },
    {
     "name": "stdout",
     "output_type": "stream",
     "text": [
      "\n",
      "Done with 15 03\n"
     ]
    },
    {
     "data": {
      "application/vnd.jupyter.widget-view+json": {
       "model_id": "8f92ad5e4146442ca08f288d0702826b",
       "version_major": 2,
       "version_minor": 0
      },
      "text/plain": [
       "HBox(children=(IntProgress(value=0, max=3630), HTML(value='')))"
      ]
     },
     "metadata": {},
     "output_type": "display_data"
    },
    {
     "name": "stdout",
     "output_type": "stream",
     "text": [
      "\n",
      "Done with 15 04\n"
     ]
    },
    {
     "data": {
      "application/vnd.jupyter.widget-view+json": {
       "model_id": "39a7b48d16b944ac8e7d0fd57a2a59db",
       "version_major": 2,
       "version_minor": 0
      },
      "text/plain": [
       "HBox(children=(IntProgress(value=0, max=3630), HTML(value='')))"
      ]
     },
     "metadata": {},
     "output_type": "display_data"
    },
    {
     "name": "stdout",
     "output_type": "stream",
     "text": [
      "\n",
      "Done with 15 05\n"
     ]
    },
    {
     "data": {
      "application/vnd.jupyter.widget-view+json": {
       "model_id": "4330f5e82717439b9eea8768c0967046",
       "version_major": 2,
       "version_minor": 0
      },
      "text/plain": [
       "HBox(children=(IntProgress(value=0, max=3630), HTML(value='')))"
      ]
     },
     "metadata": {},
     "output_type": "display_data"
    },
    {
     "name": "stdout",
     "output_type": "stream",
     "text": [
      "\n",
      "Done with 15 06\n"
     ]
    },
    {
     "data": {
      "application/vnd.jupyter.widget-view+json": {
       "model_id": "61246808279043de967a86ea32ecbb0c",
       "version_major": 2,
       "version_minor": 0
      },
      "text/plain": [
       "HBox(children=(IntProgress(value=0, max=3630), HTML(value='')))"
      ]
     },
     "metadata": {},
     "output_type": "display_data"
    },
    {
     "name": "stdout",
     "output_type": "stream",
     "text": [
      "\n",
      "Done with 15 07\n"
     ]
    },
    {
     "data": {
      "application/vnd.jupyter.widget-view+json": {
       "model_id": "742737609b0749fd8b7cec47bc917e1f",
       "version_major": 2,
       "version_minor": 0
      },
      "text/plain": [
       "HBox(children=(IntProgress(value=0, max=3630), HTML(value='')))"
      ]
     },
     "metadata": {},
     "output_type": "display_data"
    },
    {
     "name": "stdout",
     "output_type": "stream",
     "text": [
      "\n",
      "Done with 15 08\n"
     ]
    },
    {
     "data": {
      "application/vnd.jupyter.widget-view+json": {
       "model_id": "7966bb44af274d0aac679d1bfd462649",
       "version_major": 2,
       "version_minor": 0
      },
      "text/plain": [
       "HBox(children=(IntProgress(value=0, max=3630), HTML(value='')))"
      ]
     },
     "metadata": {},
     "output_type": "display_data"
    },
    {
     "name": "stdout",
     "output_type": "stream",
     "text": [
      "\n",
      "Done with 15 09\n"
     ]
    },
    {
     "data": {
      "application/vnd.jupyter.widget-view+json": {
       "model_id": "b31519743bfe46e7a7d5cf7f40e21044",
       "version_major": 2,
       "version_minor": 0
      },
      "text/plain": [
       "HBox(children=(IntProgress(value=0, max=3630), HTML(value='')))"
      ]
     },
     "metadata": {},
     "output_type": "display_data"
    },
    {
     "name": "stdout",
     "output_type": "stream",
     "text": [
      "\n",
      "Done with 15 10\n"
     ]
    },
    {
     "data": {
      "application/vnd.jupyter.widget-view+json": {
       "model_id": "c863f86cae804c2e9e1e6dd5401590b9",
       "version_major": 2,
       "version_minor": 0
      },
      "text/plain": [
       "HBox(children=(IntProgress(value=0, max=3630), HTML(value='')))"
      ]
     },
     "metadata": {},
     "output_type": "display_data"
    },
    {
     "name": "stdout",
     "output_type": "stream",
     "text": [
      "\n",
      "Done with 15 11\n"
     ]
    },
    {
     "data": {
      "application/vnd.jupyter.widget-view+json": {
       "model_id": "24c436a4434e4ccaa01c4b99d2d5e8de",
       "version_major": 2,
       "version_minor": 0
      },
      "text/plain": [
       "HBox(children=(IntProgress(value=0, max=3630), HTML(value='')))"
      ]
     },
     "metadata": {},
     "output_type": "display_data"
    },
    {
     "name": "stdout",
     "output_type": "stream",
     "text": [
      "\n",
      "Done with 15 12\n"
     ]
    },
    {
     "data": {
      "application/vnd.jupyter.widget-view+json": {
       "model_id": "5e59fe51134e47a5bd92b32a1f72adc7",
       "version_major": 2,
       "version_minor": 0
      },
      "text/plain": [
       "HBox(children=(IntProgress(value=0, max=3630), HTML(value='')))"
      ]
     },
     "metadata": {},
     "output_type": "display_data"
    },
    {
     "name": "stdout",
     "output_type": "stream",
     "text": [
      "\n",
      "Done with 16 01\n"
     ]
    },
    {
     "data": {
      "application/vnd.jupyter.widget-view+json": {
       "model_id": "d83a7a4278c748ab8be7836a366ffbbe",
       "version_major": 2,
       "version_minor": 0
      },
      "text/plain": [
       "HBox(children=(IntProgress(value=0, max=3630), HTML(value='')))"
      ]
     },
     "metadata": {},
     "output_type": "display_data"
    },
    {
     "name": "stdout",
     "output_type": "stream",
     "text": [
      "\n",
      "Done with 16 02\n"
     ]
    },
    {
     "data": {
      "application/vnd.jupyter.widget-view+json": {
       "model_id": "9c5d2ee891864c248c526cbaa8e933fc",
       "version_major": 2,
       "version_minor": 0
      },
      "text/plain": [
       "HBox(children=(IntProgress(value=0, max=3630), HTML(value='')))"
      ]
     },
     "metadata": {},
     "output_type": "display_data"
    },
    {
     "name": "stdout",
     "output_type": "stream",
     "text": [
      "\n",
      "Done with 16 03\n"
     ]
    },
    {
     "data": {
      "application/vnd.jupyter.widget-view+json": {
       "model_id": "e865a935527a42f1a4a51ff41d2bc866",
       "version_major": 2,
       "version_minor": 0
      },
      "text/plain": [
       "HBox(children=(IntProgress(value=0, max=3630), HTML(value='')))"
      ]
     },
     "metadata": {},
     "output_type": "display_data"
    },
    {
     "name": "stdout",
     "output_type": "stream",
     "text": [
      "\n",
      "Done with 16 04\n"
     ]
    },
    {
     "data": {
      "application/vnd.jupyter.widget-view+json": {
       "model_id": "bd7c7c382deb404ead7579b0feb58637",
       "version_major": 2,
       "version_minor": 0
      },
      "text/plain": [
       "HBox(children=(IntProgress(value=0, max=3630), HTML(value='')))"
      ]
     },
     "metadata": {},
     "output_type": "display_data"
    },
    {
     "name": "stdout",
     "output_type": "stream",
     "text": [
      "\n",
      "Done with 16 05\n"
     ]
    },
    {
     "data": {
      "application/vnd.jupyter.widget-view+json": {
       "model_id": "b9b54539ea5a4610bd6a27223bf67888",
       "version_major": 2,
       "version_minor": 0
      },
      "text/plain": [
       "HBox(children=(IntProgress(value=0, max=3630), HTML(value='')))"
      ]
     },
     "metadata": {},
     "output_type": "display_data"
    },
    {
     "name": "stdout",
     "output_type": "stream",
     "text": [
      "\n",
      "Done with 16 06\n"
     ]
    },
    {
     "data": {
      "application/vnd.jupyter.widget-view+json": {
       "model_id": "f8e6d3f50f4a4d428f1e862097dad8e6",
       "version_major": 2,
       "version_minor": 0
      },
      "text/plain": [
       "HBox(children=(IntProgress(value=0, max=3630), HTML(value='')))"
      ]
     },
     "metadata": {},
     "output_type": "display_data"
    },
    {
     "name": "stdout",
     "output_type": "stream",
     "text": [
      "\n",
      "Done with 16 07\n"
     ]
    },
    {
     "data": {
      "application/vnd.jupyter.widget-view+json": {
       "model_id": "08585b6dd1514e28a0fa99f06ef5a9ae",
       "version_major": 2,
       "version_minor": 0
      },
      "text/plain": [
       "HBox(children=(IntProgress(value=0, max=3630), HTML(value='')))"
      ]
     },
     "metadata": {},
     "output_type": "display_data"
    },
    {
     "name": "stdout",
     "output_type": "stream",
     "text": [
      "\n",
      "Done with 16 08\n"
     ]
    },
    {
     "data": {
      "application/vnd.jupyter.widget-view+json": {
       "model_id": "f0fac056ddb54d2c9ea198ec031b5ff6",
       "version_major": 2,
       "version_minor": 0
      },
      "text/plain": [
       "HBox(children=(IntProgress(value=0, max=3630), HTML(value='')))"
      ]
     },
     "metadata": {},
     "output_type": "display_data"
    },
    {
     "name": "stdout",
     "output_type": "stream",
     "text": [
      "\n",
      "Done with 16 09\n"
     ]
    },
    {
     "data": {
      "application/vnd.jupyter.widget-view+json": {
       "model_id": "fdc4e076498c45a19365eb76cf7fef0c",
       "version_major": 2,
       "version_minor": 0
      },
      "text/plain": [
       "HBox(children=(IntProgress(value=0, max=3630), HTML(value='')))"
      ]
     },
     "metadata": {},
     "output_type": "display_data"
    },
    {
     "name": "stdout",
     "output_type": "stream",
     "text": [
      "\n",
      "Done with 16 10\n"
     ]
    },
    {
     "data": {
      "application/vnd.jupyter.widget-view+json": {
       "model_id": "0c09825ba2bd4059a1efb6e98c092d10",
       "version_major": 2,
       "version_minor": 0
      },
      "text/plain": [
       "HBox(children=(IntProgress(value=0, max=3630), HTML(value='')))"
      ]
     },
     "metadata": {},
     "output_type": "display_data"
    },
    {
     "name": "stdout",
     "output_type": "stream",
     "text": [
      "\n",
      "Done with 16 11\n"
     ]
    },
    {
     "data": {
      "application/vnd.jupyter.widget-view+json": {
       "model_id": "bdef1ac264ee4d66a57f9229c4cdb007",
       "version_major": 2,
       "version_minor": 0
      },
      "text/plain": [
       "HBox(children=(IntProgress(value=0, max=3630), HTML(value='')))"
      ]
     },
     "metadata": {},
     "output_type": "display_data"
    },
    {
     "name": "stdout",
     "output_type": "stream",
     "text": [
      "\n",
      "Done with 16 12\n"
     ]
    },
    {
     "data": {
      "application/vnd.jupyter.widget-view+json": {
       "model_id": "fda0e9c5285f4bfea7645c48f471160c",
       "version_major": 2,
       "version_minor": 0
      },
      "text/plain": [
       "HBox(children=(IntProgress(value=0, max=3630), HTML(value='')))"
      ]
     },
     "metadata": {},
     "output_type": "display_data"
    },
    {
     "name": "stdout",
     "output_type": "stream",
     "text": [
      "\n",
      "Done with 17 01\n"
     ]
    },
    {
     "data": {
      "application/vnd.jupyter.widget-view+json": {
       "model_id": "b9aac47748f74a3580b59fc7742fa227",
       "version_major": 2,
       "version_minor": 0
      },
      "text/plain": [
       "HBox(children=(IntProgress(value=0, max=3630), HTML(value='')))"
      ]
     },
     "metadata": {},
     "output_type": "display_data"
    },
    {
     "name": "stdout",
     "output_type": "stream",
     "text": [
      "\n",
      "Done with 17 02\n"
     ]
    },
    {
     "data": {
      "application/vnd.jupyter.widget-view+json": {
       "model_id": "1cf8043cc2a445d58fe7bcb49c9b6b33",
       "version_major": 2,
       "version_minor": 0
      },
      "text/plain": [
       "HBox(children=(IntProgress(value=0, max=3630), HTML(value='')))"
      ]
     },
     "metadata": {},
     "output_type": "display_data"
    },
    {
     "name": "stdout",
     "output_type": "stream",
     "text": [
      "\n",
      "Done with 17 03\n"
     ]
    },
    {
     "data": {
      "application/vnd.jupyter.widget-view+json": {
       "model_id": "fcfbd522cd94453d95c792a64c885897",
       "version_major": 2,
       "version_minor": 0
      },
      "text/plain": [
       "HBox(children=(IntProgress(value=0, max=3630), HTML(value='')))"
      ]
     },
     "metadata": {},
     "output_type": "display_data"
    },
    {
     "name": "stdout",
     "output_type": "stream",
     "text": [
      "\n",
      "Done with 17 04\n"
     ]
    },
    {
     "data": {
      "application/vnd.jupyter.widget-view+json": {
       "model_id": "86c74dcb48254b96b97dfc7a587df414",
       "version_major": 2,
       "version_minor": 0
      },
      "text/plain": [
       "HBox(children=(IntProgress(value=0, max=3630), HTML(value='')))"
      ]
     },
     "metadata": {},
     "output_type": "display_data"
    },
    {
     "name": "stdout",
     "output_type": "stream",
     "text": [
      "\n",
      "Done with 17 05\n"
     ]
    },
    {
     "data": {
      "application/vnd.jupyter.widget-view+json": {
       "model_id": "e7fe3387cfa34f04aea2364a4130b4e4",
       "version_major": 2,
       "version_minor": 0
      },
      "text/plain": [
       "HBox(children=(IntProgress(value=0, max=3630), HTML(value='')))"
      ]
     },
     "metadata": {},
     "output_type": "display_data"
    },
    {
     "name": "stdout",
     "output_type": "stream",
     "text": [
      "\n",
      "Done with 17 06\n"
     ]
    },
    {
     "data": {
      "application/vnd.jupyter.widget-view+json": {
       "model_id": "71849be23cc34acdb67e1a53a429abb0",
       "version_major": 2,
       "version_minor": 0
      },
      "text/plain": [
       "HBox(children=(IntProgress(value=0, max=3630), HTML(value='')))"
      ]
     },
     "metadata": {},
     "output_type": "display_data"
    },
    {
     "name": "stdout",
     "output_type": "stream",
     "text": [
      "\n",
      "Done with 17 07\n"
     ]
    },
    {
     "data": {
      "application/vnd.jupyter.widget-view+json": {
       "model_id": "2e25aeebc47d4674bb5171fbe7f297c4",
       "version_major": 2,
       "version_minor": 0
      },
      "text/plain": [
       "HBox(children=(IntProgress(value=0, max=3630), HTML(value='')))"
      ]
     },
     "metadata": {},
     "output_type": "display_data"
    },
    {
     "name": "stdout",
     "output_type": "stream",
     "text": [
      "\n",
      "Done with 17 08\n"
     ]
    },
    {
     "data": {
      "application/vnd.jupyter.widget-view+json": {
       "model_id": "66d46d5fe2fc42869f292796e03279a7",
       "version_major": 2,
       "version_minor": 0
      },
      "text/plain": [
       "HBox(children=(IntProgress(value=0, max=3630), HTML(value='')))"
      ]
     },
     "metadata": {},
     "output_type": "display_data"
    },
    {
     "name": "stdout",
     "output_type": "stream",
     "text": [
      "\n",
      "Done with 17 09\n"
     ]
    },
    {
     "data": {
      "application/vnd.jupyter.widget-view+json": {
       "model_id": "ee11eb845fb544dfbb9ee8bc6b5a9870",
       "version_major": 2,
       "version_minor": 0
      },
      "text/plain": [
       "HBox(children=(IntProgress(value=0, max=3630), HTML(value='')))"
      ]
     },
     "metadata": {},
     "output_type": "display_data"
    },
    {
     "name": "stdout",
     "output_type": "stream",
     "text": [
      "\n",
      "Done with 17 10\n"
     ]
    },
    {
     "data": {
      "application/vnd.jupyter.widget-view+json": {
       "model_id": "853600417c92430b9d2c63cf82133c61",
       "version_major": 2,
       "version_minor": 0
      },
      "text/plain": [
       "HBox(children=(IntProgress(value=0, max=3630), HTML(value='')))"
      ]
     },
     "metadata": {},
     "output_type": "display_data"
    },
    {
     "name": "stdout",
     "output_type": "stream",
     "text": [
      "\n",
      "Done with 17 11\n"
     ]
    },
    {
     "data": {
      "application/vnd.jupyter.widget-view+json": {
       "model_id": "3161667aadab451983b83689a26cc1d0",
       "version_major": 2,
       "version_minor": 0
      },
      "text/plain": [
       "HBox(children=(IntProgress(value=0, max=3630), HTML(value='')))"
      ]
     },
     "metadata": {},
     "output_type": "display_data"
    },
    {
     "name": "stdout",
     "output_type": "stream",
     "text": [
      "\n",
      "Done with 17 12\n"
     ]
    },
    {
     "data": {
      "application/vnd.jupyter.widget-view+json": {
       "model_id": "71a283fb843f47e688a2b4b1a3e6aeee",
       "version_major": 2,
       "version_minor": 0
      },
      "text/plain": [
       "HBox(children=(IntProgress(value=0, max=3630), HTML(value='')))"
      ]
     },
     "metadata": {},
     "output_type": "display_data"
    },
    {
     "name": "stdout",
     "output_type": "stream",
     "text": [
      "\n",
      "Done with 18 01\n"
     ]
    },
    {
     "data": {
      "application/vnd.jupyter.widget-view+json": {
       "model_id": "3eed1392c484462a8e451d2670ffc6b8",
       "version_major": 2,
       "version_minor": 0
      },
      "text/plain": [
       "HBox(children=(IntProgress(value=0, max=3630), HTML(value='')))"
      ]
     },
     "metadata": {},
     "output_type": "display_data"
    },
    {
     "name": "stdout",
     "output_type": "stream",
     "text": [
      "\n",
      "Done with 18 02\n"
     ]
    },
    {
     "data": {
      "application/vnd.jupyter.widget-view+json": {
       "model_id": "566164e265e8467abbb34d900ed64c11",
       "version_major": 2,
       "version_minor": 0
      },
      "text/plain": [
       "HBox(children=(IntProgress(value=0, max=3630), HTML(value='')))"
      ]
     },
     "metadata": {},
     "output_type": "display_data"
    },
    {
     "name": "stdout",
     "output_type": "stream",
     "text": [
      "\n",
      "Done with 18 03\n"
     ]
    },
    {
     "data": {
      "application/vnd.jupyter.widget-view+json": {
       "model_id": "8b44dc4305b84fca9cd1151005133eba",
       "version_major": 2,
       "version_minor": 0
      },
      "text/plain": [
       "HBox(children=(IntProgress(value=0, max=3630), HTML(value='')))"
      ]
     },
     "metadata": {},
     "output_type": "display_data"
    },
    {
     "name": "stdout",
     "output_type": "stream",
     "text": [
      "\n",
      "Done with 18 04\n"
     ]
    },
    {
     "data": {
      "application/vnd.jupyter.widget-view+json": {
       "model_id": "7c2a991412a1475f8405c183580d328b",
       "version_major": 2,
       "version_minor": 0
      },
      "text/plain": [
       "HBox(children=(IntProgress(value=0, max=3630), HTML(value='')))"
      ]
     },
     "metadata": {},
     "output_type": "display_data"
    },
    {
     "name": "stdout",
     "output_type": "stream",
     "text": [
      "\n",
      "Done with 18 05\n"
     ]
    },
    {
     "data": {
      "application/vnd.jupyter.widget-view+json": {
       "model_id": "87433d90d3e4413a9ba487676b8fdedd",
       "version_major": 2,
       "version_minor": 0
      },
      "text/plain": [
       "HBox(children=(IntProgress(value=0, max=3630), HTML(value='')))"
      ]
     },
     "metadata": {},
     "output_type": "display_data"
    },
    {
     "name": "stdout",
     "output_type": "stream",
     "text": [
      "\n",
      "Done with 18 06\n"
     ]
    },
    {
     "data": {
      "application/vnd.jupyter.widget-view+json": {
       "model_id": "d6747a8f53434b568808817c6c9c91f3",
       "version_major": 2,
       "version_minor": 0
      },
      "text/plain": [
       "HBox(children=(IntProgress(value=0, max=3630), HTML(value='')))"
      ]
     },
     "metadata": {},
     "output_type": "display_data"
    },
    {
     "name": "stdout",
     "output_type": "stream",
     "text": [
      "\n",
      "Done with 18 07\n"
     ]
    },
    {
     "data": {
      "application/vnd.jupyter.widget-view+json": {
       "model_id": "06cb42ce4d934c28b2696dd9dff8ca0e",
       "version_major": 2,
       "version_minor": 0
      },
      "text/plain": [
       "HBox(children=(IntProgress(value=0, max=3630), HTML(value='')))"
      ]
     },
     "metadata": {},
     "output_type": "display_data"
    },
    {
     "name": "stdout",
     "output_type": "stream",
     "text": [
      "\n",
      "Done with 18 08\n"
     ]
    },
    {
     "data": {
      "application/vnd.jupyter.widget-view+json": {
       "model_id": "69455de4f0944cdba3fa6f92ce981093",
       "version_major": 2,
       "version_minor": 0
      },
      "text/plain": [
       "HBox(children=(IntProgress(value=0, max=3630), HTML(value='')))"
      ]
     },
     "metadata": {},
     "output_type": "display_data"
    },
    {
     "name": "stdout",
     "output_type": "stream",
     "text": [
      "\n",
      "Done with 18 09\n"
     ]
    },
    {
     "data": {
      "application/vnd.jupyter.widget-view+json": {
       "model_id": "51f4966be2af458faa45de60e68ab9c3",
       "version_major": 2,
       "version_minor": 0
      },
      "text/plain": [
       "HBox(children=(IntProgress(value=0, max=3630), HTML(value='')))"
      ]
     },
     "metadata": {},
     "output_type": "display_data"
    },
    {
     "name": "stdout",
     "output_type": "stream",
     "text": [
      "\n",
      "Done with 18 10\n"
     ]
    },
    {
     "data": {
      "application/vnd.jupyter.widget-view+json": {
       "model_id": "8fedf16abbb74a40a3bbfd990b0a0db9",
       "version_major": 2,
       "version_minor": 0
      },
      "text/plain": [
       "HBox(children=(IntProgress(value=0, max=3630), HTML(value='')))"
      ]
     },
     "metadata": {},
     "output_type": "display_data"
    },
    {
     "name": "stdout",
     "output_type": "stream",
     "text": [
      "\n",
      "Done with 18 11\n"
     ]
    },
    {
     "data": {
      "application/vnd.jupyter.widget-view+json": {
       "model_id": "86910dc72b874cb3919477b8997a275b",
       "version_major": 2,
       "version_minor": 0
      },
      "text/plain": [
       "HBox(children=(IntProgress(value=0, max=3630), HTML(value='')))"
      ]
     },
     "metadata": {},
     "output_type": "display_data"
    },
    {
     "name": "stdout",
     "output_type": "stream",
     "text": [
      "\n",
      "Done with 18 12\n"
     ]
    }
   ],
   "source": [
    "# ovo ne radi, pravi sve fajlove od po 1 KB, problem je sa restauracijom Hash mape monthly grafova\n",
    "\n",
    "restoreIdStaticDataMap()\n",
    "buildAllMonthlyGraphsOffline()"
   ]
  },
  {
   "cell_type": "code",
   "execution_count": null,
   "metadata": {},
   "outputs": [],
   "source": [
    "def buildAllMonthlyGraphsTest(yearsToDo):\n",
    "    for year in yearsToDo:\n",
    "        for month in dataMonths2Dig:\n",
    "            buildMonthlyGraph(\"20\" + year + '-' + month + '-01')\n",
    "            \n",
    "            folderName = \"MultiGraphsForMonths\"\n",
    "            if not os.path.exists(folderName):\n",
    "                os.makedirs(folderName)\n",
    "            saveMonthlyGraphs()\n",
    "            with open(os.path.join('MultiGraphsForMonths', 'crawler.pickle'), 'wb') as file:\n",
    "                pickle.dump(rjecnikrjecnika, file)\n",
    "            print('Done with', year, month)\n",
    "            \n",
    "#buildAllMonthlyGraphsTest([\"13\", \"14\", \"15\"])\n",
    "#buildAllMonthlyGraphsTest([\"16\", \"17\", \"18\"])"
   ]
  },
  {
   "cell_type": "code",
   "execution_count": null,
   "metadata": {},
   "outputs": [],
   "source": [
    "#with open(os.path.join('MultiGraphsForMonths', 'crawler.pickle'), 'rb') as file:\n",
    "#    rjecnikrjecnika = pickle.load(file)\n",
    "#buildAllMonthlyGraphsTest([\"16\", \"17\", \"18\"])"
   ]
  },
  {
   "cell_type": "code",
   "execution_count": null,
   "metadata": {},
   "outputs": [],
   "source": []
  }
 ],
 "metadata": {
  "kernelspec": {
   "display_name": "Python 3",
   "language": "python",
   "name": "python3"
  },
  "language_info": {
   "codemirror_mode": {
    "name": "ipython",
    "version": 3
   },
   "file_extension": ".py",
   "mimetype": "text/x-python",
   "name": "python",
   "nbconvert_exporter": "python",
   "pygments_lexer": "ipython3",
   "version": "3.7.0"
  }
 },
 "nbformat": 4,
 "nbformat_minor": 2
}
