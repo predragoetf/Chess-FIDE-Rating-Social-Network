{
 "cells": [
  {
   "cell_type": "code",
   "execution_count": 1,
   "metadata": {},
   "outputs": [],
   "source": [
    "import networkx as nx\n",
    "from bs4 import BeautifulSoup\n",
    "import re\n",
    "import pandas as pd\n",
    "from pathlib import Path\n",
    "import matplotlib.pyplot as plt\n",
    "from tqdm import tqdm_notebook as tqdm\n",
    "import requests\n",
    "import os\n",
    "import numpy as np"
   ]
  },
  {
   "cell_type": "code",
   "execution_count": 2,
   "metadata": {},
   "outputs": [
    {
     "data": {
      "text/html": [
       "<style>.container { width:95% !important; }</style>"
      ],
      "text/plain": [
       "<IPython.core.display.HTML object>"
      ]
     },
     "metadata": {},
     "output_type": "display_data"
    }
   ],
   "source": [
    "from IPython.core.display import display, HTML\n",
    "display(HTML(\"<style>.container { width:95% !important; }</style>\"))"
   ]
  },
  {
   "cell_type": "code",
   "execution_count": 3,
   "metadata": {},
   "outputs": [],
   "source": [
    "dataYears = [\"18\", \"17\", \"16\", \"15\", \"14\", \"13\"]\n",
    "dataMonths = [\"jan\", \"feb\", \"mar\", \"apr\", \"may\", \"jun\", \"jul\", \"aug\", \"sep\", \"oct\", \"nov\", \"dec\"]\n",
    "dataMonths2Dig = [\"01\", \"02\", \"03\", \"04\", \"05\", \"06\", \"07\", \"08\", \"09\",\"10\",\"11\",\"12\"]\n",
    "dataPath = Path(\"data\")"
   ]
  },
  {
   "cell_type": "code",
   "execution_count": 4,
   "metadata": {},
   "outputs": [],
   "source": [
    "#from txt to csv, eliminating unnecessary data, after this piece of code is executed, the data for months is situated in aptly named folders dec13, jan14 etc.\n",
    "\n",
    "def dataPreprocessing():\n",
    "    dataMonthsRev = list(reversed(dataMonths)) # reversing the list because pre august 2016 data had a different organisation within the file\n",
    "    changeInDataset = False\n",
    "    ratingLimit = 2000\n",
    "\n",
    "    for year in dataYears:\n",
    "        for month in dataMonthsRev:\n",
    "            folderName = month + year\n",
    "            if folderName == \"aug16\":\n",
    "                changeInDataset = True\n",
    "\n",
    "            fileName = \"standard_\" + folderName + \"frl.txt\"\n",
    "            with open(dataPath/folderName/fileName, 'r') as myfile:\n",
    "                with open(dataPath/folderName/(folderName + \".csv\"), 'w') as writeFile:\n",
    "                    people = []\n",
    "                    lines = myfile.readlines()\n",
    "                    for line in tqdm(lines):\n",
    "                        id = line[:15].strip()\n",
    "                        \n",
    "                        if id == 'ID Number': # eliminate file headers\n",
    "                            continue\n",
    "                        \n",
    "                        name = line[15:76].strip()\n",
    "                        name = name.replace(',', ';', 10) # replace all commas in name with semicolons, because comma is a delimiter in csv file\n",
    "                        \n",
    "                        nat = line[76:80].strip()\n",
    "            #             sex = line[80]\n",
    "                        \n",
    "                        if changeInDataset:\n",
    "                            rating_str = line[109:115].strip()\n",
    "                        else:\n",
    "                            rating_str = line[113:118].strip()\n",
    "                        \n",
    "                        if len(rating_str) > 0:\n",
    "                            rating = int(rating_str)\n",
    "            #             birth = (line[152:157].strip())\n",
    "                        \n",
    "                        if changeInDataset:\n",
    "                            activity = line[132:].strip()\n",
    "                        else:\n",
    "                            activity = line[129:].strip()\n",
    "\n",
    "                        if activity.find('i') == -1 and len(rating_str) > 0 and rating > ratingLimit: # appending every entry to a list for sorting later\n",
    "                            people.append((id, name, nat, rating_str))\n",
    "                    \n",
    "                    people.sort(key=lambda tup: int(tup[0])) # sort all people by their FIDE identification \n",
    "                    for entry in people:\n",
    "                        writeFile.write(entry[0] + \",\" + entry[1] + \",\" + entry[2] + \",\" + entry[3] + '\\n')\n",
    "\n",
    "#ratings in the constructed txt files are for the end of the month and should be used for building the next month's graph\n",
    "# dataPreprocessing()"
   ]
  },
  {
   "cell_type": "code",
   "execution_count": 5,
   "metadata": {},
   "outputs": [],
   "source": [
    "\n",
    "#fetching matches of a particular player for the specified month\n",
    "\n",
    "#id = FIDE id, date = string in yyyy-mm-01 format, returns adjacency list in form (\"surname, name\", \"FIDE rating\")\n",
    "def fetchMatches(id, date):\n",
    "    targetLink = \"https://ratings.fide.com/individual_calculations.phtml?idnumber=\"+str(id)+\"&rating_period=\"+date\n",
    "    #page = requests.get(\"https://ratings.fide.com/individual_calculations.phtml?idnumber=2020009&rating_period=2015-11-01\")\n",
    "    page = requests.get(targetLink)\n",
    "    soup = BeautifulSoup(page.content, 'html.parser')\n",
    "    adjacencyList = []\n",
    "    #print(soup.prettify())\n",
    "\n",
    "    tagList = soup.findAll(\"td\", {\"class\": \"list4\"})\n",
    "    for tag in tagList:\n",
    "        if tag.img:\n",
    "            tag.img.decompose()\n",
    "        #print(\"Tag: \", tag)\n",
    "        #print(\"Children: \")\n",
    "        cnt = 1\n",
    "        for child in tag.children:\n",
    "            #print(\"Child \", cnt, \": \", child)\n",
    "            if cnt==1:\n",
    "                name = child.strip()\n",
    "            if cnt==4:\n",
    "                rating = child.contents[0].strip()\n",
    "            if cnt==11:\n",
    "                adjacencyList.append((name,rating))\n",
    "            cnt= cnt+1\n",
    "    return adjacencyList\n",
    "    \n",
    "#print(fetchMatches(2020009, \"2018-04-01\"))\n"
   ]
  },
  {
   "cell_type": "code",
   "execution_count": 6,
   "metadata": {},
   "outputs": [],
   "source": [
    "#example: for fetching for month = June 2018, use rating from the website for June 2018 and dataFrame for May 2018; rating is string. not int\n",
    "def getIdByNameAndRating(surnameNameString, rating, dataFrame): \n",
    "    dataFrameSameName = dataFrame.loc[dataFrame[1] == surnameNameString.replace(',', ';')]\n",
    "    if len(dataFrameSameName) > 0:\n",
    "        dataFrameSameNameSameRating = dataFrameSameName.loc[dataFrame[3] == int(rating)]\n",
    "        if len(dataFrameSameNameSameRating) == 1:\n",
    "            return dataFrameSameNameSameRating.iloc[0][0]\n",
    "    return -1\n",
    "\n",
    "\n",
    "def getNameById(id, dataFrame):\n",
    "    dataFrameSameId = dataFrame.loc[dataFrame[0] == id]\n",
    "    if len(dataFrameSameId) == 1:\n",
    "        return dataFrameSameId.iloc[0][1].replace(';', ',')\n",
    "    return None\n",
    "\n",
    "#print(getIdByNameAndRating('So, Wesley', 2786, df))\n",
    "#print(getNameById(5202213, df))"
   ]
  },
  {
   "cell_type": "code",
   "execution_count": 7,
   "metadata": {},
   "outputs": [],
   "source": [
    "#date: yyyy-mm-01\n",
    "def getPrevMonth(date):\n",
    "    year , month , _ = date.split(\"-\")\n",
    "    if month == '01':\n",
    "        return \"dec\"+str((int(year)-1) % 100)\n",
    "    else:\n",
    "        return [\"jan\", \"feb\", \"mar\", \"apr\", \"may\", \"jun\", \"jul\", \"aug\", \"sep\", \"oct\", \"nov\", \"dec\"][int(month)-2]+str(int(year) % 100)\n",
    "    \n",
    "#print(getPrevMonth(\"2014-01-01\"))\n",
    "#print(getPrevMonth(\"2018-02-01\"))\n",
    "        "
   ]
  },
  {
   "cell_type": "code",
   "execution_count": 8,
   "metadata": {},
   "outputs": [],
   "source": [
    "def createOrAddWeightEdge(G, u, v, w=1):\n",
    "    attr = G.get_edge_data(str(u), str(v))\n",
    "    if attr is None:\n",
    "        G.add_edge(str(u), str(v), weight=w)\n",
    "    else:\n",
    "        attr['weight'] += w\n",
    "        \n",
    "def addNamesToNodes(G, date):\n",
    "    dataFrame = pd.read_csv(Path(dataPath/ getPrevMonth(date)/ (getPrevMonth(date)+'.csv')), header=None)\n",
    "    \n",
    "    for node, data in G.nodes(data=True):\n",
    "        data['name'] = getNameById(int(node), dataFrame)\n",
    "        \n",
    "\n",
    "#id: FIDE id, date: yyyy-mm-01\n",
    "def buildEgoNetwork(egoId, date):\n",
    "    dataFrame = pd.read_csv(Path(dataPath/ getPrevMonth(date)/ (getPrevMonth(date)+'.csv')), header=None)\n",
    "    adjacencyList = fetchMatches(egoId, date)\n",
    "    G = nx.Graph()\n",
    "    #put ego\n",
    "    G.add_node(str(egoId))\n",
    "    #build main links\n",
    "    for nName, nRating in adjacencyList:\n",
    "        #add link to ego node\n",
    "        nId = getIdByNameAndRating(nName, nRating, dataFrame)\n",
    "        createOrAddWeightEdge(G, egoId, nId)\n",
    "    #add side links\n",
    "    for nName, nRating in adjacencyList:\n",
    "        #fetch neighbour's heighbours\n",
    "        nId = getIdByNameAndRating(nName, nRating, dataFrame)\n",
    "        nAdjList = fetchMatches(int(nId), date)\n",
    "        for nnName, nnRating in nAdjList:\n",
    "            #if nn is a neighbour of ego, link n and nn with an edge\n",
    "            nnId = getIdByNameAndRating(nnName, nnRating, dataFrame)\n",
    "            if (nnName, nnRating) in adjacencyList and nnId > nId:\n",
    "                createOrAddWeightEdge(G, nId, nnId)\n",
    "        \n",
    "    return G\n",
    "\n",
    "#test 1: Wesley So, September 2018\n",
    "# testGraph = buildEgoNetwork(5202213, \"2018-09-01\")\n",
    "# addNamesToNodes(testGraph, \"2018-09-01\")\n",
    "# nx.write_gml(testGraph, \"testWesleySoEgo.gml\")\n",
    "\n",
    "#test 2: Fabiano Caruana, April 2018\n",
    "# testGraph = buildEgoNetwork(2020009, \"2018-04-01\")\n",
    "# nx.write_gml(testGraph, \"testFabianoCaruana.gml\")\n",
    "\n",
    "# testGraph = buildEgoNetwork(13401319, \"2016-12-01\")\n",
    "# addNamesToNodes(testGraph, \"2016-12-01\")\n",
    "# nx.write_gml(testGraph, \"testNekiRandom.gml\")"
   ]
  },
  {
   "cell_type": "code",
   "execution_count": 9,
   "metadata": {
    "scrolled": true
   },
   "outputs": [],
   "source": [
    "\n",
    "#class ProcessingOutput:\n",
    "#    def __init__(self, dateString):\n",
    "#        self.dateString = dateString\n",
    "#        dataFrame = pd.read_csv(Path(dataPath/ getPrevMonth(date)/ (getPrevMonth(date)+'.csv')), header=None)\n",
    "#        self.G1 = nx.Graph()\n",
    "#        self.G2 = nx.Graph()\n",
    "    \n",
    "    \n",
    "\n",
    "#build the whole network graph using the csv file for the previous month and websites/links for the specified month\n",
    "# date: yyyy-mm-01\n",
    "def buildNetworkForMonth(date, cutoff):\n",
    "    dataFrame = pd.read_csv(Path(dataPath/ getPrevMonth(date)/ (getPrevMonth(date)+'.csv')), header=None)\n",
    "    \n",
    "    G = nx.Graph()\n",
    "    \n",
    "    nameRatingMap = {}  \n",
    "    \n",
    "    for _, data in dataFrame.iterrows():\n",
    "        if data[3] > cutoff:\n",
    "            G.add_node(str(data[0]), name=data[1], ratingOld=data[3], nationality=data[2])\n",
    "            nameRatingMap[(data[3], data[1])] = data[0]\n",
    "        \n",
    "#     print(nameRatingMap)\n",
    "    \n",
    "    for nodeId in tqdm(G.nodes()):\n",
    "        nodeId = int(nodeId)\n",
    "        adjList = fetchMatches(nodeId, date)\n",
    "                                                                                                    ## PROBLEM ZVEZDICE 400+ rating diff\n",
    "        \n",
    "        for nName, nRating in adjList:\n",
    "#             nId = getIdByNameAndRating(nName, nRating, dataFrame)\n",
    "            try:\n",
    "                nId = nameRatingMap[(int(nRating), nName.replace(',', ';'))]\n",
    "            except KeyError:\n",
    "                continue    \n",
    "            if nId > nodeId:\n",
    "                createOrAddWeightEdge(G, nodeId, nId)\n",
    "    # dodaj rejtinge za kao label za sve        \n",
    "      \n",
    "    \n",
    "    return G\n",
    "\n"
   ]
  },
  {
   "cell_type": "code",
   "execution_count": 10,
   "metadata": {},
   "outputs": [],
   "source": [
    "def buildNonIsolateNetwork(G):\n",
    "    GNonZeroDeg = nx.Graph() #graph containing only the non-zero degree subset of vertices of G and all the edges between them\n",
    "    isolateList = nx.isolates(G)\n",
    "    #print(\"Broj izolovanih: \", len(list(isolateList)))\n",
    "    #print(*list(isolateList), sep='\\n')\n",
    "    GNonZeroDeg = G.copy()\n",
    "    GNonZeroDeg.remove_nodes_from(isolateList)\n",
    "    return GNonZeroDeg\n"
   ]
  },
  {
   "cell_type": "code",
   "execution_count": 11,
   "metadata": {},
   "outputs": [],
   "source": [
    "\n",
    "def outputGraphFilesForMonth(date, cutoff):\n",
    "    G = buildNetworkForMonth(date, cutoff)\n",
    "    GNonZeroDeg = buildNonIsolateNetwork(G)\n",
    "    folderName = \"otp_\"+date+\"_over_\"+str(cutoff)\n",
    "    if not os.path.exists(folderName):\n",
    "        os.makedirs(folderName)\n",
    "    #make a destination folder and store created graphs in corresponding gephi files\n",
    "    nx.write_gml(G, os.path.join(folderName, \"all.gml\"))\n",
    "    nx.write_gml(GNonZeroDeg, os.path.join(folderName,\"nonIsolate.gml\"))\n",
    "    "
   ]
  },
  {
   "cell_type": "code",
   "execution_count": 12,
   "metadata": {},
   "outputs": [],
   "source": [
    "#outputGraphFilesForMonth(\"2018-04-01\", 2400)\n",
    "\n",
    "# for i in dataMonths2Dig:\n",
    "#     outputGraphFilesForMonth(\"2018-\"+i+\"-01\", 2400)\n",
    "# for i in dataMonths2Dig:\n",
    "#     outputGraphFilesForMonth(\"2017-\"+i+\"-01\", 2400)\n",
    "# for i in dataMonths2Dig:\n",
    "#     outputGraphFilesForMonth(\"2016-\"+i+\"-01\", 2400)\n",
    "# for i in dataMonths2Dig:\n",
    "#     outputGraphFilesForMonth(\"2015-\"+i+\"-01\", 2400)\n",
    "# for i in dataMonths2Dig:\n",
    "#     outputGraphFilesForMonth(\"2014-\"+i+\"-01\", 2400)\n",
    "# for i in dataMonths2Dig[1:]:\n",
    "#     outputGraphFilesForMonth(\"2013-\"+i+\"-01\", 2400)\n"
   ]
  },
  {
   "cell_type": "code",
   "execution_count": 13,
   "metadata": {},
   "outputs": [],
   "source": [
    "def rank(name, rating):\n",
    "    return getIdByNameAndRating(name, rating, dataFrame)\n",
    "\n",
    "\n",
    "#def :\n",
    "#    for n in neigbours(node):\n",
    "#        if rank(n)>rank(node):\n",
    "#            G.add_edge(str(nodeId), str(nId))"
   ]
  },
  {
   "cell_type": "code",
   "execution_count": 18,
   "metadata": {},
   "outputs": [],
   "source": [
    "def removeSmallCC(graph, order):\n",
    "    CClen = len(max((graph.subgraph(c) for c in nx.connected_components(graph)), key=len))\n",
    "    ret = []\n",
    "    \n",
    "    for comp in nx.connected_components(graph):\n",
    "        if len(comp) * order >= CClen:\n",
    "            ret.append(graph.subgraph(comp))\n",
    "            \n",
    "    return nx.compose_all(ret)\n",
    "            "
   ]
  },
  {
   "cell_type": "code",
   "execution_count": 21,
   "metadata": {},
   "outputs": [],
   "source": [
    "#args: String, int\n",
    "def makeYearGraph(year, cutoff): #TODO: ratingOld is currently nonsense, add a node attribute that counts in how many montly graphs a node appears, maybe average monthly ratings( but do they change if a player is innactive during some months?)\n",
    "    graphs = []\n",
    "    graphsNZD = []\n",
    "    #make a destination folder and store created graphs in corresponding gephi files\n",
    "    folderName = \"year_\"+year+\"_over_\"+str(cutoff)\n",
    "    if not os.path.exists(folderName):\n",
    "        os.makedirs(folderName)\n",
    "    for i in range(12):\n",
    "        dateString = year+\"-\"+dataMonths2Dig[i]+\"-01\"\n",
    "        graphs.append(buildNetworkForMonth(dateString, cutoff))\n",
    "        graphsNZD.append(buildNonIsolateNetwork(graphs[-1]))\n",
    "    aggregate = nx.compose_all(graphs)\n",
    "    for node in aggregate.nodes():\n",
    "        \n",
    "        ratingsList = []\n",
    "        for graph in graphs:\n",
    "            if node in graph:\n",
    "                monthlyRating=graph.nodes(data=True)[node]['ratingOld']\n",
    "                ratingsList.append(monthlyRating)\n",
    "        rating = np.mean(ratingsList)\n",
    "        absolute = np.max(np.absolute(ratingsList-np.mean(ratingsList)))\n",
    "        aggregate.nodes(data=True)[node]['ratingOld'] = rating\n",
    "        aggregate.nodes(data=True)[node]['cnt'] = np.shape(ratingsList)\n",
    "        aggregate.nodes(data=True)[node]['abs'] = absolute\n",
    "        aggregate.nodes(data=True)[node]['ratingLabel'] = \"{:.1f}\".format(rating)+\"+-\"+\"{:.1f}\".format(absolute)\n",
    "        \n",
    "    nx.write_gml(aggregate, os.path.join(folderName, \"all.gml\"))\n",
    "                \n",
    "    aggregate = nx.compose_all(graphsNZD)\n",
    "    for node in aggregate.nodes():\n",
    "        \n",
    "        ratingsList = []\n",
    "        for graph in graphs:\n",
    "            if node in graph:\n",
    "                monthlyRating=graph.nodes(data=True)[node]['ratingOld']\n",
    "                ratingsList.append(monthlyRating)\n",
    "        rating = np.mean(ratingsList)\n",
    "        absolute = np.max(np.absolute(ratingsList-np.mean(ratingsList)))\n",
    "        aggregate.nodes(data=True)[node]['ratingOld'] = rating\n",
    "        aggregate.nodes(data=True)[node]['cnt'] = np.shape(ratingsList)\n",
    "        aggregate.nodes(data=True)[node]['abs'] = absolute\n",
    "        aggregate.nodes(data=True)[node]['ratingLabel'] = \"{:.1f}\".format(rating)+\"+-\"+\"{:.1f}\".format(absolute)\n",
    "        \n",
    "    nx.write_gml(aggregate, os.path.join(folderName,\"nonIsolate.gml\"))\n",
    "    \n",
    "\n",
    "def makeYearGraphFromGML(year, cutoff): #TODO: ratingOld is currently nonsense, add a node attribute that counts in how many montly graphs a node appears, maybe average monthly ratings( but do they change if a player is innactive during some months?)\n",
    "    graphs = []\n",
    "    graphsNZD = []\n",
    "    #make a destination folder and store created graphs in corresponding gephi files\n",
    "    folderName = \"year_aggregate\" + os.sep + \"year_\"+year+\"_over_\"+str(cutoff)\n",
    "    if not os.path.exists(folderName):\n",
    "        os.makedirs(folderName)\n",
    "        \n",
    "    for i in range(12):\n",
    "        dateString = year + \"-\" + dataMonths2Dig[i] + \"-01\"\n",
    "        inputFolderName = \"otp_\" + dateString + \"_over_\" + str(cutoff)\n",
    "        \n",
    "        graphs.append(nx.read_gml(os.path.join(inputFolderName, \"all.gml\")))\n",
    "        graphsNZD.append(nx.read_gml(os.path.join(inputFolderName, \"nonIsolate.gml\")))\n",
    "        \n",
    "    aggregate = nx.compose_all(graphs)\n",
    "    \n",
    "    for node in tqdm(aggregate.nodes()):\n",
    "        \n",
    "        ratingsList = []\n",
    "        for graph in graphs:\n",
    "            if node in graph:\n",
    "                monthlyRating=graph.nodes(data=True)[node]['ratingOld']\n",
    "                ratingsList.append(monthlyRating)\n",
    "        rating = np.mean(ratingsList)\n",
    "        absolute = np.max(np.absolute(ratingsList-np.mean(ratingsList)))\n",
    "        aggregate.nodes(data=True)[node]['ratingOld'] = rating\n",
    "        aggregate.nodes(data=True)[node]['cnt'] = np.shape(ratingsList)\n",
    "        aggregate.nodes(data=True)[node]['abs'] = absolute\n",
    "        aggregate.nodes(data=True)[node]['ratingLabel'] = \"{:.1f}\".format(rating)+\"+-\"+\"{:.1f}\".format(absolute)\n",
    "    \n",
    "    nx.write_gml(aggregate, os.path.join(folderName, \"all.gml\"))\n",
    "                \n",
    "    aggregate = nx.compose_all(graphsNZD)\n",
    "    for node in tqdm(aggregate.nodes()):\n",
    "        \n",
    "        ratingsList = []\n",
    "        for graph in graphs:\n",
    "            if node in graph:\n",
    "                monthlyRating=graph.nodes(data=True)[node]['ratingOld']\n",
    "                ratingsList.append(monthlyRating)\n",
    "        rating = np.mean(ratingsList)\n",
    "        absolute = np.max(np.absolute(ratingsList-np.mean(ratingsList)))\n",
    "        aggregate.nodes(data=True)[node]['ratingOld'] = rating\n",
    "        aggregate.nodes(data=True)[node]['cnt'] = np.shape(ratingsList)\n",
    "        aggregate.nodes(data=True)[node]['abs'] = absolute\n",
    "        aggregate.nodes(data=True)[node]['ratingLabel'] = \"{:.1f}\".format(rating)+\"+-\"+\"{:.1f}\".format(absolute)\n",
    "        \n",
    "    aggregate = removeSmallCC(aggregate, 10)\n",
    "    nx.write_gml(aggregate, os.path.join(folderName,\"nonIsolate.gml\"))\n",
    "    "
   ]
  },
  {
   "cell_type": "code",
   "execution_count": 22,
   "metadata": {},
   "outputs": [
    {
     "data": {
      "application/vnd.jupyter.widget-view+json": {
       "model_id": "da88a8338ccc4881ae6302d16f4281c9",
       "version_major": 2,
       "version_minor": 0
      },
      "text/plain": [
       "HBox(children=(IntProgress(value=0, max=2593), HTML(value='')))"
      ]
     },
     "metadata": {},
     "output_type": "display_data"
    },
    {
     "name": "stdout",
     "output_type": "stream",
     "text": [
      "\n"
     ]
    },
    {
     "data": {
      "application/vnd.jupyter.widget-view+json": {
       "model_id": "5dd4e1c1a7a640409ba6f925016f9e02",
       "version_major": 2,
       "version_minor": 0
      },
      "text/plain": [
       "HBox(children=(IntProgress(value=0, max=2172), HTML(value='')))"
      ]
     },
     "metadata": {},
     "output_type": "display_data"
    },
    {
     "name": "stdout",
     "output_type": "stream",
     "text": [
      "\n"
     ]
    }
   ],
   "source": [
    "makeYearGraphFromGML(\"2018\", 2400)"
   ]
  },
  {
   "cell_type": "code",
   "execution_count": null,
   "metadata": {},
   "outputs": [],
   "source": [
    "print(\"\\xB1\")"
   ]
  },
  {
   "cell_type": "code",
   "execution_count": null,
   "metadata": {},
   "outputs": [],
   "source": []
  }
 ],
 "metadata": {
  "kernelspec": {
   "display_name": "Python 3",
   "language": "python",
   "name": "python3"
  },
  "language_info": {
   "codemirror_mode": {
    "name": "ipython",
    "version": 3
   },
   "file_extension": ".py",
   "mimetype": "text/x-python",
   "name": "python",
   "nbconvert_exporter": "python",
   "pygments_lexer": "ipython3",
   "version": "3.6.8"
  }
 },
 "nbformat": 4,
 "nbformat_minor": 2
}
