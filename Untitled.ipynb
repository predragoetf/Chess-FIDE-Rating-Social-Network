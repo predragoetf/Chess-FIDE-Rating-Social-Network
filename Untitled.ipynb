{
 "cells": [
  {
   "cell_type": "code",
   "execution_count": 1,
   "metadata": {},
   "outputs": [],
   "source": [
    "import networkx as nx\n",
    "from bs4 import BeautifulSoup\n",
    "import re\n",
    "import pandas as pd\n",
    "from pathlib import Path\n",
    "import matplotlib.pyplot as plt\n",
    "from tqdm import tqdm_notebook as tqdm"
   ]
  },
  {
   "cell_type": "code",
   "execution_count": 2,
   "metadata": {},
   "outputs": [
    {
     "data": {
      "text/html": [
       "<style>.container { width:95% !important; }</style>"
      ],
      "text/plain": [
       "<IPython.core.display.HTML object>"
      ]
     },
     "metadata": {},
     "output_type": "display_data"
    }
   ],
   "source": [
    "from IPython.core.display import display, HTML\n",
    "display(HTML(\"<style>.container { width:95% !important; }</style>\"))"
   ]
  },
  {
   "cell_type": "code",
   "execution_count": 3,
   "metadata": {},
   "outputs": [],
   "source": [
    "dataYears = [\"18\", \"17\", \"16\", \"15\", \"14\", \"13\"]\n",
    "dataMonths = [\"jan\", \"feb\", \"mar\", \"apr\", \"may\", \"jun\", \"jul\", \"aug\", \"sep\", \"oct\", \"dec\"]\n",
    "dataPath = Path(\"data\")"
   ]
  },
  {
   "cell_type": "code",
   "execution_count": 4,
   "metadata": {},
   "outputs": [
    {
     "name": "stdout",
     "output_type": "stream",
     "text": [
      "['dec', 'oct', 'sep', 'aug', 'jul', 'jun', 'may', 'apr', 'mar', 'feb', 'jan']\n"
     ]
    }
   ],
   "source": [
    "dataMonths = list(reversed(dataMonths))\n",
    "print(dataMonths)"
   ]
  },
  {
   "cell_type": "code",
   "execution_count": null,
   "metadata": {},
   "outputs": [],
   "source": [
    "# fileName = \"players_list_foa.txt\"\n",
    "# fileName = \"shorterlist.txt\"\n",
    "\n",
    "changeInDataset = False\n",
    "\n",
    "for year in dataYears:\n",
    "    for month in dataMonths:\n",
    "        folderName = month + year\n",
    "        if folderName == \"aug16\":\n",
    "            changeInDataset = True\n",
    "\n",
    "        fileName = \"standard_\" + folderName + \"frl.txt\"\n",
    "        with open(dataPath/folderName/fileName, 'r') as myfile:\n",
    "            with open(dataPath/folderName/(folderName + \".csv\"), 'w') as writeFile:\n",
    "                lines = myfile.readlines()\n",
    "                for line in tqdm(lines):\n",
    "                    id = line[:15].strip()\n",
    "                    if id == 'ID Number':\n",
    "                        continue\n",
    "                    name = line[15:76].strip()\n",
    "                    name = name.replace(',', ';', 10)\n",
    "                    nat = line[76:80].strip()\n",
    "        #             sex = line[80]\n",
    "                    if changeInDataset:\n",
    "                        rating_str = line[109:115].strip()\n",
    "                    else:\n",
    "                        rating_str = line[113:118].strip()\n",
    "                    if len(rating_str) > 0:\n",
    "                        rating = int(rating_str)\n",
    "        #             birth = (line[152:157].strip())\n",
    "                    if changeInDataset:\n",
    "                        activity = line[132:].strip()\n",
    "                    else:\n",
    "                        activity = line[129:].strip()\n",
    "                        \n",
    "                    if activity.find('i') == -1 and len(rating_str) > 0 and rating > 1000: \n",
    "                        writeFile.write(id + \",\" + name + \",\" + nat + \",\" + rating_str + '\\n')"
   ]
  },
  {
   "cell_type": "code",
   "execution_count": null,
   "metadata": {},
   "outputs": [],
   "source": [
    "# fileName = \"players_list_foa.txt\"\n",
    "# # fileName = \"shorterlist.txt\"\n",
    "# dataPath = Path(\"data\")\n",
    "\n",
    "# df = pd.DataFrame()\n",
    "# with open(dataPath/fileName, 'r') as myfile:\n",
    "#     lines = myfile.readlines()\n",
    "#     for line in lines:\n",
    "#         rez = re.search(\"^(?P<id>\\d+)\\s*(?P<label>[ -~]*?)\\s*?(?P<country>[A-Z]{3})\\s([M|F])[^\\d]{32}(?P<rating>\\d\\d\\d\\d)?(.*?)(\\d\\d\\d\\d)(?P<activity>[^\\d]*)$\", line)\n",
    "#         #print(\"Rezultat:\", rez)\n",
    "#         if rez:\n",
    "# #             print (rez.group('activity').strip())\n",
    "#             if rez.group('rating') and int(rez.group('rating').strip()) > 1000 and rez.group('activity').find('i') == -1:\n",
    "#                 df = df.append({\"ID\" : rez.group('id'), \"label\" : rez.group('label'), \"country\" : rez.group('country'), \"rating\" : rez.group('rating'), \"activity\" : rez.group('activity')}, ignore_index=True)\n",
    "# #                 print(\"ID:\",rez.group('id'))\n",
    "# #             print(\"label:\", rez.group('label'))\n",
    "# #             print(\"country:\", rez.group('country'))\n",
    "# #             print(\"rating:\", rez.group('rating'))\n",
    "# #             print(\"activity:\", rez.group('activity'))\n",
    "            \n",
    "\n",
    "# df.to_json('output.json')"
   ]
  },
  {
   "cell_type": "code",
   "execution_count": null,
   "metadata": {},
   "outputs": [],
   "source": [
    "# df = pd.read_json('output.json')\n",
    "# df.iloc[1]"
   ]
  },
  {
   "cell_type": "code",
   "execution_count": null,
   "metadata": {},
   "outputs": [],
   "source": [
    "# df2 = pd.DataFrame()\n",
    "# with open(dataPath/Path('jun17')/Path('standard_jun17frl.txt')) as myFile:\n",
    "#     lines = myFile.readlines()\n",
    "#     lines = lines[1:]\n",
    "#     for line in lines:\n",
    "#         id = int(line[0:line.find(' ')])\n",
    "#         if df['label'].where(df['ID'] == id)[0] != 'nan':\n",
    "#             rez = re.search(\"^(?P<id>\\d+)\\s*(?P<label>[ -~]*?)\\s*?(?P<country>[A-Z]{3})\\s([M|F])[^\\d]{32}(?P<rating>\\d\\d\\d\\d)?(.*?)(\\d\\d\\d\\d)(?P<activity>[^\\d]*)$\", line)\n",
    "#             if rez:\n",
    "#                 df2 = df2.append({\"ID\" : rez.group('id'), \"label\" : rez.group('label'), \"country\" : rez.group('country'), \"rating\" : rez.group('rating'), \"activity\" : rez.group('activity')}, ignore_index=True)"
   ]
  },
  {
   "cell_type": "code",
   "execution_count": null,
   "metadata": {},
   "outputs": [],
   "source": [
    "# df['label'].where(df['ID'] == 5716365)[1]"
   ]
  },
  {
   "cell_type": "code",
   "execution_count": 5,
   "metadata": {},
   "outputs": [],
   "source": [
    "df = pd.read_csv(Path(dataPath/'apr18'/'apr18.csv'))"
   ]
  },
  {
   "cell_type": "code",
   "execution_count": 11,
   "metadata": {},
   "outputs": [],
   "source": [
    "G = nx.Graph()"
   ]
  },
  {
   "cell_type": "code",
   "execution_count": 12,
   "metadata": {},
   "outputs": [],
   "source": [
    "for idx in range(len(df)):\n",
    "    G.add_node(str(df.iloc[idx][0]))"
   ]
  },
  {
   "cell_type": "code",
   "execution_count": 8,
   "metadata": {},
   "outputs": [
    {
     "data": {
      "text/plain": [
       "5045886"
      ]
     },
     "execution_count": 8,
     "metadata": {},
     "output_type": "execute_result"
    }
   ],
   "source": [
    "df.iloc[0][0]"
   ]
  },
  {
   "cell_type": "code",
   "execution_count": null,
   "metadata": {},
   "outputs": [],
   "source": [
    "nx.draw(G)\n",
    "plt.draw()"
   ]
  },
  {
   "cell_type": "code",
   "execution_count": 13,
   "metadata": {},
   "outputs": [],
   "source": [
    "nx.write_gml(G, \"test.gml\")"
   ]
  },
  {
   "cell_type": "code",
   "execution_count": null,
   "metadata": {},
   "outputs": [],
   "source": []
  }
 ],
 "metadata": {
  "kernelspec": {
   "display_name": "Python 3",
   "language": "python",
   "name": "python3"
  },
  "language_info": {
   "codemirror_mode": {
    "name": "ipython",
    "version": 3
   },
   "file_extension": ".py",
   "mimetype": "text/x-python",
   "name": "python",
   "nbconvert_exporter": "python",
   "pygments_lexer": "ipython3",
   "version": "3.6.5"
  }
 },
 "nbformat": 4,
 "nbformat_minor": 2
}
