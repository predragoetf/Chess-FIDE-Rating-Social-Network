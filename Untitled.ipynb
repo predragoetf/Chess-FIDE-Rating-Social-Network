{
 "cells": [
  {
   "cell_type": "code",
   "execution_count": 1,
   "metadata": {},
   "outputs": [],
   "source": [
    "import networkx as nx\n",
    "from bs4 import BeautifulSoup\n",
    "import re\n",
    "import pandas as pd\n",
    "from pathlib import Path\n",
    "import matplotlib.pyplot as plt\n",
    "from tqdm import tqdm_notebook as tqdm\n",
    "import requests\n",
    "import os\n",
    "import numpy as np\n",
    "from operator import itemgetter"
   ]
  },
  {
   "cell_type": "code",
   "execution_count": 2,
   "metadata": {},
   "outputs": [
    {
     "data": {
      "text/html": [
       "<style>.container { width:95% !important; }</style>"
      ],
      "text/plain": [
       "<IPython.core.display.HTML object>"
      ]
     },
     "metadata": {},
     "output_type": "display_data"
    }
   ],
   "source": [
    "from IPython.core.display import display, HTML\n",
    "display(HTML(\"<style>.container { width:95% !important; }</style>\"))"
   ]
  },
  {
   "cell_type": "code",
   "execution_count": 3,
   "metadata": {},
   "outputs": [],
   "source": [
    "dataYears = [\"18\", \"17\", \"16\", \"15\", \"14\", \"13\"]\n",
    "dataMonths = [\"jan\", \"feb\", \"mar\", \"apr\", \"may\", \"jun\", \"jul\", \"aug\", \"sep\", \"oct\", \"nov\", \"dec\"]\n",
    "dataMonths2Dig = [\"01\", \"02\", \"03\", \"04\", \"05\", \"06\", \"07\", \"08\", \"09\",\"10\",\"11\",\"12\"]\n",
    "dataPath = Path(\"data\")"
   ]
  },
  {
   "cell_type": "code",
   "execution_count": 6,
   "metadata": {},
   "outputs": [
    {
     "data": {
      "application/vnd.jupyter.widget-view+json": {
       "model_id": "2f86f05fde804e288a13ce987c1fb3c9",
       "version_major": 2,
       "version_minor": 0
      },
      "text/plain": [
       "HBox(children=(IntProgress(value=0, max=151298), HTML(value='')))"
      ]
     },
     "metadata": {},
     "output_type": "display_data"
    },
    {
     "name": "stdout",
     "output_type": "stream",
     "text": [
      "\n"
     ]
    },
    {
     "data": {
      "application/vnd.jupyter.widget-view+json": {
       "model_id": "b815402df4254e448bd473ab43c3a7ef",
       "version_major": 2,
       "version_minor": 0
      },
      "text/plain": [
       "HBox(children=(IntProgress(value=0, max=155099), HTML(value='')))"
      ]
     },
     "metadata": {},
     "output_type": "display_data"
    },
    {
     "name": "stdout",
     "output_type": "stream",
     "text": [
      "\n"
     ]
    },
    {
     "data": {
      "application/vnd.jupyter.widget-view+json": {
       "model_id": "c8cc5bb36dca44cbbfb1fce27403b149",
       "version_major": 2,
       "version_minor": 0
      },
      "text/plain": [
       "HBox(children=(IntProgress(value=0, max=156260), HTML(value='')))"
      ]
     },
     "metadata": {},
     "output_type": "display_data"
    },
    {
     "name": "stdout",
     "output_type": "stream",
     "text": [
      "\n"
     ]
    },
    {
     "data": {
      "application/vnd.jupyter.widget-view+json": {
       "model_id": "b1efd2eddddf4b329952c5880f12d82c",
       "version_major": 2,
       "version_minor": 0
      },
      "text/plain": [
       "HBox(children=(IntProgress(value=0, max=158026), HTML(value='')))"
      ]
     },
     "metadata": {},
     "output_type": "display_data"
    },
    {
     "name": "stdout",
     "output_type": "stream",
     "text": [
      "\n"
     ]
    },
    {
     "data": {
      "application/vnd.jupyter.widget-view+json": {
       "model_id": "8b3d131f1cd2414a9a7b3bd137869238",
       "version_major": 2,
       "version_minor": 0
      },
      "text/plain": [
       "HBox(children=(IntProgress(value=0, max=159664), HTML(value='')))"
      ]
     },
     "metadata": {},
     "output_type": "display_data"
    },
    {
     "name": "stdout",
     "output_type": "stream",
     "text": [
      "\n"
     ]
    },
    {
     "data": {
      "application/vnd.jupyter.widget-view+json": {
       "model_id": "8bb378e7ffda4a97bdb77fb0f11b0dbf",
       "version_major": 2,
       "version_minor": 0
      },
      "text/plain": [
       "HBox(children=(IntProgress(value=0, max=161719), HTML(value='')))"
      ]
     },
     "metadata": {},
     "output_type": "display_data"
    },
    {
     "name": "stdout",
     "output_type": "stream",
     "text": [
      "\n"
     ]
    },
    {
     "data": {
      "application/vnd.jupyter.widget-view+json": {
       "model_id": "4f7d1ddf846e471899f3232d16b577ea",
       "version_major": 2,
       "version_minor": 0
      },
      "text/plain": [
       "HBox(children=(IntProgress(value=0, max=163307), HTML(value='')))"
      ]
     },
     "metadata": {},
     "output_type": "display_data"
    },
    {
     "name": "stdout",
     "output_type": "stream",
     "text": [
      "\n"
     ]
    },
    {
     "data": {
      "application/vnd.jupyter.widget-view+json": {
       "model_id": "c5ce96230c9142a49d58790835f6068e",
       "version_major": 2,
       "version_minor": 0
      },
      "text/plain": [
       "HBox(children=(IntProgress(value=0, max=164867), HTML(value='')))"
      ]
     },
     "metadata": {},
     "output_type": "display_data"
    },
    {
     "name": "stdout",
     "output_type": "stream",
     "text": [
      "\n"
     ]
    },
    {
     "data": {
      "application/vnd.jupyter.widget-view+json": {
       "model_id": "6d83a7f9fc6b4115803d45007ff9edbf",
       "version_major": 2,
       "version_minor": 0
      },
      "text/plain": [
       "HBox(children=(IntProgress(value=0, max=166299), HTML(value='')))"
      ]
     },
     "metadata": {},
     "output_type": "display_data"
    },
    {
     "name": "stdout",
     "output_type": "stream",
     "text": [
      "\n"
     ]
    },
    {
     "data": {
      "application/vnd.jupyter.widget-view+json": {
       "model_id": "ace4152513d7413e8f94fe7e41d7e814",
       "version_major": 2,
       "version_minor": 0
      },
      "text/plain": [
       "HBox(children=(IntProgress(value=0, max=167686), HTML(value='')))"
      ]
     },
     "metadata": {},
     "output_type": "display_data"
    },
    {
     "name": "stdout",
     "output_type": "stream",
     "text": [
      "\n"
     ]
    },
    {
     "data": {
      "application/vnd.jupyter.widget-view+json": {
       "model_id": "71708c6b92cf44c5a544af71ccd5ed80",
       "version_major": 2,
       "version_minor": 0
      },
      "text/plain": [
       "HBox(children=(IntProgress(value=0, max=169060), HTML(value='')))"
      ]
     },
     "metadata": {},
     "output_type": "display_data"
    },
    {
     "name": "stdout",
     "output_type": "stream",
     "text": [
      "\n"
     ]
    },
    {
     "data": {
      "application/vnd.jupyter.widget-view+json": {
       "model_id": "b98aa50862894e94825adec3a6e1dc87",
       "version_major": 2,
       "version_minor": 0
      },
      "text/plain": [
       "HBox(children=(IntProgress(value=0, max=170238), HTML(value='')))"
      ]
     },
     "metadata": {},
     "output_type": "display_data"
    },
    {
     "name": "stdout",
     "output_type": "stream",
     "text": [
      "\n"
     ]
    },
    {
     "data": {
      "application/vnd.jupyter.widget-view+json": {
       "model_id": "0fc0b99a39484873826072ce6ae0eb06",
       "version_major": 2,
       "version_minor": 0
      },
      "text/plain": [
       "HBox(children=(IntProgress(value=0, max=171843), HTML(value='')))"
      ]
     },
     "metadata": {},
     "output_type": "display_data"
    },
    {
     "name": "stdout",
     "output_type": "stream",
     "text": [
      "\n"
     ]
    },
    {
     "data": {
      "application/vnd.jupyter.widget-view+json": {
       "model_id": "736e9a3b5ece49098566ff4144a5892d",
       "version_major": 2,
       "version_minor": 0
      },
      "text/plain": [
       "HBox(children=(IntProgress(value=0, max=173599), HTML(value='')))"
      ]
     },
     "metadata": {},
     "output_type": "display_data"
    },
    {
     "name": "stdout",
     "output_type": "stream",
     "text": [
      "\n"
     ]
    },
    {
     "data": {
      "application/vnd.jupyter.widget-view+json": {
       "model_id": "990acc6aab4f403c98ba2a21e290dde6",
       "version_major": 2,
       "version_minor": 0
      },
      "text/plain": [
       "HBox(children=(IntProgress(value=0, max=174790), HTML(value='')))"
      ]
     },
     "metadata": {},
     "output_type": "display_data"
    },
    {
     "name": "stdout",
     "output_type": "stream",
     "text": [
      "\n"
     ]
    },
    {
     "data": {
      "application/vnd.jupyter.widget-view+json": {
       "model_id": "7f1376f112d14bd5ad0171bbdd00ca37",
       "version_major": 2,
       "version_minor": 0
      },
      "text/plain": [
       "HBox(children=(IntProgress(value=0, max=176969), HTML(value='')))"
      ]
     },
     "metadata": {},
     "output_type": "display_data"
    },
    {
     "name": "stdout",
     "output_type": "stream",
     "text": [
      "\n"
     ]
    },
    {
     "data": {
      "application/vnd.jupyter.widget-view+json": {
       "model_id": "8a903720cdc5452c94c2f60d9097749b",
       "version_major": 2,
       "version_minor": 0
      },
      "text/plain": [
       "HBox(children=(IntProgress(value=0, max=179165), HTML(value='')))"
      ]
     },
     "metadata": {},
     "output_type": "display_data"
    },
    {
     "name": "stdout",
     "output_type": "stream",
     "text": [
      "\n"
     ]
    },
    {
     "data": {
      "application/vnd.jupyter.widget-view+json": {
       "model_id": "e10368cc4d3f45e6bc9da543781d10b1",
       "version_major": 2,
       "version_minor": 0
      },
      "text/plain": [
       "HBox(children=(IntProgress(value=0, max=180793), HTML(value='')))"
      ]
     },
     "metadata": {},
     "output_type": "display_data"
    },
    {
     "name": "stdout",
     "output_type": "stream",
     "text": [
      "\n"
     ]
    },
    {
     "data": {
      "application/vnd.jupyter.widget-view+json": {
       "model_id": "d6c5fbf502724e81aa5d2ab7fb8a65f4",
       "version_major": 2,
       "version_minor": 0
      },
      "text/plain": [
       "HBox(children=(IntProgress(value=0, max=182406), HTML(value='')))"
      ]
     },
     "metadata": {},
     "output_type": "display_data"
    },
    {
     "name": "stdout",
     "output_type": "stream",
     "text": [
      "\n"
     ]
    },
    {
     "data": {
      "application/vnd.jupyter.widget-view+json": {
       "model_id": "812f44bf0e8b43a4ba4ac50137c6a653",
       "version_major": 2,
       "version_minor": 0
      },
      "text/plain": [
       "HBox(children=(IntProgress(value=0, max=184731), HTML(value='')))"
      ]
     },
     "metadata": {},
     "output_type": "display_data"
    },
    {
     "name": "stdout",
     "output_type": "stream",
     "text": [
      "\n"
     ]
    },
    {
     "data": {
      "application/vnd.jupyter.widget-view+json": {
       "model_id": "716f737ba4ca4590827c91c2b364ae42",
       "version_major": 2,
       "version_minor": 0
      },
      "text/plain": [
       "HBox(children=(IntProgress(value=0, max=187499), HTML(value='')))"
      ]
     },
     "metadata": {},
     "output_type": "display_data"
    },
    {
     "name": "stdout",
     "output_type": "stream",
     "text": [
      "\n"
     ]
    },
    {
     "data": {
      "application/vnd.jupyter.widget-view+json": {
       "model_id": "f3ff503d2536473e83ff69239b4c9103",
       "version_major": 2,
       "version_minor": 0
      },
      "text/plain": [
       "HBox(children=(IntProgress(value=0, max=189836), HTML(value='')))"
      ]
     },
     "metadata": {},
     "output_type": "display_data"
    },
    {
     "name": "stdout",
     "output_type": "stream",
     "text": [
      "\n"
     ]
    },
    {
     "data": {
      "application/vnd.jupyter.widget-view+json": {
       "model_id": "dcbdf96a9d894c8cb58874e29782e815",
       "version_major": 2,
       "version_minor": 0
      },
      "text/plain": [
       "HBox(children=(IntProgress(value=0, max=192460), HTML(value='')))"
      ]
     },
     "metadata": {},
     "output_type": "display_data"
    },
    {
     "name": "stdout",
     "output_type": "stream",
     "text": [
      "\n"
     ]
    },
    {
     "data": {
      "application/vnd.jupyter.widget-view+json": {
       "model_id": "963c52bca2e1434e88b3fb3c09a73300",
       "version_major": 2,
       "version_minor": 0
      },
      "text/plain": [
       "HBox(children=(IntProgress(value=0, max=194791), HTML(value='')))"
      ]
     },
     "metadata": {},
     "output_type": "display_data"
    },
    {
     "name": "stdout",
     "output_type": "stream",
     "text": [
      "\n"
     ]
    },
    {
     "data": {
      "application/vnd.jupyter.widget-view+json": {
       "model_id": "8c75f570f5504f9182e89ee3d76f7d43",
       "version_major": 2,
       "version_minor": 0
      },
      "text/plain": [
       "HBox(children=(IntProgress(value=0, max=197569), HTML(value='')))"
      ]
     },
     "metadata": {},
     "output_type": "display_data"
    },
    {
     "name": "stdout",
     "output_type": "stream",
     "text": [
      "\n"
     ]
    },
    {
     "data": {
      "application/vnd.jupyter.widget-view+json": {
       "model_id": "2aa1287104c0490991b26fa1f0a99620",
       "version_major": 2,
       "version_minor": 0
      },
      "text/plain": [
       "HBox(children=(IntProgress(value=0, max=200034), HTML(value='')))"
      ]
     },
     "metadata": {},
     "output_type": "display_data"
    },
    {
     "name": "stdout",
     "output_type": "stream",
     "text": [
      "\n"
     ]
    },
    {
     "data": {
      "application/vnd.jupyter.widget-view+json": {
       "model_id": "9b4990c738964881b4b209e6652c1a48",
       "version_major": 2,
       "version_minor": 0
      },
      "text/plain": [
       "HBox(children=(IntProgress(value=0, max=202399), HTML(value='')))"
      ]
     },
     "metadata": {},
     "output_type": "display_data"
    },
    {
     "name": "stdout",
     "output_type": "stream",
     "text": [
      "\n"
     ]
    },
    {
     "data": {
      "application/vnd.jupyter.widget-view+json": {
       "model_id": "ba3568cbf49f4a12af7c3ec75bdedbf0",
       "version_major": 2,
       "version_minor": 0
      },
      "text/plain": [
       "HBox(children=(IntProgress(value=0, max=204903), HTML(value='')))"
      ]
     },
     "metadata": {},
     "output_type": "display_data"
    },
    {
     "name": "stdout",
     "output_type": "stream",
     "text": [
      "\n"
     ]
    },
    {
     "data": {
      "application/vnd.jupyter.widget-view+json": {
       "model_id": "6f251dc76c4447c58126ac0ea8f5fb76",
       "version_major": 2,
       "version_minor": 0
      },
      "text/plain": [
       "HBox(children=(IntProgress(value=0, max=208664), HTML(value='')))"
      ]
     },
     "metadata": {},
     "output_type": "display_data"
    },
    {
     "name": "stdout",
     "output_type": "stream",
     "text": [
      "\n"
     ]
    },
    {
     "data": {
      "application/vnd.jupyter.widget-view+json": {
       "model_id": "d1a21502c69b413691e847d4566e56e8",
       "version_major": 2,
       "version_minor": 0
      },
      "text/plain": [
       "HBox(children=(IntProgress(value=0, max=212076), HTML(value='')))"
      ]
     },
     "metadata": {},
     "output_type": "display_data"
    },
    {
     "name": "stdout",
     "output_type": "stream",
     "text": [
      "\n"
     ]
    },
    {
     "data": {
      "application/vnd.jupyter.widget-view+json": {
       "model_id": "deea89b03f114bafaabc09c58c37e38d",
       "version_major": 2,
       "version_minor": 0
      },
      "text/plain": [
       "HBox(children=(IntProgress(value=0, max=214728), HTML(value='')))"
      ]
     },
     "metadata": {},
     "output_type": "display_data"
    },
    {
     "name": "stdout",
     "output_type": "stream",
     "text": [
      "\n"
     ]
    },
    {
     "data": {
      "application/vnd.jupyter.widget-view+json": {
       "model_id": "2bac9fc571fc4ee9beaed5d28ede7cdc",
       "version_major": 2,
       "version_minor": 0
      },
      "text/plain": [
       "HBox(children=(IntProgress(value=0, max=217662), HTML(value='')))"
      ]
     },
     "metadata": {},
     "output_type": "display_data"
    },
    {
     "name": "stdout",
     "output_type": "stream",
     "text": [
      "\n"
     ]
    },
    {
     "data": {
      "application/vnd.jupyter.widget-view+json": {
       "model_id": "706057094fa849478381afb0a535453e",
       "version_major": 2,
       "version_minor": 0
      },
      "text/plain": [
       "HBox(children=(IntProgress(value=0, max=220659), HTML(value='')))"
      ]
     },
     "metadata": {},
     "output_type": "display_data"
    },
    {
     "name": "stdout",
     "output_type": "stream",
     "text": [
      "\n"
     ]
    },
    {
     "data": {
      "application/vnd.jupyter.widget-view+json": {
       "model_id": "6499b18c69cb42ffb2c36be0860e9168",
       "version_major": 2,
       "version_minor": 0
      },
      "text/plain": [
       "HBox(children=(IntProgress(value=0, max=222934), HTML(value='')))"
      ]
     },
     "metadata": {},
     "output_type": "display_data"
    },
    {
     "name": "stdout",
     "output_type": "stream",
     "text": [
      "\n"
     ]
    },
    {
     "data": {
      "application/vnd.jupyter.widget-view+json": {
       "model_id": "6ec5ca2c2d1244f283774d850695881f",
       "version_major": 2,
       "version_minor": 0
      },
      "text/plain": [
       "HBox(children=(IntProgress(value=0, max=225355), HTML(value='')))"
      ]
     },
     "metadata": {},
     "output_type": "display_data"
    },
    {
     "name": "stdout",
     "output_type": "stream",
     "text": [
      "\n"
     ]
    },
    {
     "data": {
      "application/vnd.jupyter.widget-view+json": {
       "model_id": "e461006377c140bb89df3b23a0e97ef5",
       "version_major": 2,
       "version_minor": 0
      },
      "text/plain": [
       "HBox(children=(IntProgress(value=0, max=227961), HTML(value='')))"
      ]
     },
     "metadata": {},
     "output_type": "display_data"
    },
    {
     "name": "stdout",
     "output_type": "stream",
     "text": [
      "\n"
     ]
    },
    {
     "data": {
      "application/vnd.jupyter.widget-view+json": {
       "model_id": "c0692e400dc3465cb3bbe89dede78400",
       "version_major": 2,
       "version_minor": 0
      },
      "text/plain": [
       "HBox(children=(IntProgress(value=0, max=231179), HTML(value='')))"
      ]
     },
     "metadata": {},
     "output_type": "display_data"
    },
    {
     "name": "stdout",
     "output_type": "stream",
     "text": [
      "\n"
     ]
    },
    {
     "data": {
      "application/vnd.jupyter.widget-view+json": {
       "model_id": "e340b08995b0444381d8ab99bb9b2c20",
       "version_major": 2,
       "version_minor": 0
      },
      "text/plain": [
       "HBox(children=(IntProgress(value=0, max=234248), HTML(value='')))"
      ]
     },
     "metadata": {},
     "output_type": "display_data"
    },
    {
     "name": "stdout",
     "output_type": "stream",
     "text": [
      "\n"
     ]
    },
    {
     "data": {
      "application/vnd.jupyter.widget-view+json": {
       "model_id": "57b4cdf849004bcf85101cac665f0c64",
       "version_major": 2,
       "version_minor": 0
      },
      "text/plain": [
       "HBox(children=(IntProgress(value=0, max=236971), HTML(value='')))"
      ]
     },
     "metadata": {},
     "output_type": "display_data"
    },
    {
     "name": "stdout",
     "output_type": "stream",
     "text": [
      "\n"
     ]
    },
    {
     "data": {
      "application/vnd.jupyter.widget-view+json": {
       "model_id": "5466997024a64a97b7c6856084ddfb5e",
       "version_major": 2,
       "version_minor": 0
      },
      "text/plain": [
       "HBox(children=(IntProgress(value=0, max=240438), HTML(value='')))"
      ]
     },
     "metadata": {},
     "output_type": "display_data"
    },
    {
     "name": "stdout",
     "output_type": "stream",
     "text": [
      "\n"
     ]
    },
    {
     "data": {
      "application/vnd.jupyter.widget-view+json": {
       "model_id": "8e3bc9f9c74542b7b173eae01a88bbf5",
       "version_major": 2,
       "version_minor": 0
      },
      "text/plain": [
       "HBox(children=(IntProgress(value=0, max=243221), HTML(value='')))"
      ]
     },
     "metadata": {},
     "output_type": "display_data"
    },
    {
     "name": "stdout",
     "output_type": "stream",
     "text": [
      "\n"
     ]
    },
    {
     "data": {
      "application/vnd.jupyter.widget-view+json": {
       "model_id": "6bc1d9aa96ec417f917ca336be5b32dd",
       "version_major": 2,
       "version_minor": 0
      },
      "text/plain": [
       "HBox(children=(IntProgress(value=0, max=246495), HTML(value='')))"
      ]
     },
     "metadata": {},
     "output_type": "display_data"
    },
    {
     "name": "stdout",
     "output_type": "stream",
     "text": [
      "\n"
     ]
    },
    {
     "data": {
      "application/vnd.jupyter.widget-view+json": {
       "model_id": "eb3f9b54ad5240518743f7a916bb5625",
       "version_major": 2,
       "version_minor": 0
      },
      "text/plain": [
       "HBox(children=(IntProgress(value=0, max=248857), HTML(value='')))"
      ]
     },
     "metadata": {},
     "output_type": "display_data"
    },
    {
     "name": "stdout",
     "output_type": "stream",
     "text": [
      "\n"
     ]
    },
    {
     "data": {
      "application/vnd.jupyter.widget-view+json": {
       "model_id": "5b4926c0a9d746e7b75fd359daeee34c",
       "version_major": 2,
       "version_minor": 0
      },
      "text/plain": [
       "HBox(children=(IntProgress(value=0, max=251955), HTML(value='')))"
      ]
     },
     "metadata": {},
     "output_type": "display_data"
    },
    {
     "name": "stdout",
     "output_type": "stream",
     "text": [
      "\n"
     ]
    },
    {
     "data": {
      "application/vnd.jupyter.widget-view+json": {
       "model_id": "9d15a6aaa8b14e17a1cfcb1fd68d2f69",
       "version_major": 2,
       "version_minor": 0
      },
      "text/plain": [
       "HBox(children=(IntProgress(value=0, max=254786), HTML(value='')))"
      ]
     },
     "metadata": {},
     "output_type": "display_data"
    },
    {
     "name": "stdout",
     "output_type": "stream",
     "text": [
      "\n"
     ]
    },
    {
     "data": {
      "application/vnd.jupyter.widget-view+json": {
       "model_id": "63b5dd1e70ba41728c9ab3d9e6abf98e",
       "version_major": 2,
       "version_minor": 0
      },
      "text/plain": [
       "HBox(children=(IntProgress(value=0, max=256869), HTML(value='')))"
      ]
     },
     "metadata": {},
     "output_type": "display_data"
    },
    {
     "name": "stdout",
     "output_type": "stream",
     "text": [
      "\n"
     ]
    },
    {
     "data": {
      "application/vnd.jupyter.widget-view+json": {
       "model_id": "45ed724e4fed4b3cab90e3990ca4cbfe",
       "version_major": 2,
       "version_minor": 0
      },
      "text/plain": [
       "HBox(children=(IntProgress(value=0, max=259225), HTML(value='')))"
      ]
     },
     "metadata": {},
     "output_type": "display_data"
    },
    {
     "name": "stdout",
     "output_type": "stream",
     "text": [
      "\n"
     ]
    },
    {
     "data": {
      "application/vnd.jupyter.widget-view+json": {
       "model_id": "01128dd45fcd450f91e15b1064dae151",
       "version_major": 2,
       "version_minor": 0
      },
      "text/plain": [
       "HBox(children=(IntProgress(value=0, max=261797), HTML(value='')))"
      ]
     },
     "metadata": {},
     "output_type": "display_data"
    },
    {
     "name": "stdout",
     "output_type": "stream",
     "text": [
      "\n"
     ]
    },
    {
     "data": {
      "application/vnd.jupyter.widget-view+json": {
       "model_id": "98da414b7ffb40f89aa70e87ec52a611",
       "version_major": 2,
       "version_minor": 0
      },
      "text/plain": [
       "HBox(children=(IntProgress(value=0, max=265109), HTML(value='')))"
      ]
     },
     "metadata": {},
     "output_type": "display_data"
    },
    {
     "name": "stdout",
     "output_type": "stream",
     "text": [
      "\n"
     ]
    },
    {
     "data": {
      "application/vnd.jupyter.widget-view+json": {
       "model_id": "d71efa87ca9c4c14a1a3fc6d7daacb32",
       "version_major": 2,
       "version_minor": 0
      },
      "text/plain": [
       "HBox(children=(IntProgress(value=0, max=268002), HTML(value='')))"
      ]
     },
     "metadata": {},
     "output_type": "display_data"
    },
    {
     "name": "stdout",
     "output_type": "stream",
     "text": [
      "\n"
     ]
    },
    {
     "data": {
      "application/vnd.jupyter.widget-view+json": {
       "model_id": "e3ffbcc0a3d24ad6b2c3364e87b1e534",
       "version_major": 2,
       "version_minor": 0
      },
      "text/plain": [
       "HBox(children=(IntProgress(value=0, max=270269), HTML(value='')))"
      ]
     },
     "metadata": {},
     "output_type": "display_data"
    },
    {
     "name": "stdout",
     "output_type": "stream",
     "text": [
      "\n"
     ]
    },
    {
     "data": {
      "application/vnd.jupyter.widget-view+json": {
       "model_id": "22f2e5d002f94240a0c72ee770a09291",
       "version_major": 2,
       "version_minor": 0
      },
      "text/plain": [
       "HBox(children=(IntProgress(value=0, max=273147), HTML(value='')))"
      ]
     },
     "metadata": {},
     "output_type": "display_data"
    },
    {
     "name": "stdout",
     "output_type": "stream",
     "text": [
      "\n"
     ]
    },
    {
     "data": {
      "application/vnd.jupyter.widget-view+json": {
       "model_id": "b6280a3ef18d43dca619cc00dfe08ab9",
       "version_major": 2,
       "version_minor": 0
      },
      "text/plain": [
       "HBox(children=(IntProgress(value=0, max=276210), HTML(value='')))"
      ]
     },
     "metadata": {},
     "output_type": "display_data"
    },
    {
     "name": "stdout",
     "output_type": "stream",
     "text": [
      "\n"
     ]
    },
    {
     "data": {
      "application/vnd.jupyter.widget-view+json": {
       "model_id": "f74a8f40498e46a19d8c199a66a1fc8b",
       "version_major": 2,
       "version_minor": 0
      },
      "text/plain": [
       "HBox(children=(IntProgress(value=0, max=278809), HTML(value='')))"
      ]
     },
     "metadata": {},
     "output_type": "display_data"
    },
    {
     "name": "stdout",
     "output_type": "stream",
     "text": [
      "\n"
     ]
    },
    {
     "data": {
      "application/vnd.jupyter.widget-view+json": {
       "model_id": "0f21dded70c442c2bb9fcf148a921def",
       "version_major": 2,
       "version_minor": 0
      },
      "text/plain": [
       "HBox(children=(IntProgress(value=0, max=281184), HTML(value='')))"
      ]
     },
     "metadata": {},
     "output_type": "display_data"
    },
    {
     "name": "stdout",
     "output_type": "stream",
     "text": [
      "\n"
     ]
    },
    {
     "data": {
      "application/vnd.jupyter.widget-view+json": {
       "model_id": "0e808a0ab41e41c59ef98531d15b26d5",
       "version_major": 2,
       "version_minor": 0
      },
      "text/plain": [
       "HBox(children=(IntProgress(value=0, max=284262), HTML(value='')))"
      ]
     },
     "metadata": {},
     "output_type": "display_data"
    },
    {
     "name": "stdout",
     "output_type": "stream",
     "text": [
      "\n"
     ]
    },
    {
     "data": {
      "application/vnd.jupyter.widget-view+json": {
       "model_id": "be01da7bd53d48ee8a9cd6c5ce56259c",
       "version_major": 2,
       "version_minor": 0
      },
      "text/plain": [
       "HBox(children=(IntProgress(value=0, max=287003), HTML(value='')))"
      ]
     },
     "metadata": {},
     "output_type": "display_data"
    },
    {
     "name": "stdout",
     "output_type": "stream",
     "text": [
      "\n"
     ]
    },
    {
     "data": {
      "application/vnd.jupyter.widget-view+json": {
       "model_id": "0a6b09016ac840f2bb5b2c3e0be3ad20",
       "version_major": 2,
       "version_minor": 0
      },
      "text/plain": [
       "HBox(children=(IntProgress(value=0, max=285315), HTML(value='')))"
      ]
     },
     "metadata": {},
     "output_type": "display_data"
    },
    {
     "name": "stdout",
     "output_type": "stream",
     "text": [
      "\n"
     ]
    },
    {
     "data": {
      "application/vnd.jupyter.widget-view+json": {
       "model_id": "00a9127f19ce4c3db4369e1ddfba9524",
       "version_major": 2,
       "version_minor": 0
      },
      "text/plain": [
       "HBox(children=(IntProgress(value=0, max=290914), HTML(value='')))"
      ]
     },
     "metadata": {},
     "output_type": "display_data"
    },
    {
     "name": "stdout",
     "output_type": "stream",
     "text": [
      "\n"
     ]
    },
    {
     "data": {
      "application/vnd.jupyter.widget-view+json": {
       "model_id": "d85d4fc6392946bd9982e9af97db30e5",
       "version_major": 2,
       "version_minor": 0
      },
      "text/plain": [
       "HBox(children=(IntProgress(value=0, max=293259), HTML(value='')))"
      ]
     },
     "metadata": {},
     "output_type": "display_data"
    },
    {
     "name": "stdout",
     "output_type": "stream",
     "text": [
      "\n"
     ]
    },
    {
     "data": {
      "application/vnd.jupyter.widget-view+json": {
       "model_id": "914566b2eff742ffbbbcb74efdc95162",
       "version_major": 2,
       "version_minor": 0
      },
      "text/plain": [
       "HBox(children=(IntProgress(value=0, max=296051), HTML(value='')))"
      ]
     },
     "metadata": {},
     "output_type": "display_data"
    },
    {
     "name": "stdout",
     "output_type": "stream",
     "text": [
      "\n"
     ]
    },
    {
     "data": {
      "application/vnd.jupyter.widget-view+json": {
       "model_id": "2d898c7382984719b7bf6c05d2d24c12",
       "version_major": 2,
       "version_minor": 0
      },
      "text/plain": [
       "HBox(children=(IntProgress(value=0, max=298691), HTML(value='')))"
      ]
     },
     "metadata": {},
     "output_type": "display_data"
    },
    {
     "name": "stdout",
     "output_type": "stream",
     "text": [
      "\n"
     ]
    },
    {
     "data": {
      "application/vnd.jupyter.widget-view+json": {
       "model_id": "a7c352bb34bb40af802f57ae79791235",
       "version_major": 2,
       "version_minor": 0
      },
      "text/plain": [
       "HBox(children=(IntProgress(value=0, max=301074), HTML(value='')))"
      ]
     },
     "metadata": {},
     "output_type": "display_data"
    },
    {
     "name": "stdout",
     "output_type": "stream",
     "text": [
      "\n"
     ]
    },
    {
     "data": {
      "application/vnd.jupyter.widget-view+json": {
       "model_id": "6a3f2a0be5a3485c843eb1157feb4e44",
       "version_major": 2,
       "version_minor": 0
      },
      "text/plain": [
       "HBox(children=(IntProgress(value=0, max=303507), HTML(value='')))"
      ]
     },
     "metadata": {},
     "output_type": "display_data"
    },
    {
     "name": "stdout",
     "output_type": "stream",
     "text": [
      "\n"
     ]
    },
    {
     "data": {
      "application/vnd.jupyter.widget-view+json": {
       "model_id": "51fbc90bd8a7482d8da4b0466fe4eef5",
       "version_major": 2,
       "version_minor": 0
      },
      "text/plain": [
       "HBox(children=(IntProgress(value=0, max=306577), HTML(value='')))"
      ]
     },
     "metadata": {},
     "output_type": "display_data"
    },
    {
     "name": "stdout",
     "output_type": "stream",
     "text": [
      "\n"
     ]
    },
    {
     "data": {
      "application/vnd.jupyter.widget-view+json": {
       "model_id": "7491736b24a542c7bba3a3d1e7401710",
       "version_major": 2,
       "version_minor": 0
      },
      "text/plain": [
       "HBox(children=(IntProgress(value=0, max=309324), HTML(value='')))"
      ]
     },
     "metadata": {},
     "output_type": "display_data"
    },
    {
     "name": "stdout",
     "output_type": "stream",
     "text": [
      "\n"
     ]
    },
    {
     "data": {
      "application/vnd.jupyter.widget-view+json": {
       "model_id": "dfd36352a1ca46b19be84685885509e2",
       "version_major": 2,
       "version_minor": 0
      },
      "text/plain": [
       "HBox(children=(IntProgress(value=0, max=311577), HTML(value='')))"
      ]
     },
     "metadata": {},
     "output_type": "display_data"
    },
    {
     "name": "stdout",
     "output_type": "stream",
     "text": [
      "\n"
     ]
    },
    {
     "data": {
      "application/vnd.jupyter.widget-view+json": {
       "model_id": "98f54655ba8145b095a3ba65a0e8004c",
       "version_major": 2,
       "version_minor": 0
      },
      "text/plain": [
       "HBox(children=(IntProgress(value=0, max=314352), HTML(value='')))"
      ]
     },
     "metadata": {},
     "output_type": "display_data"
    },
    {
     "name": "stdout",
     "output_type": "stream",
     "text": [
      "\n"
     ]
    },
    {
     "data": {
      "application/vnd.jupyter.widget-view+json": {
       "model_id": "00855a922fdf440c9cf009058bc72036",
       "version_major": 2,
       "version_minor": 0
      },
      "text/plain": [
       "HBox(children=(IntProgress(value=0, max=316935), HTML(value='')))"
      ]
     },
     "metadata": {},
     "output_type": "display_data"
    },
    {
     "name": "stdout",
     "output_type": "stream",
     "text": [
      "\n"
     ]
    },
    {
     "data": {
      "application/vnd.jupyter.widget-view+json": {
       "model_id": "4c68b3c6089a48b8905227f7dc80eba3",
       "version_major": 2,
       "version_minor": 0
      },
      "text/plain": [
       "HBox(children=(IntProgress(value=0, max=318269), HTML(value='')))"
      ]
     },
     "metadata": {},
     "output_type": "display_data"
    },
    {
     "name": "stdout",
     "output_type": "stream",
     "text": [
      "\n"
     ]
    },
    {
     "data": {
      "application/vnd.jupyter.widget-view+json": {
       "model_id": "0b5b2f782ffc4fd7893c1f5e8eb7eebd",
       "version_major": 2,
       "version_minor": 0
      },
      "text/plain": [
       "HBox(children=(IntProgress(value=0, max=320223), HTML(value='')))"
      ]
     },
     "metadata": {},
     "output_type": "display_data"
    },
    {
     "name": "stdout",
     "output_type": "stream",
     "text": [
      "\n"
     ]
    },
    {
     "data": {
      "application/vnd.jupyter.widget-view+json": {
       "model_id": "387bc0c6dc134daab4a6a17ab2ce7f31",
       "version_major": 2,
       "version_minor": 0
      },
      "text/plain": [
       "HBox(children=(IntProgress(value=0, max=322718), HTML(value='')))"
      ]
     },
     "metadata": {},
     "output_type": "display_data"
    },
    {
     "name": "stdout",
     "output_type": "stream",
     "text": [
      "\n"
     ]
    }
   ],
   "source": [
    "#from txt to csv, eliminating unnecessary data, after this piece of code is executed, the data for months is situated in aptly named folders dec13, jan14 etc.\n",
    "\n",
    "def dataPreprocessing():\n",
    "    dataMonthsRev = list(reversed(dataMonths)) # reversing the list because pre august 2016 data had a different organisation within the file\n",
    "    changeInDataset = True\n",
    "    ratingLimit = 2000\n",
    "\n",
    "    for year in dataYears[::-1]:\n",
    "        for month in dataMonths:\n",
    "            folderName = month + year\n",
    "            if folderName == \"sep16\":\n",
    "                changeInDataset = False\n",
    "\n",
    "            fileName = \"standard_\" + folderName + \"frl.txt\"\n",
    "            with open(dataPath/folderName/fileName, 'r') as myfile:\n",
    "                with open(dataPath/folderName/(folderName + \".csv\"), 'w') as writeFile:\n",
    "                    people = []\n",
    "                    lines = myfile.readlines()\n",
    "                    for line in tqdm(lines):\n",
    "                        id = line[:15].strip()\n",
    "                        \n",
    "                        if id == 'ID Number': # eliminate file headers\n",
    "                            continue\n",
    "                        \n",
    "                        name = line[15:76].strip()\n",
    "                        name = name.replace(',', ';', 10) # replace all commas in name with semicolons, because comma is a delimiter in csv file\n",
    "                        \n",
    "                        nat = line[76:80].strip()\n",
    "                        gender = line[80]\n",
    "                        \n",
    "                        if changeInDataset:\n",
    "                            rating_str = line[109:115].strip()\n",
    "                        else:\n",
    "                            rating_str = line[113:118].strip()\n",
    "                        \n",
    "                        if len(rating_str) > 0:\n",
    "                            rating = int(rating_str)\n",
    "                            \n",
    "                        if changeInDataset:\n",
    "                            games_played = line[115:118].strip()\n",
    "                        else:\n",
    "                            games_played = line[119:122].strip()\n",
    "            \n",
    "#                         if len(games_played_str) > 0:\n",
    "#                             games_played = int(games_played_str)\n",
    "                        \n",
    "                        if changeInDataset:\n",
    "                            birth = line[122:126].strip()\n",
    "                        else:\n",
    "                            birth = line[126:130].strip()\n",
    "                            \n",
    "#                         if len(birth_str) > 0:\n",
    "#                             birth = int(birth_str)\n",
    "                        \n",
    "                        if changeInDataset:\n",
    "                            activity = line[128:].strip()\n",
    "                        else:\n",
    "                            activity = line[132:].strip()\n",
    "\n",
    "                        if 'i' not in activity and len(rating_str) > 0 and rating > ratingLimit: # appending every entry to a list for sorting later\n",
    "                            people.append((id, name, nat, rating_str, gender, games_played, birth, activity))\n",
    "                    \n",
    "                    people.sort(key=lambda tup: int(tup[0])) # sort all people by their FIDE identification \n",
    "                    for entry in people:\n",
    "                        writeFile.write(entry[0] + \",\" + entry[1] + \",\" + entry[2] + \",\" + entry[3] + \",\" + entry[4] + \",\" + entry[5] + \",\" + entry[6] + \",\" + entry[7] + '\\n')\n",
    "\n",
    "#ratings in the constructed txt files are for the end of the month and should be used for building the next month's graph\n",
    "dataPreprocessing()"
   ]
  },
  {
   "cell_type": "code",
   "execution_count": 5,
   "metadata": {},
   "outputs": [],
   "source": [
    "\n",
    "#fetching matches of a particular player for the specified month\n",
    "\n",
    "#id = FIDE id, date = string in yyyy-mm-01 format, returns adjacency list in form (\"surname, name\", \"FIDE rating\")\n",
    "def fetchMatches(id, date):\n",
    "    targetLink = \"https://ratings.fide.com/individual_calculations.phtml?idnumber=\"+str(id)+\"&rating_period=\"+date\n",
    "    #page = requests.get(\"https://ratings.fide.com/individual_calculations.phtml?idnumber=2020009&rating_period=2015-11-01\")\n",
    "    page = requests.get(targetLink)\n",
    "    soup = BeautifulSoup(page.content, 'html.parser')\n",
    "    adjacencyList = []\n",
    "    #print(soup.prettify())\n",
    "\n",
    "    tagList = soup.findAll(\"td\", {\"class\": \"list4\"})\n",
    "    for tag in tagList:\n",
    "        if tag.img:\n",
    "            tag.img.decompose()\n",
    "        #print(\"Tag: \", tag)\n",
    "        #print(\"Children: \")\n",
    "        cnt = 1\n",
    "        for child in tag.children:\n",
    "            #print(\"Child \", cnt, \": \", child)\n",
    "            if cnt==1:\n",
    "                name = child.strip()\n",
    "            if cnt==4:\n",
    "                rating = child.contents[0].strip()\n",
    "            if cnt==11:\n",
    "                adjacencyList.append((name,rating))\n",
    "            cnt= cnt+1\n",
    "    return adjacencyList\n",
    "    \n",
    "#print(fetchMatches(2020009, \"2018-04-01\"))\n"
   ]
  },
  {
   "cell_type": "code",
   "execution_count": 6,
   "metadata": {},
   "outputs": [],
   "source": [
    "#example: for fetching for month = June 2018, use rating from the website for June 2018 and dataFrame for May 2018; rating is string. not int\n",
    "def getIdByNameAndRating(surnameNameString, rating, dataFrame): \n",
    "    dataFrameSameName = dataFrame.loc[dataFrame[1] == surnameNameString.replace(',', ';')]\n",
    "    if len(dataFrameSameName) > 0:\n",
    "        dataFrameSameNameSameRating = dataFrameSameName.loc[dataFrame[3] == int(rating)]\n",
    "        if len(dataFrameSameNameSameRating) == 1:\n",
    "            return dataFrameSameNameSameRating.iloc[0][0]\n",
    "    return -1\n",
    "\n",
    "\n",
    "def getNameById(id, dataFrame):\n",
    "    dataFrameSameId = dataFrame.loc[dataFrame[0] == id]\n",
    "    if len(dataFrameSameId) == 1:\n",
    "        return dataFrameSameId.iloc[0][1].replace(';', ',')\n",
    "    return None\n",
    "\n",
    "#print(getIdByNameAndRating('So, Wesley', 2786, df))\n",
    "#print(getNameById(5202213, df))"
   ]
  },
  {
   "cell_type": "code",
   "execution_count": 7,
   "metadata": {},
   "outputs": [],
   "source": [
    "#date: yyyy-mm-01\n",
    "def getPrevMonth(date):\n",
    "    year , month , _ = date.split(\"-\")\n",
    "    if month == '01':\n",
    "        return \"dec\"+str((int(year)-1) % 100)\n",
    "    else:\n",
    "        return [\"jan\", \"feb\", \"mar\", \"apr\", \"may\", \"jun\", \"jul\", \"aug\", \"sep\", \"oct\", \"nov\", \"dec\"][int(month)-2]+str(int(year) % 100)\n",
    "    \n",
    "#print(getPrevMonth(\"2014-01-01\"))\n",
    "#print(getPrevMonth(\"2018-02-01\"))\n",
    "        "
   ]
  },
  {
   "cell_type": "code",
   "execution_count": 8,
   "metadata": {},
   "outputs": [],
   "source": [
    "def createOrAddWeightEdge(G, u, v, w=1):\n",
    "    attr = G.get_edge_data(str(u), str(v))\n",
    "    if attr is None:\n",
    "        G.add_edge(str(u), str(v), weight=w)\n",
    "    else:\n",
    "        attr['weight'] += w\n",
    "        \n",
    "def addNamesToNodes(G, date):\n",
    "    dataFrame = pd.read_csv(Path(dataPath/ getPrevMonth(date)/ (getPrevMonth(date)+'.csv')), header=None)\n",
    "    \n",
    "    for node, data in G.nodes(data=True):\n",
    "        data['name'] = getNameById(int(node), dataFrame)\n",
    "        \n",
    "\n",
    "#id: FIDE id, date: yyyy-mm-01\n",
    "def buildEgoNetwork(egoId, date):\n",
    "    dataFrame = pd.read_csv(Path(dataPath/ getPrevMonth(date)/ (getPrevMonth(date)+'.csv')), header=None)\n",
    "    adjacencyList = fetchMatches(egoId, date)\n",
    "    G = nx.Graph()\n",
    "    #put ego\n",
    "    G.add_node(str(egoId))\n",
    "    #build main links\n",
    "    for nName, nRating in adjacencyList:\n",
    "        #add link to ego node\n",
    "        nId = getIdByNameAndRating(nName, nRating, dataFrame)\n",
    "        createOrAddWeightEdge(G, egoId, nId)\n",
    "    #add side links\n",
    "    for nName, nRating in adjacencyList:\n",
    "        #fetch neighbour's heighbours\n",
    "        nId = getIdByNameAndRating(nName, nRating, dataFrame)\n",
    "        nAdjList = fetchMatches(int(nId), date)\n",
    "        for nnName, nnRating in nAdjList:\n",
    "            #if nn is a neighbour of ego, link n and nn with an edge\n",
    "            nnId = getIdByNameAndRating(nnName, nnRating, dataFrame)\n",
    "            if (nnName, nnRating) in adjacencyList and nnId > nId:\n",
    "                createOrAddWeightEdge(G, nId, nnId)\n",
    "        \n",
    "    return G\n",
    "\n",
    "#test 1: Wesley So, September 2018\n",
    "# testGraph = buildEgoNetwork(5202213, \"2018-09-01\")\n",
    "# addNamesToNodes(testGraph, \"2018-09-01\")\n",
    "# nx.write_gml(testGraph, \"testWesleySoEgo.gml\")\n",
    "\n",
    "#test 2: Fabiano Caruana, April 2018\n",
    "# testGraph = buildEgoNetwork(2020009, \"2018-04-01\")\n",
    "# nx.write_gml(testGraph, \"testFabianoCaruana.gml\")\n",
    "\n",
    "# testGraph = buildEgoNetwork(13401319, \"2016-12-01\")\n",
    "# addNamesToNodes(testGraph, \"2016-12-01\")\n",
    "# nx.write_gml(testGraph, \"testNekiRandom.gml\")"
   ]
  },
  {
   "cell_type": "code",
   "execution_count": 9,
   "metadata": {
    "scrolled": true
   },
   "outputs": [],
   "source": [
    "\n",
    "#class ProcessingOutput:\n",
    "#    def __init__(self, dateString):\n",
    "#        self.dateString = dateString\n",
    "#        dataFrame = pd.read_csv(Path(dataPath/ getPrevMonth(date)/ (getPrevMonth(date)+'.csv')), header=None)\n",
    "#        self.G1 = nx.Graph()\n",
    "#        self.G2 = nx.Graph()\n",
    "    \n",
    "    \n",
    "\n",
    "#build the whole network graph using the csv file for the previous month and websites/links for the specified month\n",
    "# date: yyyy-mm-01\n",
    "def buildNetworkForMonth(date, cutoff):\n",
    "    dataFrame = pd.read_csv(Path(dataPath/ getPrevMonth(date)/ (getPrevMonth(date)+'.csv')), header=None)\n",
    "    \n",
    "    G = nx.Graph()\n",
    "    \n",
    "    nameRatingMap = {}  \n",
    "    \n",
    "    for _, data in dataFrame.iterrows():\n",
    "        if data[3] > cutoff:\n",
    "            G.add_node(str(data[0]), name=data[1], ratingOld=data[3], nationality=data[2])\n",
    "            nameRatingMap[(data[3], data[1])] = data[0]\n",
    "        \n",
    "#     print(nameRatingMap)\n",
    "    \n",
    "    for nodeId in tqdm(G.nodes()):\n",
    "        nodeId = int(nodeId)\n",
    "        adjList = fetchMatches(nodeId, date)\n",
    "                                                                                                    ## PROBLEM ZVEZDICE 400+ rating diff\n",
    "        \n",
    "        for nName, nRating in adjList:\n",
    "#             nId = getIdByNameAndRating(nName, nRating, dataFrame)\n",
    "            try:\n",
    "                nId = nameRatingMap[(int(nRating), nName.replace(',', ';'))]\n",
    "            except KeyError:\n",
    "                continue    \n",
    "            if nId > nodeId:\n",
    "                createOrAddWeightEdge(G, nodeId, nId)\n",
    "    # dodaj rejtinge za kao label za sve        \n",
    "      \n",
    "    \n",
    "    return G\n",
    "\n"
   ]
  },
  {
   "cell_type": "code",
   "execution_count": 10,
   "metadata": {},
   "outputs": [],
   "source": [
    "def buildNonIsolateNetwork(G):\n",
    "    GNonZeroDeg = nx.Graph() #graph containing only the non-zero degree subset of vertices of G and all the edges between them\n",
    "    isolateList = nx.isolates(G)\n",
    "    #print(\"Broj izolovanih: \", len(list(isolateList)))\n",
    "    #print(*list(isolateList), sep='\\n')\n",
    "    GNonZeroDeg = G.copy()\n",
    "    GNonZeroDeg.remove_nodes_from(isolateList)\n",
    "    return GNonZeroDeg\n"
   ]
  },
  {
   "cell_type": "code",
   "execution_count": 11,
   "metadata": {},
   "outputs": [],
   "source": [
    "\n",
    "def outputGraphFilesForMonth(date, cutoff):\n",
    "    G = buildNetworkForMonth(date, cutoff)\n",
    "    GNonZeroDeg = buildNonIsolateNetwork(G)\n",
    "    folderName = \"otp_\"+date+\"_over_\"+str(cutoff)\n",
    "    if not os.path.exists(folderName):\n",
    "        os.makedirs(folderName)\n",
    "    #make a destination folder and store created graphs in corresponding gephi files\n",
    "    nx.write_gml(G, os.path.join(folderName, \"all.gml\"))\n",
    "    nx.write_gml(GNonZeroDeg, os.path.join(folderName,\"nonIsolate.gml\"))\n",
    "    "
   ]
  },
  {
   "cell_type": "code",
   "execution_count": 12,
   "metadata": {},
   "outputs": [],
   "source": [
    "#outputGraphFilesForMonth(\"2018-04-01\", 2400)\n",
    "\n",
    "# for i in dataMonths2Dig:\n",
    "#     outputGraphFilesForMonth(\"2018-\"+i+\"-01\", 2400)\n",
    "# for i in dataMonths2Dig:\n",
    "#     outputGraphFilesForMonth(\"2017-\"+i+\"-01\", 2400)\n",
    "# for i in dataMonths2Dig:\n",
    "#     outputGraphFilesForMonth(\"2016-\"+i+\"-01\", 2400)\n",
    "# for i in dataMonths2Dig:\n",
    "#     outputGraphFilesForMonth(\"2015-\"+i+\"-01\", 2400)\n",
    "# for i in dataMonths2Dig:\n",
    "#     outputGraphFilesForMonth(\"2014-\"+i+\"-01\", 2400)\n",
    "# for i in dataMonths2Dig[1:]:\n",
    "#     outputGraphFilesForMonth(\"2013-\"+i+\"-01\", 2400)\n"
   ]
  },
  {
   "cell_type": "code",
   "execution_count": 13,
   "metadata": {},
   "outputs": [],
   "source": [
    "def rank(name, rating):\n",
    "    return getIdByNameAndRating(name, rating, dataFrame)\n",
    "\n",
    "\n",
    "#def :\n",
    "#    for n in neigbours(node):\n",
    "#        if rank(n)>rank(node):\n",
    "#            G.add_edge(str(nodeId), str(nId))"
   ]
  },
  {
   "cell_type": "code",
   "execution_count": 14,
   "metadata": {},
   "outputs": [],
   "source": [
    "def removeSmallCC(graph, order):\n",
    "    CClen = len(max((graph.subgraph(c) for c in nx.connected_components(graph)), key=len))\n",
    "    ret = []\n",
    "    \n",
    "    for comp in nx.connected_components(graph):\n",
    "        if len(comp) * order >= CClen:\n",
    "            ret.append(graph.subgraph(comp))\n",
    "            \n",
    "    return nx.compose_all(ret)\n",
    "            "
   ]
  },
  {
   "cell_type": "code",
   "execution_count": 15,
   "metadata": {},
   "outputs": [],
   "source": [
    "def weightedEdgeCompose(A, B):\n",
    "    incrementalAggregate = nx.compose_all([A,B])\n",
    "    for edge in A.edges():\n",
    "        src = edge[0]\n",
    "        dst = edge[1]\n",
    "        target = list((u,v) for u,v,d in B.edges(data = True) if u == src and v == dst)\n",
    "        if len(target) > 0:\n",
    "            incrementalAggregate[src][dst]['weight']+=A[src][dst]['weight']    \n",
    "    return incrementalAggregate\n",
    "\n",
    "def composeLoop(graphs):\n",
    "    A = graphs[0]\n",
    "    for i in range(1,len(graphs)):\n",
    "        B = graphs[i]\n",
    "        A = weightedEdgeCompose(A, B)\n",
    "    return A\n",
    "    "
   ]
  },
  {
   "cell_type": "code",
   "execution_count": 16,
   "metadata": {},
   "outputs": [],
   "source": [
    "#args: String, int\n",
    "def makeYearGraph(year, cutoff): #TODO: ratingOld is currently nonsense, add a node attribute that counts in how many montly graphs a node appears, maybe average monthly ratings( but do they change if a player is innactive during some months?)\n",
    "    graphs = []\n",
    "    graphsNZD = []\n",
    "    #make a destination folder and store created graphs in corresponding gephi files\n",
    "    folderName = \"year_\"+year+\"_over_\"+str(cutoff)\n",
    "    if not os.path.exists(folderName):\n",
    "        os.makedirs(folderName)\n",
    "    for i in range(12):\n",
    "        dateString = year+\"-\"+dataMonths2Dig[i]+\"-01\"\n",
    "        graphs.append(buildNetworkForMonth(dateString, cutoff))\n",
    "        graphsNZD.append(buildNonIsolateNetwork(graphs[-1]))\n",
    "    \n",
    "    #aggregate = nx.compose_all(graphs) //doesn't aggregate edges, just keeps the last update because edge weights are attributes of edges\n",
    "    aggregate = composeLoop(graphs)\n",
    "    \n",
    "    for node in aggregate.nodes():\n",
    "        \n",
    "        ratingsList = []\n",
    "        for graph in graphs:\n",
    "            if node in graph:\n",
    "                monthlyRating=graph.nodes(data=True)[node]['ratingOld']\n",
    "                ratingsList.append(monthlyRating)\n",
    "        rating = np.mean(ratingsList)\n",
    "        absolute = np.max(np.absolute(ratingsList-np.mean(ratingsList)))\n",
    "        aggregate.nodes(data=True)[node]['ratingOld'] = rating\n",
    "        aggregate.nodes(data=True)[node]['cnt'] = np.shape(ratingsList)\n",
    "        aggregate.nodes(data=True)[node]['abs'] = absolute\n",
    "        aggregate.nodes(data=True)[node]['ratingLabel'] = \"{:.1f}\".format(rating)+\"+-\"+\"{:.1f}\".format(absolute)\n",
    "        \n",
    "    nx.write_gml(aggregate, os.path.join(folderName, \"all.gml\"))\n",
    "                \n",
    "    #aggregate = nx.compose_all(graphsNZD)\n",
    "    aggregate = composeLoop(graphsNZD)\n",
    "            \n",
    "    for node in aggregate.nodes():\n",
    "        \n",
    "        ratingsList = []\n",
    "        for graph in graphs:\n",
    "            if node in graph:\n",
    "                monthlyRating=graph.nodes(data=True)[node]['ratingOld']\n",
    "                ratingsList.append(monthlyRating)\n",
    "        rating = np.mean(ratingsList)\n",
    "        absolute = np.max(np.absolute(ratingsList-np.mean(ratingsList)))\n",
    "        aggregate.nodes(data=True)[node]['ratingOld'] = rating\n",
    "        aggregate.nodes(data=True)[node]['cnt'] = np.shape(ratingsList)\n",
    "        aggregate.nodes(data=True)[node]['abs'] = absolute\n",
    "        aggregate.nodes(data=True)[node]['ratingLabel'] = \"{:.1f}\".format(rating)+\"+-\"+\"{:.1f}\".format(absolute)\n",
    "        \n",
    "    nx.write_gml(aggregate, os.path.join(folderName,\"nonIsolate.gml\"))\n",
    "    \n",
    "\n",
    "def makeYearGraphFromGML(year, cutoff): #TODO: ratingOld is currently nonsense, add a node attribute that counts in how many montly graphs a node appears, maybe average monthly ratings( but do they change if a player is innactive during some months?)\n",
    "    graphs = []\n",
    "    graphsNZD = []\n",
    "    #make a destination folder and store created graphs in corresponding gephi files\n",
    "    folderName = \"year_aggregate\" + os.sep + \"year_\"+year+\"_over_\"+str(cutoff)\n",
    "    if not os.path.exists(folderName):\n",
    "        os.makedirs(folderName)\n",
    "        \n",
    "    for i in range(12):\n",
    "        dateString = year + \"-\" + dataMonths2Dig[i] + \"-01\"\n",
    "        inputFolderName = \"otp_\" + dateString + \"_over_\" + str(cutoff)\n",
    "        \n",
    "        graphs.append(nx.read_gml(os.path.join(inputFolderName, \"all.gml\")))\n",
    "        graphsNZD.append(nx.read_gml(os.path.join(inputFolderName, \"nonIsolate.gml\")))\n",
    "        \n",
    "    #aggregate = nx.compose_all(graphs)\n",
    "    aggregate = composeLoop(graphs)\n",
    "    \n",
    "    for node in tqdm(aggregate.nodes()):\n",
    "        \n",
    "        ratingsList = []\n",
    "        for graph in graphs:\n",
    "            if node in graph:\n",
    "                monthlyRating=graph.nodes(data=True)[node]['ratingOld']\n",
    "                ratingsList.append(monthlyRating)\n",
    "        rating = np.mean(ratingsList)\n",
    "        absolute = np.max(np.absolute(ratingsList-np.mean(ratingsList)))\n",
    "        aggregate.nodes(data=True)[node]['ratingOld'] = rating\n",
    "        aggregate.nodes(data=True)[node]['cnt'] = np.shape(ratingsList)\n",
    "        aggregate.nodes(data=True)[node]['abs'] = absolute\n",
    "        aggregate.nodes(data=True)[node]['ratingLabel'] = \"{:.1f}\".format(rating)+\"+-\"+\"{:.1f}\".format(absolute)\n",
    "    \n",
    "    nx.write_gml(aggregate, os.path.join(folderName, \"all.gml\"))\n",
    "                \n",
    "    #aggregate = nx.compose_all(graphsNZD)\n",
    "    \n",
    "    aggregate = composeLoop(graphsNZD)\n",
    "    \n",
    "    \n",
    "    for node in tqdm(aggregate.nodes()):\n",
    "        \n",
    "        ratingsList = []\n",
    "        for graph in graphs:\n",
    "            if node in graph:\n",
    "                monthlyRating=graph.nodes(data=True)[node]['ratingOld']\n",
    "                ratingsList.append(monthlyRating)\n",
    "        rating = np.mean(ratingsList)\n",
    "        absolute = np.max(np.absolute(ratingsList-np.mean(ratingsList)))\n",
    "        aggregate.nodes(data=True)[node]['ratingOld'] = rating\n",
    "        aggregate.nodes(data=True)[node]['cnt'] = np.shape(ratingsList)\n",
    "        aggregate.nodes(data=True)[node]['abs'] = absolute\n",
    "        aggregate.nodes(data=True)[node]['ratingLabel'] = \"{:.1f}\".format(rating)+\"+-\"+\"{:.1f}\".format(absolute)\n",
    "        \n",
    "    aggregate = removeSmallCC(aggregate, 10)\n",
    "    nx.write_gml(aggregate, os.path.join(folderName,\"nonIsolate.gml\"))\n",
    "    return aggregate\n",
    "    "
   ]
  },
  {
   "cell_type": "code",
   "execution_count": null,
   "metadata": {},
   "outputs": [],
   "source": [
    "#makeYearGraphFromGML(\"2018\", 2400)"
   ]
  },
  {
   "cell_type": "code",
   "execution_count": null,
   "metadata": {},
   "outputs": [],
   "source": [
    "print(\"\\xB1\")"
   ]
  },
  {
   "cell_type": "code",
   "execution_count": 17,
   "metadata": {},
   "outputs": [],
   "source": [
    "def calculateBC(graph):\n",
    "    dictBC = nx.betweenness_centrality(graph, normalized=True)\n",
    "    nodesNum = len(dictBC)\n",
    "    x = sorted(dictBC.items(), key = itemgetter(1))\n",
    "    return x\n",
    "    \n",
    "def getTopNpercentByBC(graph, percent):\n",
    "    lst = calculateBC(graph)\n",
    "    cnt = int(percent/float(100)*len(lst))\n",
    "    return lst[-cnt:]\n",
    "    "
   ]
  },
  {
   "cell_type": "code",
   "execution_count": 18,
   "metadata": {},
   "outputs": [
    {
     "data": {
      "application/vnd.jupyter.widget-view+json": {
       "model_id": "9ff7c349060e473984fd819df8001480",
       "version_major": 2,
       "version_minor": 0
      },
      "text/plain": [
       "HBox(children=(IntProgress(value=0, max=2593), HTML(value='')))"
      ]
     },
     "metadata": {},
     "output_type": "display_data"
    },
    {
     "name": "stdout",
     "output_type": "stream",
     "text": [
      "\n"
     ]
    },
    {
     "data": {
      "application/vnd.jupyter.widget-view+json": {
       "model_id": "97c0be1e08b445f7b50144687f4a31da",
       "version_major": 2,
       "version_minor": 0
      },
      "text/plain": [
       "HBox(children=(IntProgress(value=0, max=2172), HTML(value='')))"
      ]
     },
     "metadata": {},
     "output_type": "display_data"
    },
    {
     "name": "stdout",
     "output_type": "stream",
     "text": [
      "\n"
     ]
    }
   ],
   "source": [
    "G = makeYearGraphFromGML(\"2018\", 2400)\n",
    "#bcPairs = calculateBC(G)"
   ]
  },
  {
   "cell_type": "code",
   "execution_count": 23,
   "metadata": {},
   "outputs": [],
   "source": [
    "def checkParetoLawForBC(G):\n",
    "    top5percentBC = getTopNpercentByBC(G, 5)\n",
    "    lst = []\n",
    "    for (node, _) in top5percentBC:\n",
    "        starGraph = nx.Graph()\n",
    "        temp = list(G[node].keys())\n",
    "        temp.append(node)\n",
    "        temp.reverse()\n",
    "        starGraph.add_star(temp)\n",
    "        lst.append(starGraph)\n",
    "    graphBCs = nx.compose_all(lst)\n",
    "    nx.write_gml(graphBCs, os.path.join(\"year_aggregate\" + os.sep + \"year_\"+\"2018\"+\"_over_2400\",\"bcstars.gml\"))\n",
    "    return graphBCs\n",
    "\n",
    "#checkParetoLawForBC(G)"
   ]
  },
  {
   "cell_type": "code",
   "execution_count": null,
   "metadata": {},
   "outputs": [],
   "source": []
  }
 ],
 "metadata": {
  "kernelspec": {
   "display_name": "Python 3",
   "language": "python",
   "name": "python3"
  },
  "language_info": {
   "codemirror_mode": {
    "name": "ipython",
    "version": 3
   },
   "file_extension": ".py",
   "mimetype": "text/x-python",
   "name": "python",
   "nbconvert_exporter": "python",
   "pygments_lexer": "ipython3",
   "version": "3.7.0"
  }
 },
 "nbformat": 4,
 "nbformat_minor": 2
}
