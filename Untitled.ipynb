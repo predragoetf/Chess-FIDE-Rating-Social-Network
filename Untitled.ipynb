{
 "cells": [
  {
   "cell_type": "code",
   "execution_count": 29,
   "metadata": {},
   "outputs": [],
   "source": [
    "import networkx as nx\n",
    "from bs4 import BeautifulSoup\n",
    "import re\n",
    "import pandas as pd\n",
    "from pathlib import Path\n",
    "import matplotlib.pyplot as plt\n",
    "from tqdm import tqdm_notebook as tqdm\n",
    "import requests\n",
    "import os"
   ]
  },
  {
   "cell_type": "code",
   "execution_count": 2,
   "metadata": {},
   "outputs": [
    {
     "data": {
      "text/html": [
       "<style>.container { width:95% !important; }</style>"
      ],
      "text/plain": [
       "<IPython.core.display.HTML object>"
      ]
     },
     "metadata": {},
     "output_type": "display_data"
    }
   ],
   "source": [
    "from IPython.core.display import display, HTML\n",
    "display(HTML(\"<style>.container { width:95% !important; }</style>\"))"
   ]
  },
  {
   "cell_type": "code",
   "execution_count": 39,
   "metadata": {},
   "outputs": [],
   "source": [
    "dataYears = [\"18\", \"17\", \"16\", \"15\", \"14\", \"13\"]\n",
    "dataMonths = [\"jan\", \"feb\", \"mar\", \"apr\", \"may\", \"jun\", \"jul\", \"aug\", \"sep\", \"oct\", \"nov\", \"dec\"]\n",
    "dataMonths2Dig = [\"01\", \"02\", \"03\", \"04\", \"05\", \"06\", \"07\", \"08\", \"09\",\"10\",\"11\",\"12\"]\n",
    "dataPath = Path(\"data\")"
   ]
  },
  {
   "cell_type": "code",
   "execution_count": 6,
   "metadata": {},
   "outputs": [
    {
     "data": {
      "application/vnd.jupyter.widget-view+json": {
       "model_id": "8c3c7a71d8854e918f22b5495047a5b5",
       "version_major": 2,
       "version_minor": 0
      },
      "text/plain": [
       "HBox(children=(IntProgress(value=0, max=322718), HTML(value='')))"
      ]
     },
     "metadata": {},
     "output_type": "display_data"
    },
    {
     "name": "stdout",
     "output_type": "stream",
     "text": [
      "\n"
     ]
    },
    {
     "data": {
      "application/vnd.jupyter.widget-view+json": {
       "model_id": "df23df7ed45748f88bde19eb4bc4a261",
       "version_major": 2,
       "version_minor": 0
      },
      "text/plain": [
       "HBox(children=(IntProgress(value=0, max=320223), HTML(value='')))"
      ]
     },
     "metadata": {},
     "output_type": "display_data"
    },
    {
     "name": "stdout",
     "output_type": "stream",
     "text": [
      "\n"
     ]
    },
    {
     "data": {
      "application/vnd.jupyter.widget-view+json": {
       "model_id": "a199e9ffd9914285bd3f3bdee0ae12b3",
       "version_major": 2,
       "version_minor": 0
      },
      "text/plain": [
       "HBox(children=(IntProgress(value=0, max=318269), HTML(value='')))"
      ]
     },
     "metadata": {},
     "output_type": "display_data"
    },
    {
     "name": "stdout",
     "output_type": "stream",
     "text": [
      "\n"
     ]
    },
    {
     "data": {
      "application/vnd.jupyter.widget-view+json": {
       "model_id": "f049723828f84d139c0ccb85a855c0ba",
       "version_major": 2,
       "version_minor": 0
      },
      "text/plain": [
       "HBox(children=(IntProgress(value=0, max=316935), HTML(value='')))"
      ]
     },
     "metadata": {},
     "output_type": "display_data"
    },
    {
     "name": "stdout",
     "output_type": "stream",
     "text": [
      "\n"
     ]
    },
    {
     "data": {
      "application/vnd.jupyter.widget-view+json": {
       "model_id": "797a70a079264f96911140499c26e64f",
       "version_major": 2,
       "version_minor": 0
      },
      "text/plain": [
       "HBox(children=(IntProgress(value=0, max=314352), HTML(value='')))"
      ]
     },
     "metadata": {},
     "output_type": "display_data"
    },
    {
     "name": "stdout",
     "output_type": "stream",
     "text": [
      "\n"
     ]
    },
    {
     "data": {
      "application/vnd.jupyter.widget-view+json": {
       "model_id": "491ffb8de12e47379d60a54d64793879",
       "version_major": 2,
       "version_minor": 0
      },
      "text/plain": [
       "HBox(children=(IntProgress(value=0, max=311577), HTML(value='')))"
      ]
     },
     "metadata": {},
     "output_type": "display_data"
    },
    {
     "name": "stdout",
     "output_type": "stream",
     "text": [
      "\n"
     ]
    },
    {
     "data": {
      "application/vnd.jupyter.widget-view+json": {
       "model_id": "e6b52ef9b2ad4be6b094bfd1b35d2bb3",
       "version_major": 2,
       "version_minor": 0
      },
      "text/plain": [
       "HBox(children=(IntProgress(value=0, max=309324), HTML(value='')))"
      ]
     },
     "metadata": {},
     "output_type": "display_data"
    },
    {
     "name": "stdout",
     "output_type": "stream",
     "text": [
      "\n"
     ]
    },
    {
     "data": {
      "application/vnd.jupyter.widget-view+json": {
       "model_id": "0307f0a03e7048309227b9456de5d659",
       "version_major": 2,
       "version_minor": 0
      },
      "text/plain": [
       "HBox(children=(IntProgress(value=0, max=306577), HTML(value='')))"
      ]
     },
     "metadata": {},
     "output_type": "display_data"
    },
    {
     "name": "stdout",
     "output_type": "stream",
     "text": [
      "\n"
     ]
    },
    {
     "data": {
      "application/vnd.jupyter.widget-view+json": {
       "model_id": "09220af5e7e24a0e873b5b6245cd7bf6",
       "version_major": 2,
       "version_minor": 0
      },
      "text/plain": [
       "HBox(children=(IntProgress(value=0, max=303507), HTML(value='')))"
      ]
     },
     "metadata": {},
     "output_type": "display_data"
    },
    {
     "name": "stdout",
     "output_type": "stream",
     "text": [
      "\n"
     ]
    },
    {
     "data": {
      "application/vnd.jupyter.widget-view+json": {
       "model_id": "fcb6662e5d0749f3a28207a1ed03da44",
       "version_major": 2,
       "version_minor": 0
      },
      "text/plain": [
       "HBox(children=(IntProgress(value=0, max=301074), HTML(value='')))"
      ]
     },
     "metadata": {},
     "output_type": "display_data"
    },
    {
     "name": "stdout",
     "output_type": "stream",
     "text": [
      "\n"
     ]
    },
    {
     "data": {
      "application/vnd.jupyter.widget-view+json": {
       "model_id": "8116d3977bb844a0a2611b679d44aee6",
       "version_major": 2,
       "version_minor": 0
      },
      "text/plain": [
       "HBox(children=(IntProgress(value=0, max=298691), HTML(value='')))"
      ]
     },
     "metadata": {},
     "output_type": "display_data"
    },
    {
     "name": "stdout",
     "output_type": "stream",
     "text": [
      "\n"
     ]
    },
    {
     "data": {
      "application/vnd.jupyter.widget-view+json": {
       "model_id": "c26e0ed50c674a63b17deacce335e746",
       "version_major": 2,
       "version_minor": 0
      },
      "text/plain": [
       "HBox(children=(IntProgress(value=0, max=296051), HTML(value='')))"
      ]
     },
     "metadata": {},
     "output_type": "display_data"
    },
    {
     "name": "stdout",
     "output_type": "stream",
     "text": [
      "\n"
     ]
    },
    {
     "data": {
      "application/vnd.jupyter.widget-view+json": {
       "model_id": "7a22627f328144109b4f1db4770988d3",
       "version_major": 2,
       "version_minor": 0
      },
      "text/plain": [
       "HBox(children=(IntProgress(value=0, max=293259), HTML(value='')))"
      ]
     },
     "metadata": {},
     "output_type": "display_data"
    },
    {
     "name": "stdout",
     "output_type": "stream",
     "text": [
      "\n"
     ]
    },
    {
     "data": {
      "application/vnd.jupyter.widget-view+json": {
       "model_id": "076ab4e43dda4012903f07581b11c7dc",
       "version_major": 2,
       "version_minor": 0
      },
      "text/plain": [
       "HBox(children=(IntProgress(value=0, max=290914), HTML(value='')))"
      ]
     },
     "metadata": {},
     "output_type": "display_data"
    },
    {
     "name": "stdout",
     "output_type": "stream",
     "text": [
      "\n"
     ]
    },
    {
     "data": {
      "application/vnd.jupyter.widget-view+json": {
       "model_id": "0a1fb5a918504d48910a8dd1575676af",
       "version_major": 2,
       "version_minor": 0
      },
      "text/plain": [
       "HBox(children=(IntProgress(value=0, max=285315), HTML(value='')))"
      ]
     },
     "metadata": {},
     "output_type": "display_data"
    },
    {
     "name": "stdout",
     "output_type": "stream",
     "text": [
      "\n"
     ]
    },
    {
     "data": {
      "application/vnd.jupyter.widget-view+json": {
       "model_id": "a10e810069ac4fe79d8dc508f9441ffc",
       "version_major": 2,
       "version_minor": 0
      },
      "text/plain": [
       "HBox(children=(IntProgress(value=0, max=287003), HTML(value='')))"
      ]
     },
     "metadata": {},
     "output_type": "display_data"
    },
    {
     "name": "stdout",
     "output_type": "stream",
     "text": [
      "\n"
     ]
    },
    {
     "data": {
      "application/vnd.jupyter.widget-view+json": {
       "model_id": "66615ff7ac0c47da88ca9d415e2ba2cf",
       "version_major": 2,
       "version_minor": 0
      },
      "text/plain": [
       "HBox(children=(IntProgress(value=0, max=284262), HTML(value='')))"
      ]
     },
     "metadata": {},
     "output_type": "display_data"
    },
    {
     "name": "stdout",
     "output_type": "stream",
     "text": [
      "\n"
     ]
    },
    {
     "data": {
      "application/vnd.jupyter.widget-view+json": {
       "model_id": "592618098c174865add2b3c1f19f59f7",
       "version_major": 2,
       "version_minor": 0
      },
      "text/plain": [
       "HBox(children=(IntProgress(value=0, max=281184), HTML(value='')))"
      ]
     },
     "metadata": {},
     "output_type": "display_data"
    },
    {
     "name": "stdout",
     "output_type": "stream",
     "text": [
      "\n"
     ]
    },
    {
     "data": {
      "application/vnd.jupyter.widget-view+json": {
       "model_id": "bf2d6fe8b51f4cad898c9837ab91cc46",
       "version_major": 2,
       "version_minor": 0
      },
      "text/plain": [
       "HBox(children=(IntProgress(value=0, max=278809), HTML(value='')))"
      ]
     },
     "metadata": {},
     "output_type": "display_data"
    },
    {
     "name": "stdout",
     "output_type": "stream",
     "text": [
      "\n"
     ]
    },
    {
     "data": {
      "application/vnd.jupyter.widget-view+json": {
       "model_id": "eed0fc656bbf41518518a49279bbd637",
       "version_major": 2,
       "version_minor": 0
      },
      "text/plain": [
       "HBox(children=(IntProgress(value=0, max=276210), HTML(value='')))"
      ]
     },
     "metadata": {},
     "output_type": "display_data"
    },
    {
     "name": "stdout",
     "output_type": "stream",
     "text": [
      "\n"
     ]
    },
    {
     "data": {
      "application/vnd.jupyter.widget-view+json": {
       "model_id": "4fb283667b21494a8557ac4ceb594aa2",
       "version_major": 2,
       "version_minor": 0
      },
      "text/plain": [
       "HBox(children=(IntProgress(value=0, max=273147), HTML(value='')))"
      ]
     },
     "metadata": {},
     "output_type": "display_data"
    },
    {
     "name": "stdout",
     "output_type": "stream",
     "text": [
      "\n"
     ]
    },
    {
     "data": {
      "application/vnd.jupyter.widget-view+json": {
       "model_id": "dd809878ff7f4f9a8fc168a4321ca307",
       "version_major": 2,
       "version_minor": 0
      },
      "text/plain": [
       "HBox(children=(IntProgress(value=0, max=270269), HTML(value='')))"
      ]
     },
     "metadata": {},
     "output_type": "display_data"
    },
    {
     "name": "stdout",
     "output_type": "stream",
     "text": [
      "\n"
     ]
    },
    {
     "data": {
      "application/vnd.jupyter.widget-view+json": {
       "model_id": "048b2cb9310e4d4ba7606410e4ffa4f9",
       "version_major": 2,
       "version_minor": 0
      },
      "text/plain": [
       "HBox(children=(IntProgress(value=0, max=268002), HTML(value='')))"
      ]
     },
     "metadata": {},
     "output_type": "display_data"
    },
    {
     "name": "stdout",
     "output_type": "stream",
     "text": [
      "\n"
     ]
    },
    {
     "data": {
      "application/vnd.jupyter.widget-view+json": {
       "model_id": "76fdb433817f4059a3879ab792ec9d27",
       "version_major": 2,
       "version_minor": 0
      },
      "text/plain": [
       "HBox(children=(IntProgress(value=0, max=265109), HTML(value='')))"
      ]
     },
     "metadata": {},
     "output_type": "display_data"
    },
    {
     "name": "stdout",
     "output_type": "stream",
     "text": [
      "\n"
     ]
    },
    {
     "data": {
      "application/vnd.jupyter.widget-view+json": {
       "model_id": "1d87aeec6c28466aa1948439e3ab3565",
       "version_major": 2,
       "version_minor": 0
      },
      "text/plain": [
       "HBox(children=(IntProgress(value=0, max=261797), HTML(value='')))"
      ]
     },
     "metadata": {},
     "output_type": "display_data"
    },
    {
     "name": "stdout",
     "output_type": "stream",
     "text": [
      "\n"
     ]
    },
    {
     "data": {
      "application/vnd.jupyter.widget-view+json": {
       "model_id": "54d8c2a5d728498caa3f9c5d1490b738",
       "version_major": 2,
       "version_minor": 0
      },
      "text/plain": [
       "HBox(children=(IntProgress(value=0, max=259225), HTML(value='')))"
      ]
     },
     "metadata": {},
     "output_type": "display_data"
    },
    {
     "name": "stdout",
     "output_type": "stream",
     "text": [
      "\n"
     ]
    },
    {
     "data": {
      "application/vnd.jupyter.widget-view+json": {
       "model_id": "ca90eb2352c446869adbe425ed125008",
       "version_major": 2,
       "version_minor": 0
      },
      "text/plain": [
       "HBox(children=(IntProgress(value=0, max=256869), HTML(value='')))"
      ]
     },
     "metadata": {},
     "output_type": "display_data"
    },
    {
     "name": "stdout",
     "output_type": "stream",
     "text": [
      "\n"
     ]
    },
    {
     "data": {
      "application/vnd.jupyter.widget-view+json": {
       "model_id": "6d3418e4b81647ebba267e31b4d10f31",
       "version_major": 2,
       "version_minor": 0
      },
      "text/plain": [
       "HBox(children=(IntProgress(value=0, max=254786), HTML(value='')))"
      ]
     },
     "metadata": {},
     "output_type": "display_data"
    },
    {
     "name": "stdout",
     "output_type": "stream",
     "text": [
      "\n"
     ]
    },
    {
     "data": {
      "application/vnd.jupyter.widget-view+json": {
       "model_id": "9b0659372467429d89b35d94b601dd56",
       "version_major": 2,
       "version_minor": 0
      },
      "text/plain": [
       "HBox(children=(IntProgress(value=0, max=251955), HTML(value='')))"
      ]
     },
     "metadata": {},
     "output_type": "display_data"
    },
    {
     "name": "stdout",
     "output_type": "stream",
     "text": [
      "\n"
     ]
    },
    {
     "data": {
      "application/vnd.jupyter.widget-view+json": {
       "model_id": "d87f15d74d984c5f9e80765952d8f4a8",
       "version_major": 2,
       "version_minor": 0
      },
      "text/plain": [
       "HBox(children=(IntProgress(value=0, max=248857), HTML(value='')))"
      ]
     },
     "metadata": {},
     "output_type": "display_data"
    },
    {
     "name": "stdout",
     "output_type": "stream",
     "text": [
      "\n"
     ]
    },
    {
     "data": {
      "application/vnd.jupyter.widget-view+json": {
       "model_id": "96bdb2e689824798822d3fc583ee1684",
       "version_major": 2,
       "version_minor": 0
      },
      "text/plain": [
       "HBox(children=(IntProgress(value=0, max=246495), HTML(value='')))"
      ]
     },
     "metadata": {},
     "output_type": "display_data"
    },
    {
     "name": "stdout",
     "output_type": "stream",
     "text": [
      "\n"
     ]
    },
    {
     "data": {
      "application/vnd.jupyter.widget-view+json": {
       "model_id": "0251cd6771fb418bb80e0b5b57e80273",
       "version_major": 2,
       "version_minor": 0
      },
      "text/plain": [
       "HBox(children=(IntProgress(value=0, max=243221), HTML(value='')))"
      ]
     },
     "metadata": {},
     "output_type": "display_data"
    },
    {
     "name": "stdout",
     "output_type": "stream",
     "text": [
      "\n"
     ]
    },
    {
     "data": {
      "application/vnd.jupyter.widget-view+json": {
       "model_id": "a925085827354c2ca48b2ea8333ed3df",
       "version_major": 2,
       "version_minor": 0
      },
      "text/plain": [
       "HBox(children=(IntProgress(value=0, max=240438), HTML(value='')))"
      ]
     },
     "metadata": {},
     "output_type": "display_data"
    },
    {
     "name": "stdout",
     "output_type": "stream",
     "text": [
      "\n"
     ]
    },
    {
     "data": {
      "application/vnd.jupyter.widget-view+json": {
       "model_id": "7868ebe6719c4d07b3754515e04f7003",
       "version_major": 2,
       "version_minor": 0
      },
      "text/plain": [
       "HBox(children=(IntProgress(value=0, max=236971), HTML(value='')))"
      ]
     },
     "metadata": {},
     "output_type": "display_data"
    },
    {
     "name": "stdout",
     "output_type": "stream",
     "text": [
      "\n"
     ]
    },
    {
     "data": {
      "application/vnd.jupyter.widget-view+json": {
       "model_id": "11652d24e05941c4b98bdc4755704b18",
       "version_major": 2,
       "version_minor": 0
      },
      "text/plain": [
       "HBox(children=(IntProgress(value=0, max=234248), HTML(value='')))"
      ]
     },
     "metadata": {},
     "output_type": "display_data"
    },
    {
     "name": "stdout",
     "output_type": "stream",
     "text": [
      "\n"
     ]
    },
    {
     "data": {
      "application/vnd.jupyter.widget-view+json": {
       "model_id": "f5a3543bb05a4b4588d9ff77e85bb61b",
       "version_major": 2,
       "version_minor": 0
      },
      "text/plain": [
       "HBox(children=(IntProgress(value=0, max=231179), HTML(value='')))"
      ]
     },
     "metadata": {},
     "output_type": "display_data"
    },
    {
     "name": "stdout",
     "output_type": "stream",
     "text": [
      "\n"
     ]
    },
    {
     "data": {
      "application/vnd.jupyter.widget-view+json": {
       "model_id": "e9c580d8d12b4c6c914844f2bb75a02e",
       "version_major": 2,
       "version_minor": 0
      },
      "text/plain": [
       "HBox(children=(IntProgress(value=0, max=227961), HTML(value='')))"
      ]
     },
     "metadata": {},
     "output_type": "display_data"
    },
    {
     "name": "stdout",
     "output_type": "stream",
     "text": [
      "\n"
     ]
    },
    {
     "data": {
      "application/vnd.jupyter.widget-view+json": {
       "model_id": "154bc31a419e4b3c832b31241e38671e",
       "version_major": 2,
       "version_minor": 0
      },
      "text/plain": [
       "HBox(children=(IntProgress(value=0, max=225355), HTML(value='')))"
      ]
     },
     "metadata": {},
     "output_type": "display_data"
    },
    {
     "name": "stdout",
     "output_type": "stream",
     "text": [
      "\n"
     ]
    },
    {
     "data": {
      "application/vnd.jupyter.widget-view+json": {
       "model_id": "205e39c3f46d48498cefda557c00d1f8",
       "version_major": 2,
       "version_minor": 0
      },
      "text/plain": [
       "HBox(children=(IntProgress(value=0, max=222934), HTML(value='')))"
      ]
     },
     "metadata": {},
     "output_type": "display_data"
    },
    {
     "name": "stdout",
     "output_type": "stream",
     "text": [
      "\n"
     ]
    },
    {
     "data": {
      "application/vnd.jupyter.widget-view+json": {
       "model_id": "92b511b43526487198a3b5b851b4c404",
       "version_major": 2,
       "version_minor": 0
      },
      "text/plain": [
       "HBox(children=(IntProgress(value=0, max=220659), HTML(value='')))"
      ]
     },
     "metadata": {},
     "output_type": "display_data"
    },
    {
     "name": "stdout",
     "output_type": "stream",
     "text": [
      "\n"
     ]
    },
    {
     "data": {
      "application/vnd.jupyter.widget-view+json": {
       "model_id": "cf0ffad6e9b641a48bf17fe62a395933",
       "version_major": 2,
       "version_minor": 0
      },
      "text/plain": [
       "HBox(children=(IntProgress(value=0, max=217662), HTML(value='')))"
      ]
     },
     "metadata": {},
     "output_type": "display_data"
    },
    {
     "name": "stdout",
     "output_type": "stream",
     "text": [
      "\n"
     ]
    },
    {
     "data": {
      "application/vnd.jupyter.widget-view+json": {
       "model_id": "7551546ed0344364bb343fa26d1baa09",
       "version_major": 2,
       "version_minor": 0
      },
      "text/plain": [
       "HBox(children=(IntProgress(value=0, max=214728), HTML(value='')))"
      ]
     },
     "metadata": {},
     "output_type": "display_data"
    },
    {
     "name": "stdout",
     "output_type": "stream",
     "text": [
      "\n"
     ]
    },
    {
     "data": {
      "application/vnd.jupyter.widget-view+json": {
       "model_id": "273c305a4cd4403693d4a6ecc635da31",
       "version_major": 2,
       "version_minor": 0
      },
      "text/plain": [
       "HBox(children=(IntProgress(value=0, max=212076), HTML(value='')))"
      ]
     },
     "metadata": {},
     "output_type": "display_data"
    },
    {
     "name": "stdout",
     "output_type": "stream",
     "text": [
      "\n"
     ]
    },
    {
     "data": {
      "application/vnd.jupyter.widget-view+json": {
       "model_id": "7030d539ce9f49f19606512ca9024ebf",
       "version_major": 2,
       "version_minor": 0
      },
      "text/plain": [
       "HBox(children=(IntProgress(value=0, max=208664), HTML(value='')))"
      ]
     },
     "metadata": {},
     "output_type": "display_data"
    },
    {
     "name": "stdout",
     "output_type": "stream",
     "text": [
      "\n"
     ]
    },
    {
     "data": {
      "application/vnd.jupyter.widget-view+json": {
       "model_id": "19fd7ce8935a42f492befb8f4ccce1bb",
       "version_major": 2,
       "version_minor": 0
      },
      "text/plain": [
       "HBox(children=(IntProgress(value=0, max=204903), HTML(value='')))"
      ]
     },
     "metadata": {},
     "output_type": "display_data"
    },
    {
     "name": "stdout",
     "output_type": "stream",
     "text": [
      "\n"
     ]
    },
    {
     "data": {
      "application/vnd.jupyter.widget-view+json": {
       "model_id": "00fbb7de7e5f4732b3cb2205b9a73751",
       "version_major": 2,
       "version_minor": 0
      },
      "text/plain": [
       "HBox(children=(IntProgress(value=0, max=202399), HTML(value='')))"
      ]
     },
     "metadata": {},
     "output_type": "display_data"
    },
    {
     "name": "stdout",
     "output_type": "stream",
     "text": [
      "\n"
     ]
    },
    {
     "data": {
      "application/vnd.jupyter.widget-view+json": {
       "model_id": "1f36fac7cd954952ac90497932b8faec",
       "version_major": 2,
       "version_minor": 0
      },
      "text/plain": [
       "HBox(children=(IntProgress(value=0, max=200034), HTML(value='')))"
      ]
     },
     "metadata": {},
     "output_type": "display_data"
    },
    {
     "name": "stdout",
     "output_type": "stream",
     "text": [
      "\n"
     ]
    },
    {
     "data": {
      "application/vnd.jupyter.widget-view+json": {
       "model_id": "e2b49047c827414889a5e5e3112b313d",
       "version_major": 2,
       "version_minor": 0
      },
      "text/plain": [
       "HBox(children=(IntProgress(value=0, max=197569), HTML(value='')))"
      ]
     },
     "metadata": {},
     "output_type": "display_data"
    },
    {
     "name": "stdout",
     "output_type": "stream",
     "text": [
      "\n"
     ]
    },
    {
     "data": {
      "application/vnd.jupyter.widget-view+json": {
       "model_id": "d1b50b8163c243e3807d857fd8ef5a0f",
       "version_major": 2,
       "version_minor": 0
      },
      "text/plain": [
       "HBox(children=(IntProgress(value=0, max=194791), HTML(value='')))"
      ]
     },
     "metadata": {},
     "output_type": "display_data"
    },
    {
     "name": "stdout",
     "output_type": "stream",
     "text": [
      "\n"
     ]
    },
    {
     "data": {
      "application/vnd.jupyter.widget-view+json": {
       "model_id": "199454084642474094711fa49833b06e",
       "version_major": 2,
       "version_minor": 0
      },
      "text/plain": [
       "HBox(children=(IntProgress(value=0, max=192460), HTML(value='')))"
      ]
     },
     "metadata": {},
     "output_type": "display_data"
    },
    {
     "name": "stdout",
     "output_type": "stream",
     "text": [
      "\n"
     ]
    },
    {
     "data": {
      "application/vnd.jupyter.widget-view+json": {
       "model_id": "e1235f838eb94cb79475e5ae2f9c3f61",
       "version_major": 2,
       "version_minor": 0
      },
      "text/plain": [
       "HBox(children=(IntProgress(value=0, max=189836), HTML(value='')))"
      ]
     },
     "metadata": {},
     "output_type": "display_data"
    },
    {
     "name": "stdout",
     "output_type": "stream",
     "text": [
      "\n"
     ]
    },
    {
     "data": {
      "application/vnd.jupyter.widget-view+json": {
       "model_id": "0937f746a4fd49b382878a9ab7c4de29",
       "version_major": 2,
       "version_minor": 0
      },
      "text/plain": [
       "HBox(children=(IntProgress(value=0, max=187499), HTML(value='')))"
      ]
     },
     "metadata": {},
     "output_type": "display_data"
    },
    {
     "name": "stdout",
     "output_type": "stream",
     "text": [
      "\n"
     ]
    },
    {
     "data": {
      "application/vnd.jupyter.widget-view+json": {
       "model_id": "e9284548df354193a0205062a8859166",
       "version_major": 2,
       "version_minor": 0
      },
      "text/plain": [
       "HBox(children=(IntProgress(value=0, max=184731), HTML(value='')))"
      ]
     },
     "metadata": {},
     "output_type": "display_data"
    },
    {
     "name": "stdout",
     "output_type": "stream",
     "text": [
      "\n"
     ]
    },
    {
     "data": {
      "application/vnd.jupyter.widget-view+json": {
       "model_id": "6dbbe4887db143a3a43a70427ba27c27",
       "version_major": 2,
       "version_minor": 0
      },
      "text/plain": [
       "HBox(children=(IntProgress(value=0, max=182406), HTML(value='')))"
      ]
     },
     "metadata": {},
     "output_type": "display_data"
    },
    {
     "name": "stdout",
     "output_type": "stream",
     "text": [
      "\n"
     ]
    },
    {
     "data": {
      "application/vnd.jupyter.widget-view+json": {
       "model_id": "89111fe6c9804c6e8668942d5bd7d4f4",
       "version_major": 2,
       "version_minor": 0
      },
      "text/plain": [
       "HBox(children=(IntProgress(value=0, max=180793), HTML(value='')))"
      ]
     },
     "metadata": {},
     "output_type": "display_data"
    },
    {
     "name": "stdout",
     "output_type": "stream",
     "text": [
      "\n"
     ]
    },
    {
     "data": {
      "application/vnd.jupyter.widget-view+json": {
       "model_id": "ef7411cc06024a05814ccf32ab095196",
       "version_major": 2,
       "version_minor": 0
      },
      "text/plain": [
       "HBox(children=(IntProgress(value=0, max=179165), HTML(value='')))"
      ]
     },
     "metadata": {},
     "output_type": "display_data"
    },
    {
     "name": "stdout",
     "output_type": "stream",
     "text": [
      "\n"
     ]
    },
    {
     "data": {
      "application/vnd.jupyter.widget-view+json": {
       "model_id": "6e9bd493cd834aceb1a4c1f0dfaccbc8",
       "version_major": 2,
       "version_minor": 0
      },
      "text/plain": [
       "HBox(children=(IntProgress(value=0, max=176969), HTML(value='')))"
      ]
     },
     "metadata": {},
     "output_type": "display_data"
    },
    {
     "name": "stdout",
     "output_type": "stream",
     "text": [
      "\n"
     ]
    },
    {
     "data": {
      "application/vnd.jupyter.widget-view+json": {
       "model_id": "1f7a00fd82d545a992a24bf9cd631559",
       "version_major": 2,
       "version_minor": 0
      },
      "text/plain": [
       "HBox(children=(IntProgress(value=0, max=174790), HTML(value='')))"
      ]
     },
     "metadata": {},
     "output_type": "display_data"
    },
    {
     "name": "stdout",
     "output_type": "stream",
     "text": [
      "\n"
     ]
    },
    {
     "data": {
      "application/vnd.jupyter.widget-view+json": {
       "model_id": "337eb8a664f64ca0a642eeda4b5aa346",
       "version_major": 2,
       "version_minor": 0
      },
      "text/plain": [
       "HBox(children=(IntProgress(value=0, max=173599), HTML(value='')))"
      ]
     },
     "metadata": {},
     "output_type": "display_data"
    },
    {
     "name": "stdout",
     "output_type": "stream",
     "text": [
      "\n"
     ]
    },
    {
     "data": {
      "application/vnd.jupyter.widget-view+json": {
       "model_id": "3aff9c296c5f483b9cb053fd83612079",
       "version_major": 2,
       "version_minor": 0
      },
      "text/plain": [
       "HBox(children=(IntProgress(value=0, max=171843), HTML(value='')))"
      ]
     },
     "metadata": {},
     "output_type": "display_data"
    },
    {
     "name": "stdout",
     "output_type": "stream",
     "text": [
      "\n"
     ]
    },
    {
     "data": {
      "application/vnd.jupyter.widget-view+json": {
       "model_id": "3e6e2cd2184b48fa9803c90a0b53f47a",
       "version_major": 2,
       "version_minor": 0
      },
      "text/plain": [
       "HBox(children=(IntProgress(value=0, max=170238), HTML(value='')))"
      ]
     },
     "metadata": {},
     "output_type": "display_data"
    },
    {
     "name": "stdout",
     "output_type": "stream",
     "text": [
      "\n"
     ]
    },
    {
     "data": {
      "application/vnd.jupyter.widget-view+json": {
       "model_id": "504e2eee3f62414e8924d5323e658fe2",
       "version_major": 2,
       "version_minor": 0
      },
      "text/plain": [
       "HBox(children=(IntProgress(value=0, max=169060), HTML(value='')))"
      ]
     },
     "metadata": {},
     "output_type": "display_data"
    },
    {
     "name": "stdout",
     "output_type": "stream",
     "text": [
      "\n"
     ]
    },
    {
     "data": {
      "application/vnd.jupyter.widget-view+json": {
       "model_id": "8b878cf277a24193a3f32691a3c36191",
       "version_major": 2,
       "version_minor": 0
      },
      "text/plain": [
       "HBox(children=(IntProgress(value=0, max=167686), HTML(value='')))"
      ]
     },
     "metadata": {},
     "output_type": "display_data"
    },
    {
     "name": "stdout",
     "output_type": "stream",
     "text": [
      "\n"
     ]
    },
    {
     "data": {
      "application/vnd.jupyter.widget-view+json": {
       "model_id": "838c958971034361b45d41ec7791ddbf",
       "version_major": 2,
       "version_minor": 0
      },
      "text/plain": [
       "HBox(children=(IntProgress(value=0, max=166299), HTML(value='')))"
      ]
     },
     "metadata": {},
     "output_type": "display_data"
    },
    {
     "name": "stdout",
     "output_type": "stream",
     "text": [
      "\n"
     ]
    },
    {
     "data": {
      "application/vnd.jupyter.widget-view+json": {
       "model_id": "eb8f340c3e0042c78285c67ada487146",
       "version_major": 2,
       "version_minor": 0
      },
      "text/plain": [
       "HBox(children=(IntProgress(value=0, max=164867), HTML(value='')))"
      ]
     },
     "metadata": {},
     "output_type": "display_data"
    },
    {
     "name": "stdout",
     "output_type": "stream",
     "text": [
      "\n"
     ]
    },
    {
     "data": {
      "application/vnd.jupyter.widget-view+json": {
       "model_id": "4ddf1f745af8406c8a9c9461401fbc41",
       "version_major": 2,
       "version_minor": 0
      },
      "text/plain": [
       "HBox(children=(IntProgress(value=0, max=163307), HTML(value='')))"
      ]
     },
     "metadata": {},
     "output_type": "display_data"
    },
    {
     "name": "stdout",
     "output_type": "stream",
     "text": [
      "\n"
     ]
    },
    {
     "data": {
      "application/vnd.jupyter.widget-view+json": {
       "model_id": "0f8c70b6f5a34a63a970ac2b4e8c63ad",
       "version_major": 2,
       "version_minor": 0
      },
      "text/plain": [
       "HBox(children=(IntProgress(value=0, max=161719), HTML(value='')))"
      ]
     },
     "metadata": {},
     "output_type": "display_data"
    },
    {
     "name": "stdout",
     "output_type": "stream",
     "text": [
      "\n"
     ]
    },
    {
     "data": {
      "application/vnd.jupyter.widget-view+json": {
       "model_id": "f8a28d76fc2e42578c1de6b0ae15a45b",
       "version_major": 2,
       "version_minor": 0
      },
      "text/plain": [
       "HBox(children=(IntProgress(value=0, max=159664), HTML(value='')))"
      ]
     },
     "metadata": {},
     "output_type": "display_data"
    },
    {
     "name": "stdout",
     "output_type": "stream",
     "text": [
      "\n"
     ]
    },
    {
     "data": {
      "application/vnd.jupyter.widget-view+json": {
       "model_id": "effe8092c5c54ff19f06cd93cb6f5f58",
       "version_major": 2,
       "version_minor": 0
      },
      "text/plain": [
       "HBox(children=(IntProgress(value=0, max=158026), HTML(value='')))"
      ]
     },
     "metadata": {},
     "output_type": "display_data"
    },
    {
     "name": "stdout",
     "output_type": "stream",
     "text": [
      "\n"
     ]
    },
    {
     "data": {
      "application/vnd.jupyter.widget-view+json": {
       "model_id": "49afb62ad9f24f6f975786300ce95a48",
       "version_major": 2,
       "version_minor": 0
      },
      "text/plain": [
       "HBox(children=(IntProgress(value=0, max=156260), HTML(value='')))"
      ]
     },
     "metadata": {},
     "output_type": "display_data"
    },
    {
     "name": "stdout",
     "output_type": "stream",
     "text": [
      "\n"
     ]
    },
    {
     "data": {
      "application/vnd.jupyter.widget-view+json": {
       "model_id": "be394646517b4b48b3f1f37b849f8ff9",
       "version_major": 2,
       "version_minor": 0
      },
      "text/plain": [
       "HBox(children=(IntProgress(value=0, max=155099), HTML(value='')))"
      ]
     },
     "metadata": {},
     "output_type": "display_data"
    },
    {
     "name": "stdout",
     "output_type": "stream",
     "text": [
      "\n"
     ]
    },
    {
     "data": {
      "application/vnd.jupyter.widget-view+json": {
       "model_id": "126aafe4eb12435b8896c05e7624ec17",
       "version_major": 2,
       "version_minor": 0
      },
      "text/plain": [
       "HBox(children=(IntProgress(value=0, max=151298), HTML(value='')))"
      ]
     },
     "metadata": {},
     "output_type": "display_data"
    },
    {
     "name": "stdout",
     "output_type": "stream",
     "text": [
      "\n"
     ]
    }
   ],
   "source": [
    "#from txt to csv, eliminating unnecessary data, after this piece of code is executed, the data for months is situated in aptly named folders dec13, jan14 etc.\n",
    "\n",
    "def dataPreprocessing():\n",
    "    dataMonthsRev = list(reversed(dataMonths)) # reversing the list because pre august 2016 data had a different organisation within the file\n",
    "    changeInDataset = False\n",
    "    ratingLimit = 2000\n",
    "\n",
    "    for year in dataYears:\n",
    "        for month in dataMonthsRev:\n",
    "            folderName = month + year\n",
    "            if folderName == \"aug16\":\n",
    "                changeInDataset = True\n",
    "\n",
    "            fileName = \"standard_\" + folderName + \"frl.txt\"\n",
    "            with open(dataPath/folderName/fileName, 'r') as myfile:\n",
    "                with open(dataPath/folderName/(folderName + \".csv\"), 'w') as writeFile:\n",
    "                    people = []\n",
    "                    lines = myfile.readlines()\n",
    "                    for line in tqdm(lines):\n",
    "                        id = line[:15].strip()\n",
    "                        \n",
    "                        if id == 'ID Number': # eliminate file headers\n",
    "                            continue\n",
    "                        \n",
    "                        name = line[15:76].strip()\n",
    "                        name = name.replace(',', ';', 10) # replace all commas in name with semicolons, because comma is a delimiter in csv file\n",
    "                        \n",
    "                        nat = line[76:80].strip()\n",
    "            #             sex = line[80]\n",
    "                        \n",
    "                        if changeInDataset:\n",
    "                            rating_str = line[109:115].strip()\n",
    "                        else:\n",
    "                            rating_str = line[113:118].strip()\n",
    "                        \n",
    "                        if len(rating_str) > 0:\n",
    "                            rating = int(rating_str)\n",
    "            #             birth = (line[152:157].strip())\n",
    "                        \n",
    "                        if changeInDataset:\n",
    "                            activity = line[132:].strip()\n",
    "                        else:\n",
    "                            activity = line[129:].strip()\n",
    "\n",
    "                        if activity.find('i') == -1 and len(rating_str) > 0 and rating > ratingLimit: # appending every entry to a list for sorting later\n",
    "                            people.append((id, name, nat, rating_str))\n",
    "                    \n",
    "                    people.sort(key=lambda tup: int(tup[0])) # sort all people by their FIDE identification \n",
    "                    for entry in people:\n",
    "                        writeFile.write(entry[0] + \",\" + entry[1] + \",\" + entry[2] + \",\" + entry[3] + '\\n')\n",
    "\n",
    "#ratings in the constructed txt files are for the end of the month and should be used for building the next month's graph\n",
    "dataPreprocessing()"
   ]
  },
  {
   "cell_type": "code",
   "execution_count": null,
   "metadata": {},
   "outputs": [],
   "source": [
    "#legacy code for extracting using regex, obsolete\n",
    "\n",
    "# fileName = \"players_list_foa.txt\"\n",
    "# # fileName = \"shorterlist.txt\"\n",
    "# dataPath = Path(\"data\")\n",
    "\n",
    "# df = pd.DataFrame()\n",
    "# with open(dataPath/fileName, 'r') as myfile:\n",
    "#     lines = myfile.readlines()\n",
    "#     for line in lines:\n",
    "#         rez = re.search(\"^(?P<id>\\d+)\\s*(?P<label>[ -~]*?)\\s*?(?P<country>[A-Z]{3})\\s([M|F])[^\\d]{32}(?P<rating>\\d\\d\\d\\d)?(.*?)(\\d\\d\\d\\d)(?P<activity>[^\\d]*)$\", line)\n",
    "#         #print(\"Rezultat:\", rez)\n",
    "#         if rez:\n",
    "# #             print (rez.group('activity').strip())\n",
    "#             if rez.group('rating') and int(rez.group('rating').strip()) > 1000 and rez.group('activity').find('i') == -1:\n",
    "#                 df = df.append({\"ID\" : rez.group('id'), \"label\" : rez.group('label'), \"country\" : rez.group('country'), \"rating\" : rez.group('rating'), \"activity\" : rez.group('activity')}, ignore_index=True)\n",
    "# #                 print(\"ID:\",rez.group('id'))\n",
    "# #             print(\"label:\", rez.group('label'))\n",
    "# #             print(\"country:\", rez.group('country'))\n",
    "# #             print(\"rating:\", rez.group('rating'))\n",
    "# #             print(\"activity:\", rez.group('activity'))\n",
    "            \n",
    "\n",
    "# df.to_json('output.json')"
   ]
  },
  {
   "cell_type": "code",
   "execution_count": null,
   "metadata": {},
   "outputs": [],
   "source": [
    "# df = pd.read_json('output.json')\n",
    "# df.iloc[1]"
   ]
  },
  {
   "cell_type": "code",
   "execution_count": null,
   "metadata": {},
   "outputs": [],
   "source": [
    "# df2 = pd.DataFrame()\n",
    "# with open(dataPath/Path('jun17')/Path('standard_jun17frl.txt')) as myFile:\n",
    "#     lines = myFile.readlines()\n",
    "#     lines = lines[1:]\n",
    "#     for line in lines:\n",
    "#         id = int(line[0:line.find(' ')])\n",
    "#         if df['label'].where(df['ID'] == id)[0] != 'nan':\n",
    "#             rez = re.search(\"^(?P<id>\\d+)\\s*(?P<label>[ -~]*?)\\s*?(?P<country>[A-Z]{3})\\s([M|F])[^\\d]{32}(?P<rating>\\d\\d\\d\\d)?(.*?)(\\d\\d\\d\\d)(?P<activity>[^\\d]*)$\", line)\n",
    "#             if rez:\n",
    "#                 df2 = df2.append({\"ID\" : rez.group('id'), \"label\" : rez.group('label'), \"country\" : rez.group('country'), \"rating\" : rez.group('rating'), \"activity\" : rez.group('activity')}, ignore_index=True)"
   ]
  },
  {
   "cell_type": "code",
   "execution_count": 4,
   "metadata": {},
   "outputs": [],
   "source": [
    "df = pd.read_csv(Path(dataPath/'apr18'/'apr18.csv'), header=None)"
   ]
  },
  {
   "cell_type": "code",
   "execution_count": 5,
   "metadata": {},
   "outputs": [],
   "source": [
    "#graph for May 2018\n",
    "G = nx.Graph()"
   ]
  },
  {
   "cell_type": "code",
   "execution_count": 6,
   "metadata": {},
   "outputs": [],
   "source": [
    "for idx in range(len(df)):\n",
    "    G.add_node(str(df.iloc[idx][0]))"
   ]
  },
  {
   "cell_type": "code",
   "execution_count": 7,
   "metadata": {},
   "outputs": [],
   "source": [
    "nx.write_gml(G, \"test.gml\")"
   ]
  },
  {
   "cell_type": "code",
   "execution_count": 8,
   "metadata": {},
   "outputs": [],
   "source": [
    "\n",
    "#fetching matches of a particular player for the specified month\n",
    "\n",
    "#id = FIDE id, date = string in yyyy-mm-01 format, returns adjacency list in form (\"surname, name\", \"FIDE rating\")\n",
    "def fetchMatches(id, date):\n",
    "    targetLink = \"https://ratings.fide.com/individual_calculations.phtml?idnumber=\"+str(id)+\"&rating_period=\"+date\n",
    "    #page = requests.get(\"https://ratings.fide.com/individual_calculations.phtml?idnumber=2020009&rating_period=2015-11-01\")\n",
    "    page = requests.get(targetLink)\n",
    "    soup = BeautifulSoup(page.content, 'html.parser')\n",
    "    adjacencyList = []\n",
    "    #print(soup.prettify())\n",
    "\n",
    "    tagList = soup.findAll(\"td\", {\"class\": \"list4\"})\n",
    "    for tag in tagList:\n",
    "        if tag.img:\n",
    "            tag.img.decompose()\n",
    "        #print(\"Tag: \", tag)\n",
    "        #print(\"Children: \")\n",
    "        cnt = 1\n",
    "        for child in tag.children:\n",
    "            #print(\"Child \", cnt, \": \", child)\n",
    "            if cnt==1:\n",
    "                name = child.strip()\n",
    "            if cnt==4:\n",
    "                rating = child.contents[0].strip()\n",
    "            if cnt==11:\n",
    "                adjacencyList.append((name,rating))\n",
    "            cnt= cnt+1\n",
    "    return adjacencyList\n",
    "    \n",
    "#print(fetchMatches(2020009, \"2018-04-01\"))\n"
   ]
  },
  {
   "cell_type": "code",
   "execution_count": 9,
   "metadata": {},
   "outputs": [],
   "source": [
    "#example: for fetching for month = June 2018, use rating from the website for June 2018 and dataFrame for May 2018; rating is string. not int\n",
    "def getIdByNameAndRating(surnameNameString, rating, dataFrame): \n",
    "    dataFrameSameName = dataFrame.loc[dataFrame[1] == surnameNameString.replace(',', ';')]\n",
    "    if len(dataFrameSameName) > 0:\n",
    "        dataFrameSameNameSameRating = dataFrameSameName.loc[dataFrame[3] == int(rating)]\n",
    "        if len(dataFrameSameNameSameRating) == 1:\n",
    "            return dataFrameSameNameSameRating.iloc[0][0]\n",
    "    return -1\n",
    "\n",
    "\n",
    "def getNameById(id, dataFrame):\n",
    "    dataFrameSameId = dataFrame.loc[dataFrame[0] == id]\n",
    "    if len(dataFrameSameId) == 1:\n",
    "        return dataFrameSameId.iloc[0][1].replace(';', ',')\n",
    "    return None\n",
    "\n",
    "#print(getIdByNameAndRating('So, Wesley', 2786, df))\n",
    "#print(getNameById(5202213, df))"
   ]
  },
  {
   "cell_type": "code",
   "execution_count": 10,
   "metadata": {},
   "outputs": [],
   "source": [
    "#date: yyyy-mm-01\n",
    "def getPrevMonth(date):\n",
    "    year , month , _ = date.split(\"-\")\n",
    "    if month == '01':\n",
    "        return \"dec\"+str((int(year)-1) % 100)\n",
    "    else:\n",
    "        return [\"jan\", \"feb\", \"mar\", \"apr\", \"may\", \"jun\", \"jul\", \"aug\", \"sep\", \"oct\", \"nov\", \"dec\"][int(month)-2]+str(int(year) % 100)\n",
    "    \n",
    "#print(getPrevMonth(\"2014-01-01\"))\n",
    "#print(getPrevMonth(\"2018-02-01\"))\n",
    "        "
   ]
  },
  {
   "cell_type": "code",
   "execution_count": 11,
   "metadata": {},
   "outputs": [],
   "source": [
    "def createOrAddWeightEdge(G, u, v, w=1):\n",
    "    attr = G.get_edge_data(str(u), str(v))\n",
    "    if attr is None:\n",
    "        G.add_edge(str(u), str(v), weight=w)\n",
    "    else:\n",
    "        attr['weight'] += w\n",
    "        \n",
    "def addNamesToNodes(G, date):\n",
    "    dataFrame = pd.read_csv(Path(dataPath/ getPrevMonth(date)/ (getPrevMonth(date)+'.csv')), header=None)\n",
    "    \n",
    "    for node, data in G.nodes(data=True):\n",
    "        data['name'] = getNameById(int(node), dataFrame)\n",
    "        \n",
    "\n",
    "#id: FIDE id, date: yyyy-mm-01\n",
    "def buildEgoNetwork(egoId, date):\n",
    "    dataFrame = pd.read_csv(Path(dataPath/ getPrevMonth(date)/ (getPrevMonth(date)+'.csv')), header=None)\n",
    "    adjacencyList = fetchMatches(egoId, date)\n",
    "    G = nx.Graph()\n",
    "    #put ego\n",
    "    G.add_node(str(egoId))\n",
    "    #build main links\n",
    "    for nName, nRating in adjacencyList:\n",
    "        #add link to ego node\n",
    "        nId = getIdByNameAndRating(nName, nRating, dataFrame)\n",
    "        createOrAddWeightEdge(G, egoId, nId)\n",
    "    #add side links\n",
    "    for nName, nRating in adjacencyList:\n",
    "        #fetch neighbour's heighbours\n",
    "        nId = getIdByNameAndRating(nName, nRating, dataFrame)\n",
    "        nAdjList = fetchMatches(int(nId), date)\n",
    "        for nnName, nnRating in nAdjList:\n",
    "            #if nn is a neighbour of ego, link n and nn with an edge\n",
    "            nnId = getIdByNameAndRating(nnName, nnRating, dataFrame)\n",
    "            if (nnName, nnRating) in adjacencyList and nnId > nId:\n",
    "                createOrAddWeightEdge(G, nId, nnId)\n",
    "        \n",
    "    return G\n",
    "\n",
    "#test 1: Wesley So, September 2018\n",
    "# testGraph = buildEgoNetwork(5202213, \"2018-09-01\")\n",
    "# addNamesToNodes(testGraph, \"2018-09-01\")\n",
    "# nx.write_gml(testGraph, \"testWesleySoEgo.gml\")\n",
    "\n",
    "#test 2: Fabiano Caruana, April 2018\n",
    "# testGraph = buildEgoNetwork(2020009, \"2018-04-01\")\n",
    "# nx.write_gml(testGraph, \"testFabianoCaruana.gml\")\n",
    "\n",
    "testGraph = buildEgoNetwork(13401319, \"2016-12-01\")\n",
    "addNamesToNodes(testGraph, \"2016-12-01\")\n",
    "nx.write_gml(testGraph, \"testNekiRandom.gml\")"
   ]
  },
  {
   "cell_type": "code",
   "execution_count": 43,
   "metadata": {
    "scrolled": true
   },
   "outputs": [],
   "source": [
    "\n",
    "#class ProcessingOutput:\n",
    "#    def __init__(self, dateString):\n",
    "#        self.dateString = dateString\n",
    "#        dataFrame = pd.read_csv(Path(dataPath/ getPrevMonth(date)/ (getPrevMonth(date)+'.csv')), header=None)\n",
    "#        self.G1 = nx.Graph()\n",
    "#        self.G2 = nx.Graph()\n",
    "    \n",
    "    \n",
    "\n",
    "#build the whole network graph using the csv file for the previous month and websites/links for the specified month\n",
    "# date: yyyy-mm-01\n",
    "def buildNetworkForMonth(date, cutoff):\n",
    "    dataFrame = pd.read_csv(Path(dataPath/ getPrevMonth(date)/ (getPrevMonth(date)+'.csv')), header=None)\n",
    "    \n",
    "    G = nx.Graph()\n",
    "    \n",
    "    nameRatingMap = {}  \n",
    "    \n",
    "    for _, data in dataFrame.iterrows():\n",
    "        if data[3] > cutoff:\n",
    "            G.add_node(str(data[0]), name=data[1], ratingOld=data[3])\n",
    "            nameRatingMap[(data[3], data[1])] = data[0]\n",
    "        \n",
    "#     print(nameRatingMap)\n",
    "    \n",
    "    for nodeId in tqdm(G.nodes()):\n",
    "        nodeId = int(nodeId)\n",
    "        adjList = fetchMatches(nodeId, date)\n",
    "                                                                                                    ## PROBLEM ZVEZDICE 400+ rating diff\n",
    "        \n",
    "        for nName, nRating in adjList:\n",
    "#             nId = getIdByNameAndRating(nName, nRating, dataFrame)\n",
    "            try:\n",
    "                nId = nameRatingMap[(int(nRating), nName.replace(',', ';'))]\n",
    "            except KeyError:\n",
    "                continue    \n",
    "            if nId > nodeId:\n",
    "                createOrAddWeightEdge(G, nodeId, nId)\n",
    "    # dodaj rejtinge za kao label za sve        \n",
    "      \n",
    "    \n",
    "    return G\n",
    "\n"
   ]
  },
  {
   "cell_type": "code",
   "execution_count": 30,
   "metadata": {},
   "outputs": [],
   "source": [
    "def buildNonIsolateNetwork(G):\n",
    "    GNonZeroDeg = nx.Graph() #graph containing only the non-zero degree subset of vertices of G and all the edges between them\n",
    "    isolateList = nx.isolates(G)\n",
    "    #print(\"Broj izolovanih: \", len(list(isolateList)))\n",
    "    #print(*list(isolateList), sep='\\n')\n",
    "    GNonZeroDeg = G.copy()\n",
    "    GNonZeroDeg.remove_nodes_from(isolateList)\n",
    "    return GNonZeroDeg\n"
   ]
  },
  {
   "cell_type": "code",
   "execution_count": 34,
   "metadata": {},
   "outputs": [],
   "source": [
    "\n",
    "def outputGraphFilesForMonth(date, cutoff):\n",
    "    G = buildNetworkForMonth(date)\n",
    "    GNonZeroDeg = buildNonIsolateNetwork(G)\n",
    "    folderName = \"otp_\"+date+\"_over_\"+str(cutoff)\n",
    "    os.makedirs(folderName)\n",
    "    #make a destination folder and store created graphs in corresponding gephi files\n",
    "    nx.write_gml(G, os.path.join(folderName, \"all.gml\"))\n",
    "    nx.write_gml(GNonZeroDeg, os.path.join(folderName,\"nonIsolate.gml\"))\n",
    "    "
   ]
  },
  {
   "cell_type": "code",
   "execution_count": 35,
   "metadata": {},
   "outputs": [
    {
     "data": {
      "application/vnd.jupyter.widget-view+json": {
       "model_id": "3760c45356034d89b76ce81302f8a5a1",
       "version_major": 2,
       "version_minor": 0
      },
      "text/plain": [
       "HBox(children=(IntProgress(value=0, max=226), HTML(value='')))"
      ]
     },
     "metadata": {},
     "output_type": "display_data"
    },
    {
     "name": "stdout",
     "output_type": "stream",
     "text": [
      "\n"
     ]
    }
   ],
   "source": [
    "outputGraphFilesForMonth(\"2018-01-01\", 2600)"
   ]
  },
  {
   "cell_type": "code",
   "execution_count": 13,
   "metadata": {},
   "outputs": [],
   "source": [
    "def rank(name, rating):\n",
    "    return getIdByNameAndRating(name, rating, dataFrame)\n",
    "\n",
    "\n",
    "#def :\n",
    "#    for n in neigbours(node):\n",
    "#        if rank(n)>rank(node):\n",
    "#            G.add_edge(str(nodeId), str(nId))"
   ]
  },
  {
   "cell_type": "code",
   "execution_count": 46,
   "metadata": {},
   "outputs": [],
   "source": [
    "#args: String, int\n",
    "def makeYearGraph(year, cutoff): #TODO: ratingOld is currently nonsense, add a node attribute that counts in how many montly graphs a node appears, maybe average monthly ratings( but do they change if a player is innactive during some months?)\n",
    "    graphs = []\n",
    "    graphsNZD = []\n",
    "    for i in range(12):\n",
    "        dateString = year+\"-\"+dataMonths2Dig[i]+\"-01\"\n",
    "        graphs.append(buildNetworkForMonth(dateString, cutoff))\n",
    "        graphsNZD.append(buildNonIsolateNetwork(graphs[-1]))\n",
    "    aggregate = nx.compose_all(graphs)\n",
    "    aggregateNZD = nx.compose_all(graphsNZD)\n",
    "    folderName = \"year_\"+year+\"_over_\"+str(cutoff)\n",
    "    os.makedirs(folderName)\n",
    "    #make a destination folder and store created graphs in corresponding gephi files\n",
    "    nx.write_gml(aggregate, os.path.join(folderName, \"all.gml\"))\n",
    "    nx.write_gml(aggregateNZD, os.path.join(folderName,\"nonIsolate.gml\"))\n",
    "        \n",
    "    "
   ]
  },
  {
   "cell_type": "code",
   "execution_count": 45,
   "metadata": {},
   "outputs": [
    {
     "data": {
      "application/vnd.jupyter.widget-view+json": {
       "model_id": "b4d5849861694529816e8dbc2c04c2ae",
       "version_major": 2,
       "version_minor": 0
      },
      "text/plain": [
       "HBox(children=(IntProgress(value=0, max=43), HTML(value='')))"
      ]
     },
     "metadata": {},
     "output_type": "display_data"
    },
    {
     "name": "stdout",
     "output_type": "stream",
     "text": [
      "\n"
     ]
    },
    {
     "data": {
      "application/vnd.jupyter.widget-view+json": {
       "model_id": "3582106fc389400f836e0a0900ec799d",
       "version_major": 2,
       "version_minor": 0
      },
      "text/plain": [
       "HBox(children=(IntProgress(value=0, max=41), HTML(value='')))"
      ]
     },
     "metadata": {},
     "output_type": "display_data"
    },
    {
     "name": "stdout",
     "output_type": "stream",
     "text": [
      "\n"
     ]
    },
    {
     "data": {
      "application/vnd.jupyter.widget-view+json": {
       "model_id": "4fe3151024a54f38adbc5c7757966b74",
       "version_major": 2,
       "version_minor": 0
      },
      "text/plain": [
       "HBox(children=(IntProgress(value=0, max=42), HTML(value='')))"
      ]
     },
     "metadata": {},
     "output_type": "display_data"
    },
    {
     "name": "stdout",
     "output_type": "stream",
     "text": [
      "\n"
     ]
    },
    {
     "data": {
      "application/vnd.jupyter.widget-view+json": {
       "model_id": "0a7cf8798dde47efa973d32333336c37",
       "version_major": 2,
       "version_minor": 0
      },
      "text/plain": [
       "HBox(children=(IntProgress(value=0, max=45), HTML(value='')))"
      ]
     },
     "metadata": {},
     "output_type": "display_data"
    },
    {
     "name": "stdout",
     "output_type": "stream",
     "text": [
      "\n"
     ]
    },
    {
     "data": {
      "application/vnd.jupyter.widget-view+json": {
       "model_id": "abe75e87c97245d09cb13093cf573b5e",
       "version_major": 2,
       "version_minor": 0
      },
      "text/plain": [
       "HBox(children=(IntProgress(value=0, max=44), HTML(value='')))"
      ]
     },
     "metadata": {},
     "output_type": "display_data"
    },
    {
     "name": "stdout",
     "output_type": "stream",
     "text": [
      "\n"
     ]
    },
    {
     "data": {
      "application/vnd.jupyter.widget-view+json": {
       "model_id": "b6097c77500b4769b3992a761387a94c",
       "version_major": 2,
       "version_minor": 0
      },
      "text/plain": [
       "HBox(children=(IntProgress(value=0, max=46), HTML(value='')))"
      ]
     },
     "metadata": {},
     "output_type": "display_data"
    },
    {
     "name": "stdout",
     "output_type": "stream",
     "text": [
      "\n"
     ]
    },
    {
     "data": {
      "application/vnd.jupyter.widget-view+json": {
       "model_id": "006bc9076aed4ce1bbb6db45b28270ae",
       "version_major": 2,
       "version_minor": 0
      },
      "text/plain": [
       "HBox(children=(IntProgress(value=0, max=44), HTML(value='')))"
      ]
     },
     "metadata": {},
     "output_type": "display_data"
    },
    {
     "name": "stdout",
     "output_type": "stream",
     "text": [
      "\n"
     ]
    },
    {
     "data": {
      "application/vnd.jupyter.widget-view+json": {
       "model_id": "e9fa0e6768a144bd90a2ede312dac80d",
       "version_major": 2,
       "version_minor": 0
      },
      "text/plain": [
       "HBox(children=(IntProgress(value=0, max=45), HTML(value='')))"
      ]
     },
     "metadata": {},
     "output_type": "display_data"
    },
    {
     "name": "stdout",
     "output_type": "stream",
     "text": [
      "\n"
     ]
    },
    {
     "data": {
      "application/vnd.jupyter.widget-view+json": {
       "model_id": "c277c84db6504f1ebdac0fea14229bfc",
       "version_major": 2,
       "version_minor": 0
      },
      "text/plain": [
       "HBox(children=(IntProgress(value=0, max=46), HTML(value='')))"
      ]
     },
     "metadata": {},
     "output_type": "display_data"
    },
    {
     "name": "stdout",
     "output_type": "stream",
     "text": [
      "\n"
     ]
    },
    {
     "data": {
      "application/vnd.jupyter.widget-view+json": {
       "model_id": "68453c445af04f38ad9995c1e4d99b91",
       "version_major": 2,
       "version_minor": 0
      },
      "text/plain": [
       "HBox(children=(IntProgress(value=0, max=45), HTML(value='')))"
      ]
     },
     "metadata": {},
     "output_type": "display_data"
    },
    {
     "name": "stdout",
     "output_type": "stream",
     "text": [
      "\n"
     ]
    },
    {
     "data": {
      "application/vnd.jupyter.widget-view+json": {
       "model_id": "dff96f8ce8df48d3b4d1835d7e45524b",
       "version_major": 2,
       "version_minor": 0
      },
      "text/plain": [
       "HBox(children=(IntProgress(value=0, max=45), HTML(value='')))"
      ]
     },
     "metadata": {},
     "output_type": "display_data"
    },
    {
     "name": "stdout",
     "output_type": "stream",
     "text": [
      "\n"
     ]
    },
    {
     "data": {
      "application/vnd.jupyter.widget-view+json": {
       "model_id": "cf8dc37c3f0d473a9e2c017ac6acefee",
       "version_major": 2,
       "version_minor": 0
      },
      "text/plain": [
       "HBox(children=(IntProgress(value=0, max=45), HTML(value='')))"
      ]
     },
     "metadata": {},
     "output_type": "display_data"
    },
    {
     "name": "stdout",
     "output_type": "stream",
     "text": [
      "\n"
     ]
    }
   ],
   "source": [
    "makeYearGraph(\"2018\", 2700)"
   ]
  },
  {
   "cell_type": "code",
   "execution_count": null,
   "metadata": {},
   "outputs": [],
   "source": [
    "df"
   ]
  }
 ],
 "metadata": {
  "kernelspec": {
   "display_name": "Python 3",
   "language": "python",
   "name": "python3"
  },
  "language_info": {
   "codemirror_mode": {
    "name": "ipython",
    "version": 3
   },
   "file_extension": ".py",
   "mimetype": "text/x-python",
   "name": "python",
   "nbconvert_exporter": "python",
   "pygments_lexer": "ipython3",
   "version": "3.7.0"
  }
 },
 "nbformat": 4,
 "nbformat_minor": 2
}
