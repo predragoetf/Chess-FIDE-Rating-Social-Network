{
 "cells": [
  {
   "cell_type": "code",
   "execution_count": 2,
   "metadata": {},
   "outputs": [],
   "source": [
    "import networkx as nx\n",
    "from bs4 import BeautifulSoup\n",
    "import re\n",
    "import pandas as pd\n",
    "from pathlib import Path\n",
    "import matplotlib.pyplot as plt\n",
    "from tqdm import tqdm_notebook as tqdm\n",
    "import requests\n",
    "import os\n",
    "import numpy as np\n",
    "from operator import itemgetter"
   ]
  },
  {
   "cell_type": "code",
   "execution_count": 3,
   "metadata": {},
   "outputs": [
    {
     "data": {
      "text/html": [
       "<style>.container { width:95% !important; }</style>"
      ],
      "text/plain": [
       "<IPython.core.display.HTML object>"
      ]
     },
     "metadata": {},
     "output_type": "display_data"
    }
   ],
   "source": [
    "from IPython.core.display import display, HTML\n",
    "display(HTML(\"<style>.container { width:95% !important; }</style>\"))"
   ]
  },
  {
   "cell_type": "code",
   "execution_count": 4,
   "metadata": {},
   "outputs": [],
   "source": [
    "dataYears = [\"18\", \"17\", \"16\", \"15\", \"14\", \"13\"]\n",
    "dataMonths = [\"jan\", \"feb\", \"mar\", \"apr\", \"may\", \"jun\", \"jul\", \"aug\", \"sep\", \"oct\", \"nov\", \"dec\"]\n",
    "dataMonths2Dig = [\"01\", \"02\", \"03\", \"04\", \"05\", \"06\", \"07\", \"08\", \"09\",\"10\",\"11\",\"12\"]\n",
    "dataPath = Path(\"data\")"
   ]
  },
  {
   "cell_type": "code",
   "execution_count": 12,
   "metadata": {},
   "outputs": [
    {
     "data": {
      "application/vnd.jupyter.widget-view+json": {
       "model_id": "0617e50c6e5647269cfb8a37a81467f2",
       "version_major": 2,
       "version_minor": 0
      },
      "text/plain": [
       "HBox(children=(IntProgress(value=0, max=151298), HTML(value='')))"
      ]
     },
     "metadata": {},
     "output_type": "display_data"
    },
    {
     "name": "stdout",
     "output_type": "stream",
     "text": [
      "\n"
     ]
    },
    {
     "data": {
      "application/vnd.jupyter.widget-view+json": {
       "model_id": "159ff6555f94444785a027536a59b825",
       "version_major": 2,
       "version_minor": 0
      },
      "text/plain": [
       "HBox(children=(IntProgress(value=0, max=155099), HTML(value='')))"
      ]
     },
     "metadata": {},
     "output_type": "display_data"
    },
    {
     "name": "stdout",
     "output_type": "stream",
     "text": [
      "\n"
     ]
    },
    {
     "data": {
      "application/vnd.jupyter.widget-view+json": {
       "model_id": "741400f1c62b4bdb9deecb6ca36ab0d6",
       "version_major": 2,
       "version_minor": 0
      },
      "text/plain": [
       "HBox(children=(IntProgress(value=0, max=156260), HTML(value='')))"
      ]
     },
     "metadata": {},
     "output_type": "display_data"
    },
    {
     "name": "stdout",
     "output_type": "stream",
     "text": [
      "\n"
     ]
    },
    {
     "data": {
      "application/vnd.jupyter.widget-view+json": {
       "model_id": "9c45c53610534097b08c804f24e4c0b0",
       "version_major": 2,
       "version_minor": 0
      },
      "text/plain": [
       "HBox(children=(IntProgress(value=0, max=158026), HTML(value='')))"
      ]
     },
     "metadata": {},
     "output_type": "display_data"
    },
    {
     "name": "stdout",
     "output_type": "stream",
     "text": [
      "\n"
     ]
    },
    {
     "data": {
      "application/vnd.jupyter.widget-view+json": {
       "model_id": "e183f732b1d34bfcadd8efec9efdb37b",
       "version_major": 2,
       "version_minor": 0
      },
      "text/plain": [
       "HBox(children=(IntProgress(value=0, max=159664), HTML(value='')))"
      ]
     },
     "metadata": {},
     "output_type": "display_data"
    },
    {
     "name": "stdout",
     "output_type": "stream",
     "text": [
      "\n"
     ]
    },
    {
     "data": {
      "application/vnd.jupyter.widget-view+json": {
       "model_id": "5be72a9b52c94ba09cf724272fc929af",
       "version_major": 2,
       "version_minor": 0
      },
      "text/plain": [
       "HBox(children=(IntProgress(value=0, max=161719), HTML(value='')))"
      ]
     },
     "metadata": {},
     "output_type": "display_data"
    },
    {
     "name": "stdout",
     "output_type": "stream",
     "text": [
      "\n"
     ]
    },
    {
     "data": {
      "application/vnd.jupyter.widget-view+json": {
       "model_id": "a2704b8cec234802a9ba39112d79b818",
       "version_major": 2,
       "version_minor": 0
      },
      "text/plain": [
       "HBox(children=(IntProgress(value=0, max=163307), HTML(value='')))"
      ]
     },
     "metadata": {},
     "output_type": "display_data"
    },
    {
     "name": "stdout",
     "output_type": "stream",
     "text": [
      "\n"
     ]
    },
    {
     "data": {
      "application/vnd.jupyter.widget-view+json": {
       "model_id": "7c79f14d2ad54773a982446f7fe00a8d",
       "version_major": 2,
       "version_minor": 0
      },
      "text/plain": [
       "HBox(children=(IntProgress(value=0, max=164867), HTML(value='')))"
      ]
     },
     "metadata": {},
     "output_type": "display_data"
    },
    {
     "name": "stdout",
     "output_type": "stream",
     "text": [
      "\n"
     ]
    },
    {
     "data": {
      "application/vnd.jupyter.widget-view+json": {
       "model_id": "0dbc3b7b98874654ac196058ec8d0739",
       "version_major": 2,
       "version_minor": 0
      },
      "text/plain": [
       "HBox(children=(IntProgress(value=0, max=166299), HTML(value='')))"
      ]
     },
     "metadata": {},
     "output_type": "display_data"
    },
    {
     "name": "stdout",
     "output_type": "stream",
     "text": [
      "\n"
     ]
    },
    {
     "data": {
      "application/vnd.jupyter.widget-view+json": {
       "model_id": "ceffffaeb6164de78d521e41af370d9f",
       "version_major": 2,
       "version_minor": 0
      },
      "text/plain": [
       "HBox(children=(IntProgress(value=0, max=167686), HTML(value='')))"
      ]
     },
     "metadata": {},
     "output_type": "display_data"
    },
    {
     "name": "stdout",
     "output_type": "stream",
     "text": [
      "\n"
     ]
    },
    {
     "data": {
      "application/vnd.jupyter.widget-view+json": {
       "model_id": "3f36bbcd54a74fcb9d5508b75cbe0d8b",
       "version_major": 2,
       "version_minor": 0
      },
      "text/plain": [
       "HBox(children=(IntProgress(value=0, max=169060), HTML(value='')))"
      ]
     },
     "metadata": {},
     "output_type": "display_data"
    },
    {
     "name": "stdout",
     "output_type": "stream",
     "text": [
      "\n"
     ]
    },
    {
     "data": {
      "application/vnd.jupyter.widget-view+json": {
       "model_id": "7dd6585ff2e5461792d281f1c7d1147b",
       "version_major": 2,
       "version_minor": 0
      },
      "text/plain": [
       "HBox(children=(IntProgress(value=0, max=170238), HTML(value='')))"
      ]
     },
     "metadata": {},
     "output_type": "display_data"
    },
    {
     "name": "stdout",
     "output_type": "stream",
     "text": [
      "\n"
     ]
    },
    {
     "data": {
      "application/vnd.jupyter.widget-view+json": {
       "model_id": "2a65e25bfb7e420591ab771ec7db8d87",
       "version_major": 2,
       "version_minor": 0
      },
      "text/plain": [
       "HBox(children=(IntProgress(value=0, max=171843), HTML(value='')))"
      ]
     },
     "metadata": {},
     "output_type": "display_data"
    },
    {
     "name": "stdout",
     "output_type": "stream",
     "text": [
      "\n"
     ]
    },
    {
     "data": {
      "application/vnd.jupyter.widget-view+json": {
       "model_id": "8f12e5b18f034933b0e2debdc81bc185",
       "version_major": 2,
       "version_minor": 0
      },
      "text/plain": [
       "HBox(children=(IntProgress(value=0, max=173599), HTML(value='')))"
      ]
     },
     "metadata": {},
     "output_type": "display_data"
    },
    {
     "name": "stdout",
     "output_type": "stream",
     "text": [
      "\n"
     ]
    },
    {
     "data": {
      "application/vnd.jupyter.widget-view+json": {
       "model_id": "bc4de3d6eaf2442eae9048a94ba779ae",
       "version_major": 2,
       "version_minor": 0
      },
      "text/plain": [
       "HBox(children=(IntProgress(value=0, max=174790), HTML(value='')))"
      ]
     },
     "metadata": {},
     "output_type": "display_data"
    },
    {
     "name": "stdout",
     "output_type": "stream",
     "text": [
      "\n"
     ]
    },
    {
     "data": {
      "application/vnd.jupyter.widget-view+json": {
       "model_id": "669ee05baa84479c937984414b516091",
       "version_major": 2,
       "version_minor": 0
      },
      "text/plain": [
       "HBox(children=(IntProgress(value=0, max=176969), HTML(value='')))"
      ]
     },
     "metadata": {},
     "output_type": "display_data"
    },
    {
     "name": "stdout",
     "output_type": "stream",
     "text": [
      "\n"
     ]
    },
    {
     "data": {
      "application/vnd.jupyter.widget-view+json": {
       "model_id": "b422e9c0c83946a3a15941c352fc9d24",
       "version_major": 2,
       "version_minor": 0
      },
      "text/plain": [
       "HBox(children=(IntProgress(value=0, max=179165), HTML(value='')))"
      ]
     },
     "metadata": {},
     "output_type": "display_data"
    },
    {
     "name": "stdout",
     "output_type": "stream",
     "text": [
      "\n"
     ]
    },
    {
     "data": {
      "application/vnd.jupyter.widget-view+json": {
       "model_id": "9177750f759e41b6b73cf1812a1af27b",
       "version_major": 2,
       "version_minor": 0
      },
      "text/plain": [
       "HBox(children=(IntProgress(value=0, max=180793), HTML(value='')))"
      ]
     },
     "metadata": {},
     "output_type": "display_data"
    },
    {
     "name": "stdout",
     "output_type": "stream",
     "text": [
      "\n"
     ]
    },
    {
     "data": {
      "application/vnd.jupyter.widget-view+json": {
       "model_id": "53bd8742cbf04ce2b40279c35dfc410a",
       "version_major": 2,
       "version_minor": 0
      },
      "text/plain": [
       "HBox(children=(IntProgress(value=0, max=182406), HTML(value='')))"
      ]
     },
     "metadata": {},
     "output_type": "display_data"
    },
    {
     "name": "stdout",
     "output_type": "stream",
     "text": [
      "\n"
     ]
    },
    {
     "data": {
      "application/vnd.jupyter.widget-view+json": {
       "model_id": "17462bdd51c54ec1b811e8d73158b786",
       "version_major": 2,
       "version_minor": 0
      },
      "text/plain": [
       "HBox(children=(IntProgress(value=0, max=184731), HTML(value='')))"
      ]
     },
     "metadata": {},
     "output_type": "display_data"
    },
    {
     "name": "stdout",
     "output_type": "stream",
     "text": [
      "\n"
     ]
    },
    {
     "data": {
      "application/vnd.jupyter.widget-view+json": {
       "model_id": "122d14d8ab6f40949af4dca78612b97e",
       "version_major": 2,
       "version_minor": 0
      },
      "text/plain": [
       "HBox(children=(IntProgress(value=0, max=187499), HTML(value='')))"
      ]
     },
     "metadata": {},
     "output_type": "display_data"
    },
    {
     "name": "stdout",
     "output_type": "stream",
     "text": [
      "\n"
     ]
    },
    {
     "data": {
      "application/vnd.jupyter.widget-view+json": {
       "model_id": "0f41e8885b524500897d8f60c871a4a1",
       "version_major": 2,
       "version_minor": 0
      },
      "text/plain": [
       "HBox(children=(IntProgress(value=0, max=189836), HTML(value='')))"
      ]
     },
     "metadata": {},
     "output_type": "display_data"
    },
    {
     "name": "stdout",
     "output_type": "stream",
     "text": [
      "\n"
     ]
    },
    {
     "data": {
      "application/vnd.jupyter.widget-view+json": {
       "model_id": "b5353449c81d4ac49fae7964af5c60ed",
       "version_major": 2,
       "version_minor": 0
      },
      "text/plain": [
       "HBox(children=(IntProgress(value=0, max=192460), HTML(value='')))"
      ]
     },
     "metadata": {},
     "output_type": "display_data"
    },
    {
     "name": "stdout",
     "output_type": "stream",
     "text": [
      "\n"
     ]
    },
    {
     "data": {
      "application/vnd.jupyter.widget-view+json": {
       "model_id": "3f1396e63c6948778c1ae19254109bc4",
       "version_major": 2,
       "version_minor": 0
      },
      "text/plain": [
       "HBox(children=(IntProgress(value=0, max=194791), HTML(value='')))"
      ]
     },
     "metadata": {},
     "output_type": "display_data"
    },
    {
     "name": "stdout",
     "output_type": "stream",
     "text": [
      "\n"
     ]
    },
    {
     "data": {
      "application/vnd.jupyter.widget-view+json": {
       "model_id": "aef45317f09349af87437873847dd781",
       "version_major": 2,
       "version_minor": 0
      },
      "text/plain": [
       "HBox(children=(IntProgress(value=0, max=197569), HTML(value='')))"
      ]
     },
     "metadata": {},
     "output_type": "display_data"
    },
    {
     "name": "stdout",
     "output_type": "stream",
     "text": [
      "\n"
     ]
    },
    {
     "data": {
      "application/vnd.jupyter.widget-view+json": {
       "model_id": "01ae5728f85649a3b53c27d19dcc95dc",
       "version_major": 2,
       "version_minor": 0
      },
      "text/plain": [
       "HBox(children=(IntProgress(value=0, max=200034), HTML(value='')))"
      ]
     },
     "metadata": {},
     "output_type": "display_data"
    },
    {
     "name": "stdout",
     "output_type": "stream",
     "text": [
      "\n"
     ]
    },
    {
     "data": {
      "application/vnd.jupyter.widget-view+json": {
       "model_id": "17bae58dc922429b86c35c93e0c5028f",
       "version_major": 2,
       "version_minor": 0
      },
      "text/plain": [
       "HBox(children=(IntProgress(value=0, max=202399), HTML(value='')))"
      ]
     },
     "metadata": {},
     "output_type": "display_data"
    },
    {
     "name": "stdout",
     "output_type": "stream",
     "text": [
      "\n"
     ]
    },
    {
     "data": {
      "application/vnd.jupyter.widget-view+json": {
       "model_id": "803d241f6b2f4c4394e75040fb405963",
       "version_major": 2,
       "version_minor": 0
      },
      "text/plain": [
       "HBox(children=(IntProgress(value=0, max=204903), HTML(value='')))"
      ]
     },
     "metadata": {},
     "output_type": "display_data"
    },
    {
     "name": "stdout",
     "output_type": "stream",
     "text": [
      "\n"
     ]
    },
    {
     "data": {
      "application/vnd.jupyter.widget-view+json": {
       "model_id": "5f3acba93a204d02b1433ee029d7ad73",
       "version_major": 2,
       "version_minor": 0
      },
      "text/plain": [
       "HBox(children=(IntProgress(value=0, max=208664), HTML(value='')))"
      ]
     },
     "metadata": {},
     "output_type": "display_data"
    },
    {
     "name": "stdout",
     "output_type": "stream",
     "text": [
      "\n"
     ]
    },
    {
     "data": {
      "application/vnd.jupyter.widget-view+json": {
       "model_id": "cd15c397a0b24a31907a2785d054e853",
       "version_major": 2,
       "version_minor": 0
      },
      "text/plain": [
       "HBox(children=(IntProgress(value=0, max=212076), HTML(value='')))"
      ]
     },
     "metadata": {},
     "output_type": "display_data"
    },
    {
     "name": "stdout",
     "output_type": "stream",
     "text": [
      "\n"
     ]
    },
    {
     "data": {
      "application/vnd.jupyter.widget-view+json": {
       "model_id": "b939a83bd8924cf089073620e28db77c",
       "version_major": 2,
       "version_minor": 0
      },
      "text/plain": [
       "HBox(children=(IntProgress(value=0, max=214728), HTML(value='')))"
      ]
     },
     "metadata": {},
     "output_type": "display_data"
    },
    {
     "name": "stdout",
     "output_type": "stream",
     "text": [
      "\n"
     ]
    },
    {
     "data": {
      "application/vnd.jupyter.widget-view+json": {
       "model_id": "2ff10ab9c0e7475a993da02f26426b91",
       "version_major": 2,
       "version_minor": 0
      },
      "text/plain": [
       "HBox(children=(IntProgress(value=0, max=217662), HTML(value='')))"
      ]
     },
     "metadata": {},
     "output_type": "display_data"
    },
    {
     "name": "stdout",
     "output_type": "stream",
     "text": [
      "\n"
     ]
    },
    {
     "data": {
      "application/vnd.jupyter.widget-view+json": {
       "model_id": "def1ffee11b04f34887ded3b71a802ac",
       "version_major": 2,
       "version_minor": 0
      },
      "text/plain": [
       "HBox(children=(IntProgress(value=0, max=220659), HTML(value='')))"
      ]
     },
     "metadata": {},
     "output_type": "display_data"
    },
    {
     "name": "stdout",
     "output_type": "stream",
     "text": [
      "\n"
     ]
    },
    {
     "data": {
      "application/vnd.jupyter.widget-view+json": {
       "model_id": "bab60d2209324bbfa467c1e0d8ca844d",
       "version_major": 2,
       "version_minor": 0
      },
      "text/plain": [
       "HBox(children=(IntProgress(value=0, max=222934), HTML(value='')))"
      ]
     },
     "metadata": {},
     "output_type": "display_data"
    },
    {
     "name": "stdout",
     "output_type": "stream",
     "text": [
      "\n"
     ]
    },
    {
     "data": {
      "application/vnd.jupyter.widget-view+json": {
       "model_id": "5d5d90a5b9884fbdb4585c66d2c42c5c",
       "version_major": 2,
       "version_minor": 0
      },
      "text/plain": [
       "HBox(children=(IntProgress(value=0, max=225355), HTML(value='')))"
      ]
     },
     "metadata": {},
     "output_type": "display_data"
    },
    {
     "name": "stdout",
     "output_type": "stream",
     "text": [
      "\n"
     ]
    },
    {
     "data": {
      "application/vnd.jupyter.widget-view+json": {
       "model_id": "6ea1eb465a1a4182b1d224b6d7c0e6c4",
       "version_major": 2,
       "version_minor": 0
      },
      "text/plain": [
       "HBox(children=(IntProgress(value=0, max=227961), HTML(value='')))"
      ]
     },
     "metadata": {},
     "output_type": "display_data"
    },
    {
     "name": "stdout",
     "output_type": "stream",
     "text": [
      "\n"
     ]
    },
    {
     "data": {
      "application/vnd.jupyter.widget-view+json": {
       "model_id": "3c0fcea6f4b4427dabee82f24334e747",
       "version_major": 2,
       "version_minor": 0
      },
      "text/plain": [
       "HBox(children=(IntProgress(value=0, max=231179), HTML(value='')))"
      ]
     },
     "metadata": {},
     "output_type": "display_data"
    },
    {
     "name": "stdout",
     "output_type": "stream",
     "text": [
      "\n"
     ]
    },
    {
     "data": {
      "application/vnd.jupyter.widget-view+json": {
       "model_id": "287a9fab4d714c309285fe8c7dbd52e2",
       "version_major": 2,
       "version_minor": 0
      },
      "text/plain": [
       "HBox(children=(IntProgress(value=0, max=234248), HTML(value='')))"
      ]
     },
     "metadata": {},
     "output_type": "display_data"
    },
    {
     "name": "stdout",
     "output_type": "stream",
     "text": [
      "\n"
     ]
    },
    {
     "data": {
      "application/vnd.jupyter.widget-view+json": {
       "model_id": "e34789436ea04a4c8077ca049999bf0b",
       "version_major": 2,
       "version_minor": 0
      },
      "text/plain": [
       "HBox(children=(IntProgress(value=0, max=236971), HTML(value='')))"
      ]
     },
     "metadata": {},
     "output_type": "display_data"
    },
    {
     "name": "stdout",
     "output_type": "stream",
     "text": [
      "\n"
     ]
    },
    {
     "data": {
      "application/vnd.jupyter.widget-view+json": {
       "model_id": "a0ee6e4b4d224e81a6db14f8b5b3cd19",
       "version_major": 2,
       "version_minor": 0
      },
      "text/plain": [
       "HBox(children=(IntProgress(value=0, max=240438), HTML(value='')))"
      ]
     },
     "metadata": {},
     "output_type": "display_data"
    },
    {
     "name": "stdout",
     "output_type": "stream",
     "text": [
      "\n"
     ]
    },
    {
     "data": {
      "application/vnd.jupyter.widget-view+json": {
       "model_id": "7f45df1bd75d4491889afe7054ec11f6",
       "version_major": 2,
       "version_minor": 0
      },
      "text/plain": [
       "HBox(children=(IntProgress(value=0, max=243221), HTML(value='')))"
      ]
     },
     "metadata": {},
     "output_type": "display_data"
    },
    {
     "name": "stdout",
     "output_type": "stream",
     "text": [
      "\n"
     ]
    },
    {
     "data": {
      "application/vnd.jupyter.widget-view+json": {
       "model_id": "923bf91d608b4e74853fb88386e8a95b",
       "version_major": 2,
       "version_minor": 0
      },
      "text/plain": [
       "HBox(children=(IntProgress(value=0, max=246495), HTML(value='')))"
      ]
     },
     "metadata": {},
     "output_type": "display_data"
    },
    {
     "name": "stdout",
     "output_type": "stream",
     "text": [
      "\n"
     ]
    },
    {
     "data": {
      "application/vnd.jupyter.widget-view+json": {
       "model_id": "5546383796de4ba399e2f9f033e3e6da",
       "version_major": 2,
       "version_minor": 0
      },
      "text/plain": [
       "HBox(children=(IntProgress(value=0, max=248857), HTML(value='')))"
      ]
     },
     "metadata": {},
     "output_type": "display_data"
    },
    {
     "name": "stdout",
     "output_type": "stream",
     "text": [
      "\n"
     ]
    },
    {
     "data": {
      "application/vnd.jupyter.widget-view+json": {
       "model_id": "43710391d38743f68b5fcbb93cc6a6cb",
       "version_major": 2,
       "version_minor": 0
      },
      "text/plain": [
       "HBox(children=(IntProgress(value=0, max=251955), HTML(value='')))"
      ]
     },
     "metadata": {},
     "output_type": "display_data"
    },
    {
     "name": "stdout",
     "output_type": "stream",
     "text": [
      "\n"
     ]
    },
    {
     "data": {
      "application/vnd.jupyter.widget-view+json": {
       "model_id": "e66f5a252fad439b8cec7e05fe597266",
       "version_major": 2,
       "version_minor": 0
      },
      "text/plain": [
       "HBox(children=(IntProgress(value=0, max=254786), HTML(value='')))"
      ]
     },
     "metadata": {},
     "output_type": "display_data"
    },
    {
     "name": "stdout",
     "output_type": "stream",
     "text": [
      "\n"
     ]
    },
    {
     "data": {
      "application/vnd.jupyter.widget-view+json": {
       "model_id": "1dc55d6981a443e49870e93d4bd7a957",
       "version_major": 2,
       "version_minor": 0
      },
      "text/plain": [
       "HBox(children=(IntProgress(value=0, max=256869), HTML(value='')))"
      ]
     },
     "metadata": {},
     "output_type": "display_data"
    },
    {
     "name": "stdout",
     "output_type": "stream",
     "text": [
      "\n"
     ]
    },
    {
     "data": {
      "application/vnd.jupyter.widget-view+json": {
       "model_id": "6d9fbba17e0f4f909500588f97cac6e4",
       "version_major": 2,
       "version_minor": 0
      },
      "text/plain": [
       "HBox(children=(IntProgress(value=0, max=259225), HTML(value='')))"
      ]
     },
     "metadata": {},
     "output_type": "display_data"
    },
    {
     "name": "stdout",
     "output_type": "stream",
     "text": [
      "\n"
     ]
    },
    {
     "data": {
      "application/vnd.jupyter.widget-view+json": {
       "model_id": "592d02478f674705895be9355b450999",
       "version_major": 2,
       "version_minor": 0
      },
      "text/plain": [
       "HBox(children=(IntProgress(value=0, max=261797), HTML(value='')))"
      ]
     },
     "metadata": {},
     "output_type": "display_data"
    },
    {
     "name": "stdout",
     "output_type": "stream",
     "text": [
      "\n"
     ]
    },
    {
     "data": {
      "application/vnd.jupyter.widget-view+json": {
       "model_id": "f7a82e26733442e08f623dd8804f3d2e",
       "version_major": 2,
       "version_minor": 0
      },
      "text/plain": [
       "HBox(children=(IntProgress(value=0, max=265109), HTML(value='')))"
      ]
     },
     "metadata": {},
     "output_type": "display_data"
    },
    {
     "name": "stdout",
     "output_type": "stream",
     "text": [
      "\n"
     ]
    },
    {
     "data": {
      "application/vnd.jupyter.widget-view+json": {
       "model_id": "6a8876b4f4ee4cbf9589036c95018221",
       "version_major": 2,
       "version_minor": 0
      },
      "text/plain": [
       "HBox(children=(IntProgress(value=0, max=268002), HTML(value='')))"
      ]
     },
     "metadata": {},
     "output_type": "display_data"
    },
    {
     "name": "stdout",
     "output_type": "stream",
     "text": [
      "\n"
     ]
    },
    {
     "data": {
      "application/vnd.jupyter.widget-view+json": {
       "model_id": "941e6809e5f24bc1aa83c2b62b07aa25",
       "version_major": 2,
       "version_minor": 0
      },
      "text/plain": [
       "HBox(children=(IntProgress(value=0, max=270269), HTML(value='')))"
      ]
     },
     "metadata": {},
     "output_type": "display_data"
    },
    {
     "name": "stdout",
     "output_type": "stream",
     "text": [
      "\n"
     ]
    },
    {
     "data": {
      "application/vnd.jupyter.widget-view+json": {
       "model_id": "aaa954e28828457fa54ff6b202db75a8",
       "version_major": 2,
       "version_minor": 0
      },
      "text/plain": [
       "HBox(children=(IntProgress(value=0, max=273147), HTML(value='')))"
      ]
     },
     "metadata": {},
     "output_type": "display_data"
    },
    {
     "name": "stdout",
     "output_type": "stream",
     "text": [
      "\n"
     ]
    },
    {
     "data": {
      "application/vnd.jupyter.widget-view+json": {
       "model_id": "ee053f86b6aa4f10a013d75185ccdc91",
       "version_major": 2,
       "version_minor": 0
      },
      "text/plain": [
       "HBox(children=(IntProgress(value=0, max=276210), HTML(value='')))"
      ]
     },
     "metadata": {},
     "output_type": "display_data"
    },
    {
     "name": "stdout",
     "output_type": "stream",
     "text": [
      "\n"
     ]
    },
    {
     "data": {
      "application/vnd.jupyter.widget-view+json": {
       "model_id": "23fd4a90e7ba42fa925ed444d4b29ec5",
       "version_major": 2,
       "version_minor": 0
      },
      "text/plain": [
       "HBox(children=(IntProgress(value=0, max=278809), HTML(value='')))"
      ]
     },
     "metadata": {},
     "output_type": "display_data"
    },
    {
     "name": "stdout",
     "output_type": "stream",
     "text": [
      "\n"
     ]
    },
    {
     "data": {
      "application/vnd.jupyter.widget-view+json": {
       "model_id": "4934fd695d974a5aae2dce0eba3b9cee",
       "version_major": 2,
       "version_minor": 0
      },
      "text/plain": [
       "HBox(children=(IntProgress(value=0, max=281184), HTML(value='')))"
      ]
     },
     "metadata": {},
     "output_type": "display_data"
    },
    {
     "name": "stdout",
     "output_type": "stream",
     "text": [
      "\n"
     ]
    },
    {
     "data": {
      "application/vnd.jupyter.widget-view+json": {
       "model_id": "229ba0423d14493786785f704a14d589",
       "version_major": 2,
       "version_minor": 0
      },
      "text/plain": [
       "HBox(children=(IntProgress(value=0, max=284262), HTML(value='')))"
      ]
     },
     "metadata": {},
     "output_type": "display_data"
    },
    {
     "name": "stdout",
     "output_type": "stream",
     "text": [
      "\n"
     ]
    },
    {
     "data": {
      "application/vnd.jupyter.widget-view+json": {
       "model_id": "a7e3f0a6851b40c693ba177b462dc47b",
       "version_major": 2,
       "version_minor": 0
      },
      "text/plain": [
       "HBox(children=(IntProgress(value=0, max=287003), HTML(value='')))"
      ]
     },
     "metadata": {},
     "output_type": "display_data"
    },
    {
     "name": "stdout",
     "output_type": "stream",
     "text": [
      "\n"
     ]
    },
    {
     "data": {
      "application/vnd.jupyter.widget-view+json": {
       "model_id": "6ad6a7c3c2e74bac8c26285b8b3ed819",
       "version_major": 2,
       "version_minor": 0
      },
      "text/plain": [
       "HBox(children=(IntProgress(value=0, max=285315), HTML(value='')))"
      ]
     },
     "metadata": {},
     "output_type": "display_data"
    },
    {
     "name": "stdout",
     "output_type": "stream",
     "text": [
      "\n"
     ]
    },
    {
     "data": {
      "application/vnd.jupyter.widget-view+json": {
       "model_id": "9be30db8cc5343ee9a2ff04cd5959926",
       "version_major": 2,
       "version_minor": 0
      },
      "text/plain": [
       "HBox(children=(IntProgress(value=0, max=290914), HTML(value='')))"
      ]
     },
     "metadata": {},
     "output_type": "display_data"
    },
    {
     "name": "stdout",
     "output_type": "stream",
     "text": [
      "\n"
     ]
    },
    {
     "data": {
      "application/vnd.jupyter.widget-view+json": {
       "model_id": "7a869ab050924d7e8ac0aef107306eb1",
       "version_major": 2,
       "version_minor": 0
      },
      "text/plain": [
       "HBox(children=(IntProgress(value=0, max=293259), HTML(value='')))"
      ]
     },
     "metadata": {},
     "output_type": "display_data"
    },
    {
     "name": "stdout",
     "output_type": "stream",
     "text": [
      "\n"
     ]
    },
    {
     "data": {
      "application/vnd.jupyter.widget-view+json": {
       "model_id": "21dc60d0c4f9490f9d7d597e5fed07f0",
       "version_major": 2,
       "version_minor": 0
      },
      "text/plain": [
       "HBox(children=(IntProgress(value=0, max=296051), HTML(value='')))"
      ]
     },
     "metadata": {},
     "output_type": "display_data"
    },
    {
     "name": "stdout",
     "output_type": "stream",
     "text": [
      "\n"
     ]
    },
    {
     "data": {
      "application/vnd.jupyter.widget-view+json": {
       "model_id": "53461a93676f4b088a74e9eea50ae7c1",
       "version_major": 2,
       "version_minor": 0
      },
      "text/plain": [
       "HBox(children=(IntProgress(value=0, max=298691), HTML(value='')))"
      ]
     },
     "metadata": {},
     "output_type": "display_data"
    },
    {
     "name": "stdout",
     "output_type": "stream",
     "text": [
      "\n"
     ]
    },
    {
     "data": {
      "application/vnd.jupyter.widget-view+json": {
       "model_id": "45adb484ef7a44369327f9ae1bfd5a88",
       "version_major": 2,
       "version_minor": 0
      },
      "text/plain": [
       "HBox(children=(IntProgress(value=0, max=301074), HTML(value='')))"
      ]
     },
     "metadata": {},
     "output_type": "display_data"
    },
    {
     "name": "stdout",
     "output_type": "stream",
     "text": [
      "\n"
     ]
    },
    {
     "data": {
      "application/vnd.jupyter.widget-view+json": {
       "model_id": "3a4e622b6fff440fbf9f93ed1f75fc4d",
       "version_major": 2,
       "version_minor": 0
      },
      "text/plain": [
       "HBox(children=(IntProgress(value=0, max=303507), HTML(value='')))"
      ]
     },
     "metadata": {},
     "output_type": "display_data"
    },
    {
     "name": "stdout",
     "output_type": "stream",
     "text": [
      "\n"
     ]
    },
    {
     "data": {
      "application/vnd.jupyter.widget-view+json": {
       "model_id": "4540160c613d447ebcb09309a2cef02b",
       "version_major": 2,
       "version_minor": 0
      },
      "text/plain": [
       "HBox(children=(IntProgress(value=0, max=306577), HTML(value='')))"
      ]
     },
     "metadata": {},
     "output_type": "display_data"
    },
    {
     "name": "stdout",
     "output_type": "stream",
     "text": [
      "\n"
     ]
    },
    {
     "data": {
      "application/vnd.jupyter.widget-view+json": {
       "model_id": "7f0b3f6381804485a9cabf212528360d",
       "version_major": 2,
       "version_minor": 0
      },
      "text/plain": [
       "HBox(children=(IntProgress(value=0, max=309324), HTML(value='')))"
      ]
     },
     "metadata": {},
     "output_type": "display_data"
    },
    {
     "name": "stdout",
     "output_type": "stream",
     "text": [
      "\n"
     ]
    },
    {
     "data": {
      "application/vnd.jupyter.widget-view+json": {
       "model_id": "1dea1e60ff6642e4849b67af1667e51f",
       "version_major": 2,
       "version_minor": 0
      },
      "text/plain": [
       "HBox(children=(IntProgress(value=0, max=311577), HTML(value='')))"
      ]
     },
     "metadata": {},
     "output_type": "display_data"
    },
    {
     "name": "stdout",
     "output_type": "stream",
     "text": [
      "\n"
     ]
    },
    {
     "data": {
      "application/vnd.jupyter.widget-view+json": {
       "model_id": "f539412a7e7941b982bbbea85a5527ee",
       "version_major": 2,
       "version_minor": 0
      },
      "text/plain": [
       "HBox(children=(IntProgress(value=0, max=314352), HTML(value='')))"
      ]
     },
     "metadata": {},
     "output_type": "display_data"
    },
    {
     "name": "stdout",
     "output_type": "stream",
     "text": [
      "\n"
     ]
    },
    {
     "data": {
      "application/vnd.jupyter.widget-view+json": {
       "model_id": "1f21b42e552e47f184b968b29f537510",
       "version_major": 2,
       "version_minor": 0
      },
      "text/plain": [
       "HBox(children=(IntProgress(value=0, max=316935), HTML(value='')))"
      ]
     },
     "metadata": {},
     "output_type": "display_data"
    },
    {
     "name": "stdout",
     "output_type": "stream",
     "text": [
      "\n"
     ]
    },
    {
     "data": {
      "application/vnd.jupyter.widget-view+json": {
       "model_id": "bbbe2e7e3919401a92ea45522084c232",
       "version_major": 2,
       "version_minor": 0
      },
      "text/plain": [
       "HBox(children=(IntProgress(value=0, max=318269), HTML(value='')))"
      ]
     },
     "metadata": {},
     "output_type": "display_data"
    },
    {
     "name": "stdout",
     "output_type": "stream",
     "text": [
      "\n"
     ]
    },
    {
     "data": {
      "application/vnd.jupyter.widget-view+json": {
       "model_id": "40cdad0f74bf4f61afb1813d9f3e2a45",
       "version_major": 2,
       "version_minor": 0
      },
      "text/plain": [
       "HBox(children=(IntProgress(value=0, max=320223), HTML(value='')))"
      ]
     },
     "metadata": {},
     "output_type": "display_data"
    },
    {
     "name": "stdout",
     "output_type": "stream",
     "text": [
      "\n"
     ]
    },
    {
     "data": {
      "application/vnd.jupyter.widget-view+json": {
       "model_id": "5886a2c8967e445da3655770ccaf5ec1",
       "version_major": 2,
       "version_minor": 0
      },
      "text/plain": [
       "HBox(children=(IntProgress(value=0, max=322718), HTML(value='')))"
      ]
     },
     "metadata": {},
     "output_type": "display_data"
    },
    {
     "name": "stdout",
     "output_type": "stream",
     "text": [
      "\n"
     ]
    }
   ],
   "source": [
    "#from txt to csv, eliminating unnecessary data, after this piece of code is executed, the data for months is situated in aptly named folders dec13, jan14 etc.\n",
    "\n",
    "def dataPreprocessing():\n",
    "    dataMonthsRev = list(reversed(dataMonths)) # reversing the list because pre august 2016 data had a different organisation within the file\n",
    "    changeInDataset = True\n",
    "    ratingLimit = 2000\n",
    "\n",
    "    for year in dataYears[::-1]:\n",
    "        for month in dataMonths:\n",
    "            folderName = month + year\n",
    "            if folderName == \"sep16\":\n",
    "                changeInDataset = False\n",
    "\n",
    "            fileName = \"standard_\" + folderName + \"frl.txt\"\n",
    "            with open(dataPath/folderName/fileName, 'r') as myfile:\n",
    "                with open(dataPath/folderName/(folderName + \".csv\"), 'w') as writeFile:\n",
    "                    people = []\n",
    "                    lines = myfile.readlines()\n",
    "                    for line in tqdm(lines):\n",
    "                        id = line[:15].strip()\n",
    "                        \n",
    "                        if id == 'ID Number': # eliminate file headers\n",
    "                            continue\n",
    "                        \n",
    "                        name = line[15:76].strip()\n",
    "                        name = name.replace(',', ';', 10) # replace all commas in name with semicolons, because comma is a delimiter in csv file\n",
    "                        \n",
    "                        nat = line[76:80].strip()\n",
    "                        gender = line[80]\n",
    "                        \n",
    "                        if changeInDataset:\n",
    "                            rating_str = line[109:115].strip()\n",
    "                        else:\n",
    "                            rating_str = line[113:118].strip()\n",
    "                        \n",
    "                        if len(rating_str) > 0:\n",
    "                            rating = int(rating_str)\n",
    "                            \n",
    "                        if changeInDataset:\n",
    "                            games_played = line[115:118].strip()\n",
    "                        else:\n",
    "                            games_played = line[119:122].strip()\n",
    "            \n",
    "#                         if len(games_played_str) > 0:\n",
    "#                             games_played = int(games_played_str)\n",
    "                        \n",
    "                        if changeInDataset:\n",
    "                            birth = line[122:126].strip()\n",
    "                        else:\n",
    "                            birth = line[126:130].strip()\n",
    "                            \n",
    "#                         if len(birth_str) > 0:\n",
    "#                             birth = int(birth_str)\n",
    "                        \n",
    "                        if changeInDataset:\n",
    "                            activity = line[128:].strip()\n",
    "                        else:\n",
    "                            activity = line[132:].strip()\n",
    "\n",
    "                        if 'i' not in activity and len(rating_str) > 0 and rating > ratingLimit: # appending every entry to a list for sorting later\n",
    "                            people.append((id, name, nat, rating_str, gender, games_played, birth, activity))\n",
    "                    \n",
    "                    people.sort(key=lambda tup: int(tup[0])) # sort all people by their FIDE identification \n",
    "                    for entry in people:\n",
    "                        writeFile.write(entry[0] + \",\" + entry[1] + \",\" + entry[2] + \",\" + entry[3] + \",\" + entry[4] + \",\" + entry[5] + \",\" + entry[6] + \",\" + entry[7] + '\\n')\n",
    "\n",
    "#ratings in the constructed txt files are for the end of the month and should be used for building the next month's graph\n",
    "# dataPreprocessing()"
   ]
  },
  {
   "cell_type": "code",
   "execution_count": 5,
   "metadata": {},
   "outputs": [],
   "source": [
    "\n",
    "#fetching matches of a particular player for the specified month\n",
    "\n",
    "#id = FIDE id, date = string in yyyy-mm-01 format, returns adjacency list in form (\"surname, name\", \"FIDE rating\")\n",
    "def fetchMatches(id, date):\n",
    "    targetLink = \"https://ratings.fide.com/individual_calculations.phtml?idnumber=\"+str(id)+\"&rating_period=\"+date\n",
    "    #page = requests.get(\"https://ratings.fide.com/individual_calculations.phtml?idnumber=2020009&rating_period=2015-11-01\")\n",
    "    page = requests.get(targetLink)\n",
    "    soup = BeautifulSoup(page.content, 'html.parser')\n",
    "    adjacencyList = []\n",
    "    #print(soup.prettify())\n",
    "\n",
    "    tagList = soup.findAll(\"td\", {\"class\": \"list4\"})\n",
    "    for tag in tagList:\n",
    "        if tag.img:\n",
    "            tag.img.decompose()\n",
    "        #print(\"Tag: \", tag)\n",
    "        #print(\"Children: \")\n",
    "        cnt = 1\n",
    "        for child in tag.children:\n",
    "            #print(\"Child \", cnt, \": \", child)\n",
    "            if cnt==1:\n",
    "                name = child.strip()\n",
    "            if cnt==4:\n",
    "                rating = child.contents[0].strip()\n",
    "            if cnt==11:\n",
    "                adjacencyList.append((name,rating))\n",
    "            cnt= cnt+1\n",
    "    return adjacencyList\n",
    "    \n",
    "#print(fetchMatches(2020009, \"2018-04-01\"))\n"
   ]
  },
  {
   "cell_type": "code",
   "execution_count": 6,
   "metadata": {},
   "outputs": [],
   "source": [
    "#example: for fetching for month = June 2018, use rating from the website for June 2018 and dataFrame for May 2018; rating is string. not int\n",
    "def getIdByNameAndRating(surnameNameString, rating, dataFrame): \n",
    "    dataFrameSameName = dataFrame.loc[dataFrame[1] == surnameNameString.replace(',', ';')]\n",
    "    if len(dataFrameSameName) > 0:\n",
    "        dataFrameSameNameSameRating = dataFrameSameName.loc[dataFrame[3] == int(rating)]\n",
    "        if len(dataFrameSameNameSameRating) == 1:\n",
    "            return dataFrameSameNameSameRating.iloc[0][0]\n",
    "    return -1\n",
    "\n",
    "\n",
    "def getNameById(id, dataFrame):\n",
    "    dataFrameSameId = dataFrame.loc[dataFrame[0] == id]\n",
    "    if len(dataFrameSameId) == 1:\n",
    "        return dataFrameSameId.iloc[0][1].replace(';', ',')\n",
    "    return None\n",
    "\n",
    "#print(getIdByNameAndRating('So, Wesley', 2786, df))\n",
    "#print(getNameById(5202213, df))"
   ]
  },
  {
   "cell_type": "code",
   "execution_count": 7,
   "metadata": {},
   "outputs": [],
   "source": [
    "#date: yyyy-mm-01\n",
    "def getPrevMonth(date):\n",
    "    year , month , _ = date.split(\"-\")\n",
    "    if month == '01':\n",
    "        return \"dec\"+str((int(year)-1) % 100)\n",
    "    else:\n",
    "        return [\"jan\", \"feb\", \"mar\", \"apr\", \"may\", \"jun\", \"jul\", \"aug\", \"sep\", \"oct\", \"nov\", \"dec\"][int(month)-2]+str(int(year) % 100)\n",
    "    \n",
    "#print(getPrevMonth(\"2014-01-01\"))\n",
    "#print(getPrevMonth(\"2018-02-01\"))\n",
    "        "
   ]
  },
  {
   "cell_type": "code",
   "execution_count": 8,
   "metadata": {},
   "outputs": [],
   "source": [
    "def createOrAddWeightEdge(G, u, v, w=1):\n",
    "    attr = G.get_edge_data(str(u), str(v))\n",
    "    if attr is None:\n",
    "        G.add_edge(str(u), str(v), weight=w)\n",
    "    else:\n",
    "        attr['weight'] += w\n",
    "        \n",
    "def addNamesToNodes(G, date):\n",
    "    dataFrame = pd.read_csv(Path(dataPath/ getPrevMonth(date)/ (getPrevMonth(date)+'.csv')), header=None)\n",
    "    \n",
    "    for node, data in G.nodes(data=True):\n",
    "        data['name'] = getNameById(int(node), dataFrame)\n",
    "        \n",
    "\n",
    "#id: FIDE id, date: yyyy-mm-01\n",
    "def buildEgoNetwork(egoId, date):\n",
    "    dataFrame = pd.read_csv(Path(dataPath/ getPrevMonth(date)/ (getPrevMonth(date)+'.csv')), header=None)\n",
    "    adjacencyList = fetchMatches(egoId, date)\n",
    "    G = nx.Graph()\n",
    "    #put ego\n",
    "    G.add_node(str(egoId))\n",
    "    #build main links\n",
    "    for nName, nRating in adjacencyList:\n",
    "        #add link to ego node\n",
    "        nId = getIdByNameAndRating(nName, nRating, dataFrame)\n",
    "        createOrAddWeightEdge(G, egoId, nId)\n",
    "    #add side links\n",
    "    for nName, nRating in adjacencyList:\n",
    "        #fetch neighbour's heighbours\n",
    "        nId = getIdByNameAndRating(nName, nRating, dataFrame)\n",
    "        nAdjList = fetchMatches(int(nId), date)\n",
    "        for nnName, nnRating in nAdjList:\n",
    "            #if nn is a neighbour of ego, link n and nn with an edge\n",
    "            nnId = getIdByNameAndRating(nnName, nnRating, dataFrame)\n",
    "            if (nnName, nnRating) in adjacencyList and nnId > nId:\n",
    "                createOrAddWeightEdge(G, nId, nnId)\n",
    "        \n",
    "    return G\n",
    "\n",
    "#test 1: Wesley So, September 2018\n",
    "# testGraph = buildEgoNetwork(5202213, \"2018-09-01\")\n",
    "# addNamesToNodes(testGraph, \"2018-09-01\")\n",
    "# nx.write_gml(testGraph, \"testWesleySoEgo.gml\")\n",
    "\n",
    "#test 2: Fabiano Caruana, April 2018\n",
    "# testGraph = buildEgoNetwork(2020009, \"2018-04-01\")\n",
    "# nx.write_gml(testGraph, \"testFabianoCaruana.gml\")\n",
    "\n",
    "# testGraph = buildEgoNetwork(13401319, \"2016-12-01\")\n",
    "# addNamesToNodes(testGraph, \"2016-12-01\")\n",
    "# nx.write_gml(testGraph, \"testNekiRandom.gml\")"
   ]
  },
  {
   "cell_type": "code",
   "execution_count": 9,
   "metadata": {
    "scrolled": true
   },
   "outputs": [],
   "source": [
    "\n",
    "#class ProcessingOutput:\n",
    "#    def __init__(self, dateString):\n",
    "#        self.dateString = dateString\n",
    "#        dataFrame = pd.read_csv(Path(dataPath/ getPrevMonth(date)/ (getPrevMonth(date)+'.csv')), header=None)\n",
    "#        self.G1 = nx.Graph()\n",
    "#        self.G2 = nx.Graph()\n",
    "    \n",
    "    \n",
    "\n",
    "#build the whole network graph using the csv file for the previous month and websites/links for the specified month\n",
    "# date: yyyy-mm-01\n",
    "def buildNetworkForMonth(date, cutoff):\n",
    "    dataFrame = pd.read_csv(Path(dataPath/ getPrevMonth(date)/ (getPrevMonth(date)+'.csv')), header=None)\n",
    "    \n",
    "    G = nx.Graph()\n",
    "    \n",
    "    nameRatingMap = {}  \n",
    "    \n",
    "    for _, data in dataFrame.iterrows():\n",
    "        if data[3] > cutoff:\n",
    "            G.add_node(str(data[0]), name=data[1], ratingOld=data[3], nationality=data[2])\n",
    "            nameRatingMap[(data[3], data[1])] = data[0]\n",
    "        \n",
    "#     print(nameRatingMap)\n",
    "    \n",
    "    for nodeId in tqdm(G.nodes()):\n",
    "        nodeId = int(nodeId)\n",
    "        adjList = fetchMatches(nodeId, date)\n",
    "                                                                                                    ## PROBLEM ZVEZDICE 400+ rating diff\n",
    "        \n",
    "        for nName, nRating in adjList:\n",
    "#             nId = getIdByNameAndRating(nName, nRating, dataFrame)\n",
    "            try:\n",
    "                nId = nameRatingMap[(int(nRating), nName.replace(',', ';'))]\n",
    "            except KeyError:\n",
    "                continue    \n",
    "            if nId > nodeId:\n",
    "                createOrAddWeightEdge(G, nodeId, nId)\n",
    "    # dodaj rejtinge za kao label za sve        \n",
    "      \n",
    "    \n",
    "    return G\n",
    "\n"
   ]
  },
  {
   "cell_type": "code",
   "execution_count": 10,
   "metadata": {},
   "outputs": [],
   "source": [
    "def buildNonIsolateNetwork(G):\n",
    "    GNonZeroDeg = nx.Graph() #graph containing only the non-zero degree subset of vertices of G and all the edges between them\n",
    "    isolateList = nx.isolates(G)\n",
    "    #print(\"Broj izolovanih: \", len(list(isolateList)))\n",
    "    #print(*list(isolateList), sep='\\n')\n",
    "    GNonZeroDeg = G.copy()\n",
    "    GNonZeroDeg.remove_nodes_from(isolateList)\n",
    "    return GNonZeroDeg\n"
   ]
  },
  {
   "cell_type": "code",
   "execution_count": 11,
   "metadata": {},
   "outputs": [],
   "source": [
    "\n",
    "def outputGraphFilesForMonth(date, cutoff):\n",
    "    G = buildNetworkForMonth(date, cutoff)\n",
    "    GNonZeroDeg = buildNonIsolateNetwork(G)\n",
    "    folderName = \"otp_\"+date+\"_over_\"+str(cutoff)\n",
    "    if not os.path.exists(folderName):\n",
    "        os.makedirs(folderName)\n",
    "    #make a destination folder and store created graphs in corresponding gephi files\n",
    "    nx.write_gml(G, os.path.join(folderName, \"all.gml\"))\n",
    "    nx.write_gml(GNonZeroDeg, os.path.join(folderName,\"nonIsolate.gml\"))\n",
    "    "
   ]
  },
  {
   "cell_type": "code",
   "execution_count": 12,
   "metadata": {},
   "outputs": [],
   "source": [
    "#outputGraphFilesForMonth(\"2018-04-01\", 2400)\n",
    "\n",
    "# for i in dataMonths2Dig:\n",
    "#     outputGraphFilesForMonth(\"2018-\"+i+\"-01\", 2400)\n",
    "# for i in dataMonths2Dig:\n",
    "#     outputGraphFilesForMonth(\"2017-\"+i+\"-01\", 2400)\n",
    "# for i in dataMonths2Dig:\n",
    "#     outputGraphFilesForMonth(\"2016-\"+i+\"-01\", 2400)\n",
    "# for i in dataMonths2Dig:\n",
    "#     outputGraphFilesForMonth(\"2015-\"+i+\"-01\", 2400)\n",
    "# for i in dataMonths2Dig:\n",
    "#     outputGraphFilesForMonth(\"2014-\"+i+\"-01\", 2400)\n",
    "# for i in dataMonths2Dig[1:]:\n",
    "#     outputGraphFilesForMonth(\"2013-\"+i+\"-01\", 2400)\n"
   ]
  },
  {
   "cell_type": "code",
   "execution_count": 13,
   "metadata": {},
   "outputs": [],
   "source": [
    "def rank(name, rating):\n",
    "    return getIdByNameAndRating(name, rating, dataFrame)\n",
    "\n",
    "\n",
    "#def :\n",
    "#    for n in neigbours(node):\n",
    "#        if rank(n)>rank(node):\n",
    "#            G.add_edge(str(nodeId), str(nId))"
   ]
  },
  {
   "cell_type": "code",
   "execution_count": 14,
   "metadata": {},
   "outputs": [],
   "source": [
    "def removeSmallCC(graph, order):\n",
    "    CClen = len(max((graph.subgraph(c) for c in nx.connected_components(graph)), key=len))\n",
    "    ret = []\n",
    "    \n",
    "    for comp in nx.connected_components(graph):\n",
    "        if len(comp) * order >= CClen:\n",
    "            ret.append(graph.subgraph(comp))\n",
    "            \n",
    "    return nx.compose_all(ret)\n",
    "            "
   ]
  },
  {
   "cell_type": "code",
   "execution_count": 15,
   "metadata": {},
   "outputs": [],
   "source": [
    "def weightedEdgeCompose(A, B):\n",
    "    incrementalAggregate = nx.compose_all([A,B])\n",
    "    for edge in A.edges():\n",
    "        src = edge[0]\n",
    "        dst = edge[1]\n",
    "        target = list((u,v) for u,v,d in B.edges(data = True) if u == src and v == dst)\n",
    "        if len(target) > 0:\n",
    "            incrementalAggregate[src][dst]['weight']+=A[src][dst]['weight']    \n",
    "    return incrementalAggregate\n",
    "\n",
    "def composeLoop(graphs):\n",
    "    A = graphs[0]\n",
    "    for i in range(1,len(graphs)):\n",
    "        B = graphs[i]\n",
    "        A = weightedEdgeCompose(A, B)\n",
    "    return A\n",
    "    "
   ]
  },
  {
   "cell_type": "code",
   "execution_count": 16,
   "metadata": {},
   "outputs": [],
   "source": [
    "#args: String, int\n",
    "def makeYearGraph(year, cutoff): #TODO: ratingOld is currently nonsense, add a node attribute that counts in how many montly graphs a node appears, maybe average monthly ratings( but do they change if a player is innactive during some months?)\n",
    "    graphs = []\n",
    "    graphsNZD = []\n",
    "    #make a destination folder and store created graphs in corresponding gephi files\n",
    "    folderName = \"year_\"+year+\"_over_\"+str(cutoff)\n",
    "    if not os.path.exists(folderName):\n",
    "        os.makedirs(folderName)\n",
    "    for i in range(12):\n",
    "        dateString = year+\"-\"+dataMonths2Dig[i]+\"-01\"\n",
    "        graphs.append(buildNetworkForMonth(dateString, cutoff))\n",
    "        graphsNZD.append(buildNonIsolateNetwork(graphs[-1]))\n",
    "    \n",
    "    #aggregate = nx.compose_all(graphs) //doesn't aggregate edges, just keeps the last update because edge weights are attributes of edges\n",
    "    aggregate = composeLoop(graphs)\n",
    "    \n",
    "    for node in aggregate.nodes():\n",
    "        \n",
    "        ratingsList = []\n",
    "        for graph in graphs:\n",
    "            if node in graph:\n",
    "                monthlyRating=graph.nodes(data=True)[node]['ratingOld']\n",
    "                ratingsList.append(monthlyRating)\n",
    "        rating = np.mean(ratingsList)\n",
    "        absolute = np.max(np.absolute(ratingsList-np.mean(ratingsList)))\n",
    "        aggregate.nodes(data=True)[node]['ratingOld'] = rating\n",
    "        aggregate.nodes(data=True)[node]['cnt'] = np.shape(ratingsList)\n",
    "        aggregate.nodes(data=True)[node]['abs'] = absolute\n",
    "        aggregate.nodes(data=True)[node]['ratingLabel'] = \"{:.1f}\".format(rating)+\"+-\"+\"{:.1f}\".format(absolute)\n",
    "        \n",
    "    nx.write_gml(aggregate, os.path.join(folderName, \"all.gml\"))\n",
    "                \n",
    "    #aggregate = nx.compose_all(graphsNZD)\n",
    "    aggregate = composeLoop(graphsNZD)\n",
    "            \n",
    "    for node in aggregate.nodes():\n",
    "        \n",
    "        ratingsList = []\n",
    "        for graph in graphs:\n",
    "            if node in graph:\n",
    "                monthlyRating=graph.nodes(data=True)[node]['ratingOld']\n",
    "                ratingsList.append(monthlyRating)\n",
    "        rating = np.mean(ratingsList)\n",
    "        absolute = np.max(np.absolute(ratingsList-np.mean(ratingsList)))\n",
    "        aggregate.nodes(data=True)[node]['ratingOld'] = rating\n",
    "        aggregate.nodes(data=True)[node]['cnt'] = np.shape(ratingsList)\n",
    "        aggregate.nodes(data=True)[node]['abs'] = absolute\n",
    "        aggregate.nodes(data=True)[node]['ratingLabel'] = \"{:.1f}\".format(rating)+\"+-\"+\"{:.1f}\".format(absolute)\n",
    "        \n",
    "    nx.write_gml(aggregate, os.path.join(folderName,\"nonIsolate.gml\"))\n",
    "    \n",
    "\n",
    "def makeYearGraphFromGML(year, cutoff): #TODO: ratingOld is currently nonsense, add a node attribute that counts in how many montly graphs a node appears, maybe average monthly ratings( but do they change if a player is innactive during some months?)\n",
    "    graphs = []\n",
    "    graphsNZD = []\n",
    "    #make a destination folder and store created graphs in corresponding gephi files\n",
    "    folderName = \"year_aggregate\" + os.sep + \"year_\"+year+\"_over_\"+str(cutoff)\n",
    "    if not os.path.exists(folderName):\n",
    "        os.makedirs(folderName)\n",
    "        \n",
    "    for i in range(12):\n",
    "        dateString = year + \"-\" + dataMonths2Dig[i] + \"-01\"\n",
    "        inputFolderName = \"otp_\" + dateString + \"_over_\" + str(cutoff)\n",
    "        \n",
    "        graphs.append(nx.read_gml(os.path.join(inputFolderName, \"all.gml\")))\n",
    "        graphsNZD.append(nx.read_gml(os.path.join(inputFolderName, \"nonIsolate.gml\")))\n",
    "        \n",
    "    #aggregate = nx.compose_all(graphs)\n",
    "    aggregate = composeLoop(graphs)\n",
    "    \n",
    "    for node in tqdm(aggregate.nodes()):\n",
    "        \n",
    "        ratingsList = []\n",
    "        for graph in graphs:\n",
    "            if node in graph:\n",
    "                monthlyRating=graph.nodes(data=True)[node]['ratingOld']\n",
    "                ratingsList.append(monthlyRating)\n",
    "        rating = np.mean(ratingsList)\n",
    "        absolute = np.max(np.absolute(ratingsList-np.mean(ratingsList)))\n",
    "        aggregate.nodes(data=True)[node]['ratingOld'] = rating\n",
    "        aggregate.nodes(data=True)[node]['cnt'] = np.shape(ratingsList)\n",
    "        aggregate.nodes(data=True)[node]['abs'] = absolute\n",
    "        aggregate.nodes(data=True)[node]['ratingLabel'] = \"{:.1f}\".format(rating)+\"+-\"+\"{:.1f}\".format(absolute)\n",
    "    \n",
    "    nx.write_gml(aggregate, os.path.join(folderName, \"all.gml\"))\n",
    "                \n",
    "    #aggregate = nx.compose_all(graphsNZD)\n",
    "    \n",
    "    aggregate = composeLoop(graphsNZD)\n",
    "    \n",
    "    \n",
    "    for node in tqdm(aggregate.nodes()):\n",
    "        \n",
    "        ratingsList = []\n",
    "        for graph in graphs:\n",
    "            if node in graph:\n",
    "                monthlyRating=graph.nodes(data=True)[node]['ratingOld']\n",
    "                ratingsList.append(monthlyRating)\n",
    "        rating = np.mean(ratingsList)\n",
    "        absolute = np.max(np.absolute(ratingsList-np.mean(ratingsList)))\n",
    "        aggregate.nodes(data=True)[node]['ratingOld'] = rating\n",
    "        aggregate.nodes(data=True)[node]['cnt'] = np.shape(ratingsList)\n",
    "        aggregate.nodes(data=True)[node]['abs'] = absolute\n",
    "        aggregate.nodes(data=True)[node]['ratingLabel'] = \"{:.1f}\".format(rating)+\"+-\"+\"{:.1f}\".format(absolute)\n",
    "        \n",
    "    aggregate = removeSmallCC(aggregate, 10)\n",
    "    nx.write_gml(aggregate, os.path.join(folderName,\"nonIsolate.gml\"))\n",
    "    return aggregate\n",
    "    "
   ]
  },
  {
   "cell_type": "code",
   "execution_count": null,
   "metadata": {},
   "outputs": [],
   "source": [
    "#makeYearGraphFromGML(\"2018\", 2400)"
   ]
  },
  {
   "cell_type": "code",
   "execution_count": null,
   "metadata": {},
   "outputs": [],
   "source": [
    "print(\"\\xB1\")"
   ]
  },
  {
   "cell_type": "code",
   "execution_count": 17,
   "metadata": {},
   "outputs": [],
   "source": [
    "def calculateBC(graph):\n",
    "    dictBC = nx.betweenness_centrality(graph, normalized=True)\n",
    "    nodesNum = len(dictBC)\n",
    "    x = sorted(dictBC.items(), key = itemgetter(1))\n",
    "    return x\n",
    "    \n",
    "def getTopNpercentByBC(graph, percent):\n",
    "    lst = calculateBC(graph)\n",
    "    cnt = int(percent/float(100)*len(lst))\n",
    "    return lst[-cnt:]\n",
    "    "
   ]
  },
  {
   "cell_type": "code",
   "execution_count": 18,
   "metadata": {},
   "outputs": [
    {
     "data": {
      "application/vnd.jupyter.widget-view+json": {
       "model_id": "9ff7c349060e473984fd819df8001480",
       "version_major": 2,
       "version_minor": 0
      },
      "text/plain": [
       "HBox(children=(IntProgress(value=0, max=2593), HTML(value='')))"
      ]
     },
     "metadata": {},
     "output_type": "display_data"
    },
    {
     "name": "stdout",
     "output_type": "stream",
     "text": [
      "\n"
     ]
    },
    {
     "data": {
      "application/vnd.jupyter.widget-view+json": {
       "model_id": "97c0be1e08b445f7b50144687f4a31da",
       "version_major": 2,
       "version_minor": 0
      },
      "text/plain": [
       "HBox(children=(IntProgress(value=0, max=2172), HTML(value='')))"
      ]
     },
     "metadata": {},
     "output_type": "display_data"
    },
    {
     "name": "stdout",
     "output_type": "stream",
     "text": [
      "\n"
     ]
    }
   ],
   "source": [
    "G = makeYearGraphFromGML(\"2018\", 2400)\n",
    "#bcPairs = calculateBC(G)"
   ]
  },
  {
   "cell_type": "code",
   "execution_count": 23,
   "metadata": {},
   "outputs": [],
   "source": [
    "def checkParetoLawForBC(G):\n",
    "    top5percentBC = getTopNpercentByBC(G, 5)\n",
    "    lst = []\n",
    "    for (node, _) in top5percentBC:\n",
    "        starGraph = nx.Graph()\n",
    "        temp = list(G[node].keys())\n",
    "        temp.append(node)\n",
    "        temp.reverse()\n",
    "        starGraph.add_star(temp)\n",
    "        lst.append(starGraph)\n",
    "    graphBCs = nx.compose_all(lst)\n",
    "    nx.write_gml(graphBCs, os.path.join(\"year_aggregate\" + os.sep + \"year_\"+\"2018\"+\"_over_2400\",\"bcstars.gml\"))\n",
    "    return graphBCs\n",
    "\n",
    "#checkParetoLawForBC(G)"
   ]
  },
  {
   "cell_type": "code",
   "execution_count": null,
   "metadata": {},
   "outputs": [],
   "source": []
  }
 ],
 "metadata": {
  "kernelspec": {
   "display_name": "Python 3",
   "language": "python",
   "name": "python3"
  },
  "language_info": {
   "codemirror_mode": {
    "name": "ipython",
    "version": 3
   },
   "file_extension": ".py",
   "mimetype": "text/x-python",
   "name": "python",
   "nbconvert_exporter": "python",
   "pygments_lexer": "ipython3",
   "version": "3.6.8"
  }
 },
 "nbformat": 4,
 "nbformat_minor": 2
}
